{
 "cells": [
  {
   "cell_type": "markdown",
   "id": "527bf7c3-828b-44e9-8d8d-2a9bc4732b76",
   "metadata": {},
   "source": [
    "# Session 06 of Astroinformatics (first semester, academic year 2022) #\n",
    "\n",
    "- About the course\n",
    "    - course name: \"Astroinformatics\"\n",
    "    - semester: from Sep/2022 to Jan/2023\n",
    "    - lecture hours: from 09:00 to 12:00\n",
    "    - classroom: S4-914\n",
    "    - instructor: Kinoshita Daisuke\n",
    "    - course web page: https://s3b.astro.ncu.edu.tw/ai_202209/\n",
    "    - GitHub repository: https://github.com/kinoshitadaisuke/ncu_astroinformatics_202209\n",
    "    - Binder web page: https://mybinder.org/v2/gh/kinoshitadaisuke/ncu_astroinformatics_202209/HEAD"
   ]
  },
  {
   "cell_type": "markdown",
   "id": "57ed5cc3-2d49-4c16-bd14-feb937647071",
   "metadata": {},
   "source": [
    "## About this notebook ##\n",
    "\n",
    "This is a notebook for the __session 06__ of \"Astroinformatics\" at first semester of academic year 2022.\n",
    "\n",
    "This notebook contains sample Python scripts only.\n",
    "\n",
    "The lecture note is provided at the course web page.\n",
    "\n",
    "To download the lecture note, visit following web page.\n",
    "\n",
    "https://s3b.astro.ncu.edu.tw/ai_202209/\n",
    "\n",
    "Note that the lecture note can be downloaded only from computers/mobile phones connected to the computer network of our university.\n",
    "\n",
    "Connect to Wi-Fi of our university or use VPN service of our university to download the lecture note.\n",
    "\n",
    "If you have any question about this notebook, contact to Kinoshita Daisuke."
   ]
  },
  {
   "cell_type": "markdown",
   "id": "30669933-f81b-478d-99e5-69c716ee43f9",
   "metadata": {},
   "source": [
    "# Sample script 00 #"
   ]
  },
  {
   "cell_type": "code",
   "execution_count": null,
   "id": "a23ea27f-d5e3-4123-b1f6-af65670b410a",
   "metadata": {},
   "outputs": [],
   "source": [
    "# run this cell to show the source code #\n",
    "\n",
    "!cat ai202209_s06_00.py"
   ]
  },
  {
   "cell_type": "code",
   "execution_count": null,
   "id": "75bff3a4-638d-4ba7-aecb-b36b94f9e80c",
   "metadata": {},
   "outputs": [],
   "source": [
    "# run this cell to execute the script #\n",
    "\n",
    "!python3.9 ai202209_s06_00.py"
   ]
  },
  {
   "cell_type": "code",
   "execution_count": null,
   "id": "d0b97ee8-7d9a-4ae4-87a8-2e2859d8bd52",
   "metadata": {},
   "outputs": [],
   "source": [
    "# show downloaded file #\n",
    "\n",
    "!head dwarf_planet.csv"
   ]
  },
  {
   "cell_type": "markdown",
   "id": "5e0d262e-2b19-45c2-aaed-d13dff22b35c",
   "metadata": {},
   "source": [
    "# Sample script 01 #"
   ]
  },
  {
   "cell_type": "code",
   "execution_count": null,
   "id": "3cf19bd5-c9e5-4f83-a559-fc384e78a87f",
   "metadata": {},
   "outputs": [],
   "source": [
    "# run this cell to show the source code #\n",
    "\n",
    "!cat ai202209_s06_01.py"
   ]
  },
  {
   "cell_type": "code",
   "execution_count": null,
   "id": "4f4e8c85-959a-4920-8987-55a16af7b6a4",
   "metadata": {},
   "outputs": [],
   "source": [
    "# run this cell to execute the script #\n",
    "\n",
    "!python3.9 ai202209_s06_01.py"
   ]
  },
  {
   "cell_type": "code",
   "execution_count": null,
   "id": "9e44f5f2-4ca2-4a07-a7d4-a28be15f8ead",
   "metadata": {},
   "outputs": [],
   "source": [
    "# show downloaded file #\n",
    "\n",
    "!head periodictable.csv"
   ]
  },
  {
   "cell_type": "markdown",
   "id": "cfedb099-d0ff-4f6d-a1d4-8135a020b02d",
   "metadata": {},
   "source": [
    "# Sample script 02 #"
   ]
  },
  {
   "cell_type": "code",
   "execution_count": null,
   "id": "6b9c6535-2da3-47b1-aa8d-597c049dfc13",
   "metadata": {},
   "outputs": [],
   "source": [
    "# run this cell to show the source code #\n",
    "\n",
    "!cat ai202209_s06_02.py"
   ]
  },
  {
   "cell_type": "code",
   "execution_count": null,
   "id": "39652d68-2bb5-4e60-a7f0-65531ac63cac",
   "metadata": {},
   "outputs": [],
   "source": [
    "# run this cell to execute the script #\n",
    "\n",
    "!python3.9 ai202209_s06_02.py"
   ]
  },
  {
   "cell_type": "code",
   "execution_count": null,
   "id": "308e6906-33dd-44dd-96d3-26a5f97104fd",
   "metadata": {},
   "outputs": [],
   "source": [
    "# show downloaded file #\n",
    "\n",
    "!(gunzip -c bsc.catalog.gz | head)"
   ]
  },
  {
   "cell_type": "markdown",
   "id": "093a9e45-035a-491f-85d0-c06ce4a6bc92",
   "metadata": {},
   "source": [
    "# Sample script 03 #"
   ]
  },
  {
   "cell_type": "code",
   "execution_count": null,
   "id": "370a3be4-45d8-43e8-9859-7b51c483b76b",
   "metadata": {},
   "outputs": [],
   "source": [
    "# run this cell to show the source code #\n",
    "\n",
    "!cat ai202209_s06_03.py"
   ]
  },
  {
   "cell_type": "code",
   "execution_count": null,
   "id": "064938f6-c159-4583-acd4-072fbea22cad",
   "metadata": {},
   "outputs": [],
   "source": [
    "# run this cell to execute the script #\n",
    "\n",
    "!python3.9 ai202209_s06_03.py"
   ]
  },
  {
   "cell_type": "code",
   "execution_count": null,
   "id": "722a4263-5ba8-482d-97d6-962b5f7c1953",
   "metadata": {},
   "outputs": [],
   "source": [
    "# show downloaded file #\n",
    "\n",
    "!head bsc.readme"
   ]
  },
  {
   "cell_type": "markdown",
   "id": "016921b7-c0a0-4649-9c9f-26b5e0451a84",
   "metadata": {},
   "source": [
    "# Sample script 04 #"
   ]
  },
  {
   "cell_type": "code",
   "execution_count": null,
   "id": "1b67aec1-ed99-4214-95fa-62629ce8f7f5",
   "metadata": {},
   "outputs": [],
   "source": [
    "# run this cell to show the source code #\n",
    "\n",
    "!cat ai202209_s06_04.py"
   ]
  },
  {
   "cell_type": "code",
   "execution_count": null,
   "id": "bb598e37-4a9f-4e66-9d91-a6e0f1395006",
   "metadata": {},
   "outputs": [],
   "source": [
    "# run this cell to execute the script #\n",
    "\n",
    "!(python3.9 ai202209_s06_04.py > bsc_extracted.data)"
   ]
  },
  {
   "cell_type": "code",
   "execution_count": null,
   "id": "f1c79f44-89bc-4be1-af91-59515f40ff24",
   "metadata": {},
   "outputs": [],
   "source": [
    "# show created file #\n",
    "\n",
    "!head -20 bsc_extracted.data"
   ]
  },
  {
   "cell_type": "markdown",
   "id": "6362bace-0b54-4fd4-a367-4c9edeb2675b",
   "metadata": {},
   "source": [
    "# Sample script 05 #"
   ]
  },
  {
   "cell_type": "code",
   "execution_count": null,
   "id": "1aa82e8a-b34c-4f2d-9362-ccc6c4adf681",
   "metadata": {},
   "outputs": [],
   "source": [
    "# run this cell to show the source code #\n",
    "\n",
    "!cat ai202209_s06_05.py"
   ]
  },
  {
   "cell_type": "code",
   "execution_count": null,
   "id": "0853c826-049f-4822-849c-ad8665fc5c4f",
   "metadata": {},
   "outputs": [],
   "source": [
    "# run this cell to execute the script #\n",
    "\n",
    "!python3.9 ai202209_s06_05.py"
   ]
  },
  {
   "cell_type": "code",
   "execution_count": null,
   "id": "0af382ca-d461-4fe0-8c26-1e46d31dcfac",
   "metadata": {},
   "outputs": [],
   "source": [
    "# show created file #\n",
    "\n",
    "!head -20 bsc_makedb.sql"
   ]
  },
  {
   "cell_type": "markdown",
   "id": "f4e4f053-b98f-4bd2-8225-61be187007ac",
   "metadata": {},
   "source": [
    "# Sample script 06 #"
   ]
  },
  {
   "cell_type": "code",
   "execution_count": null,
   "id": "4e57e7c8-7032-4049-8954-b281ca17bc8d",
   "metadata": {},
   "outputs": [],
   "source": [
    "# run this cell to show the source code #\n",
    "\n",
    "!cat ai202209_s06_06.py"
   ]
  },
  {
   "cell_type": "code",
   "execution_count": null,
   "id": "8f7790c1-a4e0-4692-bc6d-bf8f741e1bbd",
   "metadata": {},
   "outputs": [],
   "source": [
    "# run this cell to execute the script #\n",
    "\n",
    "!python3.9 ai202209_s06_06.py"
   ]
  },
  {
   "cell_type": "code",
   "execution_count": null,
   "id": "5b91af1a-6f2e-4e1f-856a-fcedc202ba2b",
   "metadata": {},
   "outputs": [],
   "source": [
    "# show downloaded file #\n",
    "\n",
    "!head -20 hip_main.dat"
   ]
  },
  {
   "cell_type": "markdown",
   "id": "1130670e-d559-403c-8fd7-aba565268de7",
   "metadata": {},
   "source": [
    "# Sample script 07 #"
   ]
  },
  {
   "cell_type": "code",
   "execution_count": null,
   "id": "a86b7be5-bc3c-45fc-bf40-b99732f5f114",
   "metadata": {},
   "outputs": [],
   "source": [
    "# run this cell to show the source code #\n",
    "\n",
    "!cat ai202209_s06_07.py"
   ]
  },
  {
   "cell_type": "code",
   "execution_count": null,
   "id": "0ab7e238-2357-4178-893f-e704b34746ec",
   "metadata": {},
   "outputs": [],
   "source": [
    "# run this cell to execute the script #\n",
    "\n",
    "!python3.9 ai202209_s06_07.py"
   ]
  },
  {
   "cell_type": "code",
   "execution_count": null,
   "id": "1b6ac169-cdfe-4df3-b72e-d31edbe3d863",
   "metadata": {},
   "outputs": [],
   "source": [
    "# show downloaded file #\n",
    "\n",
    "!head -20 hip_main.readme"
   ]
  },
  {
   "cell_type": "markdown",
   "id": "c4f6e5d4-5636-4834-a01a-acbcf58cd8b4",
   "metadata": {},
   "source": [
    "# Sample script 08 #"
   ]
  },
  {
   "cell_type": "code",
   "execution_count": null,
   "id": "82694cad-02ec-457c-8505-8efea3e27744",
   "metadata": {},
   "outputs": [],
   "source": [
    "# run this cell to show the source code #\n",
    "\n",
    "!cat ai202209_s06_08.py"
   ]
  },
  {
   "cell_type": "code",
   "execution_count": null,
   "id": "0adc647c-0da3-4002-9990-2168ceb7f6f7",
   "metadata": {},
   "outputs": [],
   "source": [
    "# run this cell to execute the script #\n",
    "\n",
    "!(python3.9 ai202209_s06_08.py > hip_main.txt)"
   ]
  },
  {
   "cell_type": "code",
   "execution_count": null,
   "id": "6b1cd3f2-12b4-44be-9438-63a46b38dd13",
   "metadata": {},
   "outputs": [],
   "source": [
    "# show created file #\n",
    "\n",
    "!head -20 hip_main.txt"
   ]
  },
  {
   "cell_type": "markdown",
   "id": "b54c80eb-a676-4efa-bd13-9d1a039bf0ab",
   "metadata": {},
   "source": [
    "# Sample script 09 #"
   ]
  },
  {
   "cell_type": "code",
   "execution_count": null,
   "id": "0e50331c-1ee4-4601-b7fc-96b61bf28fc3",
   "metadata": {},
   "outputs": [],
   "source": [
    "# run this cell to show the source code #\n",
    "\n",
    "!cat ai202209_s06_09.py"
   ]
  },
  {
   "cell_type": "code",
   "execution_count": null,
   "id": "c9906739-4dc5-4ecc-87c3-22fd034bad93",
   "metadata": {},
   "outputs": [],
   "source": [
    "# run this cell to execute the script #\n",
    "\n",
    "!python3.9 ai202209_s06_09.py"
   ]
  },
  {
   "cell_type": "code",
   "execution_count": null,
   "id": "16ecb102-4340-45a9-9b5c-280bf7b7d75a",
   "metadata": {},
   "outputs": [],
   "source": [
    "# show created file #\n",
    "\n",
    "!ls -lF hip*\n",
    "!file hip.db"
   ]
  },
  {
   "cell_type": "markdown",
   "id": "4a2e8bc0-878e-4064-822f-7863cd0372e9",
   "metadata": {},
   "source": [
    "# Sample script 10 #"
   ]
  },
  {
   "cell_type": "code",
   "execution_count": null,
   "id": "7850a74e-516f-4a95-a016-31e56d628454",
   "metadata": {},
   "outputs": [],
   "source": [
    "# run this cell to show the source code #\n",
    "\n",
    "!cat ai202209_s06_10.py"
   ]
  },
  {
   "cell_type": "code",
   "execution_count": null,
   "id": "aa8990c4-e0fd-473f-9f53-92d437afd72d",
   "metadata": {},
   "outputs": [],
   "source": [
    "# run this cell to execute the script #\n",
    "\n",
    "!python3.9 ai202209_s06_10.py"
   ]
  },
  {
   "cell_type": "code",
   "execution_count": null,
   "id": "904e8dd3-8987-4505-b118-881f6c8a7421",
   "metadata": {},
   "outputs": [],
   "source": [
    "# show created file #\n",
    "\n",
    "!ls -lF hip*\n",
    "!file hip.db"
   ]
  },
  {
   "cell_type": "markdown",
   "id": "6cede3f1-ebfb-4dad-a6a0-30e7efb2ec46",
   "metadata": {},
   "source": [
    "# Sample script 11 #"
   ]
  },
  {
   "cell_type": "code",
   "execution_count": null,
   "id": "a31eb777-8878-43af-ad65-33bfdf1a3a6a",
   "metadata": {},
   "outputs": [],
   "source": [
    "# run this cell to show the source code #\n",
    "\n",
    "!cat ai202209_s06_11.py"
   ]
  },
  {
   "cell_type": "code",
   "execution_count": null,
   "id": "977d06f5-15c2-4512-9a7f-730c094396af",
   "metadata": {},
   "outputs": [],
   "source": [
    "# run this cell to execute the script #\n",
    "\n",
    "!python3.9 ai202209_s06_11.py"
   ]
  },
  {
   "cell_type": "markdown",
   "id": "f47e9b5a-91b5-49eb-86f2-b374299209b3",
   "metadata": {},
   "source": [
    "# Sample script 12 #"
   ]
  },
  {
   "cell_type": "code",
   "execution_count": null,
   "id": "a7bc6dca-df07-4ca8-91bc-1dd500098130",
   "metadata": {},
   "outputs": [],
   "source": [
    "# run this cell to show the source code #\n",
    "\n",
    "!cat ai202209_s06_12.py"
   ]
  },
  {
   "cell_type": "code",
   "execution_count": null,
   "id": "312c68a9-d8ec-4be6-8d7d-304e088877d1",
   "metadata": {},
   "outputs": [],
   "source": [
    "# run this cell to execute the script #\n",
    "\n",
    "!python3.9 ai202209_s06_12.py"
   ]
  },
  {
   "cell_type": "markdown",
   "id": "934c2358-d1c8-4e3c-b263-7693fca97683",
   "metadata": {},
   "source": [
    "# Sample script 13 #"
   ]
  },
  {
   "cell_type": "code",
   "execution_count": null,
   "id": "63aaf312-0339-4a4f-97d0-2b2b9f3ae388",
   "metadata": {},
   "outputs": [],
   "source": [
    "# run this cell to show the source code #\n",
    "\n",
    "!cat ai202209_s06_13.py"
   ]
  },
  {
   "cell_type": "code",
   "execution_count": null,
   "id": "3efffe90-1e8a-4484-93ec-8ec790cff240",
   "metadata": {},
   "outputs": [],
   "source": [
    "# run this cell to execute the script #\n",
    "\n",
    "!python3.9 ai202209_s06_13.py"
   ]
  },
  {
   "cell_type": "code",
   "execution_count": null,
   "id": "e0d1621c-b04f-4aa7-a470-a14e2d8b6c11",
   "metadata": {},
   "outputs": [],
   "source": [
    "# show downloaded file #\n",
    "\n",
    "!(gunzip -c mpcorb.dat.gz | head)"
   ]
  },
  {
   "cell_type": "markdown",
   "id": "e5673869-d29d-468c-a8e6-1c822ddd1279",
   "metadata": {},
   "source": [
    "# Sample script 14 #"
   ]
  },
  {
   "cell_type": "code",
   "execution_count": null,
   "id": "d25af290-1317-41c0-ba63-613ad84fee51",
   "metadata": {},
   "outputs": [],
   "source": [
    "# run this cell to show the source code #\n",
    "\n",
    "!cat ai202209_s06_14.py"
   ]
  },
  {
   "cell_type": "code",
   "execution_count": null,
   "id": "5467befb-2acf-4b06-8132-1af4b8443d2e",
   "metadata": {},
   "outputs": [],
   "source": [
    "# run this cell to execute the script #\n",
    "\n",
    "!(python3.9 ai202209_s06_14.py > mpcorb.txt)"
   ]
  },
  {
   "cell_type": "code",
   "execution_count": null,
   "id": "6c0eeb6a-be06-4ca6-b22a-3080310c8a6d",
   "metadata": {},
   "outputs": [],
   "source": [
    "# show created file #\n",
    "\n",
    "!head -20 mpcorb.txt"
   ]
  },
  {
   "cell_type": "markdown",
   "id": "3fde3d21-c5f2-4f24-8440-77caf2e8e374",
   "metadata": {},
   "source": [
    "# Sample script 15 #"
   ]
  },
  {
   "cell_type": "code",
   "execution_count": null,
   "id": "f1829565-2877-479a-8435-a2fdaf9174a4",
   "metadata": {},
   "outputs": [],
   "source": [
    "# run this cell to show the source code #\n",
    "\n",
    "!cat ai202209_s06_15.py"
   ]
  },
  {
   "cell_type": "code",
   "execution_count": null,
   "id": "8bc87009-2131-4f4f-9181-92a0f7144169",
   "metadata": {},
   "outputs": [],
   "source": [
    "# run this cell to execute the script #\n",
    "\n",
    "!python3.9 ai202209_s06_15.py"
   ]
  },
  {
   "cell_type": "code",
   "execution_count": null,
   "id": "cd3bd46e-de7a-4c4e-a109-e57df27f8a0d",
   "metadata": {},
   "outputs": [],
   "source": [
    "# show created file #\n",
    "\n",
    "!ls -lF mpcorb.*\n",
    "!file mpcorb.db"
   ]
  },
  {
   "cell_type": "markdown",
   "id": "14d7a693-0902-44bc-a043-bc2feec68f85",
   "metadata": {},
   "source": [
    "# Sample script 16 #"
   ]
  },
  {
   "cell_type": "code",
   "execution_count": null,
   "id": "af03248f-b6f0-490a-9061-4584437b2cb6",
   "metadata": {},
   "outputs": [],
   "source": [
    "# run this cell to show the source code #\n",
    "\n",
    "!cat ai202209_s06_16.py"
   ]
  },
  {
   "cell_type": "code",
   "execution_count": null,
   "id": "519c4bdd-2d1a-4a24-a0a5-fae2cc56b9e8",
   "metadata": {},
   "outputs": [],
   "source": [
    "# run this cell to execute the script #\n",
    "\n",
    "!python3.9 ai202209_s06_16.py"
   ]
  },
  {
   "cell_type": "markdown",
   "id": "2a9481e2-3098-49ec-9113-04edca4ef83a",
   "metadata": {},
   "source": [
    "# Sample script 17 #"
   ]
  },
  {
   "cell_type": "code",
   "execution_count": null,
   "id": "fa1895f7-5f49-4f79-9231-eaec2c3aca2f",
   "metadata": {},
   "outputs": [],
   "source": [
    "# run this cell to show the source code #\n",
    "\n",
    "!cat ai202209_s06_17.py"
   ]
  },
  {
   "cell_type": "code",
   "execution_count": null,
   "id": "e8969fcb-bee2-474f-8d4f-5514eca33e91",
   "metadata": {},
   "outputs": [],
   "source": [
    "# run this cell to execute the script #\n",
    "\n",
    "!python3.9 ai202209_s06_17.py"
   ]
  },
  {
   "cell_type": "code",
   "execution_count": null,
   "id": "12b72472-fa91-4f3e-91e5-79e362f2cfe7",
   "metadata": {},
   "outputs": [],
   "source": []
  }
 ],
 "metadata": {
  "kernelspec": {
   "display_name": "Python 3 (ipykernel)",
   "language": "python",
   "name": "python3"
  },
  "language_info": {
   "codemirror_mode": {
    "name": "ipython",
    "version": 3
   },
   "file_extension": ".py",
   "mimetype": "text/x-python",
   "name": "python",
   "nbconvert_exporter": "python",
   "pygments_lexer": "ipython3",
   "version": "3.9.13"
  }
 },
 "nbformat": 4,
 "nbformat_minor": 5
}
