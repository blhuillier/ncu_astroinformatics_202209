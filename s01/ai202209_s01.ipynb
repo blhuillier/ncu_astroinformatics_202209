{
 "cells": [
  {
   "cell_type": "markdown",
   "id": "df8b8b1b-d221-4a83-b375-232274561315",
   "metadata": {},
   "source": [
    "# Session 01 of Astroinformatics (first semester, academic year 2022) #\n",
    "\n",
    "- About the course\n",
    "    - course name: \"Astroinformatics\"\n",
    "    - semester: from Sep/2022 to Jan/2023\n",
    "    - lecture hours: from 09:00 to 12:00\n",
    "    - classroom: S4-914\n",
    "    - instructor: Kinoshita Daisuke\n",
    "    - course web page: https://s3b.astro.ncu.edu.tw/ai_202209/\n",
    "    - GitHub repository: https://github.com/kinoshitadaisuke/ncu_astroinformatics_202209\n",
    "    - Binder web page: https://mybinder.org/v2/gh/kinoshitadaisuke/ncu_astroinformatics_202209/HEAD"
   ]
  },
  {
   "cell_type": "markdown",
   "id": "04245db9-40ae-49d1-a4e4-2072d4db08c4",
   "metadata": {},
   "source": [
    "## About this notebook ##\n",
    "\n",
    "This is a notebook for the __session 01__ of \"Astroinformatics\" at first semester of academic year 2022.\n",
    "\n",
    "This notebook contains sample Python scripts only.\n",
    "\n",
    "The lecture note is provided at the course web page.\n",
    "\n",
    "To download the lecture note, visit following web page.\n",
    "\n",
    "https://s3b.astro.ncu.edu.tw/ai_202209/\n",
    "\n",
    "Note that the lecture note can be downloaded only from computers/mobile phones connected to the computer network of our university.\n",
    "\n",
    "Connect to Wi-Fi of our university or use VPN service of our university to download the lecture note.\n",
    "\n",
    "If you have any question about this notebook, contact to Kinoshita Daisuke."
   ]
  },
  {
   "cell_type": "markdown",
   "id": "87fac0cd-1ceb-41d0-b195-2f7c5c05cc50",
   "metadata": {},
   "source": [
    "### Sample Python script 00 ###"
   ]
  },
  {
   "cell_type": "code",
   "execution_count": null,
   "id": "38d36cd0-e0ad-4500-ae6b-94a44d114efd",
   "metadata": {},
   "outputs": [],
   "source": [
    "#!/usr/pkg/bin/python3.9\n",
    "\n",
    "#\n",
    "# Time-stamp: <2022/09/09 12:48:33 (CST) daisuke>\n",
    "#\n",
    "\n",
    "# printing a sentence using print () function\n",
    "print (\"This is my very first Python script for Astroinformatics!\")"
   ]
  },
  {
   "cell_type": "markdown",
   "id": "1d62ac80-edb8-4457-a8b9-df918cc1af55",
   "metadata": {},
   "source": [
    "### Sample Python script 01 ###"
   ]
  },
  {
   "cell_type": "code",
   "execution_count": null,
   "id": "b79bf231-d414-4798-814a-379435be785a",
   "metadata": {},
   "outputs": [],
   "source": [
    "#!/usr/pkg/bin/python3.9\n",
    "\n",
    "#\n",
    "# Time-stamp: <2022/09/09 13:43:08 (CST) daisuke>\n",
    "#\n",
    "\n",
    "# assignment of a variable\n",
    "message = 'This is my second Python script for Astroinformatics!'\n",
    "\n",
    "# printing the value of a variable using print () function\n",
    "print (message)"
   ]
  },
  {
   "cell_type": "markdown",
   "id": "6e748e9b-1285-488a-911c-56ceece8596f",
   "metadata": {},
   "source": [
    "### Sample Python script 02 ###"
   ]
  },
  {
   "cell_type": "code",
   "execution_count": null,
   "id": "c693c1d3-c312-496c-a76e-3b7f8f0d0b57",
   "metadata": {},
   "outputs": [],
   "source": [
    "#!/usr/pkg/bin/python3.9\n",
    "\n",
    "#\n",
    "# Time-stamp: <2022/09/09 13:53:00 (CST) daisuke>\n",
    "#\n",
    "\n",
    "# assignment of a variable\n",
    "place = 'Taiwan'\n",
    "\n",
    "# printing the value of a variable using print () function\n",
    "print ('I live in', place, 'now.')"
   ]
  },
  {
   "cell_type": "markdown",
   "id": "7f2a4b3c-79a6-464e-af54-beb0008bd314",
   "metadata": {},
   "source": [
    "### Sample Python script 03 ###"
   ]
  },
  {
   "cell_type": "code",
   "execution_count": null,
   "id": "a276a4db-7ef8-4440-9662-714b43700be3",
   "metadata": {},
   "outputs": [],
   "source": [
    "#!/usr/pkg/bin/python3.9\n",
    "\n",
    "#\n",
    "# Time-stamp: <2022/09/09 14:06:04 (CST) daisuke>\n",
    "#\n",
    "\n",
    "# assignment of a variable\n",
    "a = 123.45\n",
    "\n",
    "# printing the value of a variable using print () function\n",
    "print ('a =', a)"
   ]
  },
  {
   "cell_type": "markdown",
   "id": "e0e29e9f-6ad6-4069-92b0-298b6a376cc5",
   "metadata": {},
   "source": [
    "### Sample Python script 04 ###"
   ]
  },
  {
   "cell_type": "code",
   "execution_count": null,
   "id": "bf820b51-e92c-4173-9696-4cc1ae6a11e7",
   "metadata": {},
   "outputs": [],
   "source": [
    "#!/usr/pkg/bin/python3.9\n",
    "\n",
    "#\n",
    "# Time-stamp: <2022/09/09 14:08:27 (CST) daisuke>\n",
    "#\n",
    "\n",
    "# assignment of a variable\n",
    "a = 123.45\n",
    "\n",
    "# printing the value of a variable using print () function\n",
    "print ('a = %f' % a)"
   ]
  },
  {
   "cell_type": "markdown",
   "id": "fe257e95-9125-4d63-b663-ae8a89fa25c2",
   "metadata": {},
   "source": [
    "### Sample Python script 05 ###"
   ]
  },
  {
   "cell_type": "code",
   "execution_count": null,
   "id": "80a3225b-fc5c-45ae-b507-44dbb314992d",
   "metadata": {},
   "outputs": [],
   "source": [
    "#!/usr/pkg/bin/python3.9\n",
    "\n",
    "#\n",
    "# Time-stamp: <2022/09/09 14:14:44 (CST) daisuke>\n",
    "#\n",
    "\n",
    "# assignment of variables\n",
    "a = 1.2\n",
    "b = 3.4\n",
    "\n",
    "# calculation\n",
    "c = a * b\n",
    "\n",
    "# printing the value of a variable using print () function\n",
    "print ('%f * %f = %f' % (a, b, c) )"
   ]
  },
  {
   "cell_type": "markdown",
   "id": "cebccb27-18a0-4752-91f5-53cdf018964b",
   "metadata": {},
   "source": [
    "### Sample Python script 06 ###"
   ]
  },
  {
   "cell_type": "code",
   "execution_count": null,
   "id": "94571232-1be6-4288-b0f1-e5cbf2d8af73",
   "metadata": {},
   "outputs": [],
   "source": [
    "#!/usr/pkg/bin/python3.9\n",
    "\n",
    "#\n",
    "# Time-stamp: <2022/09/09 14:58:00 (CST) daisuke>\n",
    "#\n",
    "\n",
    "# assignment of variables\n",
    "pi = 3.141592653589793\n",
    "e  = 2.718281828459045\n",
    "c  = 299792458\n",
    "\n",
    "# fancy formatting using formatted string literals\n",
    "print (f'pi = {pi:8.6f}\\ne  = {e:15.13f}\\nc  = {c:g}')"
   ]
  },
  {
   "cell_type": "markdown",
   "id": "0e54181b-5c08-4e12-9268-af9673279296",
   "metadata": {},
   "source": [
    "### Sample Python script 07 ###"
   ]
  },
  {
   "cell_type": "code",
   "execution_count": null,
   "id": "00cdc929-336b-46dc-8ee8-6ef011778d07",
   "metadata": {},
   "outputs": [],
   "source": [
    "#!/usr/pkg/bin/python3.9\n",
    "\n",
    "#\n",
    "# Time-stamp: <2022/09/09 14:57:12 (CST) daisuke>\n",
    "#\n",
    "\n",
    "# assignment of variables\n",
    "pi = 3.141592653589793\n",
    "e  = 2.718281828459045\n",
    "c  = 299792458\n",
    "\n",
    "# fancy formatting using .format () method\n",
    "print ('pi = {:8.6f}\\ne  = {:15.13f}\\nc  = {:g}'.format (pi, e, c) )"
   ]
  },
  {
   "cell_type": "markdown",
   "id": "a9164c44-bbd4-40ca-896c-73cefe43dd91",
   "metadata": {},
   "source": [
    "### Sample Python script 08 ###"
   ]
  },
  {
   "cell_type": "code",
   "execution_count": null,
   "id": "2e196329-6d7f-4f1b-b202-fe1fdf8e8466",
   "metadata": {},
   "outputs": [],
   "source": [
    "#!/usr/pkg/bin/python3.9\n",
    "\n",
    "#\n",
    "# Time-stamp: <2022/09/09 15:48:31 (CST) daisuke>\n",
    "#\n",
    "\n",
    "# two numbers\n",
    "a = 2\n",
    "b = 3\n",
    "\n",
    "# calculation\n",
    "c = a + b\n",
    "\n",
    "# printing result of calculation\n",
    "print (f'a = {a}')\n",
    "print (f'b = {b}')\n",
    "print (f'c = a + b = {a} + {b} = {c}')"
   ]
  },
  {
   "cell_type": "markdown",
   "id": "c38ac223-3720-43ae-8600-1ecc02ca9e7f",
   "metadata": {},
   "source": [
    "### Sample Python script 09 ###"
   ]
  },
  {
   "cell_type": "code",
   "execution_count": null,
   "id": "5bd3cd88-520b-43bb-be31-d2bca7217c45",
   "metadata": {},
   "outputs": [],
   "source": [
    "#!/usr/pkg/bin/python3.9\n",
    "\n",
    "#\n",
    "# Time-stamp: <2022/09/09 15:59:37 (CST) daisuke>\n",
    "#\n",
    "\n",
    "# two numbers\n",
    "a = 5\n",
    "b = 7\n",
    "\n",
    "# calculation\n",
    "c = a - b\n",
    "\n",
    "# printing result of calculation\n",
    "print (f'a = {a}')\n",
    "print (f'b = {b}')\n",
    "print (f'c = a - b = {a} - {b} = {c}')"
   ]
  },
  {
   "cell_type": "markdown",
   "id": "19de112e-ad6f-457d-8f95-521cb454fbae",
   "metadata": {},
   "source": [
    "### Sample Python script 10 ###"
   ]
  },
  {
   "cell_type": "code",
   "execution_count": null,
   "id": "a2e8cffd-4d44-4972-8206-052657606edc",
   "metadata": {},
   "outputs": [],
   "source": [
    "#!/usr/pkg/bin/python3.9\n",
    "\n",
    "#\n",
    "# Time-stamp: <2022/09/09 16:01:59 (CST) daisuke>\n",
    "#\n",
    "\n",
    "# two numbers\n",
    "a = 9\n",
    "b = 13\n",
    "\n",
    "# calculation\n",
    "c = a * b\n",
    "\n",
    "# printing result of calculation\n",
    "print (f'a = {a}')\n",
    "print (f'b = {b}')\n",
    "print (f'c = a * b = {a} * {b} = {c}')"
   ]
  },
  {
   "cell_type": "markdown",
   "id": "42b6a808-b8e5-42e9-8d4a-a1b7309260ee",
   "metadata": {},
   "source": [
    "### Sample Python script 11 ###"
   ]
  },
  {
   "cell_type": "code",
   "execution_count": null,
   "id": "c54b4869-839b-4cdb-98c9-cb62cd95236e",
   "metadata": {},
   "outputs": [],
   "source": [
    "#!/usr/pkg/bin/python3.9\n",
    "\n",
    "#\n",
    "# Time-stamp: <2022/09/09 16:03:47 (CST) daisuke>\n",
    "#\n",
    "\n",
    "# two numbers\n",
    "a = 15\n",
    "b = 2\n",
    "\n",
    "# calculation\n",
    "c = a / b\n",
    "\n",
    "# printing result of calculation\n",
    "print (f'a = {a}')\n",
    "print (f'b = {b}')\n",
    "print (f'c = a / b = {a} / {b} = {c}')"
   ]
  },
  {
   "cell_type": "markdown",
   "id": "1717fc97-774f-4502-9421-2533c7a89a6e",
   "metadata": {},
   "source": [
    "### Sample Python script 12 ###"
   ]
  },
  {
   "cell_type": "code",
   "execution_count": null,
   "id": "0621ba35-4f50-4110-bbad-02e3d5f7be50",
   "metadata": {},
   "outputs": [],
   "source": [
    "#!/usr/pkg/bin/python3.9\n",
    "\n",
    "#\n",
    "# Time-stamp: <2022/09/09 16:08:47 (CST) daisuke>\n",
    "#\n",
    "\n",
    "# two numbers\n",
    "a = 23\n",
    "b = 7\n",
    "\n",
    "# calculation\n",
    "quotient  = a // b\n",
    "remainder = a % b\n",
    "\n",
    "# printing result of calculation\n",
    "print (f'a = {a}')\n",
    "print (f'b = {b}')\n",
    "print (f'quotient  = {quotient}')\n",
    "print (f'remainder = {remainder}')\n",
    "print (f'{b} * {quotient} + {remainder} = {b * quotient + remainder}')"
   ]
  },
  {
   "cell_type": "markdown",
   "id": "4477744a-ea30-499f-b2ea-bd305efe608e",
   "metadata": {},
   "source": [
    "### Sample Python script 13 ###"
   ]
  },
  {
   "cell_type": "code",
   "execution_count": null,
   "id": "cb99f2e2-d3e2-4fcf-89f2-716b94af4e83",
   "metadata": {},
   "outputs": [],
   "source": [
    "#!/usr/pkg/bin/python3.9\n",
    "\n",
    "#\n",
    "# Time-stamp: <2022/09/09 16:21:26 (CST) daisuke>\n",
    "#\n",
    "\n",
    "# two numbers\n",
    "a = 2\n",
    "b = 8\n",
    "\n",
    "# calculation\n",
    "c = a**b\n",
    "\n",
    "# printing result of calculation\n",
    "print (f'a = {a}')\n",
    "print (f'b = {b}')\n",
    "print (f'c = a^b = {a}^{b} = {c}')"
   ]
  },
  {
   "cell_type": "markdown",
   "id": "90525fa2-fbef-4472-a1fb-deede9f5bff1",
   "metadata": {},
   "source": [
    "### Sample Python script 14 ###"
   ]
  },
  {
   "cell_type": "code",
   "execution_count": null,
   "id": "d808c2ab-b81f-41a0-8053-e361cfae2c2d",
   "metadata": {},
   "outputs": [],
   "source": [
    "#!/usr/pkg/bin/python3.9\n",
    "\n",
    "#\n",
    "# Time-stamp: <2022/09/09 16:41:44 (CST) daisuke>\n",
    "#\n",
    "\n",
    "# importing math module\n",
    "import math\n",
    "\n",
    "# a number\n",
    "a = 2.0\n",
    "\n",
    "# calculation of square root\n",
    "b = math.sqrt (a)\n",
    "\n",
    "# printing result of calculation\n",
    "print (f'a = {a}')\n",
    "print (f'b = a^0.5 = {a}^0.5 = {b}')"
   ]
  },
  {
   "cell_type": "markdown",
   "id": "15176244-5633-40cb-b5bc-4a731909ae73",
   "metadata": {},
   "source": [
    "### Sample Python script 15 ###"
   ]
  },
  {
   "cell_type": "code",
   "execution_count": null,
   "id": "63f18d57-6705-45e9-9eab-97d4abb91aaa",
   "metadata": {},
   "outputs": [],
   "source": [
    "#!/usr/pkg/bin/python3.9\n",
    "\n",
    "#\n",
    "# Time-stamp: <2022/09/09 16:45:46 (CST) daisuke>\n",
    "#\n",
    "\n",
    "# importing math module\n",
    "import math\n",
    "\n",
    "# a number\n",
    "a = -1.0\n",
    "\n",
    "# calculation of exponential function\n",
    "b = math.exp (a)\n",
    "\n",
    "# printing result of calculation\n",
    "print (f'a = {a}')\n",
    "print (f'b = exp (a) = {math.e}^{a} = {b}')"
   ]
  },
  {
   "cell_type": "markdown",
   "id": "96719043-9968-4fec-b4fa-ceb3da761e6d",
   "metadata": {},
   "source": [
    "### Sample Python script 16 ###"
   ]
  },
  {
   "cell_type": "code",
   "execution_count": null,
   "id": "e6387352-f7d6-4527-ae69-c8f75699b626",
   "metadata": {},
   "outputs": [],
   "source": [
    "#!/usr/pkg/bin/python3.9\n",
    "\n",
    "#\n",
    "# Time-stamp: <2022/09/09 16:57:30 (CST) daisuke>\n",
    "#\n",
    "\n",
    "# importing math module\n",
    "import math\n",
    "\n",
    "# a number\n",
    "a = 2.7183\n",
    "\n",
    "# calculation of natural logarithm\n",
    "b = math.log (a)\n",
    "\n",
    "# printing result of calculation\n",
    "print (f'a = {a}')\n",
    "print (f'b = log (a) = log ({a}) = {b}')"
   ]
  },
  {
   "cell_type": "markdown",
   "id": "c445ce31-579b-4abe-9da3-6630f9db9b1a",
   "metadata": {},
   "source": [
    "### Sample Python script 17 ###"
   ]
  },
  {
   "cell_type": "code",
   "execution_count": null,
   "id": "639d8f62-5cc8-459d-ab97-e1d68559a386",
   "metadata": {},
   "outputs": [],
   "source": [
    "#!/usr/pkg/bin/python3.9\n",
    "\n",
    "#\n",
    "# Time-stamp: <2022/09/09 17:00:42 (CST) daisuke>\n",
    "#\n",
    "\n",
    "# importing math module\n",
    "import math\n",
    "\n",
    "# a number\n",
    "a = 1000\n",
    "\n",
    "# calculation of natural logarithm\n",
    "b = math.log10 (a)\n",
    "\n",
    "# printing result of calculation\n",
    "print (f'a = {a}')\n",
    "print (f'b = log10 (a) = log10 ({a}) = {b}')"
   ]
  },
  {
   "cell_type": "markdown",
   "id": "c871f088-e670-44d0-9be8-54beec1d4f6a",
   "metadata": {},
   "source": [
    "### Sample Python script 18 ###"
   ]
  },
  {
   "cell_type": "code",
   "execution_count": null,
   "id": "22f1f5c1-fde3-4218-849c-5467bef72cef",
   "metadata": {},
   "outputs": [],
   "source": [
    "#!/usr/pkg/bin/python3.9\n",
    "\n",
    "#\n",
    "# Time-stamp: <2022/09/09 17:13:14 (CST) daisuke>\n",
    "#\n",
    "\n",
    "# importing math module\n",
    "import math\n",
    "\n",
    "# value of pi\n",
    "pi = math.pi\n",
    "\n",
    "# angle in degree\n",
    "a_deg = 60.0\n",
    "\n",
    "# angle in radian\n",
    "a_rad = a_deg / 180.0 * pi\n",
    "\n",
    "# calculation of sine\n",
    "sin_a = math.sin (a_rad)\n",
    "\n",
    "# printing result of calculation\n",
    "print (f'pi          = {pi}')\n",
    "print (f'a_deg       = {a_deg} deg')\n",
    "print (f'a_rad       = {a_rad} rad')\n",
    "print (f'sin (a_rad) = sin ({a_rad}) = {sin_a}')"
   ]
  },
  {
   "cell_type": "markdown",
   "id": "dda7e85a-131a-472d-bd37-418891900d35",
   "metadata": {},
   "source": [
    "### Sample Python script 19 ###"
   ]
  },
  {
   "cell_type": "code",
   "execution_count": null,
   "id": "83f68745-d218-4112-8837-e05d9c9284d7",
   "metadata": {},
   "outputs": [],
   "source": [
    "#!/usr/pkg/bin/python3.9\n",
    "\n",
    "#\n",
    "# Time-stamp: <2022/09/09 17:16:55 (CST) daisuke>\n",
    "#\n",
    "\n",
    "# importing math module\n",
    "import math\n",
    "\n",
    "# value of pi\n",
    "pi = math.pi\n",
    "\n",
    "# angle in degree\n",
    "a_deg = 60.0\n",
    "\n",
    "# angle in radian\n",
    "a_rad = a_deg / 180.0 * pi\n",
    "\n",
    "# calculation of sine\n",
    "cos_a = math.cos (a_rad)\n",
    "\n",
    "# printing result of calculation\n",
    "print (f'pi          = {pi}')\n",
    "print (f'a_deg       = {a_deg} deg')\n",
    "print (f'a_rad       = {a_rad} rad')\n",
    "print (f'cos (a_rad) = cos ({a_rad}) = {cos_a}')"
   ]
  },
  {
   "cell_type": "markdown",
   "id": "1848f3fb-d802-4b77-80a9-8d2bd681d2cc",
   "metadata": {},
   "source": [
    "### Sample Python script 20 ###"
   ]
  },
  {
   "cell_type": "code",
   "execution_count": null,
   "id": "069d9a00-15e6-4090-ad09-3e79f218a173",
   "metadata": {},
   "outputs": [],
   "source": [
    "#!/usr/pkg/bin/python3.9\n",
    "\n",
    "#\n",
    "# Time-stamp: <2022/09/11 19:24:51 (CST) daisuke>\n",
    "#\n",
    "\n",
    "# importing math module\n",
    "import math\n",
    "\n",
    "# value of pi\n",
    "pi = math.pi\n",
    "\n",
    "# angle in degree\n",
    "a_deg = 60.0\n",
    "\n",
    "# angle in radian\n",
    "a_rad = a_deg / 180.0 * pi\n",
    "\n",
    "# calculation of sine\n",
    "tan_a = math.tan (a_rad)\n",
    "\n",
    "# printing result of calculation\n",
    "print (f'pi          = {pi}')\n",
    "print (f'a_deg       = {a_deg} deg')\n",
    "print (f'a_rad       = {a_rad} rad')\n",
    "print (f'tan (a_rad) = tan ({a_rad}) = {tan_a}')"
   ]
  },
  {
   "cell_type": "markdown",
   "id": "b91ee0f3-08b5-4561-8845-7ac9d2c15f78",
   "metadata": {},
   "source": [
    "### Sample Python script 21 ###"
   ]
  },
  {
   "cell_type": "code",
   "execution_count": null,
   "id": "7725c661-e785-4311-91ed-f2fa6a73d511",
   "metadata": {},
   "outputs": [],
   "source": [
    "#!/usr/pkg/bin/python3.9\n",
    "\n",
    "#\n",
    "# Time-stamp: <2022/09/09 17:31:03 (CST) daisuke>\n",
    "#\n",
    "\n",
    "# importing math module\n",
    "import math\n",
    "\n",
    "# (x, y) coordinate\n",
    "x = +1.0\n",
    "y = -1.0\n",
    "\n",
    "# calculation of arctangent\n",
    "a_rad = math.atan2 (y, x)\n",
    "\n",
    "# conversion from radian into degree\n",
    "a_deg = math.degrees (a_rad)\n",
    "\n",
    "# printing result of calculation\n",
    "print (f'x            = {x}')\n",
    "print (f'y            = {y}')\n",
    "print (f'atan2 (y, x) = {a_rad} rad = {a_deg} deg')"
   ]
  },
  {
   "cell_type": "markdown",
   "id": "adbf488d-a3d9-4df6-b21e-d3f3ebde97d6",
   "metadata": {},
   "source": [
    "### Sample Python script 22 ###"
   ]
  },
  {
   "cell_type": "code",
   "execution_count": null,
   "id": "6d4e3e93-cfca-48cf-a39a-8a10039c2004",
   "metadata": {},
   "outputs": [],
   "source": [
    "#!/usr/pkg/bin/python3.9\n",
    "\n",
    "#\n",
    "# Time-stamp: <2022/09/09 17:59:11 (CST) daisuke>\n",
    "#\n",
    "\n",
    "# reading an integer number from keyboard typing\n",
    "a_str = input ('Type one integer number: ')\n",
    "\n",
    "# converting a string into integer\n",
    "a = int (a_str)\n",
    "\n",
    "# if and else statements\n",
    "if (a % 2 == 0):\n",
    "    print (\"The number you type is an even number.\")\n",
    "else:\n",
    "    print (\"The number you type is an odd number.\")"
   ]
  },
  {
   "cell_type": "markdown",
   "id": "711a9a58-ab1b-4ba7-be3d-0f9ba3f31894",
   "metadata": {},
   "source": [
    "### Sample Python script 23 ###"
   ]
  },
  {
   "cell_type": "code",
   "execution_count": null,
   "id": "17467f82-1547-41d1-bdd2-1d69a74064a1",
   "metadata": {},
   "outputs": [],
   "source": [
    "#!/usr/pkg/bin/python3.9\n",
    "\n",
    "#\n",
    "# Time-stamp: <2022/09/09 18:03:00 (CST) daisuke>\n",
    "#\n",
    "\n",
    "# reading an integer number from keyboard typing\n",
    "a_str = input ('Type one integer number: ')\n",
    "\n",
    "# converting a string into integer\n",
    "a = int (a_str)\n",
    "\n",
    "# if and else statements\n",
    "if (a > 0):\n",
    "    print (\"The number you type is a positive number.\")\n",
    "elif (a < 0):\n",
    "    print (\"The number you type is a negative number.\")\n",
    "else:\n",
    "    print (\"The number you type is zero.\")"
   ]
  },
  {
   "cell_type": "markdown",
   "id": "f50d557f-a612-48f6-9bf8-63f487fe6725",
   "metadata": {},
   "source": [
    "### Sample Python script 24 ###"
   ]
  },
  {
   "cell_type": "code",
   "execution_count": null,
   "id": "63dede63-5963-4595-9796-55d2dfca96ca",
   "metadata": {},
   "outputs": [],
   "source": [
    "#!/usr/pkg/bin/python3.9\n",
    "\n",
    "#\n",
    "# Time-stamp: <2022/09/09 18:12:39 (CST) daisuke>\n",
    "#\n",
    "\n",
    "# initialisation of a variable \"total\"\n",
    "total = 0\n",
    "\n",
    "# calculating 1 + 2 + 3 + ... + 10 using \"for\" statement\n",
    "for i in [1, 2, 3, 4, 5, 6, 7, 8, 9, 10]:\n",
    "    # adding \"i\" to \"total\"\n",
    "    total = total + i\n",
    "\n",
    "# printing result of calculation\n",
    "print (f'1 + 2 + 3 + ... + 10 = {total}')"
   ]
  },
  {
   "cell_type": "markdown",
   "id": "2825d45f-ee03-4490-85e1-7cef007be940",
   "metadata": {},
   "source": [
    "### Sample Python script 25 ###"
   ]
  },
  {
   "cell_type": "code",
   "execution_count": null,
   "id": "82f1611f-8e01-4285-8331-9e63903c1913",
   "metadata": {},
   "outputs": [],
   "source": [
    "#!/usr/pkg/bin/python3.9\n",
    "\n",
    "#\n",
    "# Time-stamp: <2022/09/09 18:19:01 (CST) daisuke>\n",
    "#\n",
    "\n",
    "# initialisation of a variable \"total\"\n",
    "total = 0\n",
    "\n",
    "# calculating 1 + 2 + 3 + ... + 10 using \"for\" statement\n",
    "for i in range (1, 11, 1):\n",
    "    # adding \"i\" to \"total\"\n",
    "    total += i\n",
    "\n",
    "# printing result of calculation\n",
    "print (f'1 + 2 + 3 + ... + 10 = {total}')"
   ]
  },
  {
   "cell_type": "markdown",
   "id": "89c7be5e-fb33-457c-9292-f07d3a9cd320",
   "metadata": {},
   "source": [
    "### Sample Python script 26 ###"
   ]
  },
  {
   "cell_type": "code",
   "execution_count": null,
   "id": "266384b3-6ba8-4c6b-9b52-f6dec8913bc5",
   "metadata": {},
   "outputs": [],
   "source": [
    "#!/usr/pkg/bin/python3.9\n",
    "\n",
    "#\n",
    "# Time-stamp: <2022/09/09 18:28:08 (CST) daisuke>\n",
    "#\n",
    "\n",
    "# importing math module\n",
    "import math\n",
    "\n",
    "# initialisation of a variable \"a\"\n",
    "a_deg = 0.0\n",
    "\n",
    "# calculating sin (0 deg), sin (15 deg), sin (30 deg), ..., sin (180 deg)\n",
    "while (a_deg <= 180.0):\n",
    "    # converting from degree into radian\n",
    "    a_rad = math.radians (a_deg)\n",
    "    # calculation of sine\n",
    "    sin_a = math.sin (a_rad)\n",
    "    # printing result of calculation\n",
    "    print (f'sin ({a_deg:5.1f} deg) = {sin_a:8.6f}')\n",
    "    # incrementing variable \"a\"\n",
    "    a_deg += 15.0"
   ]
  },
  {
   "cell_type": "markdown",
   "id": "0bfb41ee-99f9-4c31-a812-51180a16687c",
   "metadata": {},
   "source": [
    "### Sample Python script 27 ###"
   ]
  },
  {
   "cell_type": "code",
   "execution_count": null,
   "id": "97d3e93f-1ed7-4b64-85c0-38c6a538a005",
   "metadata": {},
   "outputs": [],
   "source": [
    "#!/usr/pkg/bin/python3.9\n",
    "\n",
    "#\n",
    "# Time-stamp: <2022/09/09 18:38:40 (CST) daisuke>\n",
    "#\n",
    "\n",
    "# importing math module\n",
    "import math\n",
    "\n",
    "# initialisation of a variable \"a\"\n",
    "a_deg = 0.0\n",
    "\n",
    "# calculating sin (0 deg), sin (15 deg), sin (30 deg), ..., sin (180 deg)\n",
    "while (True):\n",
    "    # stop \"while\" loop if \"a_deg\" is greater than 180.0 deg\n",
    "    if (a_deg > 180.0):\n",
    "        break\n",
    "    # converting from degree into radian\n",
    "    a_rad = math.radians (a_deg)\n",
    "    # calculation of sine\n",
    "    sin_a = math.sin (a_rad)\n",
    "    # printing result of calculation\n",
    "    print (f'sin ({a_deg:5.1f} deg) = {sin_a:8.6f}')\n",
    "    # incrementing variable \"a\"\n",
    "    a_deg += 15.0"
   ]
  },
  {
   "cell_type": "markdown",
   "id": "1c59c1d5-f210-44ab-9a53-3a2c4c55472b",
   "metadata": {},
   "source": [
    "### Sample Python script 28 ###"
   ]
  },
  {
   "cell_type": "code",
   "execution_count": null,
   "id": "d53e3f9b-e4ba-4c62-b85b-d16095e85251",
   "metadata": {},
   "outputs": [],
   "source": [
    "#!/usr/pkg/bin/python3.9\n",
    "\n",
    "#\n",
    "# Time-stamp: <2022/09/09 18:45:12 (CST) daisuke>\n",
    "#\n",
    "\n",
    "# printing odd number between 0 and 30\n",
    "for i in range (30):\n",
    "    # if number is divisible by 2, then skipping to next number\n",
    "    if (i % 2 == 0):\n",
    "        continue\n",
    "    # if not, then it is an odd number\n",
    "    print (f'{i} is an odd number.')"
   ]
  },
  {
   "cell_type": "markdown",
   "id": "649a4443-4166-4a29-aa90-d73153ccb433",
   "metadata": {},
   "source": [
    "### Sample Python script 29 ###"
   ]
  },
  {
   "cell_type": "code",
   "execution_count": null,
   "id": "c594fe0e-3d18-4fa6-96f1-f0143d926d1e",
   "metadata": {},
   "outputs": [],
   "source": [
    "#!/usr/pkg/bin/python3.9\n",
    "\n",
    "#\n",
    "# Time-stamp: <2022/09/09 19:44:25 (CST) daisuke>\n",
    "#\n",
    "\n",
    "# defining a function to add two numbers\n",
    "def add_two_numbers (a, b):\n",
    "    # adding two numbers\n",
    "    c = a + b\n",
    "    # returning result of calculation\n",
    "    return (c)\n",
    "\n",
    "# two numbers\n",
    "n1 = 7\n",
    "n2 = 8\n",
    "\n",
    "# using the function \"add_two_numbers\"\n",
    "n3 = add_two_numbers (n1, n2)\n",
    "\n",
    "# printing result\n",
    "print (f'n1 = {n1}')\n",
    "print (f'n2 = {n2}')\n",
    "print (f'n3 = n1 + n2 = {n3}')"
   ]
  },
  {
   "cell_type": "markdown",
   "id": "2c1af677-6b18-417b-b07a-6e750730cc45",
   "metadata": {},
   "source": [
    "### Sample Python script 30 ###"
   ]
  },
  {
   "cell_type": "code",
   "execution_count": null,
   "id": "955eea18-68c5-42af-98e1-29409cc6aaf0",
   "metadata": {},
   "outputs": [],
   "source": [
    "#!/usr/pkg/bin/python3.9\n",
    "\n",
    "#\n",
    "# Time-stamp: <2022/09/09 21:22:09 (CST) daisuke>\n",
    "#\n",
    "\n",
    "# initialisation of a list\n",
    "list_a = [ 0.1, 2.3, 4.5, 5.6, 6.7, 8.9, 10.1 ]\n",
    "\n",
    "# type of \"list_a\"\n",
    "print (\"type of list_a:\", type (list_a) )\n",
    "\n",
    "# printing the list \"list_a\"\n",
    "print (\"list_a       =\", list_a)\n",
    "\n",
    "# counting number of elements in the list \"list_a\"\n",
    "n = len (list_a)\n",
    "\n",
    "# appending a new element to the list\n",
    "list_a.append (11.3)\n",
    "\n",
    "# printing the list \"list_a\"\n",
    "print (\"list_a       =\", list_a)\n",
    "\n",
    "# counting number of elements in the list \"list_a\"\n",
    "n = len (list_a)\n",
    "\n",
    "# printing number of elements in the list \"list_a\"\n",
    "print (\"len (list_a) =\", n)\n",
    "\n",
    "# printing an element of the list \"list_a\"\n",
    "print (\"list_a[0]    =\", list_a[0])\n",
    "print (\"list_a[3]    =\", list_a[3])\n",
    "print (\"list_a[-2]   =\", list_a[-2])\n",
    "\n",
    "# printing elements of the list \"list_a\" using slicing\n",
    "print (\"list_a[2:5]  =\", list_a[2:5])\n",
    "\n",
    "# printing elements of the list \"list_a\" using slicing\n",
    "print (\"list_a[4:]   =\", list_a[4:])\n",
    "\n",
    "# printing elements of the list \"list_a\" using slicing\n",
    "print (\"list_a[:3]   =\", list_a[:3])\n",
    "\n",
    "# adding 1.23 to each element of \"list_a\"\n",
    "for i in range ( len (list_a) ):\n",
    "    list_a[i] += 1.23\n",
    "\n",
    "# printing the list \"list_a\"\n",
    "print (\"list_a       =\", list_a)"
   ]
  },
  {
   "cell_type": "markdown",
   "id": "eda907a2-c50c-421f-b0da-ee9264d28695",
   "metadata": {},
   "source": [
    "### Sample Python script 31 ###"
   ]
  },
  {
   "cell_type": "code",
   "execution_count": null,
   "id": "4aa62062-c6bf-4a1d-9d89-8ee99996df4d",
   "metadata": {},
   "outputs": [],
   "source": [
    "#!/usr/pkg/bin/python3.9\n",
    "\n",
    "#\n",
    "# Time-stamp: <2022/09/09 21:22:30 (CST) daisuke>\n",
    "#\n",
    "\n",
    "# initialisation of a tuple\n",
    "planet = ( 'Mercury', 'Venus', 'Earth', 'Mars', \\\n",
    "           'Jupiter', 'Saturn', 'Uranus', 'Neptune' )\n",
    "\n",
    "# type of \"planet\"\n",
    "print (\"type of planet:\", type (planet) )\n",
    "\n",
    "# printing the tuple \"tuple_a\"\n",
    "print (\"planet:\\n\", planet)\n",
    "\n",
    "# counting number of elements in the tuple \"planet\"\n",
    "n = len (planet)\n",
    "\n",
    "# printing number of elements in the tuple \"planet\"\n",
    "print (\"len (planet) =\", n)\n",
    "\n",
    "# accessing to an element using index\n",
    "print (\"planet[2]    =\", planet[2])\n",
    "print (\"planet[7]    =\", planet[7])\n",
    "print (\"planet[-3]   =\", planet[-3])\n",
    "\n",
    "# accessing to elements using slicing\n",
    "print (\"planet[2:5]  =\", planet[2:5])\n",
    "print (\"planet[:4]   =\", planet[:4])\n",
    "print (\"planet[6:]   =\", planet[6:])"
   ]
  },
  {
   "cell_type": "markdown",
   "id": "e1565cdc-120d-49f4-8cdd-a990d50f3dbf",
   "metadata": {},
   "source": [
    "### Sample Python script 32 ###"
   ]
  },
  {
   "cell_type": "code",
   "execution_count": null,
   "id": "e4323a9f-8a93-4449-a8d9-9eb245eb57c3",
   "metadata": {},
   "outputs": [],
   "source": [
    "#!/usr/pkg/bin/python3.9\n",
    "\n",
    "#\n",
    "# Time-stamp: <2022/09/09 21:39:59 (CST) daisuke>\n",
    "#\n",
    "\n",
    "# making a set\n",
    "fruits = { 'apple', 'banana', 'cherry', 'durian', 'grape', \\\n",
    "           'mango', 'orange', 'apple', 'banana', 'cherry' }\n",
    "\n",
    "# type of \"fruits\"\n",
    "print (\"type of fruits:\", type (fruits) )\n",
    "\n",
    "# printing \"fruits\"\n",
    "print (\"fruits:\\n\", fruits)\n",
    "\n",
    "# adding an element to \"fruits\"\n",
    "fruits.add ('lemon')\n",
    "\n",
    "# printing \"fruits\"\n",
    "print (\"fruits:\\n\", fruits)\n",
    "\n",
    "# existence check\n",
    "exist_banana = 'banana' in fruits\n",
    "print (\"banana exists?\", exist_banana)\n",
    "\n",
    "# one more existence check\n",
    "exist_tomato = 'tomato' in fruits\n",
    "print (\"tomato exists?\", exist_tomato)\n",
    "\n",
    "# making a list\n",
    "list_cities1 = [ 'Taipei', 'Taoyuan', 'Hsinchu', 'Taichung', 'Tainan', \\\n",
    "                 'Taipei', 'Taoyuan' ]\n",
    "\n",
    "# printing type of \"list_cities1\"\n",
    "print (\"type of list_cities1:\", type (list_cities1) )\n",
    "\n",
    "# printing list \"list_cities1\"\n",
    "print (\"list_cities1:\\n\", list_cities1)\n",
    "\n",
    "# generating a set from a list\n",
    "set_cities1 = set (list_cities1)\n",
    "\n",
    "# printing type of \"set_cities1\"\n",
    "print (\"type of set_cities1:\", type (set_cities1) )\n",
    "\n",
    "# printing set \"set_cities1\"\n",
    "print (\"set_cities1:\\n\", set_cities1)\n",
    "\n",
    "# making a set \"set_cities2\"\n",
    "set_cities2 = { 'Taipei', 'Taoyuan', 'Kaohsiung', 'Pingtung', 'Taitung', \\\n",
    "                'Hualien', 'Yilan', 'Taipei', 'Taoyuan' }\n",
    "\n",
    "# printing type of \"set_cities2\"\n",
    "print (\"type of set_cities2:\", type (set_cities2) )\n",
    "\n",
    "# printing set \"set_cities2\"\n",
    "print (\"set_cities2:\\n\", set_cities2)\n",
    "\n",
    "# finding elements in both set_cities1 and set_cities2\n",
    "set_cities_both = set_cities1 & set_cities2\n",
    "\n",
    "# printing elements in both set_cities1 and set_cities2\n",
    "print (\"cities in both set_cities1 and set_cities2:\\n\", set_cities_both)"
   ]
  },
  {
   "cell_type": "markdown",
   "id": "fba5adc4-26e0-4181-ba4b-1eee89f367f1",
   "metadata": {},
   "source": [
    "### Sample Python script 33 ###"
   ]
  },
  {
   "cell_type": "code",
   "execution_count": null,
   "id": "90c39dab-06b3-4e14-ac91-aba28139587c",
   "metadata": {},
   "outputs": [],
   "source": [
    "#\n",
    "# Time-stamp: <2022/09/09 21:44:36 (CST) daisuke>\n",
    "#\n",
    "\n",
    "# making a dictionary\n",
    "star_mag = {\n",
    "    \"Sirius\": -1.46,\n",
    "    \"Canopus\": -0.74,\n",
    "    \"Rigil Kentaurus\": -0.27,\n",
    "    \"Arcturus\": -0.05,\n",
    "    \"Vega\": 0.03,\n",
    "    \"Capella\": 0.08,\n",
    "    \"Rigel\": 0.13,\n",
    "    \"Procyon\": 0.34,\n",
    "    \"Achernar\": 0.46,\n",
    "    \"Betelgeuse\": 0.50,\n",
    "}\n",
    "\n",
    "# type of \"star_mag\"\n",
    "print (\"type of star_mag:\", type (star_mag) )\n",
    "\n",
    "# printing dictionary \"star_mag\"\n",
    "print (star_mag)\n",
    "\n",
    "# accessing to an element\n",
    "print (\"magnitude of Vega =\", star_mag['Vega'])\n",
    "\n",
    "# printing all the data\n",
    "for star in sorted (star_mag.keys ()):\n",
    "    print (f'{star:16} : {star_mag[star]:+5.2f}')"
   ]
  },
  {
   "cell_type": "markdown",
   "id": "bba067ed-1ee9-4c9d-a682-090c4f9281ce",
   "metadata": {},
   "source": [
    "### Sample Python script 34 ###"
   ]
  },
  {
   "cell_type": "code",
   "execution_count": null,
   "id": "829c86f3-b6f5-45b2-9f58-1fc153a7ffac",
   "metadata": {},
   "outputs": [],
   "source": [
    "#!/usr/pkg/bin/python3.9\n",
    "\n",
    "#\n",
    "# Time-stamp: <2022/09/09 21:53:51 (CST) daisuke>\n",
    "#\n",
    "\n",
    "# making a multi-dimensional dictionary\n",
    "asteroid = {\n",
    "    'Ceres': {\n",
    "        'a': 2.769,\n",
    "        'e': 0.076,\n",
    "        'i': 10.594,\n",
    "        'H': 3.4,\n",
    "        'diameter': 939.4,\n",
    "    },\n",
    "    'Pallas': {\n",
    "        'a': 2.774,\n",
    "        'e': 0.230,\n",
    "        'i': 34.833,\n",
    "        'H': 4.2,\n",
    "        'diameter': 545,\n",
    "    },\n",
    "    'Juno': {\n",
    "        'a': 2.668,\n",
    "        'e': 0.257,\n",
    "        'i': 12.991,\n",
    "        'H': 5.33,\n",
    "        'diameter': 246.596,\n",
    "    },\n",
    "    'Vesta': {\n",
    "        'a': 2.361,\n",
    "        'e': 0.089,\n",
    "        'i': 7.142,\n",
    "        'H': 3.0,\n",
    "        'diameter': 525.4,\n",
    "    },\n",
    "}\n",
    "\n",
    "# printing dictionary information\n",
    "print (\"Ceres:\\n\", asteroid['Ceres'])\n",
    "print (\"Vesta:\\n\", asteroid['Vesta'])\n",
    "print (\"a of Pallas =\", asteroid['Pallas']['a'], \"au\")\n",
    "print (\"e of Juno   =\", asteroid['Juno']['e'])\n",
    "print (\"i of Vesta  =\", asteroid['Vesta']['i'], \"deg\")\n",
    "print (\"H of Ceres  =\", asteroid['Ceres']['H'], \"mag\")\n",
    "\n",
    "# printing rotation period of 4 asteroids\n",
    "print ('Diameters of asteroids:')\n",
    "for key in (asteroid.keys ()):\n",
    "    print (f'  {key:6} : {asteroid[key][\"diameter\"]:4.1f} km')"
   ]
  },
  {
   "cell_type": "markdown",
   "id": "14011f0f-eaf9-4a89-a719-bd98947cde2c",
   "metadata": {},
   "source": [
    "### Sample Python script 35 ###"
   ]
  },
  {
   "cell_type": "code",
   "execution_count": null,
   "id": "ebb47bd4-697d-49f9-9ba7-fc15e72cf66e",
   "metadata": {},
   "outputs": [],
   "source": [
    "#!/usr/pkg/bin/python3.9\n",
    "\n",
    "#\n",
    "# Time-stamp: <2022/09/10 07:58:54 (CST) daisuke>\n",
    "#\n",
    "\n",
    "# name of data file\n",
    "file_data = 'fruits.data'\n",
    "\n",
    "# a variable for total price\n",
    "total = 0\n",
    "\n",
    "# opening file with read mode\n",
    "with open (file_data, 'r') as fh:\n",
    "    # reading file line-by-line\n",
    "    for line in fh:\n",
    "        # if line starts with '#', then it is a header line and skip\n",
    "        if (line[0] == '#'):\n",
    "            continue\n",
    "        # splitting line\n",
    "        (name, unit_price_str, quantity_str) = line.split ()\n",
    "        # converting from string into integer\n",
    "        unit_price = int (unit_price_str)\n",
    "        quantity   = int (quantity_str)\n",
    "        # calculation of sub-total\n",
    "        subtotal = unit_price * quantity\n",
    "        # adding \"subtotal\" to \"total\"\n",
    "        total += subtotal\n",
    "        # printing information\n",
    "        print (f'{name:10} {unit_price:3d} {quantity:2d} {subtotal:3d}')\n",
    "\n",
    "# printing total price\n",
    "print (f'\\ntotal price: {total:4d}')"
   ]
  },
  {
   "cell_type": "markdown",
   "id": "2bd65551-2883-40a5-90c0-3fa96364a6c7",
   "metadata": {},
   "source": [
    "### Sample Python script 36 ###"
   ]
  },
  {
   "cell_type": "code",
   "execution_count": null,
   "id": "044d7d4a-2e5b-4108-9de4-953787c9b39f",
   "metadata": {},
   "outputs": [],
   "source": [
    "#!/usr/pkg/bin/python3.9\n",
    "\n",
    "#\n",
    "# Time-stamp: <2022/09/10 08:16:34 (CST) daisuke>\n",
    "#\n",
    "\n",
    "# start and end numbers\n",
    "n_start = 2\n",
    "n_end   = 100\n",
    "\n",
    "# output file name\n",
    "file_output = \"primenumbers.data\"\n",
    "\n",
    "# opening file for writing\n",
    "with open (file_output, 'w') as fh:\n",
    "    # checking numbers from n_start to n_end\n",
    "    for i in range (n_start, n_end + 1):\n",
    "        # resetting parameter \"count\"\n",
    "        count = 0\n",
    "        # examining if the number is divisible by numbers between 2 and (i-1)\n",
    "        for j in range (2, i):\n",
    "            # if the number is divisible, then adding 1 to \"count\"\n",
    "            if (i % j == 0):\n",
    "                count += 1\n",
    "                # if count is >= 1, the number is not a prime number\n",
    "                break\n",
    "        if (count == 0):\n",
    "            # if the number is not divisible by numbers between 2 and (i-1),\n",
    "            # then it is a prime number\n",
    "            result = f'{i} is a prime number.\\n'\n",
    "        else:\n",
    "            # if the number is divisible by at least one of numbers between\n",
    "            # 2 and (i-1), then it is not a prime number\n",
    "            result = f'{i} is NOT a prime number.\\n'\n",
    "        # writing result into output file\n",
    "        fh.write (result)"
   ]
  },
  {
   "cell_type": "markdown",
   "id": "7418a76a-4857-4742-9ed1-7513377eb5a2",
   "metadata": {},
   "source": [
    "### Sample Python script 37 ###"
   ]
  },
  {
   "cell_type": "code",
   "execution_count": null,
   "id": "f2e8bb49-f2fc-4900-ba41-479a3102eb58",
   "metadata": {},
   "outputs": [],
   "source": [
    "#!/usr/pkg/bin/python3.9\n",
    "\n",
    "#\n",
    "# Time-stamp: <2022/09/11 17:56:00 (CST) daisuke>\n",
    "#\n",
    "\n",
    "# sample string\n",
    "string1 = 'National Central University'\n",
    "\n",
    "# printing a string\n",
    "print (f'string1       = {string1}')\n",
    "\n",
    "# using index for a string\n",
    "print (f'string1[0]    = {string1[0]}')\n",
    "print (f'string1[1]    = {string1[1]}')\n",
    "print (f'string1[2]    = {string1[2]}')\n",
    "print (f'string1[-1]   = {string1[-1]}')\n",
    "print (f'string1[-2]   = {string1[-2]}')\n",
    "\n",
    "# using slice for a string\n",
    "print (f'string1[9:16] = {string1[9:16]}')\n",
    "print (f'string1[9:]   = {string1[9:]}')\n",
    "print (f'string1[:16]  = {string1[:16]}')\n",
    "\n",
    "# using replace method\n",
    "string2 = string1.replace ('Central', 'Tsing-Hua')\n",
    "print (f'string2       = {string2}')\n",
    "\n",
    "# concatenating strings\n",
    "string3 = 'Institute'\n",
    "string4 = 'of'\n",
    "string5 = 'Astronomy'\n",
    "string6 = string3 + ' ' + string4 + ' ' + string5\n",
    "print (f\"{string3} + ' ' + {string4} + ' ' + {string5} = {string6}\")"
   ]
  },
  {
   "cell_type": "markdown",
   "id": "936f5d5a-d7c8-4ca3-ac10-5a8508eb41f6",
   "metadata": {},
   "source": [
    "### Sample Python script 38 ###"
   ]
  },
  {
   "cell_type": "code",
   "execution_count": null,
   "id": "701132e5-c02c-487f-8564-6f319d8c5d2f",
   "metadata": {},
   "outputs": [],
   "source": [
    "#!/usr/pkg/bin/python3.9\n",
    "\n",
    "#\n",
    "# Time-stamp: <2022/09/11 18:14:27 (CST) daisuke>\n",
    "#\n",
    "\n",
    "# two numbers\n",
    "a = 3\n",
    "b = 0\n",
    "\n",
    "# calculation\n",
    "c = a / b\n",
    "\n",
    "# printing result of calculation\n",
    "print (f'{a} / {b} = {c}')"
   ]
  },
  {
   "cell_type": "markdown",
   "id": "25dd7d94-264e-4596-b06e-8666bd02b376",
   "metadata": {},
   "source": [
    "### Sample Python script 39 ###"
   ]
  },
  {
   "cell_type": "code",
   "execution_count": null,
   "id": "c4825f12-a2cb-44a8-b3a0-f44a346863fe",
   "metadata": {},
   "outputs": [],
   "source": [
    "#!/usr/pkg/bin/python3.9\n",
    "\n",
    "#\n",
    "# Time-stamp: <2022/09/11 18:16:37 (CST) daisuke>\n",
    "#\n",
    "\n",
    "# two numbers\n",
    "a = 3\n",
    "\n",
    "# calculation\n",
    "c = a / b\n",
    "\n",
    "# printing result of calculation\n",
    "print (f'{a} / {b} = {c}')"
   ]
  },
  {
   "cell_type": "markdown",
   "id": "b0cd2ec0-2dbb-4261-a9e6-7f094575d00e",
   "metadata": {},
   "source": [
    "### Sample Python script 40 ###"
   ]
  },
  {
   "cell_type": "code",
   "execution_count": null,
   "id": "dc53b57b-5cdb-4200-8b73-3568fa8ae547",
   "metadata": {},
   "outputs": [],
   "source": [
    "#!/usr/pkg/bin/python3.9\n",
    "\n",
    "#\n",
    "# Time-stamp: <2022/09/11 18:19:19 (CST) daisuke>\n",
    "#\n",
    "\n",
    "# two numbers\n",
    "a = 3\n",
    "b = 'abc'\n",
    "\n",
    "# calculation\n",
    "c = a / b\n",
    "\n",
    "# printing result of calculation\n",
    "print (f'{a} / {b} = {c}')"
   ]
  },
  {
   "cell_type": "markdown",
   "id": "ad5ea4b1-9839-42fd-ac7b-f2a3904c12da",
   "metadata": {},
   "source": [
    "### Sample Python script 41 ###"
   ]
  },
  {
   "cell_type": "code",
   "execution_count": null,
   "id": "1ea0705c-c4be-4f20-9984-761d18966a7c",
   "metadata": {},
   "outputs": [],
   "source": [
    "#!/usr/pkg/bin/python3.9\n",
    "\n",
    "#\n",
    "# Time-stamp: <2022/09/11 18:30:15 (CST) daisuke>\n",
    "#\n",
    "\n",
    "# importing sys module\n",
    "import sys\n",
    "\n",
    "# printing a message\n",
    "print (f'This Python script adds two integers and print result of calculation.')\n",
    "\n",
    "# receiving two numbers\n",
    "a = input ('input first integer: ')\n",
    "b = input ('input second integer: ')\n",
    "\n",
    "# conversion of string \"a\" into integer\n",
    "try:\n",
    "    # conversion\n",
    "    a = int (a)\n",
    "except:\n",
    "    # printing a message\n",
    "    print (f'Error: string \"{a}\" cannot be converted into an integer.')\n",
    "    # exit the script\n",
    "    sys.exit (1)\n",
    "else:\n",
    "    print (f'string \"{a}\" is successfully converted into an integer.')\n",
    "\n",
    "# conversion of string \"b\" into integer\n",
    "try:\n",
    "    # conversion\n",
    "    b = int (b)\n",
    "except:\n",
    "    # printing a message\n",
    "    print (f'Error: string \"{b}\" cannot be converted into an integer.')\n",
    "    # exit the script\n",
    "    sys.exit (1)\n",
    "else:\n",
    "    print (f'string \"{b}\" is successfully converted into an integer.')\n",
    "\n",
    "# calculation\n",
    "c = a + b\n",
    "\n",
    "# printing result of calculation\n",
    "print (f'{a} + {b} = {c}')"
   ]
  },
  {
   "cell_type": "markdown",
   "id": "10f2a6dd-f3ed-40a2-a036-9a1340571a21",
   "metadata": {},
   "source": [
    "# end of this notebook #"
   ]
  },
  {
   "cell_type": "code",
   "execution_count": null,
   "id": "35851ba0-fae2-428d-9c59-476a0bc69325",
   "metadata": {},
   "outputs": [],
   "source": []
  }
 ],
 "metadata": {
  "kernelspec": {
   "display_name": "Python 3 (ipykernel)",
   "language": "python",
   "name": "python3"
  },
  "language_info": {
   "codemirror_mode": {
    "name": "ipython",
    "version": 3
   },
   "file_extension": ".py",
   "mimetype": "text/x-python",
   "name": "python",
   "nbconvert_exporter": "python",
   "pygments_lexer": "ipython3",
   "version": "3.9.13"
  }
 },
 "nbformat": 4,
 "nbformat_minor": 5
}
