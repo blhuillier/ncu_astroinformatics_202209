{
 "cells": [
  {
   "cell_type": "markdown",
   "id": "527bf7c3-828b-44e9-8d8d-2a9bc4732b76",
   "metadata": {},
   "source": [
    "# Session 15 of Astroinformatics (first semester, academic year 2022) #\n",
    "\n",
    "- About the course\n",
    "    - course name: \"Astroinformatics\"\n",
    "    - semester: from Sep/2022 to Jan/2023\n",
    "    - lecture hours: from 09:00 to 12:00\n",
    "    - classroom: S4-914\n",
    "    - instructor: Kinoshita Daisuke\n",
    "    - course web page: https://s3b.astro.ncu.edu.tw/ai_202209/\n",
    "    - GitHub repository: https://github.com/kinoshitadaisuke/ncu_astroinformatics_202209\n",
    "    - Binder web page: https://mybinder.org/v2/gh/kinoshitadaisuke/ncu_astroinformatics_202209/HEAD"
   ]
  },
  {
   "cell_type": "markdown",
   "id": "57ed5cc3-2d49-4c16-bd14-feb937647071",
   "metadata": {},
   "source": [
    "## About this notebook ##\n",
    "\n",
    "This is a notebook for the __session 15__ of \"Astroinformatics\" at first semester of academic year 2022.\n",
    "\n",
    "This notebook contains sample Python scripts only.\n",
    "\n",
    "The lecture note is provided at the course web page.\n",
    "\n",
    "To download the lecture note, visit following web page.\n",
    "\n",
    "https://s3b.astro.ncu.edu.tw/ai_202209/\n",
    "\n",
    "Note that the lecture note can be downloaded only from computers/mobile phones connected to the computer network of our university.\n",
    "\n",
    "Connect to Wi-Fi of our university or use VPN service of our university to download the lecture note.\n",
    "\n",
    "If you have any question about this notebook, contact to Kinoshita Daisuke."
   ]
  },
  {
   "cell_type": "markdown",
   "id": "elect-shore",
   "metadata": {},
   "source": [
    "# sample script 00-00 #"
   ]
  },
  {
   "cell_type": "code",
   "execution_count": null,
   "id": "humanitarian-oracle",
   "metadata": {},
   "outputs": [],
   "source": [
    "# run this cell to show the source code #\n",
    "\n",
    "!cat ai202209_s15_00_00.py"
   ]
  },
  {
   "cell_type": "code",
   "execution_count": null,
   "id": "arabic-passport",
   "metadata": {},
   "outputs": [],
   "source": [
    "# run this cell to execute the script #\n",
    "\n",
    "!python3.9 ai202209_s15_00_00.py"
   ]
  },
  {
   "cell_type": "markdown",
   "id": "informative-boards",
   "metadata": {},
   "source": [
    "# sample script 00-01 #"
   ]
  },
  {
   "cell_type": "code",
   "execution_count": null,
   "id": "stuck-threshold",
   "metadata": {},
   "outputs": [],
   "source": [
    "# run this cell to show the source code #\n",
    "\n",
    "!cat ai202209_s15_00_01.py"
   ]
  },
  {
   "cell_type": "code",
   "execution_count": null,
   "id": "arbitrary-mainland",
   "metadata": {},
   "outputs": [],
   "source": [
    "# run this cell to execute the script #\n",
    "\n",
    "!python3.9 ai202209_s15_00_01.py -h"
   ]
  },
  {
   "cell_type": "code",
   "execution_count": null,
   "id": "noted-induction",
   "metadata": {},
   "outputs": [],
   "source": [
    "# run this cell to execute the script #\n",
    "\n",
    "!python3.9 ai202209_s15_00_01.py astropy"
   ]
  },
  {
   "cell_type": "code",
   "execution_count": null,
   "id": "structured-jamaica",
   "metadata": {},
   "outputs": [],
   "source": [
    "# run this cell to execute the script #\n",
    "\n",
    "!python3.9 ai202209_s15_00_01.py pint uncertainties sklearn"
   ]
  },
  {
   "cell_type": "markdown",
   "id": "different-vietnam",
   "metadata": {},
   "source": [
    "# sample script 01-00 #"
   ]
  },
  {
   "cell_type": "code",
   "execution_count": null,
   "id": "global-thanks",
   "metadata": {},
   "outputs": [],
   "source": [
    "# run this cell to show the source code #\n",
    "\n",
    "!cat ai202209_s15_01_00.py"
   ]
  },
  {
   "cell_type": "code",
   "execution_count": null,
   "id": "enormous-herald",
   "metadata": {},
   "outputs": [],
   "source": [
    "# run this cell to execute the script #\n",
    "\n",
    "!python3.9 ai202209_s15_01_00.py"
   ]
  },
  {
   "cell_type": "code",
   "execution_count": null,
   "id": "aggressive-japanese",
   "metadata": {
    "scrolled": true
   },
   "outputs": [],
   "source": [
    "!ls -lF *.csv"
   ]
  },
  {
   "cell_type": "code",
   "execution_count": null,
   "id": "immune-integer",
   "metadata": {},
   "outputs": [],
   "source": [
    "!head hygdata_v3.csv | cut -b 1-80"
   ]
  },
  {
   "cell_type": "markdown",
   "id": "historical-opposition",
   "metadata": {},
   "source": [
    "# sample script 01-01 #"
   ]
  },
  {
   "cell_type": "code",
   "execution_count": null,
   "id": "tutorial-youth",
   "metadata": {},
   "outputs": [],
   "source": [
    "# run this cell to show the source code #\n",
    "\n",
    "!cat ai202209_s15_01_01.py"
   ]
  },
  {
   "cell_type": "code",
   "execution_count": null,
   "id": "analyzed-hollow",
   "metadata": {},
   "outputs": [],
   "source": [
    "# run this cell to execute the script #\n",
    "\n",
    "!python3.9 ai202209_s15_01_01.py"
   ]
  },
  {
   "cell_type": "markdown",
   "id": "compact-perception",
   "metadata": {},
   "source": [
    "# sample script 01-02 #"
   ]
  },
  {
   "cell_type": "code",
   "execution_count": null,
   "id": "therapeutic-clothing",
   "metadata": {},
   "outputs": [],
   "source": [
    "# run this cell to show the source code #\n",
    "\n",
    "!cat ai202209_s15_01_02.py"
   ]
  },
  {
   "cell_type": "code",
   "execution_count": null,
   "id": "recognized-return",
   "metadata": {},
   "outputs": [],
   "source": [
    "# run this cell to execute the script #\n",
    "\n",
    "!python3.9 ai202209_s15_01_02.py"
   ]
  },
  {
   "cell_type": "markdown",
   "id": "corrected-silver",
   "metadata": {},
   "source": [
    "# sample script 01-03 #"
   ]
  },
  {
   "cell_type": "code",
   "execution_count": null,
   "id": "concrete-invalid",
   "metadata": {},
   "outputs": [],
   "source": [
    "# run this cell to show the source code #\n",
    "\n",
    "!cat ai202209_s15_01_03.py"
   ]
  },
  {
   "cell_type": "code",
   "execution_count": null,
   "id": "infinite-columbia",
   "metadata": {},
   "outputs": [],
   "source": [
    "# run this cell to execute the script #\n",
    "\n",
    "!python3.9 ai202209_s15_01_03.py"
   ]
  },
  {
   "cell_type": "markdown",
   "id": "eligible-silicon",
   "metadata": {},
   "source": [
    "# sample script 02-00 #"
   ]
  },
  {
   "cell_type": "code",
   "execution_count": null,
   "id": "every-scene",
   "metadata": {},
   "outputs": [],
   "source": [
    "# run this cell to show the source code #\n",
    "\n",
    "!cat ai202209_s15_02_00.py"
   ]
  },
  {
   "cell_type": "code",
   "execution_count": null,
   "id": "known-internet",
   "metadata": {},
   "outputs": [],
   "source": [
    "# run this cell to execute the script #\n",
    "\n",
    "!python3.9 ai202209_s15_02_00.py"
   ]
  },
  {
   "cell_type": "code",
   "execution_count": null,
   "id": "prerequisite-woman",
   "metadata": {},
   "outputs": [],
   "source": [
    "!ls -lF *.json"
   ]
  },
  {
   "cell_type": "code",
   "execution_count": null,
   "id": "nominated-strength",
   "metadata": {},
   "outputs": [],
   "source": [
    "!head -20 exoplanet.json"
   ]
  },
  {
   "cell_type": "markdown",
   "id": "therapeutic-jacket",
   "metadata": {},
   "source": [
    "# sample script 02-01 #"
   ]
  },
  {
   "cell_type": "code",
   "execution_count": null,
   "id": "assisted-tuning",
   "metadata": {},
   "outputs": [],
   "source": [
    "# run this cell to show the source code #\n",
    "\n",
    "!cat ai202209_s15_02_01.py"
   ]
  },
  {
   "cell_type": "code",
   "execution_count": null,
   "id": "passing-arthritis",
   "metadata": {},
   "outputs": [],
   "source": [
    "# run this cell to execute the script #\n",
    "\n",
    "!python3.9 ai202209_s15_02_01.py"
   ]
  },
  {
   "cell_type": "markdown",
   "id": "talented-turning",
   "metadata": {},
   "source": [
    "# sample script 02-02 #"
   ]
  },
  {
   "cell_type": "code",
   "execution_count": null,
   "id": "military-tracker",
   "metadata": {},
   "outputs": [],
   "source": [
    "# run this cell to show the source code #\n",
    "\n",
    "!cat ai202209_s15_02_02.py"
   ]
  },
  {
   "cell_type": "code",
   "execution_count": null,
   "id": "spread-small",
   "metadata": {},
   "outputs": [],
   "source": [
    "# run this cell to execute the script #\n",
    "\n",
    "!python3.9 ai202209_s15_02_02.py"
   ]
  },
  {
   "cell_type": "markdown",
   "id": "specialized-monitoring",
   "metadata": {},
   "source": [
    "# sample script 02-03 #"
   ]
  },
  {
   "cell_type": "code",
   "execution_count": null,
   "id": "incredible-hebrew",
   "metadata": {},
   "outputs": [],
   "source": [
    "# run this cell to show the source code #\n",
    "\n",
    "!cat ai202209_s15_02_03.py"
   ]
  },
  {
   "cell_type": "code",
   "execution_count": null,
   "id": "bound-barrier",
   "metadata": {},
   "outputs": [],
   "source": [
    "# run this cell to execute the script #\n",
    "\n",
    "!python3.9 ai202209_s15_02_03.py"
   ]
  },
  {
   "cell_type": "markdown",
   "id": "satisfied-corner",
   "metadata": {},
   "source": [
    "# sample script 03-00 #"
   ]
  },
  {
   "cell_type": "code",
   "execution_count": null,
   "id": "hybrid-ozone",
   "metadata": {},
   "outputs": [],
   "source": [
    "# run this cell to show the source code #\n",
    "\n",
    "!cat ai202209_s15_03_00.py"
   ]
  },
  {
   "cell_type": "code",
   "execution_count": null,
   "id": "threatened-reducing",
   "metadata": {},
   "outputs": [],
   "source": [
    "# run this cell to execute the script #\n",
    "\n",
    "!python3.9 ai202209_s15_03_00.py"
   ]
  },
  {
   "cell_type": "code",
   "execution_count": null,
   "id": "according-board",
   "metadata": {},
   "outputs": [],
   "source": [
    "!ls -lF lvg*.data"
   ]
  },
  {
   "cell_type": "code",
   "execution_count": null,
   "id": "saved-motorcycle",
   "metadata": {},
   "outputs": [],
   "source": [
    "!head -20 lvg_v.data"
   ]
  },
  {
   "cell_type": "markdown",
   "id": "medieval-excellence",
   "metadata": {},
   "source": [
    "# sample script 03-01 #"
   ]
  },
  {
   "cell_type": "code",
   "execution_count": null,
   "id": "satellite-western",
   "metadata": {},
   "outputs": [],
   "source": [
    "# run this cell to show the source code #\n",
    "\n",
    "!cat ai202209_s15_03_01.py"
   ]
  },
  {
   "cell_type": "code",
   "execution_count": null,
   "id": "parliamentary-classroom",
   "metadata": {},
   "outputs": [],
   "source": [
    "# run this cell to execute the script #\n",
    "\n",
    "!python3.9 ai202209_s15_03_01.py"
   ]
  },
  {
   "cell_type": "code",
   "execution_count": null,
   "id": "manufactured-cleveland",
   "metadata": {},
   "outputs": [],
   "source": [
    "!ls -lF lvg*.data"
   ]
  },
  {
   "cell_type": "code",
   "execution_count": null,
   "id": "boolean-substitute",
   "metadata": {},
   "outputs": [],
   "source": [
    "!head -20 lvg_d.data"
   ]
  },
  {
   "cell_type": "markdown",
   "id": "sound-matter",
   "metadata": {},
   "source": [
    "# sample script 03-02 #"
   ]
  },
  {
   "cell_type": "code",
   "execution_count": null,
   "id": "alleged-japanese",
   "metadata": {},
   "outputs": [],
   "source": [
    "# run this cell to show the source code #\n",
    "\n",
    "!cat ai202209_s15_03_02.py"
   ]
  },
  {
   "cell_type": "code",
   "execution_count": null,
   "id": "perceived-kenya",
   "metadata": {},
   "outputs": [],
   "source": [
    "# run this cell to execute the script #\n",
    "\n",
    "!python3.9 ai202209_s15_03_02.py"
   ]
  },
  {
   "cell_type": "code",
   "execution_count": null,
   "id": "linear-pacific",
   "metadata": {},
   "outputs": [],
   "source": [
    "!ls -lF lvg*.data"
   ]
  },
  {
   "cell_type": "code",
   "execution_count": null,
   "id": "dying-syracuse",
   "metadata": {},
   "outputs": [],
   "source": [
    "!head -20 lvg.data"
   ]
  },
  {
   "cell_type": "markdown",
   "id": "dress-attention",
   "metadata": {},
   "source": [
    "# sample script 03-03 #"
   ]
  },
  {
   "cell_type": "code",
   "execution_count": null,
   "id": "metallic-hacker",
   "metadata": {},
   "outputs": [],
   "source": [
    "# run this cell to show the source code #\n",
    "\n",
    "!cat ai202209_s15_03_03.py"
   ]
  },
  {
   "cell_type": "code",
   "execution_count": null,
   "id": "divine-bearing",
   "metadata": {},
   "outputs": [],
   "source": [
    "# run this cell to execute the script #\n",
    "\n",
    "!python3.9 ai202209_s15_03_03.py -h"
   ]
  },
  {
   "cell_type": "code",
   "execution_count": null,
   "id": "fifth-timothy",
   "metadata": {},
   "outputs": [],
   "source": [
    "# run this cell to execute the script #\n",
    "\n",
    "!python3.9 ai202209_s15_03_03.py -i lvg.data -o lvg.png"
   ]
  },
  {
   "cell_type": "code",
   "execution_count": null,
   "id": "disabled-adobe",
   "metadata": {},
   "outputs": [],
   "source": [
    "!ls lvg*.png"
   ]
  },
  {
   "cell_type": "code",
   "execution_count": null,
   "id": "boring-alcohol",
   "metadata": {},
   "outputs": [],
   "source": [
    "# run this cell to display PNG image. #\n",
    "\n",
    "import IPython.display\n",
    "\n",
    "IPython.display.Image ('lvg.png')"
   ]
  },
  {
   "cell_type": "markdown",
   "id": "growing-breast",
   "metadata": {},
   "source": [
    "# sample script 04-00 #"
   ]
  },
  {
   "cell_type": "code",
   "execution_count": null,
   "id": "worst-edwards",
   "metadata": {},
   "outputs": [],
   "source": [
    "# run this cell to show the source code #\n",
    "\n",
    "!cat ai202209_s15_04_00.py"
   ]
  },
  {
   "cell_type": "code",
   "execution_count": null,
   "id": "emotional-membership",
   "metadata": {},
   "outputs": [],
   "source": [
    "# run this cell to execute the script #\n",
    "\n",
    "!python3.9 ai202209_s15_04_00.py"
   ]
  },
  {
   "cell_type": "code",
   "execution_count": null,
   "id": "increasing-suggestion",
   "metadata": {
    "scrolled": true
   },
   "outputs": [],
   "source": [
    "!ls -lF *.csv"
   ]
  },
  {
   "cell_type": "code",
   "execution_count": null,
   "id": "backed-session",
   "metadata": {},
   "outputs": [],
   "source": [
    "!head -20 ned1d.csv | cut -b 1-80"
   ]
  },
  {
   "cell_type": "code",
   "execution_count": null,
   "id": "explicit-surrey",
   "metadata": {},
   "outputs": [],
   "source": [
    "!tail -328317 ned1d.csv > ned1d_noheader.csv"
   ]
  },
  {
   "cell_type": "code",
   "execution_count": null,
   "id": "revolutionary-gravity",
   "metadata": {},
   "outputs": [],
   "source": [
    "!echo '\"Exclusion Code\",\"D\",\"G\",\"Galaxy ID\",\"m-M\",\"err\",\"D (Mpc)\",\"Method\",\"REFCODE\",\"\",\"\",\"Hubble const.\",\"Adopted LMC modulus\",\"Date (Yr. - 1980)\",\"NOTES\"' > ned1d_header.csv"
   ]
  },
  {
   "cell_type": "code",
   "execution_count": null,
   "id": "better-shaft",
   "metadata": {},
   "outputs": [],
   "source": [
    "!cat ned1d_header.csv ned1d_noheader.csv > ned1d_with_header.csv"
   ]
  },
  {
   "cell_type": "code",
   "execution_count": null,
   "id": "conventional-legislature",
   "metadata": {},
   "outputs": [],
   "source": [
    "!head -20 ned1d_with_header.csv | cut -b 1-80"
   ]
  },
  {
   "cell_type": "markdown",
   "id": "noted-premium",
   "metadata": {},
   "source": [
    "# sample script 04-01 #"
   ]
  },
  {
   "cell_type": "code",
   "execution_count": null,
   "id": "crude-observer",
   "metadata": {},
   "outputs": [],
   "source": [
    "# run this cell to show the source code #\n",
    "\n",
    "!cat ai202209_s15_04_01.py"
   ]
  },
  {
   "cell_type": "code",
   "execution_count": null,
   "id": "together-gazette",
   "metadata": {},
   "outputs": [],
   "source": [
    "# run this cell to execute the script #\n",
    "\n",
    "!python3.9 ai202209_s15_04_01.py"
   ]
  },
  {
   "cell_type": "markdown",
   "id": "listed-stanley",
   "metadata": {},
   "source": [
    "# sample script 04-02 #"
   ]
  },
  {
   "cell_type": "code",
   "execution_count": null,
   "id": "functioning-aquarium",
   "metadata": {},
   "outputs": [],
   "source": [
    "# run this cell to show the source code #\n",
    "\n",
    "!cat ai202209_s15_04_02.py"
   ]
  },
  {
   "cell_type": "code",
   "execution_count": null,
   "id": "dated-glenn",
   "metadata": {},
   "outputs": [],
   "source": [
    "# run this cell to execute the script #\n",
    "\n",
    "!python3.9 ai202209_s15_04_02.py -h"
   ]
  },
  {
   "cell_type": "code",
   "execution_count": null,
   "id": "individual-failure",
   "metadata": {},
   "outputs": [],
   "source": [
    "# run this cell to execute the script #\n",
    "\n",
    "!python3.9 ai202209_s15_04_02.py -i ned1d_with_header.csv -o ned1d.png"
   ]
  },
  {
   "cell_type": "code",
   "execution_count": null,
   "id": "bacterial-billion",
   "metadata": {},
   "outputs": [],
   "source": [
    "# run this cell to display PNG image. #\n",
    "\n",
    "import IPython.display\n",
    "\n",
    "IPython.display.Image ('ned1d.png')"
   ]
  },
  {
   "cell_type": "markdown",
   "id": "worse-chorus",
   "metadata": {},
   "source": [
    "# sample script 04-03 #"
   ]
  },
  {
   "cell_type": "code",
   "execution_count": null,
   "id": "recovered-receiver",
   "metadata": {},
   "outputs": [],
   "source": [
    "# run this cell to show the source code #\n",
    "\n",
    "!cat ai202209_s15_04_03.py"
   ]
  },
  {
   "cell_type": "code",
   "execution_count": null,
   "id": "senior-composition",
   "metadata": {},
   "outputs": [],
   "source": [
    "# run this cell to execute the script #\n",
    "\n",
    "!python3.9 ai202209_s15_04_03.py -h"
   ]
  },
  {
   "cell_type": "code",
   "execution_count": null,
   "id": "animated-appendix",
   "metadata": {},
   "outputs": [],
   "source": [
    "# run this cell to execute the script #\n",
    "\n",
    "!python3.9 ai202209_s15_04_03.py -i ned1d_with_header.csv -o ned1d_fit.png"
   ]
  },
  {
   "cell_type": "code",
   "execution_count": null,
   "id": "intensive-qatar",
   "metadata": {},
   "outputs": [],
   "source": [
    "# run this cell to display PNG image. #\n",
    "\n",
    "import IPython.display\n",
    "\n",
    "IPython.display.Image ('ned1d_fit.png')"
   ]
  },
  {
   "cell_type": "markdown",
   "id": "respiratory-modification",
   "metadata": {},
   "source": [
    "# downloading Open Supernovae Catalog #"
   ]
  },
  {
   "cell_type": "code",
   "execution_count": null,
   "id": "peaceful-stylus",
   "metadata": {},
   "outputs": [],
   "source": [
    "!git -c http.sslVerify=false clone https://github.com/astrocatalogs/sne-pre-1990.git"
   ]
  },
  {
   "cell_type": "code",
   "execution_count": null,
   "id": "human-berkeley",
   "metadata": {},
   "outputs": [],
   "source": [
    "!git -c http.sslVerify=false clone https://github.com/astrocatalogs/sne-1990-1999.git"
   ]
  },
  {
   "cell_type": "code",
   "execution_count": null,
   "id": "wooden-marble",
   "metadata": {},
   "outputs": [],
   "source": [
    "!git -c http.sslVerify=false clone https://github.com/astrocatalogs/sne-2000-2004.git"
   ]
  },
  {
   "cell_type": "code",
   "execution_count": null,
   "id": "outstanding-romantic",
   "metadata": {},
   "outputs": [],
   "source": [
    "!git -c http.sslVerify=false clone https://github.com/astrocatalogs/sne-2005-2009.git"
   ]
  },
  {
   "cell_type": "code",
   "execution_count": null,
   "id": "grave-dependence",
   "metadata": {},
   "outputs": [],
   "source": [
    "!git -c http.sslVerify=false clone https://github.com/astrocatalogs/sne-2010-2014.git"
   ]
  },
  {
   "cell_type": "code",
   "execution_count": null,
   "id": "embedded-floor",
   "metadata": {},
   "outputs": [],
   "source": [
    "!git -c http.sslVerify=false clone https://github.com/astrocatalogs/sne-2015-2019.git"
   ]
  },
  {
   "cell_type": "markdown",
   "id": "unlike-means",
   "metadata": {},
   "source": [
    "# sample script 05-00 #"
   ]
  },
  {
   "cell_type": "code",
   "execution_count": null,
   "id": "coastal-committee",
   "metadata": {},
   "outputs": [],
   "source": [
    "# run this cell to show the source code #\n",
    "\n",
    "!cat ai202209_s15_05_00.py"
   ]
  },
  {
   "cell_type": "code",
   "execution_count": null,
   "id": "nasty-humanity",
   "metadata": {},
   "outputs": [],
   "source": [
    "# run this cell to execute the script #\n",
    "\n",
    "!python3.9 ai202209_s15_05_00.py > sne_json.list"
   ]
  },
  {
   "cell_type": "code",
   "execution_count": null,
   "id": "experienced-pakistan",
   "metadata": {},
   "outputs": [],
   "source": [
    "!head sne_json.list"
   ]
  },
  {
   "cell_type": "code",
   "execution_count": null,
   "id": "collect-pencil",
   "metadata": {},
   "outputs": [],
   "source": [
    "!wc sne_json.list"
   ]
  },
  {
   "cell_type": "markdown",
   "id": "gothic-paraguay",
   "metadata": {},
   "source": [
    "# sample script 05-01 #"
   ]
  },
  {
   "cell_type": "code",
   "execution_count": null,
   "id": "bigger-factory",
   "metadata": {},
   "outputs": [],
   "source": [
    "# run this cell to show the source code #\n",
    "\n",
    "!cat ai202209_s15_05_01.py"
   ]
  },
  {
   "cell_type": "code",
   "execution_count": null,
   "id": "extended-cutting",
   "metadata": {},
   "outputs": [],
   "source": [
    "# run this cell to execute the script #\n",
    "\n",
    "!python3.9 ai202209_s15_05_01.py | cut -b 1-80"
   ]
  },
  {
   "cell_type": "markdown",
   "id": "accurate-thickness",
   "metadata": {},
   "source": [
    "# sample script 05-02 #"
   ]
  },
  {
   "cell_type": "code",
   "execution_count": null,
   "id": "above-investing",
   "metadata": {},
   "outputs": [],
   "source": [
    "# run this cell to show the source code #\n",
    "\n",
    "!cat ai202209_s15_05_02.py"
   ]
  },
  {
   "cell_type": "code",
   "execution_count": null,
   "id": "attended-difference",
   "metadata": {},
   "outputs": [],
   "source": [
    "# run this cell to execute the script #\n",
    "\n",
    "!python3.9 ai202209_s15_05_02.py > sne_Ia.list"
   ]
  },
  {
   "cell_type": "code",
   "execution_count": null,
   "id": "authorized-cycling",
   "metadata": {},
   "outputs": [],
   "source": [
    "!head sne_Ia.list"
   ]
  },
  {
   "cell_type": "code",
   "execution_count": null,
   "id": "assumed-monroe",
   "metadata": {},
   "outputs": [],
   "source": [
    "!wc sne_Ia.list"
   ]
  },
  {
   "cell_type": "markdown",
   "id": "breeding-christianity",
   "metadata": {},
   "source": [
    "# sample script 05-03 #"
   ]
  },
  {
   "cell_type": "code",
   "execution_count": null,
   "id": "mobile-commonwealth",
   "metadata": {},
   "outputs": [],
   "source": [
    "# run this cell to show the source code #\n",
    "\n",
    "!cat ai202209_s15_05_03.py"
   ]
  },
  {
   "cell_type": "code",
   "execution_count": null,
   "id": "federal-reduction",
   "metadata": {},
   "outputs": [],
   "source": [
    "# run this cell to execute the script #\n",
    "\n",
    "!python3.9 ai202209_s15_05_03.py > snia.data"
   ]
  },
  {
   "cell_type": "code",
   "execution_count": null,
   "id": "broadband-bangladesh",
   "metadata": {},
   "outputs": [],
   "source": [
    "!head snia.data"
   ]
  },
  {
   "cell_type": "code",
   "execution_count": null,
   "id": "developing-psychiatry",
   "metadata": {},
   "outputs": [],
   "source": [
    "!wc snia.data"
   ]
  },
  {
   "cell_type": "markdown",
   "id": "homeless-center",
   "metadata": {},
   "source": [
    "# sample script 05-04 #"
   ]
  },
  {
   "cell_type": "code",
   "execution_count": null,
   "id": "cognitive-logging",
   "metadata": {},
   "outputs": [],
   "source": [
    "# run this cell to show the source code #\n",
    "\n",
    "!cat ai202209_s15_05_04.py"
   ]
  },
  {
   "cell_type": "code",
   "execution_count": null,
   "id": "right-kazakhstan",
   "metadata": {},
   "outputs": [],
   "source": [
    "# run this cell to execute the script #\n",
    "\n",
    "!python3.9 ai202209_s15_05_04.py -h"
   ]
  },
  {
   "cell_type": "code",
   "execution_count": null,
   "id": "blind-disease",
   "metadata": {},
   "outputs": [],
   "source": [
    "# run this cell to execute the script #\n",
    "\n",
    "!python3.9 ai202209_s15_05_04.py -i snia.data -o snia_hd.png"
   ]
  },
  {
   "cell_type": "code",
   "execution_count": null,
   "id": "going-blocking",
   "metadata": {},
   "outputs": [],
   "source": [
    "# run this cell to display PNG image. #\n",
    "\n",
    "import IPython.display\n",
    "\n",
    "IPython.display.Image ('snia_hd.png')"
   ]
  },
  {
   "cell_type": "markdown",
   "id": "electric-perception",
   "metadata": {},
   "source": [
    "# sample script 05-05 #"
   ]
  },
  {
   "cell_type": "code",
   "execution_count": null,
   "id": "editorial-yukon",
   "metadata": {},
   "outputs": [],
   "source": [
    "# run this cell to show the source code #\n",
    "\n",
    "!cat ai202209_s15_05_05.py"
   ]
  },
  {
   "cell_type": "code",
   "execution_count": null,
   "id": "convenient-audience",
   "metadata": {},
   "outputs": [],
   "source": [
    "# run this cell to execute the script #\n",
    "\n",
    "!python3.9 ai202209_s15_05_05.py -h"
   ]
  },
  {
   "cell_type": "code",
   "execution_count": null,
   "id": "entitled-private",
   "metadata": {},
   "outputs": [],
   "source": [
    "# run this cell to execute the script #\n",
    "\n",
    "!python3.9 ai202209_s15_05_05.py -i snia.data -o snia_fit.png"
   ]
  },
  {
   "cell_type": "code",
   "execution_count": null,
   "id": "occupied-stone",
   "metadata": {},
   "outputs": [],
   "source": [
    "# run this cell to display PNG image. #\n",
    "\n",
    "import IPython.display\n",
    "\n",
    "IPython.display.Image ('snia_fit.png')"
   ]
  },
  {
   "cell_type": "markdown",
   "id": "frozen-petroleum",
   "metadata": {},
   "source": [
    "# sample script 06-00 #"
   ]
  },
  {
   "cell_type": "code",
   "execution_count": null,
   "id": "adapted-bunny",
   "metadata": {},
   "outputs": [],
   "source": [
    "# run this cell to show the source code #\n",
    "\n",
    "!cat ai202209_s15_06_00.py"
   ]
  },
  {
   "cell_type": "code",
   "execution_count": null,
   "id": "pursuant-biology",
   "metadata": {},
   "outputs": [],
   "source": [
    "# run this cell to execute the script #\n",
    "\n",
    "!python3.9 ai202209_s15_06_00.py"
   ]
  },
  {
   "cell_type": "code",
   "execution_count": null,
   "id": "honey-draft",
   "metadata": {},
   "outputs": [],
   "source": [
    "!ls -lF usc.data"
   ]
  },
  {
   "cell_type": "code",
   "execution_count": null,
   "id": "missing-dubai",
   "metadata": {},
   "outputs": [],
   "source": [
    "!head usc.data | cut -b 1-80"
   ]
  },
  {
   "cell_type": "markdown",
   "id": "moderate-turning",
   "metadata": {},
   "source": [
    "# sample script 06-01 #"
   ]
  },
  {
   "cell_type": "code",
   "execution_count": null,
   "id": "wrong-mortality",
   "metadata": {},
   "outputs": [],
   "source": [
    "# run this cell to show the source code #\n",
    "\n",
    "!cat ai202209_s15_06_01.py"
   ]
  },
  {
   "cell_type": "code",
   "execution_count": null,
   "id": "raising-yield",
   "metadata": {},
   "outputs": [],
   "source": [
    "# run this cell to execute the script #\n",
    "\n",
    "!python3.9 ai202209_s15_06_01.py > usc_snia.data"
   ]
  },
  {
   "cell_type": "code",
   "execution_count": null,
   "id": "casual-bowling",
   "metadata": {},
   "outputs": [],
   "source": [
    "!head usc_snia.data"
   ]
  },
  {
   "cell_type": "markdown",
   "id": "thousand-basket",
   "metadata": {},
   "source": [
    "# sample script 06-02 #"
   ]
  },
  {
   "cell_type": "code",
   "execution_count": null,
   "id": "popular-pasta",
   "metadata": {},
   "outputs": [],
   "source": [
    "# run this cell to show the source code #\n",
    "\n",
    "!cat ai202209_s15_06_02.py"
   ]
  },
  {
   "cell_type": "code",
   "execution_count": null,
   "id": "electoral-station",
   "metadata": {},
   "outputs": [],
   "source": [
    "# run this cell to execute the script #\n",
    "\n",
    "!python3.9 ai202209_s15_06_02.py -h"
   ]
  },
  {
   "cell_type": "code",
   "execution_count": null,
   "id": "looking-duncan",
   "metadata": {},
   "outputs": [],
   "source": [
    "# run this cell to execute the script #\n",
    "\n",
    "!python3.9 ai202209_s15_06_02.py -i usc_snia.data -o usc_hd.png"
   ]
  },
  {
   "cell_type": "code",
   "execution_count": null,
   "id": "rough-issue",
   "metadata": {},
   "outputs": [],
   "source": [
    "# run this cell to display PNG image. #\n",
    "\n",
    "import IPython.display\n",
    "\n",
    "IPython.display.Image ('usc_hd.png')"
   ]
  },
  {
   "cell_type": "markdown",
   "id": "finished-princess",
   "metadata": {},
   "source": [
    "# sample script 06-03 #"
   ]
  },
  {
   "cell_type": "code",
   "execution_count": null,
   "id": "certified-structure",
   "metadata": {},
   "outputs": [],
   "source": [
    "# run this cell to show the source code #\n",
    "\n",
    "!cat ai202209_s15_06_03.py"
   ]
  },
  {
   "cell_type": "code",
   "execution_count": null,
   "id": "important-holmes",
   "metadata": {},
   "outputs": [],
   "source": [
    "# run this cell to execute the script #\n",
    "\n",
    "!python3.9 ai202209_s15_06_03.py -h"
   ]
  },
  {
   "cell_type": "code",
   "execution_count": null,
   "id": "orange-muslim",
   "metadata": {},
   "outputs": [],
   "source": [
    "# run this cell to execute the script #\n",
    "\n",
    "!python3.9 ai202209_s15_06_03.py -i usc_snia.data -o usc_fit.png"
   ]
  },
  {
   "cell_type": "code",
   "execution_count": null,
   "id": "unauthorized-familiar",
   "metadata": {},
   "outputs": [],
   "source": [
    "# run this cell to display PNG image. #\n",
    "\n",
    "import IPython.display\n",
    "\n",
    "IPython.display.Image ('usc_fit.png')"
   ]
  },
  {
   "cell_type": "markdown",
   "id": "divided-failure",
   "metadata": {},
   "source": [
    "# sample script 07-00 #"
   ]
  },
  {
   "cell_type": "code",
   "execution_count": null,
   "id": "further-viking",
   "metadata": {},
   "outputs": [],
   "source": [
    "# run this cell to show the source code #\n",
    "\n",
    "!cat ai202209_s15_07_00.py"
   ]
  },
  {
   "cell_type": "code",
   "execution_count": null,
   "id": "manual-antenna",
   "metadata": {},
   "outputs": [],
   "source": [
    "# run this cell to execute the script #\n",
    "\n",
    "!python3.9 ai202209_s15_07_00.py"
   ]
  },
  {
   "cell_type": "code",
   "execution_count": null,
   "id": "turned-victory",
   "metadata": {},
   "outputs": [],
   "source": [
    "!ls -lF UTor.tgz"
   ]
  },
  {
   "cell_type": "code",
   "execution_count": null,
   "id": "radio-clause",
   "metadata": {},
   "outputs": [],
   "source": [
    "!tar xzvf UTor.tgz"
   ]
  },
  {
   "cell_type": "code",
   "execution_count": null,
   "id": "general-speaking",
   "metadata": {},
   "outputs": [],
   "source": [
    "!head UTor/lightcurve_params/combined.dat | cut -b 1-80"
   ]
  },
  {
   "cell_type": "markdown",
   "id": "falling-estate",
   "metadata": {},
   "source": [
    "# sample script 07-01 #"
   ]
  },
  {
   "cell_type": "code",
   "execution_count": null,
   "id": "flying-intention",
   "metadata": {},
   "outputs": [],
   "source": [
    "# run this cell to show the source code #\n",
    "\n",
    "!cat ai202209_s15_07_01.py"
   ]
  },
  {
   "cell_type": "code",
   "execution_count": null,
   "id": "configured-traveler",
   "metadata": {},
   "outputs": [],
   "source": [
    "# run this cell to execute the script #\n",
    "\n",
    "!python3.9 ai202209_s15_07_01.py -h"
   ]
  },
  {
   "cell_type": "code",
   "execution_count": null,
   "id": "disturbed-doctrine",
   "metadata": {},
   "outputs": [],
   "source": [
    "# run this cell to execute the script #\n",
    "\n",
    "!python3.9 ai202209_s15_07_01.py -i UTor/lightcurve_params/combined.dat -o snls_hd.png"
   ]
  },
  {
   "cell_type": "code",
   "execution_count": null,
   "id": "quick-graphic",
   "metadata": {},
   "outputs": [],
   "source": [
    "# run this cell to display PNG image. #\n",
    "\n",
    "import IPython.display\n",
    "\n",
    "IPython.display.Image ('snls_hd.png')"
   ]
  },
  {
   "cell_type": "markdown",
   "id": "homeless-century",
   "metadata": {},
   "source": [
    "# sample script 07-02 #"
   ]
  },
  {
   "cell_type": "code",
   "execution_count": null,
   "id": "elder-occasions",
   "metadata": {},
   "outputs": [],
   "source": [
    "# run this cell to show the source code #\n",
    "\n",
    "!cat ai202209_s15_07_02.py"
   ]
  },
  {
   "cell_type": "code",
   "execution_count": null,
   "id": "accepted-appraisal",
   "metadata": {},
   "outputs": [],
   "source": [
    "# run this cell to execute the script #\n",
    "\n",
    "!python3.9 ai202209_s15_07_02.py -h"
   ]
  },
  {
   "cell_type": "code",
   "execution_count": null,
   "id": "lesbian-journalism",
   "metadata": {},
   "outputs": [],
   "source": [
    "# run this cell to execute the script #\n",
    "\n",
    "!python3.9 ai202209_s15_07_02.py -i UTor/lightcurve_params/combined.dat -o snls_cosmo.png"
   ]
  },
  {
   "cell_type": "code",
   "execution_count": null,
   "id": "collectible-magnet",
   "metadata": {},
   "outputs": [],
   "source": [
    "# run this cell to display PNG image. #\n",
    "\n",
    "import IPython.display\n",
    "\n",
    "IPython.display.Image ('snls_cosmo.png')"
   ]
  },
  {
   "cell_type": "markdown",
   "id": "neural-master",
   "metadata": {},
   "source": [
    "# sample script 08-00 #"
   ]
  },
  {
   "cell_type": "code",
   "execution_count": null,
   "id": "moved-boston",
   "metadata": {},
   "outputs": [],
   "source": [
    "# run this cell to show the source code #\n",
    "\n",
    "!cat ai202209_s15_08_00.py"
   ]
  },
  {
   "cell_type": "code",
   "execution_count": null,
   "id": "combined-script",
   "metadata": {},
   "outputs": [],
   "source": [
    "# run this cell to execute the script #\n",
    "\n",
    "!python3.9 ai202209_s15_08_00.py"
   ]
  },
  {
   "cell_type": "markdown",
   "id": "increasing-cache",
   "metadata": {},
   "source": [
    "# sample script 08-01 #"
   ]
  },
  {
   "cell_type": "code",
   "execution_count": null,
   "id": "champion-photograph",
   "metadata": {},
   "outputs": [],
   "source": [
    "# run this cell to show the source code #\n",
    "\n",
    "!cat ai202209_s15_08_01.py"
   ]
  },
  {
   "cell_type": "code",
   "execution_count": null,
   "id": "smaller-pressure",
   "metadata": {},
   "outputs": [],
   "source": [
    "# run this cell to execute the script #\n",
    "\n",
    "!python3.9 ai202209_s15_08_01.py"
   ]
  },
  {
   "cell_type": "markdown",
   "id": "d34add0f-79b5-48a0-9f52-f0654dd9b3f0",
   "metadata": {},
   "source": [
    "# end of the notebook #"
   ]
  },
  {
   "cell_type": "code",
   "execution_count": null,
   "id": "15b08d5b-c97e-45f6-816c-f9572aea8513",
   "metadata": {},
   "outputs": [],
   "source": []
  }
 ],
 "metadata": {
  "kernelspec": {
   "display_name": "Python 3",
   "language": "python",
   "name": "python3"
  },
  "language_info": {
   "codemirror_mode": {
    "name": "ipython",
    "version": 3
   },
   "file_extension": ".py",
   "mimetype": "text/x-python",
   "name": "python",
   "nbconvert_exporter": "python",
   "pygments_lexer": "ipython3",
   "version": "3.9.2"
  }
 },
 "nbformat": 4,
 "nbformat_minor": 5
}
