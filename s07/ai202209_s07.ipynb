{
 "cells": [
  {
   "cell_type": "markdown",
   "id": "527bf7c3-828b-44e9-8d8d-2a9bc4732b76",
   "metadata": {},
   "source": [
    "# Session 07 of Astroinformatics (first semester, academic year 2022) #\n",
    "\n",
    "- About the course\n",
    "    - course name: \"Astroinformatics\"\n",
    "    - semester: from Sep/2022 to Jan/2023\n",
    "    - lecture hours: from 09:00 to 12:00\n",
    "    - classroom: S4-914\n",
    "    - instructor: Kinoshita Daisuke\n",
    "    - course web page: https://s3b.astro.ncu.edu.tw/ai_202209/\n",
    "    - GitHub repository: https://github.com/kinoshitadaisuke/ncu_astroinformatics_202209\n",
    "    - Binder web page: https://mybinder.org/v2/gh/kinoshitadaisuke/ncu_astroinformatics_202209/HEAD"
   ]
  },
  {
   "cell_type": "markdown",
   "id": "57ed5cc3-2d49-4c16-bd14-feb937647071",
   "metadata": {},
   "source": [
    "## About this notebook ##\n",
    "\n",
    "This is a notebook for the __session 07__ of \"Astroinformatics\" at first semester of academic year 2022.\n",
    "\n",
    "This notebook contains sample Python scripts only.\n",
    "\n",
    "The lecture note is provided at the course web page.\n",
    "\n",
    "To download the lecture note, visit following web page.\n",
    "\n",
    "https://s3b.astro.ncu.edu.tw/ai_202209/\n",
    "\n",
    "Note that the lecture note can be downloaded only from computers/mobile phones connected to the computer network of our university.\n",
    "\n",
    "Connect to Wi-Fi of our university or use VPN service of our university to download the lecture note.\n",
    "\n",
    "If you have any question about this notebook, contact to Kinoshita Daisuke."
   ]
  },
  {
   "cell_type": "markdown",
   "id": "cd9d5212-7c84-4db3-86ec-2cb84fd173b2",
   "metadata": {},
   "source": [
    "# Sample script 00 #"
   ]
  },
  {
   "cell_type": "code",
   "execution_count": null,
   "id": "ddc97dd4-3762-4b71-8378-3ef4e38e310c",
   "metadata": {},
   "outputs": [],
   "source": [
    "# run this cell to show the source code #\n",
    "\n",
    "!cat ai202209_s07_00.py"
   ]
  },
  {
   "cell_type": "code",
   "execution_count": null,
   "id": "5557c41c-dd16-4d7c-a6f1-61dfebeb54b8",
   "metadata": {},
   "outputs": [],
   "source": [
    "# run this cell to execute the script #\n",
    "\n",
    "!python3.9 ai202209_s07_00.py"
   ]
  },
  {
   "cell_type": "markdown",
   "id": "4a13f794-f32e-4752-ac4b-f078e22c08a7",
   "metadata": {},
   "source": [
    "# Sample script 01 #"
   ]
  },
  {
   "cell_type": "code",
   "execution_count": null,
   "id": "26c93ba3-0862-4491-af6f-82893d355e49",
   "metadata": {},
   "outputs": [],
   "source": [
    "# run this cell to show the source code #\n",
    "\n",
    "!cat ai202209_s07_01.py"
   ]
  },
  {
   "cell_type": "code",
   "execution_count": null,
   "id": "ef01b597-b52c-4cd0-9a9f-f82e2fb79164",
   "metadata": {},
   "outputs": [],
   "source": [
    "# run this cell to execute the script #\n",
    "\n",
    "!python3.9 ai202209_s07_01.py"
   ]
  },
  {
   "cell_type": "markdown",
   "id": "37e10155-eacb-4652-a07b-3317aced45fc",
   "metadata": {},
   "source": [
    "# Sample script 02 #"
   ]
  },
  {
   "cell_type": "code",
   "execution_count": null,
   "id": "34f3d7e1-006c-460c-bbc8-39b444735e69",
   "metadata": {},
   "outputs": [],
   "source": [
    "# run this cell to show the source code #\n",
    "\n",
    "!cat ai202209_s07_02.py"
   ]
  },
  {
   "cell_type": "code",
   "execution_count": null,
   "id": "31a76995-50a4-4883-991c-5779707e6a39",
   "metadata": {},
   "outputs": [],
   "source": [
    "# run this cell to execute the script #\n",
    "\n",
    "!python3.9 ai202209_s07_02.py"
   ]
  },
  {
   "cell_type": "markdown",
   "id": "465e9fd1-27e9-41f6-b228-fd0a22efb48c",
   "metadata": {},
   "source": [
    "# Sample script 03 #"
   ]
  },
  {
   "cell_type": "code",
   "execution_count": null,
   "id": "24ce1fac-eb9b-4d99-9728-a6cc96672bc5",
   "metadata": {},
   "outputs": [],
   "source": [
    "# run this cell to show the source code #\n",
    "\n",
    "!cat ai202209_s07_03.py"
   ]
  },
  {
   "cell_type": "code",
   "execution_count": null,
   "id": "37e10a46-f044-452c-95cf-c1ce9708ace8",
   "metadata": {},
   "outputs": [],
   "source": [
    "# run this cell to execute the script #\n",
    "\n",
    "!python3.9 ai202209_s07_03.py"
   ]
  },
  {
   "cell_type": "markdown",
   "id": "31726731-b707-4c59-bafa-cda4c062d1c0",
   "metadata": {},
   "source": [
    "# Sample script 04 #"
   ]
  },
  {
   "cell_type": "code",
   "execution_count": null,
   "id": "bcc1fab6-d4c7-43f9-9531-4f3079c30c53",
   "metadata": {},
   "outputs": [],
   "source": [
    "# run this cell to show the source code #\n",
    "\n",
    "!cat ai202209_s07_04.py"
   ]
  },
  {
   "cell_type": "code",
   "execution_count": null,
   "id": "049db52b-e0bf-4e11-9f52-ebc1e9539a7d",
   "metadata": {},
   "outputs": [],
   "source": [
    "# run this cell to execute the script #\n",
    "\n",
    "!python3.9 ai202209_s07_04.py"
   ]
  },
  {
   "cell_type": "markdown",
   "id": "9ca52bc0-1d32-4ad1-acf5-04b06a53945c",
   "metadata": {},
   "source": [
    "# Sample script 05 #"
   ]
  },
  {
   "cell_type": "code",
   "execution_count": null,
   "id": "92cc2fae-64ae-48f6-b99a-ea0586e0c23e",
   "metadata": {},
   "outputs": [],
   "source": [
    "# run this cell to show the source code #\n",
    "\n",
    "!cat ai202209_s07_05.py"
   ]
  },
  {
   "cell_type": "code",
   "execution_count": null,
   "id": "d9c3ea46-f99e-49eb-b73f-fca155a26fa1",
   "metadata": {},
   "outputs": [],
   "source": [
    "# run this cell to execute the script #\n",
    "\n",
    "!python3.9 ai202209_s07_05.py"
   ]
  },
  {
   "cell_type": "markdown",
   "id": "ddaf2b30-4352-4cb2-afb7-0bfd2b7a5ca4",
   "metadata": {},
   "source": [
    "# Sample script 06 #"
   ]
  },
  {
   "cell_type": "code",
   "execution_count": null,
   "id": "a6823996-3a54-4302-b56f-06ef2ad77096",
   "metadata": {},
   "outputs": [],
   "source": [
    "# run this cell to show the source code #\n",
    "\n",
    "!cat ai202209_s07_06.py"
   ]
  },
  {
   "cell_type": "code",
   "execution_count": null,
   "id": "f62579d8-72a8-4c50-b5e8-ed394a0e9ce3",
   "metadata": {},
   "outputs": [],
   "source": [
    "# run this cell to execute the script #\n",
    "\n",
    "!python3.9 ai202209_s07_06.py"
   ]
  },
  {
   "cell_type": "markdown",
   "id": "2e152374-8ae8-4a45-ac10-b44abc2ed69c",
   "metadata": {},
   "source": [
    "# Sample script 07 #"
   ]
  },
  {
   "cell_type": "code",
   "execution_count": null,
   "id": "2be4999d-e758-4b64-bc0e-4b946b80595e",
   "metadata": {},
   "outputs": [],
   "source": [
    "# run this cell to show the source code #\n",
    "\n",
    "!cat ai202209_s07_07.py"
   ]
  },
  {
   "cell_type": "code",
   "execution_count": null,
   "id": "92f5c265-6ee4-4237-804a-4cf3e58e61bb",
   "metadata": {},
   "outputs": [],
   "source": [
    "# run this cell to execute the script #\n",
    "\n",
    "!python3.9 ai202209_s07_07.py"
   ]
  },
  {
   "cell_type": "markdown",
   "id": "d783cb09-c18a-4f13-b50b-73b4bd9ebc4c",
   "metadata": {},
   "source": [
    "# Sample script 08 #"
   ]
  },
  {
   "cell_type": "code",
   "execution_count": null,
   "id": "3e17eb67-b795-4193-bbe0-d7d923d3f221",
   "metadata": {},
   "outputs": [],
   "source": [
    "# run this cell to show the source code #\n",
    "\n",
    "!cat ai202209_s07_08.py"
   ]
  },
  {
   "cell_type": "code",
   "execution_count": null,
   "id": "053ec1ef-1050-4e9f-bf5a-fa913e3b5b31",
   "metadata": {},
   "outputs": [],
   "source": [
    "# run this cell to execute the script #\n",
    "\n",
    "!python3.9 ai202209_s07_08.py"
   ]
  },
  {
   "cell_type": "markdown",
   "id": "fb6e2aeb-4388-4729-8433-b181d2135bae",
   "metadata": {},
   "source": [
    "# Sample script 09 #"
   ]
  },
  {
   "cell_type": "code",
   "execution_count": null,
   "id": "bf464bdb-8f8f-442d-845d-93d0f36d7d7a",
   "metadata": {},
   "outputs": [],
   "source": [
    "# run this cell to show the source code #\n",
    "\n",
    "!cat ai202209_s07_09.py"
   ]
  },
  {
   "cell_type": "code",
   "execution_count": null,
   "id": "01556dfd-760b-4375-8700-61641483fcd2",
   "metadata": {},
   "outputs": [],
   "source": [
    "# run this cell to execute the script #\n",
    "\n",
    "!python3.9 ai202209_s07_09.py"
   ]
  },
  {
   "cell_type": "markdown",
   "id": "8a6f1c1a-d352-422f-b4ad-af3570cedd60",
   "metadata": {},
   "source": [
    "# Sample script 10 #"
   ]
  },
  {
   "cell_type": "code",
   "execution_count": null,
   "id": "65ea45ce-eb7a-4fea-b156-455c39ba81cc",
   "metadata": {},
   "outputs": [],
   "source": [
    "# run this cell to show the source code #\n",
    "\n",
    "!cat ai202209_s07_10.py"
   ]
  },
  {
   "cell_type": "code",
   "execution_count": null,
   "id": "c99630a5-b944-4846-ad84-1e92263957e1",
   "metadata": {},
   "outputs": [],
   "source": [
    "# run this cell to execute the script #\n",
    "\n",
    "!python3.9 ai202209_s07_10.py"
   ]
  },
  {
   "cell_type": "markdown",
   "id": "c2295f7e-b8aa-472c-bb70-f1fc71564060",
   "metadata": {},
   "source": [
    "# Sample script 11 #"
   ]
  },
  {
   "cell_type": "code",
   "execution_count": null,
   "id": "e5b355ec-e539-4ae2-abe7-62ae5612d5c5",
   "metadata": {},
   "outputs": [],
   "source": [
    "# run this cell to show the source code #\n",
    "\n",
    "!cat ai202209_s07_11.py"
   ]
  },
  {
   "cell_type": "code",
   "execution_count": null,
   "id": "5dd172d5-8168-4b82-9494-11af7f31aca3",
   "metadata": {},
   "outputs": [],
   "source": [
    "# run this cell to execute the script #\n",
    "\n",
    "!python3.9 ai202209_s07_11.py"
   ]
  },
  {
   "cell_type": "markdown",
   "id": "563a7e64-a032-43cb-b51f-8f63d0c25d8f",
   "metadata": {},
   "source": [
    "# Sample script 12 #"
   ]
  },
  {
   "cell_type": "code",
   "execution_count": null,
   "id": "203c7665-4bf7-4ffb-87ca-79b6ef84e3d5",
   "metadata": {},
   "outputs": [],
   "source": [
    "# run this cell to show the source code #\n",
    "\n",
    "!cat ai202209_s07_12.py"
   ]
  },
  {
   "cell_type": "code",
   "execution_count": null,
   "id": "a94cb3eb-f2b7-4793-b5d7-7d205793c1b9",
   "metadata": {},
   "outputs": [],
   "source": [
    "# run this cell to execute the script #\n",
    "\n",
    "!python3.9 ai202209_s07_12.py"
   ]
  },
  {
   "cell_type": "markdown",
   "id": "e9a95b79-e782-46ec-81bd-017633c895e2",
   "metadata": {},
   "source": [
    "# Sample script 13 #"
   ]
  },
  {
   "cell_type": "code",
   "execution_count": null,
   "id": "23785781-572c-4366-97d4-b7cad398ad51",
   "metadata": {},
   "outputs": [],
   "source": [
    "# run this cell to show the source code #\n",
    "\n",
    "!cat ai202209_s07_13.py"
   ]
  },
  {
   "cell_type": "code",
   "execution_count": null,
   "id": "eb0433cd-122e-44f6-a9b0-fe7e715ffcba",
   "metadata": {},
   "outputs": [],
   "source": [
    "# run this cell to execute the script #\n",
    "\n",
    "!python3.9 ai202209_s07_13.py"
   ]
  },
  {
   "cell_type": "markdown",
   "id": "5071efa4-9473-449f-ad10-2d9580682a26",
   "metadata": {},
   "source": [
    "# Sample script 14 #"
   ]
  },
  {
   "cell_type": "code",
   "execution_count": null,
   "id": "96f1197d-511e-4568-a086-1e9637fbb926",
   "metadata": {},
   "outputs": [],
   "source": [
    "# run this cell to show the source code #\n",
    "\n",
    "!cat ai202209_s07_14.py"
   ]
  },
  {
   "cell_type": "code",
   "execution_count": null,
   "id": "85cc1287-3095-4e3f-a6dc-c29ddbb0d4c7",
   "metadata": {},
   "outputs": [],
   "source": [
    "# run this cell to execute the script #\n",
    "\n",
    "!python3.9 ai202209_s07_14.py"
   ]
  },
  {
   "cell_type": "markdown",
   "id": "326d999a-50aa-4e53-bfda-e12cfcb33500",
   "metadata": {},
   "source": [
    "# Sample script 15 #"
   ]
  },
  {
   "cell_type": "code",
   "execution_count": null,
   "id": "0028bfe9-5b04-4a78-b7c8-5990ca9969c4",
   "metadata": {},
   "outputs": [],
   "source": [
    "# run this cell to show the source code #\n",
    "\n",
    "!cat ai202209_s07_15.py"
   ]
  },
  {
   "cell_type": "code",
   "execution_count": null,
   "id": "1a968545-87fc-4045-9718-a840c0ee5f22",
   "metadata": {},
   "outputs": [],
   "source": [
    "# run this cell to execute the script #\n",
    "\n",
    "!python3.9 ai202209_s07_15.py"
   ]
  },
  {
   "cell_type": "markdown",
   "id": "c387e378-fb51-47fc-a6aa-e89873d0650a",
   "metadata": {},
   "source": [
    "# Sample script 16 #"
   ]
  },
  {
   "cell_type": "code",
   "execution_count": null,
   "id": "6538951b-b77c-42de-9a69-6de5bc758d6b",
   "metadata": {},
   "outputs": [],
   "source": [
    "# run this cell to show the source code #\n",
    "\n",
    "!cat ai202209_s07_16.py"
   ]
  },
  {
   "cell_type": "code",
   "execution_count": null,
   "id": "7f0041c1-f3a2-4e14-8f74-d78027628cca",
   "metadata": {},
   "outputs": [],
   "source": [
    "# run this cell to execute the script #\n",
    "\n",
    "!python3.9 ai202209_s07_16.py"
   ]
  },
  {
   "cell_type": "markdown",
   "id": "7e398390-4715-4378-ac54-abd4c2955f6a",
   "metadata": {},
   "source": [
    "# Sample script 17 #"
   ]
  },
  {
   "cell_type": "code",
   "execution_count": null,
   "id": "6318af7d-be5a-4a8e-a0ce-541692bd2d22",
   "metadata": {},
   "outputs": [],
   "source": [
    "# run this cell to show the source code #\n",
    "\n",
    "!cat ai202209_s07_17.py"
   ]
  },
  {
   "cell_type": "code",
   "execution_count": null,
   "id": "281bd396-ca2a-4bb4-9832-8d3ee48d658c",
   "metadata": {},
   "outputs": [],
   "source": [
    "# run this cell to execute the script #\n",
    "\n",
    "!python3.9 ai202209_s07_17.py"
   ]
  },
  {
   "cell_type": "markdown",
   "id": "9d4459be-c79b-40c7-9556-716062d78b80",
   "metadata": {},
   "source": [
    "# Sample script 18 #"
   ]
  },
  {
   "cell_type": "code",
   "execution_count": null,
   "id": "25045171-64c0-44be-be9e-6cb93bf5062e",
   "metadata": {},
   "outputs": [],
   "source": [
    "# run this cell to show the source code #\n",
    "\n",
    "!cat ai202209_s07_18.py"
   ]
  },
  {
   "cell_type": "code",
   "execution_count": null,
   "id": "b21a4288-d194-431b-8ff3-e646cce86827",
   "metadata": {},
   "outputs": [],
   "source": [
    "# run this cell to execute the script #\n",
    "\n",
    "!python3.9 ai202209_s07_18.py"
   ]
  },
  {
   "cell_type": "markdown",
   "id": "7c70e86a-fafe-4666-b4ab-91eeb48931e2",
   "metadata": {},
   "source": [
    "# Sample script 19 #"
   ]
  },
  {
   "cell_type": "code",
   "execution_count": null,
   "id": "2d47667c-3270-475a-ab66-b3c72ebd210b",
   "metadata": {},
   "outputs": [],
   "source": [
    "# run this cell to show the source code #\n",
    "\n",
    "!cat ai202209_s07_19.py"
   ]
  },
  {
   "cell_type": "code",
   "execution_count": null,
   "id": "82178ff2-2076-484e-b314-084d92c5d042",
   "metadata": {},
   "outputs": [],
   "source": [
    "# run this cell to execute the script #\n",
    "\n",
    "!python3.9 ai202209_s07_19.py"
   ]
  },
  {
   "cell_type": "markdown",
   "id": "d9ef47f6-33ab-4644-983d-4e83fb8b9242",
   "metadata": {},
   "source": [
    "# Sample script 20 #"
   ]
  },
  {
   "cell_type": "code",
   "execution_count": null,
   "id": "91b0ac0c-6900-4f61-88f4-3a0322cb36c7",
   "metadata": {},
   "outputs": [],
   "source": [
    "# run this cell to show the source code #\n",
    "\n",
    "!cat ai202209_s07_20.py"
   ]
  },
  {
   "cell_type": "code",
   "execution_count": null,
   "id": "56ec20c4-a271-4cb8-a864-dce861620412",
   "metadata": {},
   "outputs": [],
   "source": [
    "# run this cell to execute the script #\n",
    "\n",
    "!python3.9 ai202209_s07_20.py"
   ]
  },
  {
   "cell_type": "markdown",
   "id": "63d7af8c-d65a-4d69-804e-655068f2ab9b",
   "metadata": {},
   "source": [
    "# Sample script 21 #"
   ]
  },
  {
   "cell_type": "code",
   "execution_count": null,
   "id": "27493962-65d3-47d0-a43f-693d58cc9e58",
   "metadata": {},
   "outputs": [],
   "source": [
    "# run this cell to show the source code #\n",
    "\n",
    "!cat ai202209_s07_21.py"
   ]
  },
  {
   "cell_type": "code",
   "execution_count": null,
   "id": "e155bde9-18b7-4142-b45f-5b303f72f7bc",
   "metadata": {},
   "outputs": [],
   "source": [
    "# run this cell to execute the script #\n",
    "\n",
    "!python3.9 ai202209_s07_21.py"
   ]
  },
  {
   "cell_type": "markdown",
   "id": "8a5c662a-b21a-4bae-b44d-dec363edf68c",
   "metadata": {},
   "source": [
    "# Sample script 22 #"
   ]
  },
  {
   "cell_type": "code",
   "execution_count": null,
   "id": "3bb8ae21-d5d2-4683-9319-4d75e5f1b056",
   "metadata": {},
   "outputs": [],
   "source": [
    "# run this cell to show the source code #\n",
    "\n",
    "!cat ai202209_s07_22.py"
   ]
  },
  {
   "cell_type": "code",
   "execution_count": null,
   "id": "2036c736-1348-4f4b-90e3-ada1e2310617",
   "metadata": {},
   "outputs": [],
   "source": [
    "# run this cell to execute the script #\n",
    "\n",
    "!python3.9 ai202209_s07_22.py"
   ]
  },
  {
   "cell_type": "markdown",
   "id": "08005211-13c0-44a5-8512-f550728611e0",
   "metadata": {},
   "source": [
    "# Sample script 23 #"
   ]
  },
  {
   "cell_type": "code",
   "execution_count": null,
   "id": "d950c480-56cd-4896-8906-5e591b243b67",
   "metadata": {},
   "outputs": [],
   "source": [
    "# run this cell to show the source code #\n",
    "\n",
    "!cat ai202209_s07_23.py"
   ]
  },
  {
   "cell_type": "code",
   "execution_count": null,
   "id": "e6367bf9-7b4c-4132-a795-8f72e9405703",
   "metadata": {},
   "outputs": [],
   "source": [
    "# run this cell to execute the script #\n",
    "\n",
    "!python3.9 ai202209_s07_23.py"
   ]
  },
  {
   "cell_type": "markdown",
   "id": "75e2531c-ed81-4e1a-bf2b-5a790426cf2b",
   "metadata": {},
   "source": [
    "# Sample script 24 #"
   ]
  },
  {
   "cell_type": "code",
   "execution_count": null,
   "id": "09b7227f-da18-4beb-9782-9b4f104e6bb5",
   "metadata": {},
   "outputs": [],
   "source": [
    "# run this cell to show the source code #\n",
    "\n",
    "!cat ai202209_s07_24.py"
   ]
  },
  {
   "cell_type": "code",
   "execution_count": null,
   "id": "e4e6ef4c-cc3d-4e63-b4c3-4670bb2f6ff2",
   "metadata": {},
   "outputs": [],
   "source": [
    "# run this cell to execute the script #\n",
    "\n",
    "!python3.9 ai202209_s07_24.py"
   ]
  },
  {
   "cell_type": "markdown",
   "id": "9e22c697-42bf-4467-baa8-17a5b68af8d3",
   "metadata": {},
   "source": [
    "# Sample script 25 #"
   ]
  },
  {
   "cell_type": "code",
   "execution_count": null,
   "id": "ea96d3cc-85d2-49e9-9f8f-5d1d916c4ae0",
   "metadata": {},
   "outputs": [],
   "source": [
    "# run this cell to show the source code #\n",
    "\n",
    "!cat ai202209_s07_25.py"
   ]
  },
  {
   "cell_type": "code",
   "execution_count": null,
   "id": "871c1f11-1133-4c81-a704-99f6f7a9adda",
   "metadata": {},
   "outputs": [],
   "source": [
    "# run this cell to execute the script #\n",
    "\n",
    "!python3.9 ai202209_s07_25.py"
   ]
  },
  {
   "cell_type": "markdown",
   "id": "f078411e-02d5-41e6-ab05-388c9cdc5eea",
   "metadata": {},
   "source": [
    "# Sample script 26 #"
   ]
  },
  {
   "cell_type": "code",
   "execution_count": null,
   "id": "0e697d59-7fdb-40c2-85a9-5d22a56e61d9",
   "metadata": {},
   "outputs": [],
   "source": [
    "# run this cell to show the source code #\n",
    "\n",
    "!cat ai202209_s07_26.py"
   ]
  },
  {
   "cell_type": "code",
   "execution_count": null,
   "id": "1296a443-add2-4d39-9b89-5e662b979bb9",
   "metadata": {},
   "outputs": [],
   "source": [
    "# run this cell to execute the script #\n",
    "\n",
    "!python3.9 ai202209_s07_26.py"
   ]
  },
  {
   "cell_type": "markdown",
   "id": "1615f72d-1c44-4c12-bb1c-be9929fc5a27",
   "metadata": {},
   "source": [
    "# Sample script 27 #"
   ]
  },
  {
   "cell_type": "code",
   "execution_count": null,
   "id": "2f1de21d-65ca-416b-9ecd-86865d7a036f",
   "metadata": {},
   "outputs": [],
   "source": [
    "# run this cell to show the source code #\n",
    "\n",
    "!cat ai202209_s07_27.py"
   ]
  },
  {
   "cell_type": "code",
   "execution_count": null,
   "id": "86302320-e437-451a-89f7-2dac58194800",
   "metadata": {},
   "outputs": [],
   "source": [
    "# run this cell to execute the script #\n",
    "\n",
    "!python3.9 ai202209_s07_27.py"
   ]
  },
  {
   "cell_type": "markdown",
   "id": "ddc9b809-2e2e-475b-a7c8-f7eff2ddbb72",
   "metadata": {},
   "source": [
    "# Sample script 28 #"
   ]
  },
  {
   "cell_type": "code",
   "execution_count": null,
   "id": "a3f52b92-771d-46df-abb7-95ca47a974e5",
   "metadata": {},
   "outputs": [],
   "source": [
    "# run this cell to show the source code #\n",
    "\n",
    "!cat ai202209_s07_28.py"
   ]
  },
  {
   "cell_type": "code",
   "execution_count": null,
   "id": "a5a74522-271f-46b8-a028-ae2ad57c6b6e",
   "metadata": {},
   "outputs": [],
   "source": [
    "# run this cell to execute the script #\n",
    "\n",
    "!python3.9 ai202209_s07_28.py"
   ]
  },
  {
   "cell_type": "markdown",
   "id": "0464f9d8-e45d-488e-b265-e66a7f04c7a9",
   "metadata": {},
   "source": [
    "# Sample script 29 #"
   ]
  },
  {
   "cell_type": "code",
   "execution_count": null,
   "id": "0a8ad92e-2efe-45b8-b8ed-8023145b6847",
   "metadata": {},
   "outputs": [],
   "source": [
    "# run this cell to show the source code #\n",
    "\n",
    "!cat ai202209_s07_29.py"
   ]
  },
  {
   "cell_type": "code",
   "execution_count": null,
   "id": "0343da99-9ec7-4536-9698-ca3388f464cc",
   "metadata": {},
   "outputs": [],
   "source": [
    "# run this cell to execute the script #\n",
    "\n",
    "!python3.9 ai202209_s07_29.py"
   ]
  },
  {
   "cell_type": "markdown",
   "id": "076b597b-7abe-4111-aa3f-3e2417166719",
   "metadata": {},
   "source": [
    "# Sample script 30 #"
   ]
  },
  {
   "cell_type": "code",
   "execution_count": null,
   "id": "b16c7724-e350-40bf-aab8-518ebc2a75d6",
   "metadata": {},
   "outputs": [],
   "source": [
    "# run this cell to show the source code #\n",
    "\n",
    "!cat ai202209_s07_30.py"
   ]
  },
  {
   "cell_type": "code",
   "execution_count": null,
   "id": "35b855fe-5a84-4724-af40-c0fbdb1a83cd",
   "metadata": {},
   "outputs": [],
   "source": [
    "# run this cell to execute the script #\n",
    "\n",
    "!python3.9 ai202209_s07_30.py"
   ]
  },
  {
   "cell_type": "markdown",
   "id": "b11a7f36-f0be-400a-a881-365fbbc63ec7",
   "metadata": {},
   "source": [
    "# Sample script 31 #"
   ]
  },
  {
   "cell_type": "code",
   "execution_count": null,
   "id": "f7ff06dd-90a6-439c-9e34-886b001bf969",
   "metadata": {},
   "outputs": [],
   "source": [
    "# run this cell to show the source code #\n",
    "\n",
    "!cat ai202209_s07_31.py"
   ]
  },
  {
   "cell_type": "code",
   "execution_count": null,
   "id": "b6e8d205-b329-4042-8a4e-c09a6a92cca8",
   "metadata": {},
   "outputs": [],
   "source": [
    "# run this cell to execute the script #\n",
    "\n",
    "!python3.9 ai202209_s07_31.py"
   ]
  },
  {
   "cell_type": "markdown",
   "id": "dc603924-615f-44fa-9d56-d476458f0f3e",
   "metadata": {},
   "source": [
    "# Sample script 32 #"
   ]
  },
  {
   "cell_type": "code",
   "execution_count": null,
   "id": "b2979242-0f7a-4e17-ba60-8608ac99514a",
   "metadata": {},
   "outputs": [],
   "source": [
    "# run this cell to show the source code #\n",
    "\n",
    "!cat ai202209_s07_32.py"
   ]
  },
  {
   "cell_type": "code",
   "execution_count": null,
   "id": "b2ebe73c-89ca-403e-81a8-ba4279bda3f4",
   "metadata": {},
   "outputs": [],
   "source": [
    "# run this cell to execute the script #\n",
    "\n",
    "!python3.9 ai202209_s07_32.py"
   ]
  },
  {
   "cell_type": "markdown",
   "id": "003c3f7b-0654-42e6-9614-657ddb654a69",
   "metadata": {},
   "source": [
    "# Sample script 33 #"
   ]
  },
  {
   "cell_type": "code",
   "execution_count": null,
   "id": "5a156169-92e5-42e1-b3ae-bb81c5b4363a",
   "metadata": {},
   "outputs": [],
   "source": [
    "# run this cell to show the source code #\n",
    "\n",
    "!cat ai202209_s07_33.py"
   ]
  },
  {
   "cell_type": "code",
   "execution_count": null,
   "id": "43c888be-6bb4-4a36-a06b-b16dd98bf225",
   "metadata": {},
   "outputs": [],
   "source": [
    "# run this cell to execute the script #\n",
    "\n",
    "!python3.9 ai202209_s07_33.py"
   ]
  },
  {
   "cell_type": "markdown",
   "id": "a15fa8fa-a21c-441b-8475-05fd05d9ab67",
   "metadata": {},
   "source": [
    "# Sample script 34 #"
   ]
  },
  {
   "cell_type": "code",
   "execution_count": null,
   "id": "b79f9329-857f-44ef-9c9a-913282c23053",
   "metadata": {},
   "outputs": [],
   "source": [
    "# run this cell to show the source code #\n",
    "\n",
    "!cat ai202209_s07_34.py"
   ]
  },
  {
   "cell_type": "code",
   "execution_count": null,
   "id": "c938db65-f268-4820-8263-6f71b79d1f9e",
   "metadata": {},
   "outputs": [],
   "source": [
    "# run this cell to execute the script #\n",
    "\n",
    "!python3.9 ai202209_s07_34.py"
   ]
  },
  {
   "cell_type": "markdown",
   "id": "de788e52-6b20-418a-b9d7-8399febe057c",
   "metadata": {},
   "source": [
    "# Sample script 35 #"
   ]
  },
  {
   "cell_type": "code",
   "execution_count": null,
   "id": "5926eed8-f40a-4a1a-8390-fa8d4ff2e003",
   "metadata": {},
   "outputs": [],
   "source": [
    "# run this cell to show the source code #\n",
    "\n",
    "!cat ai202209_s07_35.py"
   ]
  },
  {
   "cell_type": "code",
   "execution_count": null,
   "id": "9b200623-5048-4c91-af8d-850312f7bf0e",
   "metadata": {},
   "outputs": [],
   "source": [
    "# run this cell to execute the script #\n",
    "\n",
    "!python3.9 ai202209_s07_35.py"
   ]
  },
  {
   "cell_type": "markdown",
   "id": "f9836942-db7e-47c8-a684-236b7bdf07e4",
   "metadata": {},
   "source": [
    "# Sample script 36 #"
   ]
  },
  {
   "cell_type": "code",
   "execution_count": null,
   "id": "e074a6bd-66d8-448f-a04c-eca35c3467c5",
   "metadata": {},
   "outputs": [],
   "source": [
    "# run this cell to show the source code #\n",
    "\n",
    "!cat ai202209_s07_36.py"
   ]
  },
  {
   "cell_type": "code",
   "execution_count": null,
   "id": "a7b0e192-a34f-456e-81ad-67b9d0d8913e",
   "metadata": {},
   "outputs": [],
   "source": [
    "# run this cell to execute the script #\n",
    "\n",
    "!python3.9 ai202209_s07_36.py"
   ]
  },
  {
   "cell_type": "markdown",
   "id": "7a98e646-e236-4763-b0e5-e0514bf2b677",
   "metadata": {},
   "source": [
    "# Sample script 37 #"
   ]
  },
  {
   "cell_type": "code",
   "execution_count": null,
   "id": "f3826b38-a309-4afd-8aac-a695f4fc0586",
   "metadata": {},
   "outputs": [],
   "source": [
    "# run this cell to show the source code #\n",
    "\n",
    "!cat ai202209_s07_37.py"
   ]
  },
  {
   "cell_type": "code",
   "execution_count": null,
   "id": "ed0f2d5a-ce94-4d6d-a802-c008bd739a89",
   "metadata": {},
   "outputs": [],
   "source": [
    "# run this cell to execute the script #\n",
    "\n",
    "!python3.9 ai202209_s07_37.py"
   ]
  },
  {
   "cell_type": "markdown",
   "id": "1d95f727-eb68-4ff4-9405-48a7a81dd2ef",
   "metadata": {},
   "source": [
    "# Sample script 38 #"
   ]
  },
  {
   "cell_type": "code",
   "execution_count": null,
   "id": "de2f19d0-1cec-4924-8275-74a8432936c2",
   "metadata": {},
   "outputs": [],
   "source": [
    "# run this cell to show the source code #\n",
    "\n",
    "!cat ai202209_s07_38.py"
   ]
  },
  {
   "cell_type": "code",
   "execution_count": null,
   "id": "e74d3cd7-64fd-4063-aa8b-0f26c5ed5e3c",
   "metadata": {},
   "outputs": [],
   "source": [
    "# run this cell to execute the script #\n",
    "\n",
    "!python3.9 ai202209_s07_38.py"
   ]
  },
  {
   "cell_type": "markdown",
   "id": "fba2d9ac-ec10-40a5-a8cd-c2d4ef92b512",
   "metadata": {},
   "source": [
    "# Sample script 39 #"
   ]
  },
  {
   "cell_type": "code",
   "execution_count": null,
   "id": "9c8ced43-a106-4402-9692-03ec2ff10207",
   "metadata": {},
   "outputs": [],
   "source": [
    "# run this cell to show the source code #\n",
    "\n",
    "!cat ai202209_s07_39.py"
   ]
  },
  {
   "cell_type": "code",
   "execution_count": null,
   "id": "eb0eef16-909e-4663-9e67-c0477878abef",
   "metadata": {},
   "outputs": [],
   "source": [
    "# run this cell to execute the script #\n",
    "\n",
    "!python3.9 ai202209_s07_39.py"
   ]
  },
  {
   "cell_type": "markdown",
   "id": "6a2c67a8-4a8f-4b97-8199-025c5035d6fe",
   "metadata": {},
   "source": [
    "# Sample script 40 #"
   ]
  },
  {
   "cell_type": "code",
   "execution_count": null,
   "id": "2df09fa2-2be4-4d8a-83f4-bb5a93e61be6",
   "metadata": {},
   "outputs": [],
   "source": [
    "# run this cell to show the source code #\n",
    "\n",
    "!cat ai202209_s07_40.py"
   ]
  },
  {
   "cell_type": "code",
   "execution_count": null,
   "id": "46a4ff60-80f0-4020-8096-85b34f01bbd3",
   "metadata": {},
   "outputs": [],
   "source": [
    "# run this cell to execute the script #\n",
    "\n",
    "!python3.9 ai202209_s07_40.py"
   ]
  },
  {
   "cell_type": "markdown",
   "id": "f199ec00-7608-4e6c-93d7-6ea7973b1e5e",
   "metadata": {},
   "source": [
    "# Sample script 41 #"
   ]
  },
  {
   "cell_type": "code",
   "execution_count": null,
   "id": "73991d97-0206-4e84-aef8-fb821c154a5f",
   "metadata": {},
   "outputs": [],
   "source": [
    "# run this cell to show the source code #\n",
    "\n",
    "!cat ai202209_s07_41.py"
   ]
  },
  {
   "cell_type": "code",
   "execution_count": null,
   "id": "80cbdc3d-3ae1-4976-9c4e-1abb2fabe9f7",
   "metadata": {},
   "outputs": [],
   "source": [
    "# run this cell to execute the script #\n",
    "\n",
    "!python3.9 ai202209_s07_41.py"
   ]
  },
  {
   "cell_type": "markdown",
   "id": "70b54a65-c3ed-4b44-a7de-77d7ebab7e5f",
   "metadata": {},
   "source": [
    "# Sample script 41 #"
   ]
  },
  {
   "cell_type": "code",
   "execution_count": null,
   "id": "e18034c3-c8b6-48dc-98d1-defccc17011b",
   "metadata": {},
   "outputs": [],
   "source": [
    "# run this cell to show the source code #\n",
    "\n",
    "!cat ai202209_s07_41.py"
   ]
  },
  {
   "cell_type": "code",
   "execution_count": null,
   "id": "56ef4926-de58-4c17-914c-b85364110203",
   "metadata": {},
   "outputs": [],
   "source": [
    "# run this cell to execute the script #\n",
    "\n",
    "!python3.9 ai202209_s07_41.py"
   ]
  },
  {
   "cell_type": "markdown",
   "id": "4a59ffa8-fc4a-4be1-abcc-39fa977c2960",
   "metadata": {},
   "source": [
    "# Sample script 42 #"
   ]
  },
  {
   "cell_type": "code",
   "execution_count": null,
   "id": "c9f4068e-94bd-467f-a7dc-5efc35eacea6",
   "metadata": {},
   "outputs": [],
   "source": [
    "# run this cell to show the source code #\n",
    "\n",
    "!cat ai202209_s07_42.py"
   ]
  },
  {
   "cell_type": "code",
   "execution_count": null,
   "id": "1513ad7c-7c22-48a9-ac5d-dc9d8885ca06",
   "metadata": {},
   "outputs": [],
   "source": [
    "# run this cell to execute the script #\n",
    "\n",
    "!python3.9 ai202209_s07_42.py"
   ]
  },
  {
   "cell_type": "markdown",
   "id": "4e5791dd-b9c1-4326-afa5-04a02c4036ff",
   "metadata": {},
   "source": [
    "# Sample script 43 #"
   ]
  },
  {
   "cell_type": "code",
   "execution_count": null,
   "id": "8ae3e180-7624-43d1-917c-dc1e03a50b32",
   "metadata": {},
   "outputs": [],
   "source": [
    "# run this cell to show the source code #\n",
    "\n",
    "!cat ai202209_s07_43.py"
   ]
  },
  {
   "cell_type": "code",
   "execution_count": null,
   "id": "31e63187-2621-46f3-b37a-4bf1d56722d7",
   "metadata": {},
   "outputs": [],
   "source": [
    "# run this cell to execute the script #\n",
    "\n",
    "!python3.9 ai202209_s07_43.py"
   ]
  },
  {
   "cell_type": "markdown",
   "id": "54614b33-50a6-4c9c-a6c8-90b0fa1c2106",
   "metadata": {},
   "source": [
    "# Sample script 44 #"
   ]
  },
  {
   "cell_type": "code",
   "execution_count": null,
   "id": "570948b1-6887-41d8-bf0f-f02794de33ce",
   "metadata": {},
   "outputs": [],
   "source": [
    "# run this cell to show the source code #\n",
    "\n",
    "!cat ai202209_s07_44.py"
   ]
  },
  {
   "cell_type": "code",
   "execution_count": null,
   "id": "3f5ba9d6-b65d-4ab8-892c-28b93e6d4b5d",
   "metadata": {},
   "outputs": [],
   "source": [
    "# run this cell to execute the script #\n",
    "\n",
    "!python3.9 ai202209_s07_44.py"
   ]
  },
  {
   "cell_type": "markdown",
   "id": "0199ba82-da8f-449b-b530-ee72c2fcc6fa",
   "metadata": {},
   "source": [
    "# Sample script 45 #"
   ]
  },
  {
   "cell_type": "code",
   "execution_count": null,
   "id": "69930d3a-f2cb-4a56-a036-36fecfa340bf",
   "metadata": {},
   "outputs": [],
   "source": [
    "# run this cell to show the source code #\n",
    "\n",
    "!cat ai202209_s07_45.py"
   ]
  },
  {
   "cell_type": "code",
   "execution_count": null,
   "id": "f815a3a0-cd42-4195-8ba1-8799b3150092",
   "metadata": {},
   "outputs": [],
   "source": [
    "# run this cell to execute the script #\n",
    "\n",
    "!python3.9 ai202209_s07_45.py"
   ]
  },
  {
   "cell_type": "markdown",
   "id": "67771371-2610-4dbd-be59-479fb9283ec8",
   "metadata": {},
   "source": [
    "# Sample script 46 #"
   ]
  },
  {
   "cell_type": "code",
   "execution_count": null,
   "id": "d8d3f336-ca4a-4763-81ee-b9d8aa3ba207",
   "metadata": {},
   "outputs": [],
   "source": [
    "# run this cell to show the source code #\n",
    "\n",
    "!cat ai202209_s07_46.py"
   ]
  },
  {
   "cell_type": "code",
   "execution_count": null,
   "id": "75557eea-a949-4cd3-9381-0dad9f528b6a",
   "metadata": {},
   "outputs": [],
   "source": [
    "# run this cell to execute the script #\n",
    "\n",
    "!python3.9 ai202209_s07_46.py"
   ]
  },
  {
   "cell_type": "markdown",
   "id": "e59467c1-8674-4169-ab16-493ae6f0632d",
   "metadata": {},
   "source": [
    "# Sample script 47 #"
   ]
  },
  {
   "cell_type": "code",
   "execution_count": null,
   "id": "1f405092-6acc-412b-860d-3baaada4c545",
   "metadata": {},
   "outputs": [],
   "source": [
    "# run this cell to show the source code #\n",
    "\n",
    "!cat ai202209_s07_47.py"
   ]
  },
  {
   "cell_type": "code",
   "execution_count": null,
   "id": "45f27470-a99e-4cb4-be7c-4e682ae73039",
   "metadata": {},
   "outputs": [],
   "source": [
    "# run this cell to execute the script #\n",
    "\n",
    "!python3.9 ai202209_s07_47.py"
   ]
  },
  {
   "cell_type": "markdown",
   "id": "c1571aac-2c78-489a-9208-d44ccb399a75",
   "metadata": {},
   "source": [
    "# Sample script 48 #"
   ]
  },
  {
   "cell_type": "code",
   "execution_count": null,
   "id": "c0cf1149-68b8-469f-a1a8-47abd5d4b403",
   "metadata": {},
   "outputs": [],
   "source": [
    "# run this cell to show the source code #\n",
    "\n",
    "!cat ai202209_s07_48.py"
   ]
  },
  {
   "cell_type": "code",
   "execution_count": null,
   "id": "0f7e0d79-0846-4346-a567-13814a40f82e",
   "metadata": {},
   "outputs": [],
   "source": [
    "# run this cell to execute the script #\n",
    "\n",
    "!python3.9 ai202209_s07_48.py"
   ]
  },
  {
   "cell_type": "markdown",
   "id": "8d8dd029-00c0-4d4a-9ed1-416bc1d70a88",
   "metadata": {},
   "source": [
    "# Sample script 49 #"
   ]
  },
  {
   "cell_type": "code",
   "execution_count": null,
   "id": "90740dbf-124a-4ac8-9b71-6f9c54fe19f5",
   "metadata": {},
   "outputs": [],
   "source": [
    "# run this cell to show the source code #\n",
    "\n",
    "!cat ai202209_s07_49.py"
   ]
  },
  {
   "cell_type": "code",
   "execution_count": null,
   "id": "9e85d34a-f8d5-4d68-a276-345d93b55202",
   "metadata": {},
   "outputs": [],
   "source": [
    "# run this cell to execute the script #\n",
    "\n",
    "!python3.9 ai202209_s07_49.py"
   ]
  },
  {
   "cell_type": "markdown",
   "id": "6a09ff2c-453b-492c-981d-5c73b2cb1b23",
   "metadata": {},
   "source": [
    "# Sample script 50 #"
   ]
  },
  {
   "cell_type": "code",
   "execution_count": null,
   "id": "590022c0-c8ff-4766-9fb4-813eb4da9b31",
   "metadata": {},
   "outputs": [],
   "source": [
    "# run this cell to show the source code #\n",
    "\n",
    "!cat ai202209_s07_50.py"
   ]
  },
  {
   "cell_type": "code",
   "execution_count": null,
   "id": "a3d51307-2bfa-49ad-9330-5e04fbdf46c2",
   "metadata": {},
   "outputs": [],
   "source": [
    "# run this cell to execute the script #\n",
    "\n",
    "!python3.9 ai202209_s07_50.py"
   ]
  },
  {
   "cell_type": "markdown",
   "id": "44e989aa-3698-4436-8a8b-8c181d66e5e2",
   "metadata": {},
   "source": [
    "# Sample script 51 #"
   ]
  },
  {
   "cell_type": "code",
   "execution_count": null,
   "id": "d7820aee-b254-4abf-8c88-a66ee93369a3",
   "metadata": {},
   "outputs": [],
   "source": [
    "# run this cell to show the source code #\n",
    "\n",
    "!cat ai202209_s07_51.py"
   ]
  },
  {
   "cell_type": "code",
   "execution_count": null,
   "id": "05654f45-947c-4700-9b51-2414435ca10b",
   "metadata": {},
   "outputs": [],
   "source": [
    "# run this cell to execute the script #\n",
    "\n",
    "!python3.9 ai202209_s07_51.py"
   ]
  },
  {
   "cell_type": "markdown",
   "id": "c1b111dc-6aea-442e-af84-3dd362b0bed8",
   "metadata": {},
   "source": [
    "# Sample script 52 #"
   ]
  },
  {
   "cell_type": "code",
   "execution_count": null,
   "id": "a2b6e57c-c218-4c57-92bc-b3b600024124",
   "metadata": {},
   "outputs": [],
   "source": [
    "# run this cell to show the source code #\n",
    "\n",
    "!cat ai202209_s07_52.py"
   ]
  },
  {
   "cell_type": "code",
   "execution_count": null,
   "id": "b03daff4-da21-4301-9476-bea0eefe43af",
   "metadata": {},
   "outputs": [],
   "source": [
    "# run this cell to execute the script #\n",
    "\n",
    "!python3.9 ai202209_s07_52.py"
   ]
  },
  {
   "cell_type": "markdown",
   "id": "19e156a4-74c5-4606-b1ba-9153c0efb65d",
   "metadata": {},
   "source": [
    "# Sample script 53 #"
   ]
  },
  {
   "cell_type": "code",
   "execution_count": null,
   "id": "df807167-9f23-4a5e-bc57-2f65fd73fdf0",
   "metadata": {},
   "outputs": [],
   "source": [
    "# run this cell to show the source code #\n",
    "\n",
    "!cat ai202209_s07_53.py"
   ]
  },
  {
   "cell_type": "code",
   "execution_count": null,
   "id": "39aca7e8-1fb9-4e3e-92af-a60d36868cf9",
   "metadata": {},
   "outputs": [],
   "source": [
    "# run this cell to execute the script #\n",
    "\n",
    "!python3.9 ai202209_s07_53.py"
   ]
  },
  {
   "cell_type": "markdown",
   "id": "8a33430e-c382-438f-9446-8bdee81bcab6",
   "metadata": {},
   "source": [
    "# Sample script 54 #"
   ]
  },
  {
   "cell_type": "code",
   "execution_count": null,
   "id": "9101d098-a6e5-4aa7-99e9-011dbd7954f2",
   "metadata": {},
   "outputs": [],
   "source": [
    "# run this cell to show the source code #\n",
    "\n",
    "!cat ai202209_s07_54.py"
   ]
  },
  {
   "cell_type": "code",
   "execution_count": null,
   "id": "e925c83c-82e4-4613-983c-82858d654726",
   "metadata": {},
   "outputs": [],
   "source": [
    "# run this cell to execute the script #\n",
    "\n",
    "!python3.9 ai202209_s07_54.py"
   ]
  },
  {
   "cell_type": "markdown",
   "id": "553aaa0f-f35c-450a-a349-848efe4f958d",
   "metadata": {},
   "source": [
    "# Sample script 55 #"
   ]
  },
  {
   "cell_type": "code",
   "execution_count": null,
   "id": "b214e201-db3f-43d4-816c-e669ab35251e",
   "metadata": {},
   "outputs": [],
   "source": [
    "# run this cell to show the source code #\n",
    "\n",
    "!cat ai202209_s07_55.py"
   ]
  },
  {
   "cell_type": "code",
   "execution_count": null,
   "id": "2aeb4d5d-a16b-4218-bb26-e0d8c8bf31ff",
   "metadata": {},
   "outputs": [],
   "source": [
    "# run this cell to execute the script #\n",
    "\n",
    "!python3.9 ai202209_s07_55.py"
   ]
  },
  {
   "cell_type": "markdown",
   "id": "3bacb9bf-5169-42ce-9405-94462e0d8ef2",
   "metadata": {},
   "source": [
    "# Sample script 56 #"
   ]
  },
  {
   "cell_type": "code",
   "execution_count": null,
   "id": "44d8226c-6d7e-4572-97e4-5de2ebceb069",
   "metadata": {},
   "outputs": [],
   "source": [
    "# run this cell to show the source code #\n",
    "\n",
    "!cat ai202209_s07_56.py"
   ]
  },
  {
   "cell_type": "code",
   "execution_count": null,
   "id": "0cd23171-45dc-4526-af1b-b896dad551d1",
   "metadata": {},
   "outputs": [],
   "source": [
    "# run this cell to execute the script #\n",
    "\n",
    "!python3.9 ai202209_s07_56.py"
   ]
  },
  {
   "cell_type": "markdown",
   "id": "9d8eddd8-3c3d-4bcc-99b6-684f2bd1c396",
   "metadata": {},
   "source": [
    "# Sample script 57 #"
   ]
  },
  {
   "cell_type": "code",
   "execution_count": null,
   "id": "6374d1a1-74df-41b2-8690-da0fde280f5b",
   "metadata": {},
   "outputs": [],
   "source": [
    "# run this cell to show the source code #\n",
    "\n",
    "!cat ai202209_s07_57.py"
   ]
  },
  {
   "cell_type": "code",
   "execution_count": null,
   "id": "3d4f8e49-211b-4a5e-a56d-01404a20ca1d",
   "metadata": {},
   "outputs": [],
   "source": [
    "# run this cell to execute the script #\n",
    "\n",
    "!python3.9 ai202209_s07_57.py"
   ]
  },
  {
   "cell_type": "markdown",
   "id": "49a77467-39d0-4e33-90d6-d5f5cf33dec9",
   "metadata": {},
   "source": [
    "# Sample script 58 #"
   ]
  },
  {
   "cell_type": "code",
   "execution_count": null,
   "id": "da620b2d-af5e-4231-a901-9b9ff885ec0b",
   "metadata": {},
   "outputs": [],
   "source": [
    "# run this cell to show the source code #\n",
    "\n",
    "!cat ai202209_s07_58.py"
   ]
  },
  {
   "cell_type": "code",
   "execution_count": null,
   "id": "a5bad8c0-18f2-4667-a600-f6f57658577b",
   "metadata": {},
   "outputs": [],
   "source": [
    "# run this cell to execute the script #\n",
    "\n",
    "!python3.9 ai202209_s07_58.py"
   ]
  },
  {
   "cell_type": "markdown",
   "id": "c05f5ec5-1788-4c03-ad26-cb03a96a0864",
   "metadata": {},
   "source": [
    "# Sample script 59 #"
   ]
  },
  {
   "cell_type": "code",
   "execution_count": null,
   "id": "880baefd-ee19-40ec-9fb0-e5d42e9913c6",
   "metadata": {},
   "outputs": [],
   "source": [
    "# run this cell to show the source code #\n",
    "\n",
    "!cat ai202209_s07_59.py"
   ]
  },
  {
   "cell_type": "code",
   "execution_count": null,
   "id": "e3f1f51a-83e9-42a4-b5e0-c5ff7b6a8255",
   "metadata": {},
   "outputs": [],
   "source": [
    "# run this cell to execute the script #\n",
    "\n",
    "!python3.9 ai202209_s07_59.py"
   ]
  },
  {
   "cell_type": "markdown",
   "id": "e2159ecc-9f54-4314-86a8-14bba6ef7bed",
   "metadata": {},
   "source": [
    "# Sample script 60 #"
   ]
  },
  {
   "cell_type": "code",
   "execution_count": null,
   "id": "f95a5cd0-bf32-446f-9b88-8170a7149a57",
   "metadata": {},
   "outputs": [],
   "source": [
    "# run this cell to show the source code #\n",
    "\n",
    "!cat ai202209_s07_60.py"
   ]
  },
  {
   "cell_type": "code",
   "execution_count": null,
   "id": "b5743c67-e588-4342-8988-4ebf138f13bb",
   "metadata": {},
   "outputs": [],
   "source": [
    "# run this cell to execute the script #\n",
    "\n",
    "!python3.9 ai202209_s07_60.py"
   ]
  },
  {
   "cell_type": "markdown",
   "id": "d61bb603-ab97-4e2b-a3dc-ae1f2c8140c3",
   "metadata": {},
   "source": [
    "# Sample script 61 #"
   ]
  },
  {
   "cell_type": "code",
   "execution_count": null,
   "id": "79ba146c-3396-4e83-8e32-7d92cb9aa1ba",
   "metadata": {},
   "outputs": [],
   "source": [
    "# run this cell to show the source code #\n",
    "\n",
    "!cat ai202209_s07_61.py"
   ]
  },
  {
   "cell_type": "code",
   "execution_count": null,
   "id": "c9f8ff5e-667f-42a1-b8d2-795ff318cf2c",
   "metadata": {},
   "outputs": [],
   "source": [
    "# run this cell to execute the script #\n",
    "\n",
    "!python3.9 ai202209_s07_61.py"
   ]
  },
  {
   "cell_type": "markdown",
   "id": "10b3c879-c6bd-49b0-86b4-cd2e14276aa6",
   "metadata": {},
   "source": [
    "# Sample script 62 #"
   ]
  },
  {
   "cell_type": "code",
   "execution_count": null,
   "id": "9b9f6d24-3cf8-42ef-a1df-c0a4a1a0d671",
   "metadata": {},
   "outputs": [],
   "source": [
    "# run this cell to show the source code #\n",
    "\n",
    "!cat ai202209_s07_62.py"
   ]
  },
  {
   "cell_type": "code",
   "execution_count": null,
   "id": "340fce13-c190-4798-9c12-033268df8964",
   "metadata": {},
   "outputs": [],
   "source": [
    "# run this cell to execute the script #\n",
    "\n",
    "!python3.9 ai202209_s07_62.py"
   ]
  },
  {
   "cell_type": "markdown",
   "id": "45bbaa24-5307-4237-b666-8c7ca95e5e99",
   "metadata": {},
   "source": [
    "# Sample script 63 #"
   ]
  },
  {
   "cell_type": "code",
   "execution_count": null,
   "id": "b0802224-3bbd-432c-8508-a5aedcb62b21",
   "metadata": {},
   "outputs": [],
   "source": [
    "# run this cell to show the source code #\n",
    "\n",
    "!cat ai202209_s07_63.py"
   ]
  },
  {
   "cell_type": "code",
   "execution_count": null,
   "id": "37c1a05e-ae7f-4790-884b-ccb8dbdf72e8",
   "metadata": {},
   "outputs": [],
   "source": [
    "# run this cell to execute the script #\n",
    "\n",
    "!python3.9 ai202209_s07_63.py"
   ]
  },
  {
   "cell_type": "markdown",
   "id": "5dd66067-28be-4478-9b76-69be9fb6654d",
   "metadata": {},
   "source": [
    "# Sample script 64 #"
   ]
  },
  {
   "cell_type": "code",
   "execution_count": null,
   "id": "9d81c2f1-414a-4086-9060-2cfd550dc99f",
   "metadata": {},
   "outputs": [],
   "source": [
    "# run this cell to show the source code #\n",
    "\n",
    "!cat ai202209_s07_64.py"
   ]
  },
  {
   "cell_type": "code",
   "execution_count": null,
   "id": "209c827d-5aad-4a00-8a75-9564e375fc09",
   "metadata": {},
   "outputs": [],
   "source": [
    "# run this cell to execute the script #\n",
    "\n",
    "!python3.9 ai202209_s07_64.py"
   ]
  },
  {
   "cell_type": "markdown",
   "id": "823ecd19-fe21-4d8d-9541-85e7f341054c",
   "metadata": {},
   "source": [
    "# Sample script 65 #"
   ]
  },
  {
   "cell_type": "code",
   "execution_count": null,
   "id": "50730623-4349-43bd-b55f-f70086257fb6",
   "metadata": {},
   "outputs": [],
   "source": [
    "# run this cell to show the source code #\n",
    "\n",
    "!cat ai202209_s07_65.py"
   ]
  },
  {
   "cell_type": "code",
   "execution_count": null,
   "id": "941dabdc-46c4-44b0-bf11-d2a429f1dc76",
   "metadata": {},
   "outputs": [],
   "source": [
    "# run this cell to execute the script #\n",
    "\n",
    "!python3.9 ai202209_s07_65.py"
   ]
  },
  {
   "cell_type": "markdown",
   "id": "74c482f7-79a5-4f94-8060-03ad09228685",
   "metadata": {},
   "source": [
    "# Sample script 66 #"
   ]
  },
  {
   "cell_type": "code",
   "execution_count": null,
   "id": "88a43b28-4e4f-4bc4-b688-dfa668a7fc40",
   "metadata": {},
   "outputs": [],
   "source": [
    "# run this cell to show the source code #\n",
    "\n",
    "!cat ai202209_s07_66.py"
   ]
  },
  {
   "cell_type": "code",
   "execution_count": null,
   "id": "3c96a628-6c37-4b6d-ad5e-09d05da363b6",
   "metadata": {},
   "outputs": [],
   "source": [
    "# run this cell to execute the script #\n",
    "\n",
    "!python3.9 ai202209_s07_66.py"
   ]
  },
  {
   "cell_type": "markdown",
   "id": "6ec72277-c131-44d1-a26f-d7130100d952",
   "metadata": {},
   "source": [
    "# Sample script 67 #"
   ]
  },
  {
   "cell_type": "code",
   "execution_count": null,
   "id": "d3a75380-f633-4327-8151-3ecb6c131746",
   "metadata": {},
   "outputs": [],
   "source": [
    "# run this cell to show the source code #\n",
    "\n",
    "!cat ai202209_s07_67.py"
   ]
  },
  {
   "cell_type": "code",
   "execution_count": null,
   "id": "6696d1ea-43ca-4255-b6cb-290d19311181",
   "metadata": {},
   "outputs": [],
   "source": [
    "# run this cell to execute the script #\n",
    "\n",
    "!python3.9 ai202209_s07_67.py"
   ]
  },
  {
   "cell_type": "code",
   "execution_count": null,
   "id": "46f0026b-5ae3-4265-9ecd-50c2ebc841b9",
   "metadata": {},
   "outputs": [],
   "source": [
    "# run this cell to display image #\n",
    "\n",
    "import IPython.display\n",
    "\n",
    "IPython.display.Image ('m3.png')"
   ]
  },
  {
   "cell_type": "markdown",
   "id": "061e7f63-9372-47c3-ad51-8e40b27eb0a7",
   "metadata": {},
   "source": [
    "# Sample script 68 #"
   ]
  },
  {
   "cell_type": "code",
   "execution_count": null,
   "id": "ed162b05-82d3-41bd-b18c-602285b0073d",
   "metadata": {},
   "outputs": [],
   "source": [
    "# run this cell to show the source code #\n",
    "\n",
    "!cat ai202209_s07_68.py"
   ]
  },
  {
   "cell_type": "code",
   "execution_count": null,
   "id": "7479a785-0f98-4757-aff6-572fa0adfb45",
   "metadata": {},
   "outputs": [],
   "source": [
    "# run this cell to execute the script #\n",
    "\n",
    "!python3.9 ai202209_s07_68.py"
   ]
  },
  {
   "cell_type": "code",
   "execution_count": null,
   "id": "842aa94a-302f-45a1-9b96-808ce7f6065f",
   "metadata": {},
   "outputs": [],
   "source": [
    "# run this cell to display image #\n",
    "\n",
    "import IPython.display\n",
    "\n",
    "IPython.display.Image ('m3_inferno.png')"
   ]
  },
  {
   "cell_type": "markdown",
   "id": "2c5788b0-2f24-4ba9-8a85-0922976a2031",
   "metadata": {},
   "source": [
    "# Sample script 69 #"
   ]
  },
  {
   "cell_type": "code",
   "execution_count": null,
   "id": "d7b25627-4f0f-4078-82ae-0894a770e635",
   "metadata": {},
   "outputs": [],
   "source": [
    "# run this cell to show the source code #\n",
    "\n",
    "!cat ai202209_s07_69.py"
   ]
  },
  {
   "cell_type": "code",
   "execution_count": null,
   "id": "0bdfecd3-7183-4b29-9ee1-86fc5f5ee847",
   "metadata": {},
   "outputs": [],
   "source": [
    "# run this cell to execute the script #\n",
    "\n",
    "!python3.9 ai202209_s07_69.py"
   ]
  },
  {
   "cell_type": "code",
   "execution_count": null,
   "id": "f2122b7e-0bf6-47c7-a6c5-83afdfda1e15",
   "metadata": {},
   "outputs": [],
   "source": [
    "# run this cell to display image #\n",
    "\n",
    "import IPython.display\n",
    "\n",
    "IPython.display.Image ('m66.png')"
   ]
  },
  {
   "cell_type": "markdown",
   "id": "d10328b4-c98d-45df-8b35-c4c90b0a88e5",
   "metadata": {},
   "source": [
    "# Sample script 70 #"
   ]
  },
  {
   "cell_type": "code",
   "execution_count": null,
   "id": "460bf008-fadd-4fe8-987f-c2db838b1b58",
   "metadata": {},
   "outputs": [],
   "source": [
    "# run this cell to show the source code #\n",
    "\n",
    "!cat ai202209_s07_70.py"
   ]
  },
  {
   "cell_type": "code",
   "execution_count": null,
   "id": "4e521b6d-2f3c-481c-a68a-188b5f137bce",
   "metadata": {},
   "outputs": [],
   "source": [
    "# run this cell to execute the script #\n",
    "\n",
    "!python3.9 ai202209_s07_70.py"
   ]
  },
  {
   "cell_type": "code",
   "execution_count": null,
   "id": "2c62fe8a-1b62-4100-8ac4-21e0ac696e1e",
   "metadata": {},
   "outputs": [],
   "source": [
    "# run this cell to display image #\n",
    "\n",
    "import IPython.display\n",
    "\n",
    "IPython.display.Image ('m57.png')"
   ]
  },
  {
   "cell_type": "markdown",
   "id": "251ae0dd-60cd-4e40-97fb-b584c9f478fc",
   "metadata": {},
   "source": [
    "# Sample script 71 #"
   ]
  },
  {
   "cell_type": "code",
   "execution_count": null,
   "id": "852eece0-3aaa-4f50-ae84-a00a76084670",
   "metadata": {},
   "outputs": [],
   "source": [
    "# run this cell to show the source code #\n",
    "\n",
    "!cat ai202209_s07_71.py"
   ]
  },
  {
   "cell_type": "code",
   "execution_count": null,
   "id": "91b354f9-963a-45e0-b7d7-a7d3694c1e18",
   "metadata": {},
   "outputs": [],
   "source": [
    "# run this cell to execute the script #\n",
    "\n",
    "!python3.9 ai202209_s07_71.py"
   ]
  },
  {
   "cell_type": "code",
   "execution_count": null,
   "id": "712591aa-d00f-451b-ab5b-60fdb281ff91",
   "metadata": {},
   "outputs": [],
   "source": [
    "# run this cell to display image #\n",
    "\n",
    "import IPython.display\n",
    "\n",
    "IPython.display.Image ('m57_norm1.png')"
   ]
  },
  {
   "cell_type": "markdown",
   "id": "cf6ff9ac-f7dc-43ee-b94a-10d765d94fbd",
   "metadata": {},
   "source": [
    "# Sample script 72 #"
   ]
  },
  {
   "cell_type": "code",
   "execution_count": null,
   "id": "e11fe308-5745-48b7-b46a-aba96de4641d",
   "metadata": {},
   "outputs": [],
   "source": [
    "# run this cell to show the source code #\n",
    "\n",
    "!cat ai202209_s07_72.py"
   ]
  },
  {
   "cell_type": "code",
   "execution_count": null,
   "id": "84bb7ec5-88ea-4f38-8d60-c153a78379ec",
   "metadata": {},
   "outputs": [],
   "source": [
    "# run this cell to execute the script #\n",
    "\n",
    "!python3.9 ai202209_s07_72.py"
   ]
  },
  {
   "cell_type": "code",
   "execution_count": null,
   "id": "86d70606-8f0d-4ce5-8df6-1385a7981233",
   "metadata": {},
   "outputs": [],
   "source": [
    "# run this cell to display image #\n",
    "\n",
    "import IPython.display\n",
    "\n",
    "IPython.display.Image ('horsehead.png')"
   ]
  },
  {
   "cell_type": "markdown",
   "id": "d34add0f-79b5-48a0-9f52-f0654dd9b3f0",
   "metadata": {},
   "source": [
    "# end of the notebook #"
   ]
  },
  {
   "cell_type": "code",
   "execution_count": null,
   "id": "15b08d5b-c97e-45f6-816c-f9572aea8513",
   "metadata": {},
   "outputs": [],
   "source": []
  }
 ],
 "metadata": {
  "kernelspec": {
   "display_name": "Python 3 (ipykernel)",
   "language": "python",
   "name": "python3"
  },
  "language_info": {
   "codemirror_mode": {
    "name": "ipython",
    "version": 3
   },
   "file_extension": ".py",
   "mimetype": "text/x-python",
   "name": "python",
   "nbconvert_exporter": "python",
   "pygments_lexer": "ipython3",
   "version": "3.9.13"
  }
 },
 "nbformat": 4,
 "nbformat_minor": 5
}
