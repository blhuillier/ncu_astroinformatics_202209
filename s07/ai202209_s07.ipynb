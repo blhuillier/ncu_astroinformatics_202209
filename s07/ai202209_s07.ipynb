{
 "cells": [
  {
   "cell_type": "markdown",
   "id": "527bf7c3-828b-44e9-8d8d-2a9bc4732b76",
   "metadata": {},
   "source": [
    "# Session 07 of Astroinformatics (first semester, academic year 2022) #\n",
    "\n",
    "- About the course\n",
    "    - course name: \"Astroinformatics\"\n",
    "    - semester: from Sep/2022 to Jan/2023\n",
    "    - lecture hours: from 09:00 to 12:00\n",
    "    - classroom: S4-914\n",
    "    - instructor: Kinoshita Daisuke\n",
    "    - course web page: https://s3b.astro.ncu.edu.tw/ai_202209/\n",
    "    - GitHub repository: https://github.com/kinoshitadaisuke/ncu_astroinformatics_202209\n",
    "    - Binder web page: https://mybinder.org/v2/gh/kinoshitadaisuke/ncu_astroinformatics_202209/HEAD"
   ]
  },
  {
   "cell_type": "markdown",
   "id": "57ed5cc3-2d49-4c16-bd14-feb937647071",
   "metadata": {},
   "source": [
    "## About this notebook ##\n",
    "\n",
    "This is a notebook for the __session 07__ of \"Astroinformatics\" at first semester of academic year 2022.\n",
    "\n",
    "This notebook contains sample Python scripts only.\n",
    "\n",
    "The lecture note is provided at the course web page.\n",
    "\n",
    "To download the lecture note, visit following web page.\n",
    "\n",
    "https://s3b.astro.ncu.edu.tw/ai_202209/\n",
    "\n",
    "Note that the lecture note can be downloaded only from computers/mobile phones connected to the computer network of our university.\n",
    "\n",
    "Connect to Wi-Fi of our university or use VPN service of our university to download the lecture note.\n",
    "\n",
    "If you have any question about this notebook, contact to Kinoshita Daisuke."
   ]
  },
  {
   "cell_type": "markdown",
   "id": "cd9d5212-7c84-4db3-86ec-2cb84fd173b2",
   "metadata": {},
   "source": [
    "# Sample script 00 #"
   ]
  },
  {
   "cell_type": "code",
   "execution_count": null,
   "id": "ddc97dd4-3762-4b71-8378-3ef4e38e310c",
   "metadata": {},
   "outputs": [],
   "source": [
    "# run this cell to show the source code #\n",
    "\n",
    "!cat ai202209_s07_00.py"
   ]
  },
  {
   "cell_type": "code",
   "execution_count": null,
   "id": "5557c41c-dd16-4d7c-a6f1-61dfebeb54b8",
   "metadata": {},
   "outputs": [],
   "source": [
    "# run this cell to execute the script #\n",
    "\n",
    "!python3.9 ai202209_s07_00.py"
   ]
  },
  {
   "cell_type": "markdown",
   "id": "4a13f794-f32e-4752-ac4b-f078e22c08a7",
   "metadata": {},
   "source": [
    "# Sample script 01 #"
   ]
  },
  {
   "cell_type": "code",
   "execution_count": null,
   "id": "26c93ba3-0862-4491-af6f-82893d355e49",
   "metadata": {},
   "outputs": [],
   "source": [
    "# run this cell to show the source code #\n",
    "\n",
    "!cat ai202209_s07_01.py"
   ]
  },
  {
   "cell_type": "code",
   "execution_count": null,
   "id": "ef01b597-b52c-4cd0-9a9f-f82e2fb79164",
   "metadata": {},
   "outputs": [],
   "source": [
    "# run this cell to execute the script #\n",
    "\n",
    "!python3.9 ai202209_s07_01.py"
   ]
  },
  {
   "cell_type": "markdown",
   "id": "37e10155-eacb-4652-a07b-3317aced45fc",
   "metadata": {},
   "source": [
    "# Sample script 02 #"
   ]
  },
  {
   "cell_type": "code",
   "execution_count": null,
   "id": "34f3d7e1-006c-460c-bbc8-39b444735e69",
   "metadata": {},
   "outputs": [],
   "source": [
    "# run this cell to show the source code #\n",
    "\n",
    "!cat ai202209_s07_02.py"
   ]
  },
  {
   "cell_type": "code",
   "execution_count": null,
   "id": "31a76995-50a4-4883-991c-5779707e6a39",
   "metadata": {},
   "outputs": [],
   "source": [
    "# run this cell to execute the script #\n",
    "\n",
    "!python3.9 ai202209_s07_02.py"
   ]
  },
  {
   "cell_type": "markdown",
   "id": "465e9fd1-27e9-41f6-b228-fd0a22efb48c",
   "metadata": {},
   "source": [
    "# Sample script 03 #"
   ]
  },
  {
   "cell_type": "code",
   "execution_count": null,
   "id": "24ce1fac-eb9b-4d99-9728-a6cc96672bc5",
   "metadata": {},
   "outputs": [],
   "source": [
    "# run this cell to show the source code #\n",
    "\n",
    "!cat ai202209_s07_03.py"
   ]
  },
  {
   "cell_type": "code",
   "execution_count": null,
   "id": "37e10a46-f044-452c-95cf-c1ce9708ace8",
   "metadata": {},
   "outputs": [],
   "source": [
    "# run this cell to execute the script #\n",
    "\n",
    "!python3.9 ai202209_s07_03.py"
   ]
  },
  {
   "cell_type": "markdown",
   "id": "31726731-b707-4c59-bafa-cda4c062d1c0",
   "metadata": {},
   "source": [
    "# Sample script 04 #"
   ]
  },
  {
   "cell_type": "code",
   "execution_count": null,
   "id": "bcc1fab6-d4c7-43f9-9531-4f3079c30c53",
   "metadata": {},
   "outputs": [],
   "source": [
    "# run this cell to show the source code #\n",
    "\n",
    "!cat ai202209_s07_04.py"
   ]
  },
  {
   "cell_type": "code",
   "execution_count": null,
   "id": "049db52b-e0bf-4e11-9f52-ebc1e9539a7d",
   "metadata": {},
   "outputs": [],
   "source": [
    "# run this cell to execute the script #\n",
    "\n",
    "!python3.9 ai202209_s07_04.py"
   ]
  },
  {
   "cell_type": "markdown",
   "id": "9ca52bc0-1d32-4ad1-acf5-04b06a53945c",
   "metadata": {},
   "source": [
    "# Sample script 05 #"
   ]
  },
  {
   "cell_type": "code",
   "execution_count": null,
   "id": "92cc2fae-64ae-48f6-b99a-ea0586e0c23e",
   "metadata": {},
   "outputs": [],
   "source": [
    "# run this cell to show the source code #\n",
    "\n",
    "!cat ai202209_s07_05.py"
   ]
  },
  {
   "cell_type": "code",
   "execution_count": null,
   "id": "d9c3ea46-f99e-49eb-b73f-fca155a26fa1",
   "metadata": {},
   "outputs": [],
   "source": [
    "# run this cell to execute the script #\n",
    "\n",
    "!python3.9 ai202209_s07_05.py"
   ]
  },
  {
   "cell_type": "markdown",
   "id": "ddaf2b30-4352-4cb2-afb7-0bfd2b7a5ca4",
   "metadata": {},
   "source": [
    "# Sample script 06 #"
   ]
  },
  {
   "cell_type": "code",
   "execution_count": null,
   "id": "a6823996-3a54-4302-b56f-06ef2ad77096",
   "metadata": {},
   "outputs": [],
   "source": [
    "# run this cell to show the source code #\n",
    "\n",
    "!cat ai202209_s07_06.py"
   ]
  },
  {
   "cell_type": "code",
   "execution_count": null,
   "id": "f62579d8-72a8-4c50-b5e8-ed394a0e9ce3",
   "metadata": {},
   "outputs": [],
   "source": [
    "# run this cell to execute the script #\n",
    "\n",
    "!python3.9 ai202209_s07_06.py"
   ]
  },
  {
   "cell_type": "markdown",
   "id": "2e152374-8ae8-4a45-ac10-b44abc2ed69c",
   "metadata": {},
   "source": [
    "# Sample script 07 #"
   ]
  },
  {
   "cell_type": "code",
   "execution_count": null,
   "id": "2be4999d-e758-4b64-bc0e-4b946b80595e",
   "metadata": {},
   "outputs": [],
   "source": [
    "# run this cell to show the source code #\n",
    "\n",
    "!cat ai202209_s07_07.py"
   ]
  },
  {
   "cell_type": "code",
   "execution_count": null,
   "id": "92f5c265-6ee4-4237-804a-4cf3e58e61bb",
   "metadata": {},
   "outputs": [],
   "source": [
    "# run this cell to execute the script #\n",
    "\n",
    "!python3.9 ai202209_s07_07.py"
   ]
  },
  {
   "cell_type": "markdown",
   "id": "d783cb09-c18a-4f13-b50b-73b4bd9ebc4c",
   "metadata": {},
   "source": [
    "# Sample script 08 #"
   ]
  },
  {
   "cell_type": "code",
   "execution_count": null,
   "id": "3e17eb67-b795-4193-bbe0-d7d923d3f221",
   "metadata": {},
   "outputs": [],
   "source": [
    "# run this cell to show the source code #\n",
    "\n",
    "!cat ai202209_s07_08.py"
   ]
  },
  {
   "cell_type": "code",
   "execution_count": null,
   "id": "053ec1ef-1050-4e9f-bf5a-fa913e3b5b31",
   "metadata": {},
   "outputs": [],
   "source": [
    "# run this cell to execute the script #\n",
    "\n",
    "!python3.9 ai202209_s07_08.py"
   ]
  },
  {
   "cell_type": "markdown",
   "id": "fb6e2aeb-4388-4729-8433-b181d2135bae",
   "metadata": {},
   "source": [
    "# Sample script 09 #"
   ]
  },
  {
   "cell_type": "code",
   "execution_count": null,
   "id": "bf464bdb-8f8f-442d-845d-93d0f36d7d7a",
   "metadata": {},
   "outputs": [],
   "source": [
    "# run this cell to show the source code #\n",
    "\n",
    "!cat ai202209_s07_09.py"
   ]
  },
  {
   "cell_type": "code",
   "execution_count": null,
   "id": "01556dfd-760b-4375-8700-61641483fcd2",
   "metadata": {},
   "outputs": [],
   "source": [
    "# run this cell to execute the script #\n",
    "\n",
    "!python3.9 ai202209_s07_09.py"
   ]
  },
  {
   "cell_type": "markdown",
   "id": "8a6f1c1a-d352-422f-b4ad-af3570cedd60",
   "metadata": {},
   "source": [
    "# Sample script 10 #"
   ]
  },
  {
   "cell_type": "code",
   "execution_count": null,
   "id": "65ea45ce-eb7a-4fea-b156-455c39ba81cc",
   "metadata": {},
   "outputs": [],
   "source": [
    "# run this cell to show the source code #\n",
    "\n",
    "!cat ai202209_s07_10.py"
   ]
  },
  {
   "cell_type": "code",
   "execution_count": null,
   "id": "c99630a5-b944-4846-ad84-1e92263957e1",
   "metadata": {},
   "outputs": [],
   "source": [
    "# run this cell to execute the script #\n",
    "\n",
    "!python3.9 ai202209_s07_10.py"
   ]
  },
  {
   "cell_type": "markdown",
   "id": "c2295f7e-b8aa-472c-bb70-f1fc71564060",
   "metadata": {},
   "source": [
    "# Sample script 11 #"
   ]
  },
  {
   "cell_type": "code",
   "execution_count": null,
   "id": "e5b355ec-e539-4ae2-abe7-62ae5612d5c5",
   "metadata": {},
   "outputs": [],
   "source": [
    "# run this cell to show the source code #\n",
    "\n",
    "!cat ai202209_s07_11.py"
   ]
  },
  {
   "cell_type": "code",
   "execution_count": null,
   "id": "5dd172d5-8168-4b82-9494-11af7f31aca3",
   "metadata": {},
   "outputs": [],
   "source": [
    "# run this cell to execute the script #\n",
    "\n",
    "!python3.9 ai202209_s07_11.py"
   ]
  },
  {
   "cell_type": "markdown",
   "id": "563a7e64-a032-43cb-b51f-8f63d0c25d8f",
   "metadata": {},
   "source": [
    "# Sample script 12 #"
   ]
  },
  {
   "cell_type": "code",
   "execution_count": null,
   "id": "203c7665-4bf7-4ffb-87ca-79b6ef84e3d5",
   "metadata": {},
   "outputs": [],
   "source": [
    "# run this cell to show the source code #\n",
    "\n",
    "!cat ai202209_s07_12.py"
   ]
  },
  {
   "cell_type": "code",
   "execution_count": null,
   "id": "a94cb3eb-f2b7-4793-b5d7-7d205793c1b9",
   "metadata": {},
   "outputs": [],
   "source": [
    "# run this cell to execute the script #\n",
    "\n",
    "!python3.9 ai202209_s07_12.py"
   ]
  },
  {
   "cell_type": "markdown",
   "id": "e9a95b79-e782-46ec-81bd-017633c895e2",
   "metadata": {},
   "source": [
    "# Sample script 13 #"
   ]
  },
  {
   "cell_type": "code",
   "execution_count": null,
   "id": "23785781-572c-4366-97d4-b7cad398ad51",
   "metadata": {},
   "outputs": [],
   "source": [
    "# run this cell to show the source code #\n",
    "\n",
    "!cat ai202209_s07_13.py"
   ]
  },
  {
   "cell_type": "code",
   "execution_count": null,
   "id": "eb0433cd-122e-44f6-a9b0-fe7e715ffcba",
   "metadata": {},
   "outputs": [],
   "source": [
    "# run this cell to execute the script #\n",
    "\n",
    "!python3.9 ai202209_s07_13.py"
   ]
  },
  {
   "cell_type": "markdown",
   "id": "5071efa4-9473-449f-ad10-2d9580682a26",
   "metadata": {},
   "source": [
    "# Sample script 14 #"
   ]
  },
  {
   "cell_type": "code",
   "execution_count": null,
   "id": "96f1197d-511e-4568-a086-1e9637fbb926",
   "metadata": {},
   "outputs": [],
   "source": [
    "# run this cell to show the source code #\n",
    "\n",
    "!cat ai202209_s07_14.py"
   ]
  },
  {
   "cell_type": "code",
   "execution_count": null,
   "id": "85cc1287-3095-4e3f-a6dc-c29ddbb0d4c7",
   "metadata": {},
   "outputs": [],
   "source": [
    "# run this cell to execute the script #\n",
    "\n",
    "!python3.9 ai202209_s07_14.py"
   ]
  },
  {
   "cell_type": "code",
   "execution_count": null,
   "id": "46f0026b-5ae3-4265-9ecd-50c2ebc841b9",
   "metadata": {},
   "outputs": [],
   "source": []
  }
 ],
 "metadata": {
  "kernelspec": {
   "display_name": "Python 3 (ipykernel)",
   "language": "python",
   "name": "python3"
  },
  "language_info": {
   "codemirror_mode": {
    "name": "ipython",
    "version": 3
   },
   "file_extension": ".py",
   "mimetype": "text/x-python",
   "name": "python",
   "nbconvert_exporter": "python",
   "pygments_lexer": "ipython3",
   "version": "3.9.13"
  }
 },
 "nbformat": 4,
 "nbformat_minor": 5
}
