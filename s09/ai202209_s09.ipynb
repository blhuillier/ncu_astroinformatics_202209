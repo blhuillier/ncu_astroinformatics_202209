{
 "cells": [
  {
   "cell_type": "markdown",
   "id": "527bf7c3-828b-44e9-8d8d-2a9bc4732b76",
   "metadata": {},
   "source": [
    "# Session 09 of Astroinformatics (first semester, academic year 2022) #\n",
    "\n",
    "- About the course\n",
    "    - course name: \"Astroinformatics\"\n",
    "    - semester: from Sep/2022 to Jan/2023\n",
    "    - lecture hours: from 09:00 to 12:00\n",
    "    - classroom: S4-914\n",
    "    - instructor: Kinoshita Daisuke\n",
    "    - course web page: https://s3b.astro.ncu.edu.tw/ai_202209/\n",
    "    - GitHub repository: https://github.com/kinoshitadaisuke/ncu_astroinformatics_202209\n",
    "    - Binder web page: https://mybinder.org/v2/gh/kinoshitadaisuke/ncu_astroinformatics_202209/HEAD"
   ]
  },
  {
   "cell_type": "markdown",
   "id": "57ed5cc3-2d49-4c16-bd14-feb937647071",
   "metadata": {},
   "source": [
    "## About this notebook ##\n",
    "\n",
    "This is a notebook for the __session 09__ of \"Astroinformatics\" at first semester of academic year 2022.\n",
    "\n",
    "This notebook contains sample Python scripts only.\n",
    "\n",
    "The lecture note is provided at the course web page.\n",
    "\n",
    "To download the lecture note, visit following web page.\n",
    "\n",
    "https://s3b.astro.ncu.edu.tw/ai_202209/\n",
    "\n",
    "Note that the lecture note can be downloaded only from computers/mobile phones connected to the computer network of our university.\n",
    "\n",
    "Connect to Wi-Fi of our university or use VPN service of our university to download the lecture note.\n",
    "\n",
    "If you have any question about this notebook, contact to Kinoshita Daisuke."
   ]
  },
  {
   "cell_type": "markdown",
   "id": "8c199398-8ecb-4fd0-adb5-3505538b1994",
   "metadata": {},
   "source": [
    "# Sample script 00-00 #"
   ]
  },
  {
   "cell_type": "code",
   "execution_count": null,
   "id": "787367d4-c252-4be6-b702-a65ef9324b5d",
   "metadata": {},
   "outputs": [],
   "source": [
    "# run this cell to show the source code #\n",
    "\n",
    "!cat ai202209_s09_00_00.py"
   ]
  },
  {
   "cell_type": "code",
   "execution_count": null,
   "id": "720c0292-f165-4d44-9551-4d80cc098b05",
   "metadata": {},
   "outputs": [],
   "source": [
    "# run this cell to execute the script #\n",
    "\n",
    "!python3.9 ai202209_s09_00_00.py"
   ]
  },
  {
   "cell_type": "markdown",
   "id": "370f8d5d-82b8-4724-87d2-17584d9d71bb",
   "metadata": {},
   "source": [
    "# Sample script 00-01 #"
   ]
  },
  {
   "cell_type": "code",
   "execution_count": null,
   "id": "60151ee1-aa22-4325-aac3-7bd2b7f70c67",
   "metadata": {},
   "outputs": [],
   "source": [
    "# run this cell to show the source code #\n",
    "\n",
    "!cat ai202209_s09_00_01.py"
   ]
  },
  {
   "cell_type": "code",
   "execution_count": null,
   "id": "97fb0d8f-2621-473e-9c85-b043ccfe46dd",
   "metadata": {},
   "outputs": [],
   "source": [
    "# run this cell to execute the script #\n",
    "\n",
    "!python3.9 ai202209_s09_00_01.py"
   ]
  },
  {
   "cell_type": "markdown",
   "id": "bcc436a8-9202-40b0-992a-d4ae9d9ab450",
   "metadata": {},
   "source": [
    "# Sample script 00-02 #"
   ]
  },
  {
   "cell_type": "code",
   "execution_count": null,
   "id": "a48f2f14-0df5-4480-a437-766536a7187e",
   "metadata": {},
   "outputs": [],
   "source": [
    "# run this cell to show the source code #\n",
    "\n",
    "!cat ai202209_s09_00_02.py"
   ]
  },
  {
   "cell_type": "code",
   "execution_count": null,
   "id": "8206dc96-894b-42e9-bdba-7b4b0bb89b15",
   "metadata": {},
   "outputs": [],
   "source": [
    "# run this cell to execute the script #\n",
    "\n",
    "!python3.9 ai202209_s09_00_02.py"
   ]
  },
  {
   "cell_type": "markdown",
   "id": "aa2c9d03-b6b0-4fa5-81b1-46ed0141327f",
   "metadata": {},
   "source": [
    "# Sample script 00-03 #"
   ]
  },
  {
   "cell_type": "code",
   "execution_count": null,
   "id": "04e4f5f4-d98a-4313-bacf-3c26ad4f2bfa",
   "metadata": {},
   "outputs": [],
   "source": [
    "# run this cell to show the source code #\n",
    "\n",
    "!cat ai202209_s09_00_03.py"
   ]
  },
  {
   "cell_type": "code",
   "execution_count": null,
   "id": "b73467d8-472f-4487-901e-05f4f31075c5",
   "metadata": {},
   "outputs": [],
   "source": [
    "# run this cell to execute the script #\n",
    "\n",
    "!python3.9 ai202209_s09_00_03.py"
   ]
  },
  {
   "cell_type": "code",
   "execution_count": null,
   "id": "119fdc96-53a1-4d81-a7bc-31c09ece9330",
   "metadata": {},
   "outputs": [],
   "source": [
    "# run this cell to display plot #\n",
    "\n",
    "import IPython.display\n",
    "\n",
    "IPython.display.Image ('ai202209_s09_00_03.png')"
   ]
  },
  {
   "cell_type": "markdown",
   "id": "5b43657a-e018-4d0f-8220-f6f06e8ac4a0",
   "metadata": {},
   "source": [
    "# Sample script 00-04 #"
   ]
  },
  {
   "cell_type": "code",
   "execution_count": null,
   "id": "e041a2b7-0a8b-4e46-b503-c6255f4cc7d2",
   "metadata": {},
   "outputs": [],
   "source": [
    "# run this cell to show the source code #\n",
    "\n",
    "!cat ai202209_s09_00_04.py"
   ]
  },
  {
   "cell_type": "code",
   "execution_count": null,
   "id": "6a27fe33-9265-4ee7-8b00-4cc9362a9719",
   "metadata": {},
   "outputs": [],
   "source": [
    "# run this cell to execute the script #\n",
    "\n",
    "!python3.9 ai202209_s09_00_04.py"
   ]
  },
  {
   "cell_type": "code",
   "execution_count": null,
   "id": "951f5799-f615-41bb-a506-003289142d21",
   "metadata": {},
   "outputs": [],
   "source": [
    "# run this cell to display plot #\n",
    "\n",
    "import IPython.display\n",
    "\n",
    "IPython.display.Image ('ai202209_s09_00_04.png')"
   ]
  },
  {
   "cell_type": "markdown",
   "id": "3988a43e-29f8-4126-a225-825cdb24a22c",
   "metadata": {},
   "source": [
    "# Sample script 00-05 #"
   ]
  },
  {
   "cell_type": "code",
   "execution_count": null,
   "id": "2ac26750-e3ef-4d82-a67c-45638b75c4f8",
   "metadata": {},
   "outputs": [],
   "source": [
    "# run this cell to show the source code #\n",
    "\n",
    "!cat ai202209_s09_00_05.py"
   ]
  },
  {
   "cell_type": "code",
   "execution_count": null,
   "id": "a94b8990-c137-4f64-9e82-1085c02b3552",
   "metadata": {},
   "outputs": [],
   "source": [
    "# run this cell to execute the script #\n",
    "\n",
    "!python3.9 ai202209_s09_00_05.py"
   ]
  },
  {
   "cell_type": "code",
   "execution_count": null,
   "id": "9eeff995-9502-41f6-957e-160d7b5ca490",
   "metadata": {},
   "outputs": [],
   "source": [
    "# run this cell to display plot #\n",
    "\n",
    "import IPython.display\n",
    "\n",
    "IPython.display.Image ('ai202209_s09_00_05.png')"
   ]
  },
  {
   "cell_type": "markdown",
   "id": "7422ac20-96ce-4816-9e4e-004e6934eab7",
   "metadata": {},
   "source": [
    "# Sample script 00-06 #"
   ]
  },
  {
   "cell_type": "code",
   "execution_count": null,
   "id": "f501a8a5-3cac-4c62-a537-f0ea9321a4fc",
   "metadata": {},
   "outputs": [],
   "source": [
    "# run this cell to show the source code #\n",
    "\n",
    "!cat ai202209_s09_00_06.py"
   ]
  },
  {
   "cell_type": "code",
   "execution_count": null,
   "id": "d8229480-8fb8-4ce3-8019-f656e7491b26",
   "metadata": {},
   "outputs": [],
   "source": [
    "# run this cell to execute the script #\n",
    "\n",
    "!python3.9 ai202209_s09_00_06.py"
   ]
  },
  {
   "cell_type": "markdown",
   "id": "cffba967-711a-4f79-81d3-9f1ba6c2627d",
   "metadata": {},
   "source": [
    "# Sample script 00-07 #"
   ]
  },
  {
   "cell_type": "code",
   "execution_count": null,
   "id": "e5db523a-5b27-4254-9385-c8a36115bf29",
   "metadata": {},
   "outputs": [],
   "source": [
    "# run this cell to show the source code #\n",
    "\n",
    "!cat ai202209_s09_00_07.py"
   ]
  },
  {
   "cell_type": "code",
   "execution_count": null,
   "id": "df5e407b-0a47-44b3-a2b5-104d1dee72bc",
   "metadata": {},
   "outputs": [],
   "source": [
    "# run this cell to execute the script #\n",
    "\n",
    "!python3.9 ai202209_s09_00_07.py"
   ]
  },
  {
   "cell_type": "markdown",
   "id": "926131fa-68c6-4bba-855f-e9e9b502fbda",
   "metadata": {},
   "source": [
    "# Sample script 00-08 #"
   ]
  },
  {
   "cell_type": "code",
   "execution_count": null,
   "id": "963e1c0e-8b9e-48ad-a2d7-698cb56acef0",
   "metadata": {},
   "outputs": [],
   "source": [
    "# run this cell to show the source code #\n",
    "\n",
    "!cat ai202209_s09_00_08.py"
   ]
  },
  {
   "cell_type": "code",
   "execution_count": null,
   "id": "d416be2d-21a6-4017-accd-0d6f1c264fc8",
   "metadata": {},
   "outputs": [],
   "source": [
    "# run this cell to execute the script #\n",
    "\n",
    "!python3.9 ai202209_s09_00_08.py"
   ]
  },
  {
   "cell_type": "markdown",
   "id": "b58bf6f4-7271-4377-abe6-1a0cc7caa149",
   "metadata": {},
   "source": [
    "# Sample script 00-09 #"
   ]
  },
  {
   "cell_type": "code",
   "execution_count": null,
   "id": "f4033654-4e85-453e-a2c7-108f1aa81006",
   "metadata": {},
   "outputs": [],
   "source": [
    "# run this cell to show the source code #\n",
    "\n",
    "!cat ai202209_s09_00_09.py"
   ]
  },
  {
   "cell_type": "code",
   "execution_count": null,
   "id": "6eb66d63-a526-4ffe-9ff6-de9051f546b4",
   "metadata": {},
   "outputs": [],
   "source": [
    "# run this cell to execute the script #\n",
    "\n",
    "!python3.9 ai202209_s09_00_09.py"
   ]
  },
  {
   "cell_type": "code",
   "execution_count": null,
   "id": "9a4e5fd1-7de5-4d62-b704-0911412d2f65",
   "metadata": {},
   "outputs": [],
   "source": [
    "# run this cell to display plot #\n",
    "\n",
    "import IPython.display\n",
    "\n",
    "IPython.display.Image ('ai202209_s09_00_09.png')"
   ]
  },
  {
   "cell_type": "markdown",
   "id": "4b256fd9-1b18-468e-827d-dd36bb9fd02d",
   "metadata": {},
   "source": [
    "# Sample script 00-10 #"
   ]
  },
  {
   "cell_type": "code",
   "execution_count": null,
   "id": "d7f63ef3-96a3-4874-aaae-d6d395257033",
   "metadata": {},
   "outputs": [],
   "source": [
    "# run this cell to show the source code #\n",
    "\n",
    "!cat ai202209_s09_00_10.py"
   ]
  },
  {
   "cell_type": "code",
   "execution_count": null,
   "id": "15922a2d-7278-4f11-a365-c4d42197c4ef",
   "metadata": {},
   "outputs": [],
   "source": [
    "# run this cell to execute the script #\n",
    "\n",
    "!python3.9 ai202209_s09_00_10.py"
   ]
  },
  {
   "cell_type": "code",
   "execution_count": null,
   "id": "9fdcc110-2425-4611-9b4d-bee86c163d4e",
   "metadata": {},
   "outputs": [],
   "source": [
    "# run this cell to display plot #\n",
    "\n",
    "import IPython.display\n",
    "\n",
    "IPython.display.Image ('ai202209_s09_00_10.png')"
   ]
  },
  {
   "cell_type": "markdown",
   "id": "3964350f-9dcb-4da1-8004-070c075a016d",
   "metadata": {},
   "source": [
    "# Sample script 00-11 #"
   ]
  },
  {
   "cell_type": "code",
   "execution_count": null,
   "id": "161566a9-c406-4584-93fa-9fb993d2fc8e",
   "metadata": {},
   "outputs": [],
   "source": [
    "# run this cell to show the source code #\n",
    "\n",
    "!cat ai202209_s09_00_11.py"
   ]
  },
  {
   "cell_type": "code",
   "execution_count": null,
   "id": "dacdb8d8-5c77-4866-9dcc-024dc1bd4627",
   "metadata": {},
   "outputs": [],
   "source": [
    "# run this cell to execute the script #\n",
    "\n",
    "!python3.9 ai202209_s09_00_11.py"
   ]
  },
  {
   "cell_type": "code",
   "execution_count": null,
   "id": "25d4ddd2-ff76-436d-aab7-08d334a0822c",
   "metadata": {},
   "outputs": [],
   "source": [
    "# run this cell to display plot #\n",
    "\n",
    "import IPython.display\n",
    "\n",
    "IPython.display.Image ('ai202209_s09_00_11.png')"
   ]
  },
  {
   "cell_type": "markdown",
   "id": "fe81bd07-9ceb-4143-8baa-f127ff463888",
   "metadata": {},
   "source": [
    "# Sample script 00-12 #"
   ]
  },
  {
   "cell_type": "code",
   "execution_count": null,
   "id": "9692f02c-caa0-4351-aa2c-a2c595795b8d",
   "metadata": {},
   "outputs": [],
   "source": [
    "# run this cell to show the source code #\n",
    "\n",
    "!cat ai202209_s09_00_12.py"
   ]
  },
  {
   "cell_type": "code",
   "execution_count": null,
   "id": "f63952ee-7687-4963-be54-1d04a8810589",
   "metadata": {},
   "outputs": [],
   "source": [
    "# run this cell to execute the script #\n",
    "\n",
    "!python3.9 ai202209_s09_00_12.py"
   ]
  },
  {
   "cell_type": "code",
   "execution_count": null,
   "id": "7a529ce9-e3b1-4992-b46a-d0fcb621b1c6",
   "metadata": {},
   "outputs": [],
   "source": [
    "# run this cell to display plot #\n",
    "\n",
    "import IPython.display\n",
    "\n",
    "IPython.display.Image ('ai202209_s09_00_12.png')"
   ]
  },
  {
   "cell_type": "markdown",
   "id": "13927a04-0687-458a-bd4d-6508c762bd34",
   "metadata": {},
   "source": [
    "# Sample script 00-13 #"
   ]
  },
  {
   "cell_type": "code",
   "execution_count": null,
   "id": "5e212e29-0720-440f-8a0b-45409b9cc0e2",
   "metadata": {},
   "outputs": [],
   "source": [
    "# run this cell to show the source code #\n",
    "\n",
    "!cat ai202209_s09_00_13.py"
   ]
  },
  {
   "cell_type": "code",
   "execution_count": null,
   "id": "ee57b295-21cb-4f9d-93e9-781bdd6b8e11",
   "metadata": {},
   "outputs": [],
   "source": [
    "# run this cell to execute the script #\n",
    "\n",
    "!python3.9 ai202209_s09_00_13.py"
   ]
  },
  {
   "cell_type": "code",
   "execution_count": null,
   "id": "63912603-14fc-498b-b08b-875ca6de61ef",
   "metadata": {},
   "outputs": [],
   "source": [
    "# run this cell to display plot #\n",
    "\n",
    "import IPython.display\n",
    "\n",
    "IPython.display.Image ('ai202209_s09_00_13.png')"
   ]
  },
  {
   "cell_type": "markdown",
   "id": "bb6693bc-3238-4474-a13f-ae5a3af4a5e0",
   "metadata": {},
   "source": [
    "# Sample script 00-14 #"
   ]
  },
  {
   "cell_type": "code",
   "execution_count": null,
   "id": "e3be6b24-4b8e-41a3-b469-05e4dba11119",
   "metadata": {},
   "outputs": [],
   "source": [
    "# run this cell to show the source code #\n",
    "\n",
    "!cat ai202209_s09_00_14.py"
   ]
  },
  {
   "cell_type": "code",
   "execution_count": null,
   "id": "5efc88e2-a3a6-4eaa-83d5-2894b66102d1",
   "metadata": {},
   "outputs": [],
   "source": [
    "# run this cell to execute the script #\n",
    "\n",
    "!python3.9 ai202209_s09_00_14.py"
   ]
  },
  {
   "cell_type": "code",
   "execution_count": null,
   "id": "333411da-546b-47bc-a490-cd67d68f562c",
   "metadata": {},
   "outputs": [],
   "source": [
    "# run this cell to display plot #\n",
    "\n",
    "import IPython.display\n",
    "\n",
    "IPython.display.Image ('ai202209_s09_00_14.png')"
   ]
  },
  {
   "cell_type": "markdown",
   "id": "ec7370a9-ef3b-4f27-aaec-ab3344826406",
   "metadata": {},
   "source": [
    "# Sample script 00-15 #"
   ]
  },
  {
   "cell_type": "code",
   "execution_count": null,
   "id": "98654cdc-a4e6-4b72-89ce-de5ecf9025fd",
   "metadata": {},
   "outputs": [],
   "source": [
    "# run this cell to show the source code #\n",
    "\n",
    "!cat ai202209_s09_00_15.py"
   ]
  },
  {
   "cell_type": "code",
   "execution_count": null,
   "id": "fa591589-abd1-400d-a1f0-59c9ae66712d",
   "metadata": {},
   "outputs": [],
   "source": [
    "# run this cell to execute the script #\n",
    "\n",
    "!python3.9 ai202209_s09_00_15.py"
   ]
  },
  {
   "cell_type": "code",
   "execution_count": null,
   "id": "e4e46c63-b9d4-45fa-9808-2ec6cffdbebe",
   "metadata": {},
   "outputs": [],
   "source": [
    "# run this cell to display plot #\n",
    "\n",
    "import IPython.display\n",
    "\n",
    "IPython.display.Image ('ai202209_s09_00_15.png')"
   ]
  },
  {
   "cell_type": "markdown",
   "id": "886130c4-fc9e-4ffb-b807-4bea2bc202d5",
   "metadata": {},
   "source": [
    "# Sample script 00-16 #"
   ]
  },
  {
   "cell_type": "code",
   "execution_count": null,
   "id": "333a911a-4574-4cdb-8785-3a3ce15698e3",
   "metadata": {},
   "outputs": [],
   "source": [
    "# run this cell to show the source code #\n",
    "\n",
    "!cat ai202209_s09_00_16.py"
   ]
  },
  {
   "cell_type": "code",
   "execution_count": null,
   "id": "3822f347-76f3-429a-b45d-a4dd27d3d60f",
   "metadata": {},
   "outputs": [],
   "source": [
    "# run this cell to execute the script #\n",
    "\n",
    "!python3.9 ai202209_s09_00_16.py"
   ]
  },
  {
   "cell_type": "code",
   "execution_count": null,
   "id": "645a469b-dbb8-44ff-bb17-159500813b89",
   "metadata": {},
   "outputs": [],
   "source": [
    "# run this cell to display plot #\n",
    "\n",
    "import IPython.display\n",
    "\n",
    "IPython.display.Image ('ai202209_s09_00_16.png')"
   ]
  },
  {
   "cell_type": "markdown",
   "id": "bf11eab0-279d-4422-bd80-9d4c3a006856",
   "metadata": {},
   "source": [
    "# Sample script 00-17 #"
   ]
  },
  {
   "cell_type": "code",
   "execution_count": null,
   "id": "dce2cd79-c5e9-494c-b067-cbf06a85a9c9",
   "metadata": {},
   "outputs": [],
   "source": [
    "# run this cell to show the source code #\n",
    "\n",
    "!cat ai202209_s09_00_17.py"
   ]
  },
  {
   "cell_type": "code",
   "execution_count": null,
   "id": "b4fb5373-b049-4199-8772-93fdbb7035b5",
   "metadata": {},
   "outputs": [],
   "source": [
    "# run this cell to execute the script #\n",
    "\n",
    "!python3.9 ai202209_s09_00_17.py"
   ]
  },
  {
   "cell_type": "code",
   "execution_count": null,
   "id": "4c20f5ae-5f20-4e9e-8d7f-f070c3486145",
   "metadata": {},
   "outputs": [],
   "source": [
    "# run this cell to display plot #\n",
    "\n",
    "import IPython.display\n",
    "\n",
    "IPython.display.Image ('ai202209_s09_00_17.png')"
   ]
  },
  {
   "cell_type": "markdown",
   "id": "ade03bf9-815e-4aaf-9492-44f649eefbc5",
   "metadata": {},
   "source": [
    "# Sample script 01-00 #"
   ]
  },
  {
   "cell_type": "code",
   "execution_count": null,
   "id": "b50c477f-4a53-44a7-924f-11ca31239bea",
   "metadata": {},
   "outputs": [],
   "source": [
    "# run this cell to show the source code #\n",
    "\n",
    "!cat ai202209_s09_01_00.py"
   ]
  },
  {
   "cell_type": "code",
   "execution_count": null,
   "id": "e9cea3bc-81c8-497d-80ca-089303ba4a3f",
   "metadata": {},
   "outputs": [],
   "source": [
    "# run this cell to execute the script #\n",
    "\n",
    "!python3.9 ai202209_s09_01_00.py"
   ]
  },
  {
   "cell_type": "markdown",
   "id": "90c60696-b0fc-495a-9f52-4c93bd7457bb",
   "metadata": {},
   "source": [
    "# Sample script 01-01 #"
   ]
  },
  {
   "cell_type": "code",
   "execution_count": null,
   "id": "0167b6f8-f723-4d0f-966e-208509e6fcd8",
   "metadata": {},
   "outputs": [],
   "source": [
    "# run this cell to show the source code #\n",
    "\n",
    "!cat ai202209_s09_01_01.py"
   ]
  },
  {
   "cell_type": "code",
   "execution_count": null,
   "id": "208d6633-7bf2-413a-a8a0-8ef477d9ac3a",
   "metadata": {},
   "outputs": [],
   "source": [
    "# run this cell to execute the script #\n",
    "\n",
    "!python3.9 ai202209_s09_01_01.py"
   ]
  },
  {
   "cell_type": "code",
   "execution_count": null,
   "id": "8ef52749-c549-41a7-9679-44c26e28c6cf",
   "metadata": {},
   "outputs": [],
   "source": [
    "# run this cell to display plot #\n",
    "\n",
    "import IPython.display\n",
    "\n",
    "IPython.display.Image ('ai202209_s09_01_01.png')"
   ]
  },
  {
   "cell_type": "markdown",
   "id": "bff877fb-aafd-4456-8dd5-509c02304392",
   "metadata": {},
   "source": [
    "# Sample script 01-02 #"
   ]
  },
  {
   "cell_type": "code",
   "execution_count": null,
   "id": "aa3c07ea-d996-405e-b2ee-fa3bca30c833",
   "metadata": {},
   "outputs": [],
   "source": [
    "# run this cell to show the source code #\n",
    "\n",
    "!cat ai202209_s09_01_02.py"
   ]
  },
  {
   "cell_type": "code",
   "execution_count": null,
   "id": "57ef716a-63f7-46ef-a754-0bc95b0afd83",
   "metadata": {},
   "outputs": [],
   "source": [
    "# run this cell to execute the script #\n",
    "\n",
    "!python3.9 ai202209_s09_01_02.py"
   ]
  },
  {
   "cell_type": "code",
   "execution_count": null,
   "id": "9f38afa2-67fe-48ca-8261-4b8e5895c285",
   "metadata": {},
   "outputs": [],
   "source": [
    "# run this cell to display plot #\n",
    "\n",
    "import IPython.display\n",
    "\n",
    "IPython.display.Image ('ai202209_s09_01_02.png')"
   ]
  },
  {
   "cell_type": "markdown",
   "id": "e93721e8-7c54-4d05-8b70-cb9e57f90f1e",
   "metadata": {},
   "source": [
    "# Sample script 02-00 #"
   ]
  },
  {
   "cell_type": "code",
   "execution_count": null,
   "id": "296ae586-0d8a-4d5c-8786-9e3d967fceed",
   "metadata": {},
   "outputs": [],
   "source": [
    "# run this cell to show the source code #\n",
    "\n",
    "!cat ai202209_s09_02_00.py"
   ]
  },
  {
   "cell_type": "code",
   "execution_count": null,
   "id": "83d30fbd-ff4d-4657-8ed1-9311e7d86352",
   "metadata": {},
   "outputs": [],
   "source": [
    "# run this cell to execute the script #\n",
    "\n",
    "!python3.9 ai202209_s09_02_00.py"
   ]
  },
  {
   "cell_type": "markdown",
   "id": "bf07f0fa-42a2-4245-a8c4-8d3a61845086",
   "metadata": {},
   "source": [
    "# Sample script 02-01 #"
   ]
  },
  {
   "cell_type": "code",
   "execution_count": null,
   "id": "d21b4adf-920e-47ba-a2e8-58804617d60c",
   "metadata": {},
   "outputs": [],
   "source": [
    "# run this cell to show the source code #\n",
    "\n",
    "!cat ai202209_s09_02_01.py"
   ]
  },
  {
   "cell_type": "code",
   "execution_count": null,
   "id": "212c1ab5-80ac-4861-80d6-5226027e689c",
   "metadata": {},
   "outputs": [],
   "source": [
    "# run this cell to execute the script #\n",
    "\n",
    "!python3.9 ai202209_s09_02_01.py"
   ]
  },
  {
   "cell_type": "code",
   "execution_count": null,
   "id": "e63e29d1-1c98-468d-8259-e9303d9622ff",
   "metadata": {},
   "outputs": [],
   "source": [
    "# run this cell to display plot #\n",
    "\n",
    "import IPython.display\n",
    "\n",
    "IPython.display.Image ('ai202209_s09_02_01.png')"
   ]
  },
  {
   "cell_type": "markdown",
   "id": "043f8e48-a517-4eda-b3e6-5f091088ad5d",
   "metadata": {},
   "source": [
    "# Sample script 02-02 #"
   ]
  },
  {
   "cell_type": "code",
   "execution_count": null,
   "id": "dc5e77bc-cf7c-4e99-a576-b3fcea2a00c6",
   "metadata": {},
   "outputs": [],
   "source": [
    "# run this cell to show the source code #\n",
    "\n",
    "!cat ai202209_s09_02_02.py"
   ]
  },
  {
   "cell_type": "code",
   "execution_count": null,
   "id": "ee31476c-8535-4c67-8415-c29d1456319d",
   "metadata": {},
   "outputs": [],
   "source": [
    "# run this cell to execute the script #\n",
    "\n",
    "!python3.9 ai202209_s09_02_02.py"
   ]
  },
  {
   "cell_type": "code",
   "execution_count": null,
   "id": "4cfbeae0-c76c-4675-aec0-820ebfe87866",
   "metadata": {},
   "outputs": [],
   "source": [
    "# run this cell to display plot #\n",
    "\n",
    "import IPython.display\n",
    "\n",
    "IPython.display.Image ('ai202209_s09_02_02.png')"
   ]
  },
  {
   "cell_type": "markdown",
   "id": "359ed673-23e4-42b5-8066-897463e2844f",
   "metadata": {},
   "source": [
    "# Sample script 03-00 #"
   ]
  },
  {
   "cell_type": "code",
   "execution_count": null,
   "id": "3e3700e3-b246-478d-b552-6afac393476e",
   "metadata": {},
   "outputs": [],
   "source": [
    "# run this cell to show the source code #\n",
    "\n",
    "!cat ai202209_s09_03_00.py"
   ]
  },
  {
   "cell_type": "code",
   "execution_count": null,
   "id": "7e279176-dd24-4df5-bcfd-36a915ed88a4",
   "metadata": {},
   "outputs": [],
   "source": [
    "# run this cell to execute the script #\n",
    "\n",
    "!python3.9 ai202209_s09_03_00.py"
   ]
  },
  {
   "cell_type": "markdown",
   "id": "c5576673-a0aa-4f2d-ab2c-b1af2e4e8a4b",
   "metadata": {},
   "source": [
    "# Sample script 03-01 #"
   ]
  },
  {
   "cell_type": "code",
   "execution_count": null,
   "id": "747ab561-2676-4df9-86ea-836c0b7a84b3",
   "metadata": {},
   "outputs": [],
   "source": [
    "# run this cell to show the source code #\n",
    "\n",
    "!cat ai202209_s09_03_01.py"
   ]
  },
  {
   "cell_type": "code",
   "execution_count": null,
   "id": "72f05176-2f19-4fc4-857a-e69db54eef15",
   "metadata": {},
   "outputs": [],
   "source": [
    "# run this cell to execute the script #\n",
    "\n",
    "!python3.9 ai202209_s09_03_01.py"
   ]
  },
  {
   "cell_type": "code",
   "execution_count": null,
   "id": "f7f75a18-632b-44e5-8ce1-977a33640358",
   "metadata": {},
   "outputs": [],
   "source": [
    "# run this cell to display plot #\n",
    "\n",
    "import IPython.display\n",
    "\n",
    "IPython.display.Image ('ai202209_s09_03_01.png')"
   ]
  },
  {
   "cell_type": "markdown",
   "id": "4104ee4d-99a7-4bb7-826d-782c327be6a9",
   "metadata": {},
   "source": [
    "# Sample script 03-02 #"
   ]
  },
  {
   "cell_type": "code",
   "execution_count": null,
   "id": "d3548534-5905-4f29-b6af-1f5dc2ae699b",
   "metadata": {},
   "outputs": [],
   "source": [
    "# run this cell to show the source code #\n",
    "\n",
    "!cat ai202209_s09_03_02.py"
   ]
  },
  {
   "cell_type": "code",
   "execution_count": null,
   "id": "70043aa9-f3a2-43ef-b920-d15cd35ae8aa",
   "metadata": {},
   "outputs": [],
   "source": [
    "# run this cell to execute the script #\n",
    "\n",
    "!python3.9 ai202209_s09_03_02.py"
   ]
  },
  {
   "cell_type": "code",
   "execution_count": null,
   "id": "95303e04-c052-47cf-93c9-c536a450240d",
   "metadata": {},
   "outputs": [],
   "source": [
    "# run this cell to display plot #\n",
    "\n",
    "import IPython.display\n",
    "\n",
    "IPython.display.Image ('ai202209_s09_03_02.png')"
   ]
  },
  {
   "cell_type": "markdown",
   "id": "3557df56-ee96-428d-81b3-e3866c2d2070",
   "metadata": {},
   "source": [
    "# Sample script 04-00 #"
   ]
  },
  {
   "cell_type": "code",
   "execution_count": null,
   "id": "69fef2c9-3f3e-4aed-9abf-33a1ed5f3729",
   "metadata": {},
   "outputs": [],
   "source": [
    "# run this cell to show the source code #\n",
    "\n",
    "!cat ai202209_s09_04_00.py"
   ]
  },
  {
   "cell_type": "code",
   "execution_count": null,
   "id": "7d9aad03-3518-4462-a403-8799543fc3de",
   "metadata": {},
   "outputs": [],
   "source": [
    "# run this cell to execute the script #\n",
    "\n",
    "!python3.9 ai202209_s09_04_00.py"
   ]
  },
  {
   "cell_type": "markdown",
   "id": "5d61c9f5-8e7e-4114-82b1-2081404a3b92",
   "metadata": {},
   "source": [
    "# Sample script 04-01 #"
   ]
  },
  {
   "cell_type": "code",
   "execution_count": null,
   "id": "baac71d0-b531-4d1e-88ff-9ddfed6711c9",
   "metadata": {},
   "outputs": [],
   "source": [
    "# run this cell to show the source code #\n",
    "\n",
    "!cat ai202209_s09_04_01.py"
   ]
  },
  {
   "cell_type": "code",
   "execution_count": null,
   "id": "fa7777be-9913-4edb-99e8-0d0fc8ce1b3b",
   "metadata": {},
   "outputs": [],
   "source": [
    "# run this cell to execute the script #\n",
    "\n",
    "!python3.9 ai202209_s09_04_01.py"
   ]
  },
  {
   "cell_type": "code",
   "execution_count": null,
   "id": "9aa1b046-0939-483a-be79-26831eb5d662",
   "metadata": {},
   "outputs": [],
   "source": [
    "# run this cell to display plot #\n",
    "\n",
    "import IPython.display\n",
    "\n",
    "IPython.display.Image ('ai202209_s09_04_01.png')"
   ]
  },
  {
   "cell_type": "markdown",
   "id": "4de671cb-04cf-497a-8512-f3278c4f19b2",
   "metadata": {},
   "source": [
    "# Sample script 04-02 #"
   ]
  },
  {
   "cell_type": "code",
   "execution_count": null,
   "id": "cfda5c19-fe82-48c0-a831-10f63257dafb",
   "metadata": {},
   "outputs": [],
   "source": [
    "# run this cell to show the source code #\n",
    "\n",
    "!cat ai202209_s09_04_02.py"
   ]
  },
  {
   "cell_type": "code",
   "execution_count": null,
   "id": "8edf2cd8-a5eb-40f6-b8e3-c637f92a50c1",
   "metadata": {},
   "outputs": [],
   "source": [
    "# run this cell to execute the script #\n",
    "\n",
    "!python3.9 ai202209_s09_04_02.py"
   ]
  },
  {
   "cell_type": "code",
   "execution_count": null,
   "id": "b39d4301-dd4e-468a-8ce4-bbb78e722516",
   "metadata": {},
   "outputs": [],
   "source": [
    "# run this cell to display plot #\n",
    "\n",
    "import IPython.display\n",
    "\n",
    "IPython.display.Image ('ai202209_s09_04_02.png')"
   ]
  },
  {
   "cell_type": "markdown",
   "id": "d34add0f-79b5-48a0-9f52-f0654dd9b3f0",
   "metadata": {},
   "source": [
    "# end of the notebook #"
   ]
  },
  {
   "cell_type": "code",
   "execution_count": null,
   "id": "15b08d5b-c97e-45f6-816c-f9572aea8513",
   "metadata": {},
   "outputs": [],
   "source": []
  }
 ],
 "metadata": {
  "kernelspec": {
   "display_name": "Python 3 (ipykernel)",
   "language": "python",
   "name": "python3"
  },
  "language_info": {
   "codemirror_mode": {
    "name": "ipython",
    "version": 3
   },
   "file_extension": ".py",
   "mimetype": "text/x-python",
   "name": "python",
   "nbconvert_exporter": "python",
   "pygments_lexer": "ipython3",
   "version": "3.9.13"
  }
 },
 "nbformat": 4,
 "nbformat_minor": 5
}
