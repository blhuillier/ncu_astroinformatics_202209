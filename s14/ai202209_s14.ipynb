{
 "cells": [
  {
   "cell_type": "markdown",
   "id": "527bf7c3-828b-44e9-8d8d-2a9bc4732b76",
   "metadata": {},
   "source": [
    "# Session 14 of Astroinformatics (first semester, academic year 2022) #\n",
    "\n",
    "- About the course\n",
    "    - course name: \"Astroinformatics\"\n",
    "    - semester: from Sep/2022 to Jan/2023\n",
    "    - lecture hours: from 09:00 to 12:00\n",
    "    - classroom: S4-914\n",
    "    - instructor: Kinoshita Daisuke\n",
    "    - course web page: https://s3b.astro.ncu.edu.tw/ai_202209/\n",
    "    - GitHub repository: https://github.com/kinoshitadaisuke/ncu_astroinformatics_202209\n",
    "    - Binder web page: https://mybinder.org/v2/gh/kinoshitadaisuke/ncu_astroinformatics_202209/HEAD"
   ]
  },
  {
   "cell_type": "markdown",
   "id": "57ed5cc3-2d49-4c16-bd14-feb937647071",
   "metadata": {},
   "source": [
    "## About this notebook ##\n",
    "\n",
    "This is a notebook for the __session 14__ of \"Astroinformatics\" at first semester of academic year 2022.\n",
    "\n",
    "This notebook contains sample Python scripts only.\n",
    "\n",
    "The lecture note is provided at the course web page.\n",
    "\n",
    "To download the lecture note, visit following web page.\n",
    "\n",
    "https://s3b.astro.ncu.edu.tw/ai_202209/\n",
    "\n",
    "Note that the lecture note can be downloaded only from computers/mobile phones connected to the computer network of our university.\n",
    "\n",
    "Connect to Wi-Fi of our university or use VPN service of our university to download the lecture note.\n",
    "\n",
    "If you have any question about this notebook, contact to Kinoshita Daisuke."
   ]
  },
  {
   "cell_type": "markdown",
   "id": "28ae843f-8481-4a6b-a643-25536ccb5fed",
   "metadata": {},
   "source": [
    "# Sample script 00-00 #"
   ]
  },
  {
   "cell_type": "code",
   "execution_count": null,
   "id": "5d8b745a-39fa-4c96-b6ed-ca16e5c33455",
   "metadata": {},
   "outputs": [],
   "source": [
    "# run this cell to show the source code #\n",
    "\n",
    "!cat ai202209_s14_00_00.py"
   ]
  },
  {
   "cell_type": "code",
   "execution_count": null,
   "id": "fac55a54-8be2-4e5e-8442-3c0362317efe",
   "metadata": {},
   "outputs": [],
   "source": [
    "# run this cell to execute the script #\n",
    "\n",
    "!python3.9 ai202209_s14_00_00.py"
   ]
  },
  {
   "cell_type": "markdown",
   "id": "37acbe05-907b-4b09-bdf6-5ec6ce90d9c2",
   "metadata": {},
   "source": [
    "# Sample script 00-01 #"
   ]
  },
  {
   "cell_type": "code",
   "execution_count": null,
   "id": "e3341655-2ad2-4f3b-9240-430b3ff3bdc0",
   "metadata": {},
   "outputs": [],
   "source": [
    "# run this cell to show the source code #\n",
    "\n",
    "!cat ai202209_s14_00_01.py"
   ]
  },
  {
   "cell_type": "code",
   "execution_count": null,
   "id": "5473ecaa-5e43-4406-81e6-79140c1dec3e",
   "metadata": {},
   "outputs": [],
   "source": [
    "# run this cell to execute the script #\n",
    "\n",
    "!python3.9 ai202209_s14_00_01.py -h"
   ]
  },
  {
   "cell_type": "code",
   "execution_count": null,
   "id": "9fc16fa3-7161-4ca6-a1a3-0c5ccb531e14",
   "metadata": {},
   "outputs": [],
   "source": [
    "# run this cell to execute the script #\n",
    "\n",
    "!python3.9 ai202209_s14_00_01.py astropy"
   ]
  },
  {
   "cell_type": "code",
   "execution_count": null,
   "id": "fa4e5cc7-1831-486b-af76-0acddd548557",
   "metadata": {},
   "outputs": [],
   "source": [
    "# run this cell to execute the script #\n",
    "\n",
    "!python3.9 ai202209_s14_00_01.py numpy scipy matplotlib"
   ]
  },
  {
   "cell_type": "markdown",
   "id": "1d9c6166-8b94-4fea-8731-780e9dc63f13",
   "metadata": {},
   "source": [
    "# Sample script 01-00 #"
   ]
  },
  {
   "cell_type": "code",
   "execution_count": null,
   "id": "22402975-4258-4f6e-a8b0-872c0de95ad5",
   "metadata": {},
   "outputs": [],
   "source": [
    "# run this cell to show the source code #\n",
    "\n",
    "!cat ai202209_s14_01_00.py"
   ]
  },
  {
   "cell_type": "code",
   "execution_count": null,
   "id": "209148e0-9860-4cae-b3e5-8c8bb6e291a6",
   "metadata": {},
   "outputs": [],
   "source": [
    "# run this cell to execute the script #\n",
    "\n",
    "!python3.9 ai202209_s14_01_00.py"
   ]
  },
  {
   "cell_type": "markdown",
   "id": "2e0b4abf-4605-40eb-8a90-10cd22024cc1",
   "metadata": {},
   "source": [
    "# Sample script 01-01 #"
   ]
  },
  {
   "cell_type": "code",
   "execution_count": null,
   "id": "045bb684-90c6-4bf1-b1ce-9d13579960ee",
   "metadata": {},
   "outputs": [],
   "source": [
    "# run this cell to show the source code #\n",
    "\n",
    "!cat ai202209_s14_01_01.py"
   ]
  },
  {
   "cell_type": "code",
   "execution_count": null,
   "id": "3bd30038-1b96-4a25-b91a-c8f92582f1ed",
   "metadata": {},
   "outputs": [],
   "source": [
    "# run this cell to execute the script #\n",
    "\n",
    "!python3.9 ai202209_s14_01_01.py -h"
   ]
  },
  {
   "cell_type": "code",
   "execution_count": null,
   "id": "add6b133-822e-4b67-88ba-84e5db5c0a98",
   "metadata": {},
   "outputs": [],
   "source": [
    "# run this cell to execute the script #\n",
    "\n",
    "!python3.9 ai202209_s14_01_01.py Betelgeuse"
   ]
  },
  {
   "cell_type": "code",
   "execution_count": null,
   "id": "691aaff4-b0c2-4a24-a84a-8a6748192f2b",
   "metadata": {},
   "outputs": [],
   "source": [
    "# run this cell to execute the script #\n",
    "\n",
    "!python3.9 ai202209_s14_01_01.py \"Crab Nebula\""
   ]
  },
  {
   "cell_type": "code",
   "execution_count": null,
   "id": "d9ae277b-030c-4309-ab2c-b1a1ac1e90f9",
   "metadata": {},
   "outputs": [],
   "source": [
    "# run this cell to execute the script #\n",
    "\n",
    "!python3.9 ai202209_s14_01_01.py M1"
   ]
  },
  {
   "cell_type": "code",
   "execution_count": null,
   "id": "789dc881-09ca-416a-b6db-e1575ecbe49e",
   "metadata": {},
   "outputs": [],
   "source": [
    "# run this cell to execute the script #\n",
    "\n",
    "!python3.9 ai202209_s14_01_01.py \"Andromeda Galaxy\" Praesepe Pleiades"
   ]
  },
  {
   "cell_type": "code",
   "execution_count": null,
   "id": "fe1f4de7-6b63-41be-b669-6b7dae7d53e6",
   "metadata": {},
   "outputs": [],
   "source": [
    "# run this cell to execute the script #\n",
    "\n",
    "!python3.9 ai202209_s14_01_01.py M31 M44 M45"
   ]
  },
  {
   "cell_type": "markdown",
   "id": "0d9dd895-b5f1-4ff0-854b-4d0130afc846",
   "metadata": {},
   "source": [
    "# Sample script 02-00 #"
   ]
  },
  {
   "cell_type": "code",
   "execution_count": null,
   "id": "c584f191-b7d9-46f0-802b-4f94c27d1e83",
   "metadata": {},
   "outputs": [],
   "source": [
    "# run this cell to show the source code #\n",
    "\n",
    "!cat ai202209_s14_02_00.py"
   ]
  },
  {
   "cell_type": "code",
   "execution_count": null,
   "id": "fb610ddd-d353-473d-a10b-9c7002964329",
   "metadata": {},
   "outputs": [],
   "source": [
    "# run this cell to execute the script #\n",
    "\n",
    "!python3.9 ai202209_s14_02_00.py"
   ]
  },
  {
   "cell_type": "markdown",
   "id": "f8d7c87f-0b9c-41c8-a511-778a5d57d924",
   "metadata": {},
   "source": [
    "# Sample script 02-01 #"
   ]
  },
  {
   "cell_type": "code",
   "execution_count": null,
   "id": "ececdb0a-0d9c-4503-9c7d-0bb1b0a6241e",
   "metadata": {},
   "outputs": [],
   "source": [
    "# run this cell to show the source code #\n",
    "\n",
    "!cat ai202209_s14_02_01.py"
   ]
  },
  {
   "cell_type": "code",
   "execution_count": null,
   "id": "b9f25264-8e20-47f5-ad0f-c1b062d76888",
   "metadata": {},
   "outputs": [],
   "source": [
    "# run this cell to execute the script #\n",
    "\n",
    "!python3.9 ai202209_s14_02_01.py"
   ]
  },
  {
   "cell_type": "code",
   "execution_count": null,
   "id": "d3aa8fd0-b3b6-4e9d-ab14-b9b36c541e0a",
   "metadata": {},
   "outputs": [],
   "source": [
    "# run this cell to display PNG file #\n",
    "\n",
    "import IPython.display\n",
    "\n",
    "IPython.display.Image ('m1.png')"
   ]
  },
  {
   "cell_type": "markdown",
   "id": "ba1073b9-df65-4238-a4bf-64b8c32d3691",
   "metadata": {},
   "source": [
    "# Sample script 02-02 #"
   ]
  },
  {
   "cell_type": "code",
   "execution_count": null,
   "id": "6daa42ed-16de-42fa-b39d-8715ab197e50",
   "metadata": {},
   "outputs": [],
   "source": [
    "# run this cell to show the source code #\n",
    "\n",
    "!cat ai202209_s14_02_02.py"
   ]
  },
  {
   "cell_type": "code",
   "execution_count": null,
   "id": "ea0b303d-8bef-47ef-af6e-950bbc1dc47c",
   "metadata": {},
   "outputs": [],
   "source": [
    "# run this cell to execute the script #\n",
    "\n",
    "!python3.9 ai202209_s14_02_02.py -h"
   ]
  },
  {
   "cell_type": "code",
   "execution_count": null,
   "id": "32aaf58a-c889-4d34-a85e-82d3bbce5b66",
   "metadata": {},
   "outputs": [],
   "source": [
    "# run this cell to execute the script #\n",
    "\n",
    "!python3.9 ai202209_s14_02_02.py -s \"DSS2 Red\" -t M2 -f 30 -o m2.fits"
   ]
  },
  {
   "cell_type": "markdown",
   "id": "5629cd84-ee6f-42eb-9a12-809e46ff61b5",
   "metadata": {},
   "source": [
    "# Sample script 02-03 #"
   ]
  },
  {
   "cell_type": "code",
   "execution_count": null,
   "id": "915863fb-de90-4ba6-a926-e0d1840d36b3",
   "metadata": {},
   "outputs": [],
   "source": [
    "# run this cell to show the source code #\n",
    "\n",
    "!cat ai202209_s14_02_03.py"
   ]
  },
  {
   "cell_type": "code",
   "execution_count": null,
   "id": "64099930-9905-4522-b4fd-f26dc797726e",
   "metadata": {},
   "outputs": [],
   "source": [
    "# run this cell to execute the script #\n",
    "\n",
    "!python3.9 ai202209_s14_02_03.py -h"
   ]
  },
  {
   "cell_type": "code",
   "execution_count": null,
   "id": "a887eaf5-55c3-496b-9b14-cb2c22d164ee",
   "metadata": {},
   "outputs": [],
   "source": [
    "# run this cell to execute the script #\n",
    "\n",
    "!python3.9 ai202209_s14_02_03.py -i m2.fits -o m2.png -c viridis -n \"Globular Cluster M2\""
   ]
  },
  {
   "cell_type": "code",
   "execution_count": null,
   "id": "a993099a-6a52-49a4-acfc-36c2cd96cefe",
   "metadata": {},
   "outputs": [],
   "source": [
    "# run this cell to display PNG file #\n",
    "\n",
    "import IPython.display\n",
    "\n",
    "IPython.display.Image ('m2.png')"
   ]
  },
  {
   "cell_type": "markdown",
   "id": "1b3cbe2d-588a-4d33-b06e-d17c68a70b02",
   "metadata": {},
   "source": [
    "# Sample script 02-04 #"
   ]
  },
  {
   "cell_type": "code",
   "execution_count": null,
   "id": "fe0f1d9f-1b1c-4377-be72-2e2e44ea065d",
   "metadata": {},
   "outputs": [],
   "source": [
    "# run this cell to show the source code #\n",
    "\n",
    "!cat ai202209_s14_02_04.py"
   ]
  },
  {
   "cell_type": "code",
   "execution_count": null,
   "id": "28c2990f-d1e9-4544-9be5-fffafb799c77",
   "metadata": {},
   "outputs": [],
   "source": [
    "# run this cell to execute the script #\n",
    "\n",
    "!python3.9 ai202209_s14_02_04.py -h"
   ]
  },
  {
   "cell_type": "code",
   "execution_count": null,
   "id": "787c32f4-414c-4a25-a1be-10c36bca62dd",
   "metadata": {},
   "outputs": [],
   "source": [
    "# run this cell to execute the script #\n",
    "\n",
    "!python3.9 ai202209_s14_02_04.py -t M81 -o m81.png -s SDSSg -f 40 -c inferno -n \"Spiral Galaxy M81\""
   ]
  },
  {
   "cell_type": "code",
   "execution_count": null,
   "id": "7a7f1f73-3d0f-461d-b642-b4d0b4339337",
   "metadata": {},
   "outputs": [],
   "source": [
    "# run this cell to display PNG file #\n",
    "\n",
    "import IPython.display\n",
    "\n",
    "IPython.display.Image ('m81.png')"
   ]
  },
  {
   "cell_type": "code",
   "execution_count": null,
   "id": "b064bd70-4e46-4a1b-a96f-d2b0d65f4684",
   "metadata": {},
   "outputs": [],
   "source": [
    "# run this cell to execute the script #\n",
    "\n",
    "!python3.9 ai202209_s14_02_04.py -t \"Stephan's Quintet\" -o quintet.png -s SDSSr -c ocean -f 30 -n \"Stephan's Quintet\""
   ]
  },
  {
   "cell_type": "code",
   "execution_count": null,
   "id": "b663209e-2e2c-4db4-bd2e-3dc6c1779f81",
   "metadata": {},
   "outputs": [],
   "source": [
    "# run this cell to display PNG file #\n",
    "\n",
    "import IPython.display\n",
    "\n",
    "IPython.display.Image ('quintet.png')"
   ]
  },
  {
   "cell_type": "markdown",
   "id": "59c8a48d-3e61-46fe-9d2f-1898fa5987d2",
   "metadata": {},
   "source": [
    "# Sample script 03-00 #"
   ]
  },
  {
   "cell_type": "code",
   "execution_count": null,
   "id": "013c4f27-a4ac-4115-87d7-7c0dd5cf3eb9",
   "metadata": {},
   "outputs": [],
   "source": [
    "# run this cell to show the source code #\n",
    "\n",
    "!cat ai202209_s14_03_00.py"
   ]
  },
  {
   "cell_type": "code",
   "execution_count": null,
   "id": "beb9bbc9-5e17-48fb-b390-f75bc81de2aa",
   "metadata": {},
   "outputs": [],
   "source": [
    "# run this cell to execute the script #\n",
    "\n",
    "!python3.9 ai202209_s14_03_00.py"
   ]
  },
  {
   "cell_type": "markdown",
   "id": "87163885-9aed-414a-82e4-bccdd5c58c25",
   "metadata": {},
   "source": [
    "# Sample script 03-01 #"
   ]
  },
  {
   "cell_type": "code",
   "execution_count": null,
   "id": "bc999016-c7fd-481a-95c0-1469680f0c7b",
   "metadata": {},
   "outputs": [],
   "source": [
    "# run this cell to show the source code #\n",
    "\n",
    "!cat ai202209_s14_03_01.py"
   ]
  },
  {
   "cell_type": "code",
   "execution_count": null,
   "id": "7c4f10fa-41d2-42a1-8608-e0a6cf71dbf3",
   "metadata": {},
   "outputs": [],
   "source": [
    "# run this cell to execute the script #\n",
    "\n",
    "!python3.9 ai202209_s14_03_01.py -h"
   ]
  },
  {
   "cell_type": "code",
   "execution_count": null,
   "id": "db97093d-1955-4c83-b690-93ffe1c31f12",
   "metadata": {},
   "outputs": [],
   "source": [
    "# run this cell to execute the script #\n",
    "\n",
    "!python3.9 ai202209_s14_03_01.py -t M4 -o m4.vot.gz -r 30"
   ]
  },
  {
   "cell_type": "markdown",
   "id": "ae325e82-287b-4a6a-8af3-7313466856f2",
   "metadata": {},
   "source": [
    "# Sample script 04-00 #"
   ]
  },
  {
   "cell_type": "code",
   "execution_count": null,
   "id": "0c92c390-bc9f-4346-a99b-2aa645eba85b",
   "metadata": {},
   "outputs": [],
   "source": [
    "# run this cell to show the source code #\n",
    "\n",
    "!cat ai202209_s14_04_00.py"
   ]
  },
  {
   "cell_type": "code",
   "execution_count": null,
   "id": "7d5369c9-6956-47fc-92cd-772ec935565b",
   "metadata": {},
   "outputs": [],
   "source": [
    "# run this cell to execute the script #\n",
    "\n",
    "!python3.9 ai202209_s14_04_00.py > m3.list"
   ]
  },
  {
   "cell_type": "code",
   "execution_count": null,
   "id": "16d33521-acc6-4676-a147-0ac71448c63c",
   "metadata": {},
   "outputs": [],
   "source": [
    "!head m3.list"
   ]
  },
  {
   "cell_type": "markdown",
   "id": "d4c8ebcd-8a1e-4a84-8f83-5f621e47d551",
   "metadata": {},
   "source": [
    "# Sample script 04-01 #"
   ]
  },
  {
   "cell_type": "code",
   "execution_count": null,
   "id": "bb923e75-3ee2-4760-885b-d4943c7f31be",
   "metadata": {},
   "outputs": [],
   "source": [
    "# run this cell to show the source code #\n",
    "\n",
    "!cat ai202209_s14_04_01.py"
   ]
  },
  {
   "cell_type": "code",
   "execution_count": null,
   "id": "8a5b08d6-3080-4411-b2f3-595268a92e8b",
   "metadata": {},
   "outputs": [],
   "source": [
    "# run this cell to execute the script #\n",
    "\n",
    "!python3.9 ai202209_s14_04_01.py -h"
   ]
  },
  {
   "cell_type": "code",
   "execution_count": null,
   "id": "ad0d6918-998c-4218-b683-9a6160557522",
   "metadata": {},
   "outputs": [],
   "source": [
    "# run this cell to execute the script #\n",
    "\n",
    "!python3.9 ai202209_s14_04_01.py -i m4.vot.gz -o m4.list"
   ]
  },
  {
   "cell_type": "code",
   "execution_count": null,
   "id": "d17ba9c8-ac4f-4a49-9450-b1e0397a5191",
   "metadata": {},
   "outputs": [],
   "source": [
    "!head m4.list"
   ]
  },
  {
   "cell_type": "markdown",
   "id": "1e9c28d5-3fa3-48c2-baa8-d335218da32c",
   "metadata": {},
   "source": [
    "# NGC 2547 #"
   ]
  },
  {
   "cell_type": "code",
   "execution_count": null,
   "id": "791816b3-5128-429a-bd09-69685fe582af",
   "metadata": {},
   "outputs": [],
   "source": [
    "!python3.9 ./ai202209_s14_02_04.py -t \"NGC 2547\" -f 60 -o ngc2547.png -n \"NGC 2547\" -s \"DSS2 Red\" -c inferno"
   ]
  },
  {
   "cell_type": "code",
   "execution_count": null,
   "id": "ee15c72b-827e-457e-ae6a-cb7f358adcdf",
   "metadata": {},
   "outputs": [],
   "source": [
    "# run this cell to display PNG file #\n",
    "\n",
    "import IPython.display\n",
    "\n",
    "IPython.display.Image ('ngc2547.png')"
   ]
  },
  {
   "cell_type": "code",
   "execution_count": null,
   "id": "14556e41-bb2b-4392-8284-4c237f655ee9",
   "metadata": {},
   "outputs": [],
   "source": [
    "!python3.9 ./ai202209_s14_03_01.py -t \"NGC 2547\" -o ngc2547.vot.gz -r 30"
   ]
  },
  {
   "cell_type": "markdown",
   "id": "d48ae118-2f8d-4cc1-98c1-f29396859fc8",
   "metadata": {},
   "source": [
    "# Sample script 05-00 #"
   ]
  },
  {
   "cell_type": "code",
   "execution_count": null,
   "id": "d392ee0b-035e-4e56-bfac-3fd5390ff7b8",
   "metadata": {},
   "outputs": [],
   "source": [
    "# run this cell to show the source code #\n",
    "\n",
    "!cat ai202209_s14_05_00.py"
   ]
  },
  {
   "cell_type": "code",
   "execution_count": null,
   "id": "1ba59116-aea4-4dc1-8f7d-6a3ba2eef901",
   "metadata": {},
   "outputs": [],
   "source": [
    "# run this cell to execute the script #\n",
    "\n",
    "!python3.9 ai202209_s14_05_00.py -h"
   ]
  },
  {
   "cell_type": "code",
   "execution_count": null,
   "id": "36a2350f-343d-49a9-810b-15492e450750",
   "metadata": {},
   "outputs": [],
   "source": [
    "# run this cell to execute the script #\n",
    "\n",
    "!python3.9 ai202209_s14_05_00.py -i ngc2547.vot.gz -o ngc2547_stars.png -t \"NGC 2547\""
   ]
  },
  {
   "cell_type": "code",
   "execution_count": null,
   "id": "97dd2077-1b30-42d7-a5f4-8bf9f6ed9707",
   "metadata": {},
   "outputs": [],
   "source": [
    "# run this cell to display PNG file #\n",
    "\n",
    "import IPython.display\n",
    "\n",
    "IPython.display.Image ('ngc2547_stars.png')"
   ]
  },
  {
   "cell_type": "markdown",
   "id": "86d0ed42-2fc5-40ba-be42-398702097b9f",
   "metadata": {},
   "source": [
    "# Sample script 05-01 #"
   ]
  },
  {
   "cell_type": "code",
   "execution_count": null,
   "id": "3dc4e1e2-67ab-4682-a6e4-8b1d29d0c929",
   "metadata": {},
   "outputs": [],
   "source": [
    "# run this cell to show the source code #\n",
    "\n",
    "!cat ai202209_s14_05_01.py"
   ]
  },
  {
   "cell_type": "code",
   "execution_count": null,
   "id": "e425cb6d-2e4f-49d1-b8f3-ee82349bf4b1",
   "metadata": {},
   "outputs": [],
   "source": [
    "# run this cell to execute the script #\n",
    "\n",
    "!python3.9 ai202209_s14_05_01.py -h"
   ]
  },
  {
   "cell_type": "code",
   "execution_count": null,
   "id": "c7a8f993-7f32-48db-a88e-4babbce31078",
   "metadata": {},
   "outputs": [],
   "source": [
    "# run this cell to execute the script #\n",
    "\n",
    "!python3.9 ai202209_s14_05_01.py -i ngc2547.vot.gz -o ngc2547_err_ra.png -t \"Errors of RA measurements\""
   ]
  },
  {
   "cell_type": "code",
   "execution_count": null,
   "id": "a678f910-b319-4eaf-990e-7625bf21ec72",
   "metadata": {},
   "outputs": [],
   "source": [
    "# run this cell to display PNG file #\n",
    "\n",
    "import IPython.display\n",
    "\n",
    "IPython.display.Image ('ngc2547_err_ra.png')"
   ]
  },
  {
   "cell_type": "markdown",
   "id": "4ae1c67c-a4e2-445e-b496-66b46dc74103",
   "metadata": {},
   "source": [
    "# Sample script 05-02 #"
   ]
  },
  {
   "cell_type": "code",
   "execution_count": null,
   "id": "9289063b-e613-451a-b9e1-bb0e64429c29",
   "metadata": {},
   "outputs": [],
   "source": [
    "# run this cell to show the source code #\n",
    "\n",
    "!cat ai202209_s14_05_02.py"
   ]
  },
  {
   "cell_type": "code",
   "execution_count": null,
   "id": "30b0ae77-064f-47be-a8b8-43086007bf86",
   "metadata": {},
   "outputs": [],
   "source": [
    "# run this cell to execute the script #\n",
    "\n",
    "!python3.9 ai202209_s14_05_02.py -h"
   ]
  },
  {
   "cell_type": "code",
   "execution_count": null,
   "id": "e47a1b4b-8f4c-4a05-a158-b2785f74ee5b",
   "metadata": {},
   "outputs": [],
   "source": [
    "# run this cell to execute the script #\n",
    "\n",
    "!python3.9 ai202209_s14_05_02.py -i ngc2547.vot.gz -o ngc2547_err_dec.png -t \"Errors of Dec measurements\""
   ]
  },
  {
   "cell_type": "code",
   "execution_count": null,
   "id": "f1e2fcce-64f6-4ba7-86d0-6dbe3a020484",
   "metadata": {},
   "outputs": [],
   "source": [
    "# run this cell to display PNG file #\n",
    "\n",
    "import IPython.display\n",
    "\n",
    "IPython.display.Image ('ngc2547_err_dec.png')"
   ]
  },
  {
   "cell_type": "markdown",
   "id": "c0d022e5-69aa-4a7f-aa48-00be56dfef76",
   "metadata": {},
   "source": [
    "# Sample script 05-03 #"
   ]
  },
  {
   "cell_type": "code",
   "execution_count": null,
   "id": "a9279e9c-b1ce-4a58-bb13-aa5df2db7d5e",
   "metadata": {},
   "outputs": [],
   "source": [
    "# run this cell to show the source code #\n",
    "\n",
    "!cat ai202209_s14_05_03.py"
   ]
  },
  {
   "cell_type": "code",
   "execution_count": null,
   "id": "c087e1b5-3665-4e81-9d7f-459bd509e37c",
   "metadata": {},
   "outputs": [],
   "source": [
    "# run this cell to execute the script #\n",
    "\n",
    "!python3.9 ai202209_s14_05_03.py -h"
   ]
  },
  {
   "cell_type": "code",
   "execution_count": null,
   "id": "5ea3f88c-fc14-4ce3-8c44-67cb9bc50511",
   "metadata": {},
   "outputs": [],
   "source": [
    "# run this cell to execute the script #\n",
    "\n",
    "!python3.9 ai202209_s14_05_03.py -i ngc2547.vot.gz -o ngc2547_err_pm_ra.png -t \"Proper motion relative error in RA\""
   ]
  },
  {
   "cell_type": "code",
   "execution_count": null,
   "id": "71d87dce-c1c1-408e-a772-2db0f2c990b8",
   "metadata": {},
   "outputs": [],
   "source": [
    "# run this cell to display PNG file #\n",
    "\n",
    "import IPython.display\n",
    "\n",
    "IPython.display.Image ('ngc2547_err_pm_ra.png')"
   ]
  },
  {
   "cell_type": "markdown",
   "id": "76f8b2da-7eef-4fc2-803b-49ea973dc667",
   "metadata": {},
   "source": [
    "# Sample script 05-04 #"
   ]
  },
  {
   "cell_type": "code",
   "execution_count": null,
   "id": "c25adb83-0b25-4b87-a23b-a5390f28e540",
   "metadata": {},
   "outputs": [],
   "source": [
    "# run this cell to show the source code #\n",
    "\n",
    "!cat ai202209_s14_05_04.py"
   ]
  },
  {
   "cell_type": "code",
   "execution_count": null,
   "id": "a620f238-7af4-44be-b23a-bc759d6461eb",
   "metadata": {},
   "outputs": [],
   "source": [
    "# run this cell to execute the script #\n",
    "\n",
    "!python3.9 ai202209_s14_05_04.py -h"
   ]
  },
  {
   "cell_type": "code",
   "execution_count": null,
   "id": "77170ded-9743-4f4d-8e07-59f532b3b116",
   "metadata": {},
   "outputs": [],
   "source": [
    "# run this cell to execute the script #\n",
    "\n",
    "!python3.9 ai202209_s14_05_04.py -i ngc2547.vot.gz -o ngc2547_err_pm_dec.png -t \"Proper motion relative error in Dec\""
   ]
  },
  {
   "cell_type": "code",
   "execution_count": null,
   "id": "174c402f-02c7-4c9e-8abc-9d54bdb68903",
   "metadata": {},
   "outputs": [],
   "source": [
    "# run this cell to display PNG file #\n",
    "\n",
    "import IPython.display\n",
    "\n",
    "IPython.display.Image ('ngc2547_err_pm_dec.png')"
   ]
  },
  {
   "cell_type": "markdown",
   "id": "699e643c-fb4b-4d39-8ed8-21501ec38a93",
   "metadata": {},
   "source": [
    "# Sample script 05-05 #"
   ]
  },
  {
   "cell_type": "code",
   "execution_count": null,
   "id": "163c41bc-d327-4493-abd0-d551add6e2bc",
   "metadata": {},
   "outputs": [],
   "source": [
    "# run this cell to show the source code #\n",
    "\n",
    "!cat ai202209_s14_05_05.py"
   ]
  },
  {
   "cell_type": "code",
   "execution_count": null,
   "id": "ccbe319a-d7d1-4c49-942f-aeb707dd77d9",
   "metadata": {},
   "outputs": [],
   "source": [
    "# run this cell to execute the script #\n",
    "\n",
    "!python3.9 ai202209_s14_05_05.py -h"
   ]
  },
  {
   "cell_type": "code",
   "execution_count": null,
   "id": "6246453f-c51e-4705-a734-97e99c330f8c",
   "metadata": {},
   "outputs": [],
   "source": [
    "# run this cell to execute the script #\n",
    "\n",
    "!python3.9 ai202209_s14_05_05.py -i ngc2547.vot.gz -o ngc2547_err_parallax.png -t \"SNR of parallax measurements\""
   ]
  },
  {
   "cell_type": "code",
   "execution_count": null,
   "id": "0ee9d3d3-bec0-4bed-8249-5365320eaab3",
   "metadata": {},
   "outputs": [],
   "source": [
    "# run this cell to display PNG file #\n",
    "\n",
    "import IPython.display\n",
    "\n",
    "IPython.display.Image ('ngc2547_err_parallax.png')"
   ]
  },
  {
   "cell_type": "markdown",
   "id": "39832ced-b54d-42b4-b52b-de6cb379d79e",
   "metadata": {},
   "source": [
    "# Sample script 05-06 #"
   ]
  },
  {
   "cell_type": "code",
   "execution_count": null,
   "id": "14647721-7fd8-4847-b257-19e9d33324a4",
   "metadata": {},
   "outputs": [],
   "source": [
    "# run this cell to show the source code #\n",
    "\n",
    "!cat ai202209_s14_05_06.py"
   ]
  },
  {
   "cell_type": "code",
   "execution_count": null,
   "id": "7d1a5ee5-d99f-4534-9ae7-b4b6a87527a6",
   "metadata": {},
   "outputs": [],
   "source": [
    "# run this cell to execute the script #\n",
    "\n",
    "!python3.9 ai202209_s14_05_06.py -h"
   ]
  },
  {
   "cell_type": "code",
   "execution_count": null,
   "id": "4238dd41-8a39-4163-a9dc-52d22e7caeb7",
   "metadata": {},
   "outputs": [],
   "source": [
    "# run this cell to execute the script #\n",
    "\n",
    "!python3.9 ai202209_s14_05_06.py -i ngc2547.vot.gz -o ngc2547_err_g.png -t \"SNR of g-band magnitude\""
   ]
  },
  {
   "cell_type": "code",
   "execution_count": null,
   "id": "10ac222f-c54d-416a-979c-e11c25fd24e2",
   "metadata": {},
   "outputs": [],
   "source": [
    "# run this cell to display PNG file #\n",
    "\n",
    "import IPython.display\n",
    "\n",
    "IPython.display.Image ('ngc2547_err_g.png')"
   ]
  },
  {
   "cell_type": "markdown",
   "id": "eb405579-8856-48ab-a8e7-c238ab360a5c",
   "metadata": {},
   "source": [
    "# Sample script 05-07 #"
   ]
  },
  {
   "cell_type": "code",
   "execution_count": null,
   "id": "537349b1-a0bd-49e9-b0f4-449225c9c0ef",
   "metadata": {},
   "outputs": [],
   "source": [
    "# run this cell to show the source code #\n",
    "\n",
    "!cat ai202209_s14_05_07.py"
   ]
  },
  {
   "cell_type": "code",
   "execution_count": null,
   "id": "5a8f8e93-2a49-4bb7-b786-57dbb85ba327",
   "metadata": {},
   "outputs": [],
   "source": [
    "# run this cell to execute the script #\n",
    "\n",
    "!python3.9 ai202209_s14_05_07.py -h"
   ]
  },
  {
   "cell_type": "code",
   "execution_count": null,
   "id": "2118df15-794d-4ca1-a17c-e0b45a4518c9",
   "metadata": {},
   "outputs": [],
   "source": [
    "# run this cell to execute the script #\n",
    "\n",
    "!python3.9 ai202209_s14_05_07.py -i ngc2547.vot.gz -o ngc2547_err_b.png -t \"SNR of b-band magnitude\""
   ]
  },
  {
   "cell_type": "code",
   "execution_count": null,
   "id": "742a6971-6a56-4fd5-90eb-6d76258b86f4",
   "metadata": {},
   "outputs": [],
   "source": [
    "# run this cell to display PNG file #\n",
    "\n",
    "import IPython.display\n",
    "\n",
    "IPython.display.Image ('ngc2547_err_b.png')"
   ]
  },
  {
   "cell_type": "markdown",
   "id": "b8e989e5-779e-412a-aa9f-4cfadb9f8b68",
   "metadata": {},
   "source": [
    "# Sample script 05-08 #"
   ]
  },
  {
   "cell_type": "code",
   "execution_count": null,
   "id": "bd71cdf4-af04-4ed5-84a7-cdc503154a86",
   "metadata": {},
   "outputs": [],
   "source": [
    "# run this cell to show the source code #\n",
    "\n",
    "!cat ai202209_s14_05_08.py"
   ]
  },
  {
   "cell_type": "code",
   "execution_count": null,
   "id": "275fc0f8-195c-416b-bd07-f1964bfbf43d",
   "metadata": {},
   "outputs": [],
   "source": [
    "# run this cell to execute the script #\n",
    "\n",
    "!python3.9 ai202209_s14_05_08.py -h"
   ]
  },
  {
   "cell_type": "code",
   "execution_count": null,
   "id": "2d7c53a9-a107-460d-8a2e-fbd80b35bdf9",
   "metadata": {},
   "outputs": [],
   "source": [
    "# run this cell to execute the script #\n",
    "\n",
    "!python3.9 ai202209_s14_05_08.py -i ngc2547.vot.gz -o ngc2547_err_r.png -t \"SNR of r-band magnitude\""
   ]
  },
  {
   "cell_type": "code",
   "execution_count": null,
   "id": "6dc14e4e-738f-4557-a737-bdda822e18ab",
   "metadata": {},
   "outputs": [],
   "source": [
    "# run this cell to display PNG file #\n",
    "\n",
    "import IPython.display\n",
    "\n",
    "IPython.display.Image ('ngc2547_err_r.png')"
   ]
  },
  {
   "cell_type": "markdown",
   "id": "d3641cd7-b17b-41a3-b047-faab980e614c",
   "metadata": {},
   "source": [
    "# Sample script 05-09 #"
   ]
  },
  {
   "cell_type": "code",
   "execution_count": null,
   "id": "b1ed0e9a-3422-40e6-90d8-c77c080e45af",
   "metadata": {},
   "outputs": [],
   "source": [
    "# run this cell to show the source code #\n",
    "\n",
    "!cat ai202209_s14_05_09.py"
   ]
  },
  {
   "cell_type": "code",
   "execution_count": null,
   "id": "bfcd0fe9-31b6-4787-986d-063b60a6b523",
   "metadata": {},
   "outputs": [],
   "source": [
    "# run this cell to execute the script #\n",
    "\n",
    "!python3.9 ai202209_s14_05_09.py -h"
   ]
  },
  {
   "cell_type": "code",
   "execution_count": null,
   "id": "deaae164-19f3-492d-92ef-f7db22030c74",
   "metadata": {},
   "outputs": [],
   "source": [
    "# run this cell to execute the script #\n",
    "\n",
    "!python3.9 ai202209_s14_05_09.py -i ngc2547.vot.gz -o ngc2547_dist.png -a 0 -b 1000 -n 100"
   ]
  },
  {
   "cell_type": "code",
   "execution_count": null,
   "id": "b7ce76f5-a99e-487d-9707-f32adee45946",
   "metadata": {},
   "outputs": [],
   "source": [
    "# run this cell to display PNG file #\n",
    "\n",
    "import IPython.display\n",
    "\n",
    "IPython.display.Image ('ngc2547_dist.png')"
   ]
  },
  {
   "cell_type": "code",
   "execution_count": null,
   "id": "487d61f5-509e-4591-8eec-ffe3eb5ef196",
   "metadata": {},
   "outputs": [],
   "source": [
    "# run this cell to execute the script #\n",
    "\n",
    "!python3.9 ai202209_s14_05_09.py -i ngc2547.vot.gz -o ngc2547_dist.png -a 300 -b 500 -n 40"
   ]
  },
  {
   "cell_type": "code",
   "execution_count": null,
   "id": "375974e1-5baa-4220-89bf-c4260c1fb2dc",
   "metadata": {},
   "outputs": [],
   "source": [
    "# run this cell to display PNG file #\n",
    "\n",
    "import IPython.display\n",
    "\n",
    "IPython.display.Image ('ngc2547_dist2.png')"
   ]
  },
  {
   "cell_type": "markdown",
   "id": "6de7a66a-53f1-4fde-b09a-28628fe5d67f",
   "metadata": {},
   "source": [
    "# Sample script 05-10 #"
   ]
  },
  {
   "cell_type": "code",
   "execution_count": null,
   "id": "ae37fb9c-c362-40ea-9e82-eb30b3cf5a76",
   "metadata": {},
   "outputs": [],
   "source": [
    "# run this cell to show the source code #\n",
    "\n",
    "!cat ai202209_s14_05_10.py"
   ]
  },
  {
   "cell_type": "code",
   "execution_count": null,
   "id": "1f454f6a-67fb-4ce9-841c-a17f7b371d6c",
   "metadata": {},
   "outputs": [],
   "source": [
    "# run this cell to execute the script #\n",
    "\n",
    "!python3.9 ai202209_s14_05_10.py -h"
   ]
  },
  {
   "cell_type": "code",
   "execution_count": null,
   "id": "a99915bd-504c-4eb6-a4b0-e5d403d54b5a",
   "metadata": {},
   "outputs": [],
   "source": [
    "# run this cell to execute the script #\n",
    "\n",
    "!python3.9 ai202209_s14_05_10.py -i ngc2547.vot.gz -o ngc2547_candidates.list -a 375 -b 405"
   ]
  },
  {
   "cell_type": "code",
   "execution_count": null,
   "id": "2a09bb3f-1bdc-4126-a2bd-385806aafb50",
   "metadata": {},
   "outputs": [],
   "source": [
    "!head ngc2547_candidates.list | cut -b 1-80"
   ]
  },
  {
   "cell_type": "markdown",
   "id": "b8c977b0-0295-462e-9c7c-b1cfe29a9549",
   "metadata": {},
   "source": [
    "# Sample script 05-11 #"
   ]
  },
  {
   "cell_type": "code",
   "execution_count": null,
   "id": "350c5f6d-df65-4379-abd6-06ed56866e80",
   "metadata": {},
   "outputs": [],
   "source": [
    "# run this cell to show the source code #\n",
    "\n",
    "!cat ai202209_s14_05_11.py"
   ]
  },
  {
   "cell_type": "code",
   "execution_count": null,
   "id": "bd302563-97cc-4aa6-a8ce-4eb951d02555",
   "metadata": {},
   "outputs": [],
   "source": [
    "# run this cell to execute the script #\n",
    "\n",
    "!python3.9 ai202209_s14_05_11.py -h"
   ]
  },
  {
   "cell_type": "code",
   "execution_count": null,
   "id": "7368f6e5-cc2d-4f5e-902b-adbc43f1c21e",
   "metadata": {},
   "outputs": [],
   "source": [
    "# run this cell to execute the script #\n",
    "\n",
    "!python3.9 ai202209_s14_05_11.py -i ngc2547_candidates.list -o ngc2547_pm.png"
   ]
  },
  {
   "cell_type": "code",
   "execution_count": null,
   "id": "caa7433c-ff96-4e51-a2c6-ec5ad0043cf5",
   "metadata": {},
   "outputs": [],
   "source": [
    "# run this cell to display PNG file #\n",
    "\n",
    "import IPython.display\n",
    "\n",
    "IPython.display.Image ('ngc2547_pm.png')"
   ]
  },
  {
   "cell_type": "markdown",
   "id": "b97ad2fa-329b-4427-af4c-66797a91c1fa",
   "metadata": {},
   "source": [
    "# Sample script 05-12 #"
   ]
  },
  {
   "cell_type": "code",
   "execution_count": null,
   "id": "68fda0b0-27cc-4006-80e0-d0f160bcee9b",
   "metadata": {},
   "outputs": [],
   "source": [
    "# run this cell to show the source code #\n",
    "\n",
    "!cat ai202209_s14_05_12.py"
   ]
  },
  {
   "cell_type": "code",
   "execution_count": null,
   "id": "20311e98-153f-4457-bad5-f979f25ac678",
   "metadata": {},
   "outputs": [],
   "source": [
    "# run this cell to execute the script #\n",
    "\n",
    "!python3.9 ai202209_s14_05_12.py -h"
   ]
  },
  {
   "cell_type": "code",
   "execution_count": null,
   "id": "149d60d6-6188-4c40-99e0-3b880b7512a3",
   "metadata": {},
   "outputs": [],
   "source": [
    "# run this cell to execute the script #\n",
    "\n",
    "!python3.9 ai202209_s14_05_12.py -i ngc2547_candidates.list -o ngc2547_candidates2.list"
   ]
  },
  {
   "cell_type": "code",
   "execution_count": null,
   "id": "cd4a5362-be2d-4c7a-83ce-ae7b566388ae",
   "metadata": {},
   "outputs": [],
   "source": [
    "!head ngc2547_candidates2.list | cut -b 1-80"
   ]
  },
  {
   "cell_type": "code",
   "execution_count": null,
   "id": "f4e20361-3fe0-4e76-9233-20bce8cac015",
   "metadata": {},
   "outputs": [],
   "source": [
    "# run this cell to execute the script #\n",
    "\n",
    "!python3.9 ai202209_s14_05_11.py -i ngc2547_candidates2.list -o ngc2547_pm2.png"
   ]
  },
  {
   "cell_type": "code",
   "execution_count": null,
   "id": "69a88a19-3d18-40a3-b97f-f70286f90444",
   "metadata": {},
   "outputs": [],
   "source": [
    "# run this cell to display PNG file #\n",
    "\n",
    "import IPython.display\n",
    "\n",
    "IPython.display.Image ('ngc2547_pm2.png')"
   ]
  },
  {
   "cell_type": "markdown",
   "id": "a33d6695-19f3-4917-b680-40dc077efc9f",
   "metadata": {},
   "source": [
    "# Sample script 05-13 #"
   ]
  },
  {
   "cell_type": "code",
   "execution_count": null,
   "id": "ad10d5ac-f225-4ce4-a586-f0fe9d6c3d85",
   "metadata": {},
   "outputs": [],
   "source": [
    "# run this cell to show the source code #\n",
    "\n",
    "!cat ai202209_s14_05_13.py"
   ]
  },
  {
   "cell_type": "code",
   "execution_count": null,
   "id": "e00e10bb-1976-438e-a25d-178fd78c5e93",
   "metadata": {},
   "outputs": [],
   "source": [
    "# run this cell to execute the script #\n",
    "\n",
    "!python3.9 ai202209_s14_05_13.py -h"
   ]
  },
  {
   "cell_type": "code",
   "execution_count": null,
   "id": "eae1c79a-12bb-4769-9ad8-e50cab37e3c8",
   "metadata": {},
   "outputs": [],
   "source": [
    "# run this cell to execute the script #\n",
    "\n",
    "!python3.9 ai202209_s14_05_13.py -i ngc2547_candidates2.list -o ngc2547_hr.png -t \"Open Cluster NGC 2547\""
   ]
  },
  {
   "cell_type": "code",
   "execution_count": null,
   "id": "5402fb58-2e26-4933-9638-33c5acec6a3b",
   "metadata": {},
   "outputs": [],
   "source": [
    "# run this cell to display PNG file #\n",
    "\n",
    "import IPython.display\n",
    "\n",
    "IPython.display.Image ('ngc2547_hr.png')"
   ]
  },
  {
   "cell_type": "markdown",
   "id": "74d7ca7b-7aa6-4197-a6c7-99ef357a4468",
   "metadata": {},
   "source": [
    "# M67 #"
   ]
  },
  {
   "cell_type": "code",
   "execution_count": null,
   "id": "2085e2f6-df16-4b68-ac47-84e57fabb513",
   "metadata": {},
   "outputs": [],
   "source": [
    "# run this cell to display PNG file #\n",
    "\n",
    "import IPython.display\n",
    "\n",
    "IPython.display.Image ('m67_hr.png')"
   ]
  },
  {
   "cell_type": "markdown",
   "id": "a89250a7-3e5c-4459-97d9-2949b7be60bd",
   "metadata": {},
   "source": [
    "# NGC 6397 #"
   ]
  },
  {
   "cell_type": "code",
   "execution_count": null,
   "id": "2241225f-bc75-4748-b77f-0a0d61dc64ad",
   "metadata": {},
   "outputs": [],
   "source": [
    "# run this cell to display PNG file #\n",
    "\n",
    "import IPython.display\n",
    "\n",
    "IPython.display.Image ('ngc6397_hr.png')"
   ]
  },
  {
   "cell_type": "markdown",
   "id": "d34add0f-79b5-48a0-9f52-f0654dd9b3f0",
   "metadata": {},
   "source": [
    "# end of the notebook #"
   ]
  },
  {
   "cell_type": "code",
   "execution_count": null,
   "id": "15b08d5b-c97e-45f6-816c-f9572aea8513",
   "metadata": {},
   "outputs": [],
   "source": []
  }
 ],
 "metadata": {
  "kernelspec": {
   "display_name": "Python 3 (ipykernel)",
   "language": "python",
   "name": "python3"
  },
  "language_info": {
   "codemirror_mode": {
    "name": "ipython",
    "version": 3
   },
   "file_extension": ".py",
   "mimetype": "text/x-python",
   "name": "python",
   "nbconvert_exporter": "python",
   "pygments_lexer": "ipython3",
   "version": "3.9.14"
  }
 },
 "nbformat": 4,
 "nbformat_minor": 5
}
