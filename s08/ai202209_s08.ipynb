{
 "cells": [
  {
   "cell_type": "markdown",
   "id": "527bf7c3-828b-44e9-8d8d-2a9bc4732b76",
   "metadata": {},
   "source": [
    "# Session 08 of Astroinformatics (first semester, academic year 2022) #\n",
    "\n",
    "- About the course\n",
    "    - course name: \"Astroinformatics\"\n",
    "    - semester: from Sep/2022 to Jan/2023\n",
    "    - lecture hours: from 09:00 to 12:00\n",
    "    - classroom: S4-914\n",
    "    - instructor: Kinoshita Daisuke\n",
    "    - course web page: https://s3b.astro.ncu.edu.tw/ai_202209/\n",
    "    - GitHub repository: https://github.com/kinoshitadaisuke/ncu_astroinformatics_202209\n",
    "    - Binder web page: https://mybinder.org/v2/gh/kinoshitadaisuke/ncu_astroinformatics_202209/HEAD"
   ]
  },
  {
   "cell_type": "markdown",
   "id": "57ed5cc3-2d49-4c16-bd14-feb937647071",
   "metadata": {},
   "source": [
    "## About this notebook ##\n",
    "\n",
    "This is a notebook for the __session 08__ of \"Astroinformatics\" at first semester of academic year 2022.\n",
    "\n",
    "This notebook contains sample Python scripts only.\n",
    "\n",
    "The lecture note is provided at the course web page.\n",
    "\n",
    "To download the lecture note, visit following web page.\n",
    "\n",
    "https://s3b.astro.ncu.edu.tw/ai_202209/\n",
    "\n",
    "Note that the lecture note can be downloaded only from computers/mobile phones connected to the computer network of our university.\n",
    "\n",
    "Connect to Wi-Fi of our university or use VPN service of our university to download the lecture note.\n",
    "\n",
    "If you have any question about this notebook, contact to Kinoshita Daisuke."
   ]
  },
  {
   "cell_type": "markdown",
   "id": "2630e6bd-7298-49b6-a099-e8c6f170a053",
   "metadata": {},
   "source": [
    "# Sample script 00-00 #"
   ]
  },
  {
   "cell_type": "code",
   "execution_count": null,
   "id": "33e95764-d695-43cc-9ad6-4437b9cf3100",
   "metadata": {},
   "outputs": [],
   "source": [
    "# run this cell to show the source code #\n",
    "\n",
    "!cat ai202209_s08_00_00.py"
   ]
  },
  {
   "cell_type": "code",
   "execution_count": null,
   "id": "df8d7e12-cc07-4b14-84c6-4f0eed62b0ad",
   "metadata": {},
   "outputs": [],
   "source": [
    "# run this cell to execute the sample script #\n",
    "\n",
    "!python3.9 ai202209_s08_00_00.py"
   ]
  },
  {
   "cell_type": "markdown",
   "id": "f61d5fee-8524-4e12-bc9b-60a9e200c055",
   "metadata": {},
   "source": [
    "# Sample script 00-01 #"
   ]
  },
  {
   "cell_type": "code",
   "execution_count": null,
   "id": "d58a5c76-29d1-48a5-ab99-8f8e8e257f3f",
   "metadata": {},
   "outputs": [],
   "source": [
    "# run this cell to show the source code #\n",
    "\n",
    "!cat ai202209_s08_00_01.py"
   ]
  },
  {
   "cell_type": "code",
   "execution_count": null,
   "id": "ef1c9ca6-0a47-4be7-8b3f-f6c136a3821f",
   "metadata": {},
   "outputs": [],
   "source": [
    "# run this cell to execute the sample script #\n",
    "\n",
    "!python3.9 ai202209_s08_00_01.py"
   ]
  },
  {
   "cell_type": "markdown",
   "id": "74116966-2e41-4cda-8869-dad144edc0d7",
   "metadata": {},
   "source": [
    "# Sample script 00-02 #"
   ]
  },
  {
   "cell_type": "code",
   "execution_count": null,
   "id": "1e10fd9e-b1c1-4472-b24c-4a2643f5c793",
   "metadata": {},
   "outputs": [],
   "source": [
    "# run this cell to show the source code #\n",
    "\n",
    "!cat ai202209_s08_00_02.py"
   ]
  },
  {
   "cell_type": "code",
   "execution_count": null,
   "id": "d9031371-61da-43dd-aa27-e2034666a8fb",
   "metadata": {},
   "outputs": [],
   "source": [
    "# run this cell to execute the sample script #\n",
    "\n",
    "!python3.9 ai202209_s08_00_02.py"
   ]
  },
  {
   "cell_type": "markdown",
   "id": "6fd847da-91e7-4ef1-b7fa-d5e01509697a",
   "metadata": {},
   "source": [
    "# Sample script 00-03 #"
   ]
  },
  {
   "cell_type": "code",
   "execution_count": null,
   "id": "e4eb18bb-24f9-45dd-9b24-e321eaee5545",
   "metadata": {},
   "outputs": [],
   "source": [
    "# run this cell to show the source code #\n",
    "\n",
    "!cat ai202209_s08_00_03.py"
   ]
  },
  {
   "cell_type": "code",
   "execution_count": null,
   "id": "23569d37-22c9-4695-a68b-e0b0cc246c55",
   "metadata": {},
   "outputs": [],
   "source": [
    "# run this cell to execute the sample script #\n",
    "\n",
    "!python3.9 ai202209_s08_00_03.py"
   ]
  },
  {
   "cell_type": "markdown",
   "id": "3d974f4f-f926-47aa-bcc0-bfd6d7a35029",
   "metadata": {},
   "source": [
    "# Sample script 00-04 #"
   ]
  },
  {
   "cell_type": "code",
   "execution_count": null,
   "id": "95502cc9-7e7d-461c-8406-6c33900145a4",
   "metadata": {},
   "outputs": [],
   "source": [
    "# run this cell to show the source code #\n",
    "\n",
    "!cat ai202209_s08_00_04.py"
   ]
  },
  {
   "cell_type": "code",
   "execution_count": null,
   "id": "4083e5ad-0d2a-4933-9667-b7e5dcd0f0d6",
   "metadata": {},
   "outputs": [],
   "source": [
    "# run this cell to execute the sample script #\n",
    "\n",
    "!python3.9 ai202209_s08_00_04.py"
   ]
  },
  {
   "cell_type": "markdown",
   "id": "62a803f3-4264-43b1-9f2a-a0f7099a0627",
   "metadata": {},
   "source": [
    "# Sample script 00-05 #"
   ]
  },
  {
   "cell_type": "code",
   "execution_count": null,
   "id": "861fa00c-4278-4d00-b180-58a7bbd07b64",
   "metadata": {},
   "outputs": [],
   "source": [
    "# run this cell to show the source code #\n",
    "\n",
    "!cat ai202209_s08_00_05.py"
   ]
  },
  {
   "cell_type": "code",
   "execution_count": null,
   "id": "598eb048-a0e9-466d-9bed-6a6a7f7ba909",
   "metadata": {},
   "outputs": [],
   "source": [
    "# run this cell to execute the sample script #\n",
    "\n",
    "!python3.9 ai202209_s08_00_05.py"
   ]
  },
  {
   "cell_type": "markdown",
   "id": "5a239aed-f40f-4bf4-8639-37ac24b2af2c",
   "metadata": {},
   "source": [
    "# Sample script 01-00 #"
   ]
  },
  {
   "cell_type": "code",
   "execution_count": null,
   "id": "1a9267fe-dcc8-4697-aac9-721c96c95bd1",
   "metadata": {},
   "outputs": [],
   "source": [
    "# run this cell to show the source code #\n",
    "\n",
    "!cat ai202209_s08_01_00.py"
   ]
  },
  {
   "cell_type": "code",
   "execution_count": null,
   "id": "c6b028fc-221d-40f6-b22c-11144cdf73f7",
   "metadata": {},
   "outputs": [],
   "source": [
    "# run this cell to execute the sample script #\n",
    "\n",
    "!python3.9 ai202209_s08_01_00.py"
   ]
  },
  {
   "cell_type": "markdown",
   "id": "775235a1-bee4-47da-8e30-3ccdc45c655f",
   "metadata": {},
   "source": [
    "# Sample script 01-01 #"
   ]
  },
  {
   "cell_type": "code",
   "execution_count": null,
   "id": "b196082a-9fcb-4b26-acd6-1e771b476655",
   "metadata": {},
   "outputs": [],
   "source": [
    "# run this cell to show the source code #\n",
    "\n",
    "!cat ai202209_s08_01_01.py"
   ]
  },
  {
   "cell_type": "code",
   "execution_count": null,
   "id": "8645dd43-a8f1-47c2-99c4-230219883085",
   "metadata": {},
   "outputs": [],
   "source": [
    "# run this cell to execute the sample script #\n",
    "\n",
    "!python3.9 ai202209_s08_01_01.py"
   ]
  },
  {
   "cell_type": "markdown",
   "id": "dd1f3826-6edf-4c58-bf80-a5124d755d80",
   "metadata": {},
   "source": [
    "# Sample script 01-02 #"
   ]
  },
  {
   "cell_type": "code",
   "execution_count": null,
   "id": "8bbfd242-0171-472c-83eb-cbc2e5e77af4",
   "metadata": {},
   "outputs": [],
   "source": [
    "# run this cell to show the source code #\n",
    "\n",
    "!cat ai202209_s08_01_02.py"
   ]
  },
  {
   "cell_type": "code",
   "execution_count": null,
   "id": "ac1474cd-0088-4823-b02d-f68ccfe05754",
   "metadata": {},
   "outputs": [],
   "source": [
    "# run this cell to execute the sample script #\n",
    "\n",
    "!python3.9 ai202209_s08_01_02.py"
   ]
  },
  {
   "cell_type": "markdown",
   "id": "7fe411a3-71ca-4a1b-a3b5-100ee6364f30",
   "metadata": {},
   "source": [
    "# Sample script 01-03 #"
   ]
  },
  {
   "cell_type": "code",
   "execution_count": null,
   "id": "9d6f1f18-d40e-47a8-b5cc-647f1c5b395c",
   "metadata": {},
   "outputs": [],
   "source": [
    "# run this cell to show the source code #\n",
    "\n",
    "!cat ai202209_s08_01_03.py"
   ]
  },
  {
   "cell_type": "code",
   "execution_count": null,
   "id": "ef06f85e-37ef-49e3-9e0a-190776daa570",
   "metadata": {},
   "outputs": [],
   "source": [
    "# run this cell to execute the sample script #\n",
    "\n",
    "!python3.9 ai202209_s08_01_03.py"
   ]
  },
  {
   "cell_type": "markdown",
   "id": "faaeb16b-b5c2-4a0f-91f1-55a2e5ff4311",
   "metadata": {},
   "source": [
    "# Sample script 01-04 #"
   ]
  },
  {
   "cell_type": "code",
   "execution_count": null,
   "id": "cb24cde9-ace4-4672-87d7-ece46c0ddc79",
   "metadata": {},
   "outputs": [],
   "source": [
    "# run this cell to show the source code #\n",
    "\n",
    "!cat ai202209_s08_01_04.py"
   ]
  },
  {
   "cell_type": "code",
   "execution_count": null,
   "id": "3fd5222e-a7a5-47aa-a9b0-7c9fa0d036df",
   "metadata": {},
   "outputs": [],
   "source": [
    "# run this cell to execute the sample script #\n",
    "\n",
    "!python3.9 ai202209_s08_01_04.py"
   ]
  },
  {
   "cell_type": "markdown",
   "id": "cbe80395-80c5-47bf-97ac-7e7b12a0041d",
   "metadata": {},
   "source": [
    "# Sample script 01-05 #"
   ]
  },
  {
   "cell_type": "code",
   "execution_count": null,
   "id": "988cd2ee-2e24-446f-800d-c3e5ed52991c",
   "metadata": {},
   "outputs": [],
   "source": [
    "# run this cell to show the source code #\n",
    "\n",
    "!cat ai202209_s08_01_05.py"
   ]
  },
  {
   "cell_type": "code",
   "execution_count": null,
   "id": "9ed221df-575a-4772-87f8-0d6b2c0ab5d9",
   "metadata": {},
   "outputs": [],
   "source": [
    "# run this cell to execute the sample script #\n",
    "\n",
    "!python3.9 ai202209_s08_01_05.py"
   ]
  },
  {
   "cell_type": "code",
   "execution_count": null,
   "id": "7eb94458-787e-4cbc-8016-a3bb13e73c7b",
   "metadata": {},
   "outputs": [],
   "source": [
    "# run this cell to display image #\n",
    "\n",
    "import IPython.display\n",
    "\n",
    "IPython.display.Image ('sun_maxalt_ncu.png')"
   ]
  },
  {
   "cell_type": "markdown",
   "id": "a88129a7-1155-49f4-86d3-fa2af21c5a64",
   "metadata": {},
   "source": [
    "# Sample script 01-06 #"
   ]
  },
  {
   "cell_type": "code",
   "execution_count": null,
   "id": "83b056f7-ba37-40f9-8dc6-5b21baf850ce",
   "metadata": {},
   "outputs": [],
   "source": [
    "# run this cell to show the source code #\n",
    "\n",
    "!cat ai202209_s08_01_06.py"
   ]
  },
  {
   "cell_type": "code",
   "execution_count": null,
   "id": "f02fb6e4-1da9-4869-ab4e-06a24a5eaf89",
   "metadata": {},
   "outputs": [],
   "source": [
    "# run this cell to execute the sample script #\n",
    "\n",
    "!python3.9 ai202209_s08_01_06.py"
   ]
  },
  {
   "cell_type": "code",
   "execution_count": null,
   "id": "1c659486-f8c4-4b52-87fb-89b6af67dae1",
   "metadata": {},
   "outputs": [],
   "source": [
    "# run this cell to display image #\n",
    "\n",
    "import IPython.display\n",
    "\n",
    "IPython.display.Image ('sun_maxalt_world.png')"
   ]
  },
  {
   "cell_type": "markdown",
   "id": "c77c3893-419f-4520-ba98-a706ca396589",
   "metadata": {},
   "source": [
    "# Sample script 01-07 #"
   ]
  },
  {
   "cell_type": "code",
   "execution_count": null,
   "id": "dfc15aa6-ba1c-4b43-b7fc-83f5bdeac9b7",
   "metadata": {},
   "outputs": [],
   "source": [
    "# run this cell to show the source code #\n",
    "\n",
    "!cat ai202209_s08_01_07.py"
   ]
  },
  {
   "cell_type": "code",
   "execution_count": null,
   "id": "5ad00e13-74ea-4d56-881f-1d3f760ed892",
   "metadata": {},
   "outputs": [],
   "source": [
    "# run this cell to execute the sample script #\n",
    "\n",
    "!python3.9 ai202209_s08_01_07.py"
   ]
  },
  {
   "cell_type": "markdown",
   "id": "b42cd92c-b14d-44b7-9b7a-640c001bf758",
   "metadata": {},
   "source": [
    "# Sample script 01-08 #"
   ]
  },
  {
   "cell_type": "code",
   "execution_count": null,
   "id": "2224b644-5de4-4723-a647-1cffdc7c3d2d",
   "metadata": {},
   "outputs": [],
   "source": [
    "# run this cell to show the source code #\n",
    "\n",
    "!cat ai202209_s08_01_08.py"
   ]
  },
  {
   "cell_type": "code",
   "execution_count": null,
   "id": "47e1a3eb-48f2-4e43-b9a3-6f1d71c83988",
   "metadata": {},
   "outputs": [],
   "source": [
    "# run this cell to execute the sample script #\n",
    "\n",
    "!python3.9 ai202209_s08_01_08.py"
   ]
  },
  {
   "cell_type": "markdown",
   "id": "689d86a4-77d4-44f0-93ad-e73006e2ee02",
   "metadata": {},
   "source": [
    "# Sample script 01-09 #"
   ]
  },
  {
   "cell_type": "code",
   "execution_count": null,
   "id": "6cfe9d10-83b0-45cf-bbc6-8fce92ec5f32",
   "metadata": {},
   "outputs": [],
   "source": [
    "# run this cell to show the source code #\n",
    "\n",
    "!cat ai202209_s08_01_09.py"
   ]
  },
  {
   "cell_type": "code",
   "execution_count": null,
   "id": "9ce12f44-c3fa-4cc5-8489-55c8655a3314",
   "metadata": {},
   "outputs": [],
   "source": [
    "# run this cell to execute the sample script #\n",
    "\n",
    "!python3.9 ai202209_s08_01_09.py"
   ]
  },
  {
   "cell_type": "code",
   "execution_count": null,
   "id": "21770856-24c3-44c9-8912-69d1049bc92f",
   "metadata": {},
   "outputs": [],
   "source": [
    "# run this cell to display image #\n",
    "\n",
    "import IPython.display\n",
    "\n",
    "IPython.display.Image ('sun_sunset_az_ncu.png')"
   ]
  },
  {
   "cell_type": "markdown",
   "id": "464916d6-e96c-4154-b353-ea99810b3d42",
   "metadata": {},
   "source": [
    "# Sample script 01-10 #"
   ]
  },
  {
   "cell_type": "code",
   "execution_count": null,
   "id": "1b695870-cbff-44fe-a4b3-303032d3c508",
   "metadata": {},
   "outputs": [],
   "source": [
    "# run this cell to show the source code #\n",
    "\n",
    "!cat ai202209_s08_01_10.py"
   ]
  },
  {
   "cell_type": "code",
   "execution_count": null,
   "id": "e0fd7a1e-3f45-4d17-8279-02fe9b9ea7ba",
   "metadata": {},
   "outputs": [],
   "source": [
    "# run this cell to execute the sample script #\n",
    "\n",
    "!python3.9 ai202209_s08_01_10.py"
   ]
  },
  {
   "cell_type": "markdown",
   "id": "7e72418f-f328-4e36-b294-4c654d79e5ba",
   "metadata": {},
   "source": [
    "# Sample script 01-11 #"
   ]
  },
  {
   "cell_type": "code",
   "execution_count": null,
   "id": "b7907ee7-1ee8-4cfe-b20f-d10e7059cc32",
   "metadata": {},
   "outputs": [],
   "source": [
    "# run this cell to show the source code #\n",
    "\n",
    "!cat ai202209_s08_01_11.py"
   ]
  },
  {
   "cell_type": "code",
   "execution_count": null,
   "id": "be9a2533-adb1-497a-b4b2-ac71e854917b",
   "metadata": {},
   "outputs": [],
   "source": [
    "# run this cell to execute the sample script #\n",
    "\n",
    "!python3.9 ai202209_s08_01_11.py"
   ]
  },
  {
   "cell_type": "code",
   "execution_count": null,
   "id": "0c86b043-ee49-4011-abc7-4b393c7a870b",
   "metadata": {},
   "outputs": [],
   "source": [
    "# run this cell to display image #\n",
    "\n",
    "import IPython.display\n",
    "\n",
    "IPython.display.Image ('sun_sunrise_az_uppsala.png')"
   ]
  },
  {
   "cell_type": "markdown",
   "id": "3043786e-2a0f-4ff1-ada2-58d167479604",
   "metadata": {},
   "source": [
    "# Sample script 01-12 #"
   ]
  },
  {
   "cell_type": "code",
   "execution_count": null,
   "id": "98b649e6-f3ce-43c8-8052-c19cd28a9090",
   "metadata": {},
   "outputs": [],
   "source": [
    "# run this cell to show the source code #\n",
    "\n",
    "!cat ai202209_s08_01_12.py"
   ]
  },
  {
   "cell_type": "code",
   "execution_count": null,
   "id": "cf6c1e3f-51ae-4190-a4dc-b4d0b2c8c77d",
   "metadata": {},
   "outputs": [],
   "source": [
    "# run this cell to execute the sample script #\n",
    "\n",
    "!python3.9 ai202209_s08_01_12.py"
   ]
  },
  {
   "cell_type": "markdown",
   "id": "e2ea890c-8f51-4df4-a718-331e79c4e28e",
   "metadata": {},
   "source": [
    "# Sample script 01-13 #"
   ]
  },
  {
   "cell_type": "code",
   "execution_count": null,
   "id": "46cabac6-77d4-4e62-b99f-4a24e6b104bf",
   "metadata": {},
   "outputs": [],
   "source": [
    "# run this cell to show the source code #\n",
    "\n",
    "!cat ai202209_s08_01_13.py"
   ]
  },
  {
   "cell_type": "code",
   "execution_count": null,
   "id": "f248a0cf-0cad-40b6-8af1-d165e5b554ab",
   "metadata": {},
   "outputs": [],
   "source": [
    "# run this cell to execute the sample script #\n",
    "\n",
    "!python3.9 ai202209_s08_01_13.py"
   ]
  },
  {
   "cell_type": "markdown",
   "id": "91216d4b-0f8a-43d6-a6aa-d33bda83cba0",
   "metadata": {},
   "source": [
    "# Sample script 01-14 #"
   ]
  },
  {
   "cell_type": "code",
   "execution_count": null,
   "id": "5374544f-e120-4821-ab98-aef99b30ef7a",
   "metadata": {},
   "outputs": [],
   "source": [
    "# run this cell to show the source code #\n",
    "\n",
    "!cat ai202209_s08_01_14.py"
   ]
  },
  {
   "cell_type": "code",
   "execution_count": null,
   "id": "6f0d2d52-a749-455d-a6ac-0f7d3c9e7ae9",
   "metadata": {},
   "outputs": [],
   "source": [
    "# run this cell to execute the sample script #\n",
    "\n",
    "!python3.9 ai202209_s08_01_14.py"
   ]
  },
  {
   "cell_type": "code",
   "execution_count": null,
   "id": "dc82c4d4-433d-491c-b37b-1ab38bdc3a2a",
   "metadata": {},
   "outputs": [],
   "source": [
    "# run this cell to display image #\n",
    "\n",
    "import IPython.display\n",
    "\n",
    "IPython.display.Image ('nighttime_length_ncu.png')"
   ]
  },
  {
   "cell_type": "markdown",
   "id": "cb155886-b248-4f9d-960f-2f987ae10333",
   "metadata": {},
   "source": [
    "# Sample script 01-15 #"
   ]
  },
  {
   "cell_type": "code",
   "execution_count": null,
   "id": "55d0be9c-2cb8-4064-a28d-9e329ff90215",
   "metadata": {},
   "outputs": [],
   "source": [
    "# run this cell to show the source code #\n",
    "\n",
    "!cat ai202209_s08_01_15.py"
   ]
  },
  {
   "cell_type": "code",
   "execution_count": null,
   "id": "3884bc83-7f96-4126-b8ca-b3cfcf4ad552",
   "metadata": {},
   "outputs": [],
   "source": [
    "# run this cell to execute the sample script #\n",
    "\n",
    "!python3.9 ai202209_s08_01_15.py"
   ]
  },
  {
   "cell_type": "code",
   "execution_count": null,
   "id": "aef76801-c4aa-40dd-9dee-7f8731249a5d",
   "metadata": {},
   "outputs": [],
   "source": [
    "# run this cell to display image #\n",
    "\n",
    "import IPython.display\n",
    "\n",
    "IPython.display.Image ('nighttime_length_greenwich.png')"
   ]
  },
  {
   "cell_type": "markdown",
   "id": "c51bb036-4fbb-4dfd-9d88-28b444bd026d",
   "metadata": {},
   "source": [
    "# Sample script 01-16 #"
   ]
  },
  {
   "cell_type": "code",
   "execution_count": null,
   "id": "e1df605f-d661-4273-8505-9a0122f2dc33",
   "metadata": {},
   "outputs": [],
   "source": [
    "# run this cell to show the source code #\n",
    "\n",
    "!cat ai202209_s08_01_16.py"
   ]
  },
  {
   "cell_type": "code",
   "execution_count": null,
   "id": "bbc87332-3b78-44b2-919e-9fcaa9e073c4",
   "metadata": {},
   "outputs": [],
   "source": [
    "# run this cell to execute the sample script #\n",
    "\n",
    "!python3.9 ai202209_s08_01_16.py"
   ]
  },
  {
   "cell_type": "markdown",
   "id": "14abf29a-ff59-4565-b79a-14ea1e1f38d0",
   "metadata": {},
   "source": [
    "# Sample script 01-17 #"
   ]
  },
  {
   "cell_type": "code",
   "execution_count": null,
   "id": "00e92167-f865-4ea0-96e1-167791f60e3e",
   "metadata": {},
   "outputs": [],
   "source": [
    "# run this cell to show the source code #\n",
    "\n",
    "!cat ai202209_s08_01_17.py"
   ]
  },
  {
   "cell_type": "code",
   "execution_count": null,
   "id": "8e6615a7-5edc-4a2b-a8eb-b8ab35fb2762",
   "metadata": {},
   "outputs": [],
   "source": [
    "# run this cell to execute the sample script #\n",
    "\n",
    "!python3.9 ai202209_s08_01_17.py"
   ]
  },
  {
   "cell_type": "markdown",
   "id": "6bc4d942-05b6-45a5-aec4-a3efc296361a",
   "metadata": {},
   "source": [
    "# Sample script 01-18 #"
   ]
  },
  {
   "cell_type": "code",
   "execution_count": null,
   "id": "e93bf16b-ade3-4161-9b96-64bdd60da820",
   "metadata": {},
   "outputs": [],
   "source": [
    "# run this cell to show the source code #\n",
    "\n",
    "!cat ai202209_s08_01_18.py"
   ]
  },
  {
   "cell_type": "code",
   "execution_count": null,
   "id": "0183c61e-81d0-4cc7-925c-48dd12987338",
   "metadata": {},
   "outputs": [],
   "source": [
    "# run this cell to execute the sample script #\n",
    "\n",
    "!python3.9 ai202209_s08_01_18.py"
   ]
  },
  {
   "cell_type": "markdown",
   "id": "4a1d06c0-3af4-4fbd-b76e-8540ffe6140c",
   "metadata": {},
   "source": [
    "# Sample script 01-19 #"
   ]
  },
  {
   "cell_type": "code",
   "execution_count": null,
   "id": "1638ab9b-d2a5-44e1-ad9b-07f8210803e8",
   "metadata": {},
   "outputs": [],
   "source": [
    "# run this cell to show the source code #\n",
    "\n",
    "!cat ai202209_s08_01_19.py"
   ]
  },
  {
   "cell_type": "code",
   "execution_count": null,
   "id": "3280d204-1239-4da0-9d20-26d57de972f0",
   "metadata": {},
   "outputs": [],
   "source": [
    "# run this cell to execute the sample script #\n",
    "\n",
    "!python3.9 ai202209_s08_01_19.py"
   ]
  },
  {
   "cell_type": "markdown",
   "id": "148de853-d226-46e6-8a11-adfeb613686d",
   "metadata": {},
   "source": [
    "# Sample script 01-20 #"
   ]
  },
  {
   "cell_type": "code",
   "execution_count": null,
   "id": "c978a9be-7e4d-4852-b671-15adc5ff5c75",
   "metadata": {},
   "outputs": [],
   "source": [
    "# run this cell to show the source code #\n",
    "\n",
    "!cat ai202209_s08_01_20.py"
   ]
  },
  {
   "cell_type": "code",
   "execution_count": null,
   "id": "b6ab89f7-7e36-4e60-b5b2-8750fa09e0b9",
   "metadata": {},
   "outputs": [],
   "source": [
    "# run this cell to execute the sample script #\n",
    "\n",
    "!python3.9 ai202209_s08_01_20.py"
   ]
  },
  {
   "cell_type": "markdown",
   "id": "dcc405d3-2765-41d1-91ee-a4c9f3bb674d",
   "metadata": {},
   "source": [
    "# Sample script 01-21 #"
   ]
  },
  {
   "cell_type": "code",
   "execution_count": null,
   "id": "112d16b2-1598-40ce-be30-710fd0b30a57",
   "metadata": {},
   "outputs": [],
   "source": [
    "# run this cell to show the source code #\n",
    "\n",
    "!cat ai202209_s08_01_21.py"
   ]
  },
  {
   "cell_type": "code",
   "execution_count": null,
   "id": "b1c13c87-e729-434f-b12b-a18e9cae1080",
   "metadata": {},
   "outputs": [],
   "source": [
    "# run this cell to execute the sample script #\n",
    "\n",
    "!python3.9 ai202209_s08_01_21.py"
   ]
  },
  {
   "cell_type": "markdown",
   "id": "4f35fd7b-0093-4db3-933d-4b700292a685",
   "metadata": {},
   "source": [
    "# Sample script 01-22 #"
   ]
  },
  {
   "cell_type": "code",
   "execution_count": null,
   "id": "18363345-1db8-4f4b-9c8f-680c5299a1f0",
   "metadata": {},
   "outputs": [],
   "source": [
    "# run this cell to show the source code #\n",
    "\n",
    "!cat ai202209_s08_01_22.py"
   ]
  },
  {
   "cell_type": "code",
   "execution_count": null,
   "id": "2ee2c668-afb1-489b-84b8-9b2d805242d5",
   "metadata": {},
   "outputs": [],
   "source": [
    "# run this cell to execute the sample script #\n",
    "\n",
    "!python3.9 ai202209_s08_01_22.py"
   ]
  },
  {
   "cell_type": "markdown",
   "id": "d6f1a74a-9949-417a-8f24-6b7d95029713",
   "metadata": {},
   "source": [
    "# Sample script 01-23 #"
   ]
  },
  {
   "cell_type": "code",
   "execution_count": null,
   "id": "1072a845-5beb-485f-b613-9945fef0fc4d",
   "metadata": {},
   "outputs": [],
   "source": [
    "# run this cell to show the source code #\n",
    "\n",
    "!cat ai202209_s08_01_23.py"
   ]
  },
  {
   "cell_type": "code",
   "execution_count": null,
   "id": "f4b8faf1-ae62-4919-9112-2f38072b8269",
   "metadata": {},
   "outputs": [],
   "source": [
    "# run this cell to execute the sample script #\n",
    "\n",
    "!python3.9 ai202209_s08_01_23.py"
   ]
  },
  {
   "cell_type": "code",
   "execution_count": null,
   "id": "3aa0b6f0-9ea3-4ada-a7a7-0120b88d7a83",
   "metadata": {},
   "outputs": [],
   "source": [
    "# run this cell to display image #\n",
    "\n",
    "import IPython.display\n",
    "\n",
    "IPython.display.Image ('obstime_length_ncu.png')"
   ]
  },
  {
   "cell_type": "markdown",
   "id": "e5a21b17-3f21-4998-9868-7e42060e87a0",
   "metadata": {},
   "source": [
    "# Sample script 01-24 #"
   ]
  },
  {
   "cell_type": "code",
   "execution_count": null,
   "id": "86e462c9-2de2-4e0a-9c33-9f9fe80ae805",
   "metadata": {},
   "outputs": [],
   "source": [
    "# run this cell to show the source code #\n",
    "\n",
    "!cat ai202209_s08_01_24.py"
   ]
  },
  {
   "cell_type": "code",
   "execution_count": null,
   "id": "39956da7-8014-43f2-bd6b-37d48fac5471",
   "metadata": {},
   "outputs": [],
   "source": [
    "# run this cell to execute the sample script #\n",
    "\n",
    "!python3.9 ai202209_s08_01_24.py"
   ]
  },
  {
   "cell_type": "code",
   "execution_count": null,
   "id": "a3f83fca-1275-483c-8f61-2b20e6ca892a",
   "metadata": {},
   "outputs": [],
   "source": [
    "# run this cell to display image #\n",
    "\n",
    "import IPython.display\n",
    "\n",
    "IPython.display.Image ('obstime_length_picdumidi.png')"
   ]
  },
  {
   "cell_type": "markdown",
   "id": "7d4f6e7f-7354-416c-973b-3b53c698f7ea",
   "metadata": {},
   "source": [
    "# Sample script 01-25 #"
   ]
  },
  {
   "cell_type": "code",
   "execution_count": null,
   "id": "aebd6a27-eeaa-4a3f-96b5-bb54c7a92d7b",
   "metadata": {},
   "outputs": [],
   "source": [
    "# run this cell to show the source code #\n",
    "\n",
    "!cat ai202209_s08_01_25.py"
   ]
  },
  {
   "cell_type": "code",
   "execution_count": null,
   "id": "16373d72-3a57-48b1-b505-b17634f64657",
   "metadata": {},
   "outputs": [],
   "source": [
    "# run this cell to execute the sample script #\n",
    "\n",
    "!python3.9 ai202209_s08_01_25.py"
   ]
  },
  {
   "cell_type": "markdown",
   "id": "9abbe9ac-558e-43d5-b072-bc14f5c8a574",
   "metadata": {},
   "source": [
    "# Sample script 02-00 #"
   ]
  },
  {
   "cell_type": "code",
   "execution_count": null,
   "id": "edb30a75-336d-4ac2-9277-b176a86ff915",
   "metadata": {},
   "outputs": [],
   "source": [
    "# run this cell to show the source code #\n",
    "\n",
    "!cat ai202209_s08_02_00.py"
   ]
  },
  {
   "cell_type": "code",
   "execution_count": null,
   "id": "84561a3f-0bd6-4c5f-b4f9-064e40f9da7e",
   "metadata": {},
   "outputs": [],
   "source": [
    "# run this cell to execute the sample script #\n",
    "\n",
    "!python3.9 ai202209_s08_02_00.py"
   ]
  },
  {
   "cell_type": "markdown",
   "id": "0213def7-593a-4723-97a1-681a4e2e8be7",
   "metadata": {},
   "source": [
    "# Sample script 02-01 #"
   ]
  },
  {
   "cell_type": "code",
   "execution_count": null,
   "id": "d2c9b1ba-557e-4b84-88ea-dfac5765dffc",
   "metadata": {},
   "outputs": [],
   "source": [
    "# run this cell to show the source code #\n",
    "\n",
    "!cat ai202209_s08_02_01.py"
   ]
  },
  {
   "cell_type": "code",
   "execution_count": null,
   "id": "7de34d89-5be8-4a36-b303-a859b85b0adc",
   "metadata": {},
   "outputs": [],
   "source": [
    "# run this cell to execute the sample script #\n",
    "\n",
    "!python3.9 ai202209_s08_02_01.py"
   ]
  },
  {
   "cell_type": "markdown",
   "id": "336f00b3-679a-4245-82ed-e4a449630626",
   "metadata": {},
   "source": [
    "# Sample script 02-02 #"
   ]
  },
  {
   "cell_type": "code",
   "execution_count": null,
   "id": "047a0e3d-7675-4d10-b395-9733a314353b",
   "metadata": {},
   "outputs": [],
   "source": [
    "# run this cell to show the source code #\n",
    "\n",
    "!cat ai202209_s08_02_02.py"
   ]
  },
  {
   "cell_type": "code",
   "execution_count": null,
   "id": "c2fce7da-bc7f-4c1e-a44d-40be9a15d723",
   "metadata": {},
   "outputs": [],
   "source": [
    "# run this cell to execute the sample script #\n",
    "\n",
    "!python3.9 ai202209_s08_02_02.py"
   ]
  },
  {
   "cell_type": "markdown",
   "id": "38b24d85-a7fc-481e-89dc-6843913cde51",
   "metadata": {},
   "source": [
    "# Sample script 03-00 #"
   ]
  },
  {
   "cell_type": "code",
   "execution_count": null,
   "id": "a18404d4-55ff-4cdf-b3ee-bdd8e3093db6",
   "metadata": {},
   "outputs": [],
   "source": [
    "# run this cell to show the source code #\n",
    "\n",
    "!cat ai202209_s08_03_00.py"
   ]
  },
  {
   "cell_type": "code",
   "execution_count": null,
   "id": "a189fa7e-2a2b-4b73-bd67-8c049325c73b",
   "metadata": {},
   "outputs": [],
   "source": [
    "# run this cell to execute the sample script #\n",
    "\n",
    "!python3.9 ai202209_s08_03_00.py"
   ]
  },
  {
   "cell_type": "markdown",
   "id": "5f13f76f-7d33-42df-bbba-8cb6c4f6d643",
   "metadata": {},
   "source": [
    "# Sample script 03-01 #"
   ]
  },
  {
   "cell_type": "code",
   "execution_count": null,
   "id": "061d4723-aeb3-4d55-b916-c276b9826a57",
   "metadata": {},
   "outputs": [],
   "source": [
    "# run this cell to show the source code #\n",
    "\n",
    "!cat ai202209_s08_03_01.py"
   ]
  },
  {
   "cell_type": "code",
   "execution_count": null,
   "id": "b6b8f78c-2c4d-400b-9e9b-6e4bb243ad7b",
   "metadata": {},
   "outputs": [],
   "source": [
    "# run this cell to execute the sample script #\n",
    "\n",
    "!python3.9 ai202209_s08_03_01.py"
   ]
  },
  {
   "cell_type": "markdown",
   "id": "4eac867f-2d90-4d5e-a653-48bbedf2455e",
   "metadata": {},
   "source": [
    "# Sample script 03-02 #"
   ]
  },
  {
   "cell_type": "code",
   "execution_count": null,
   "id": "b5bb4f7f-00d3-422a-b623-843c919509b3",
   "metadata": {},
   "outputs": [],
   "source": [
    "# run this cell to show the source code #\n",
    "\n",
    "!cat ai202209_s08_03_02.py"
   ]
  },
  {
   "cell_type": "code",
   "execution_count": null,
   "id": "799ba770-335a-4167-8710-ece2c711ce93",
   "metadata": {},
   "outputs": [],
   "source": [
    "# run this cell to execute the sample script #\n",
    "\n",
    "!python3.9 ai202209_s08_03_02.py"
   ]
  },
  {
   "cell_type": "markdown",
   "id": "dec87153-dec8-4f03-b2b5-77978f702447",
   "metadata": {},
   "source": [
    "# Sample script 03-03 #"
   ]
  },
  {
   "cell_type": "code",
   "execution_count": null,
   "id": "7ec31eb8-417d-4ebc-aaf0-2cee7bd24bf5",
   "metadata": {},
   "outputs": [],
   "source": [
    "# run this cell to show the source code #\n",
    "\n",
    "!cat ai202209_s08_03_03.py"
   ]
  },
  {
   "cell_type": "code",
   "execution_count": null,
   "id": "2eca33b9-c350-48d5-a3b3-7b1a7b185234",
   "metadata": {},
   "outputs": [],
   "source": [
    "# run this cell to execute the sample script #\n",
    "\n",
    "!python3.9 ai202209_s08_03_03.py"
   ]
  },
  {
   "cell_type": "markdown",
   "id": "1b13e03e-3337-485b-a00f-8e6fa36e2a10",
   "metadata": {},
   "source": [
    "# Sample script 03-04 #"
   ]
  },
  {
   "cell_type": "code",
   "execution_count": null,
   "id": "43f71172-5a45-4647-b825-38b9acfe80d4",
   "metadata": {},
   "outputs": [],
   "source": [
    "# run this cell to show the source code #\n",
    "\n",
    "!cat ai202209_s08_03_04.py"
   ]
  },
  {
   "cell_type": "code",
   "execution_count": null,
   "id": "de968456-4767-4693-aa15-527999a78341",
   "metadata": {},
   "outputs": [],
   "source": [
    "# run this cell to execute the sample script #\n",
    "\n",
    "!python3.9 ai202209_s08_03_04.py"
   ]
  },
  {
   "cell_type": "markdown",
   "id": "f6705c9c-7201-486c-8a3e-5867fecb256b",
   "metadata": {},
   "source": [
    "# Sample script 03-05 #"
   ]
  },
  {
   "cell_type": "code",
   "execution_count": null,
   "id": "4a53feaf-261a-4488-92f7-8534dc9514bb",
   "metadata": {},
   "outputs": [],
   "source": [
    "# run this cell to show the source code #\n",
    "\n",
    "!cat ai202209_s08_03_05.py"
   ]
  },
  {
   "cell_type": "code",
   "execution_count": null,
   "id": "36e22234-b176-41c2-8236-0c1ee57cc405",
   "metadata": {},
   "outputs": [],
   "source": [
    "# run this cell to execute the sample script #\n",
    "\n",
    "!python3.9 ai202209_s08_03_05.py"
   ]
  },
  {
   "cell_type": "markdown",
   "id": "26c4feab-3f89-4ac2-9f18-dd4861b06e40",
   "metadata": {},
   "source": [
    "# Sample script 03-06 #"
   ]
  },
  {
   "cell_type": "code",
   "execution_count": null,
   "id": "c5f2e96f-04e0-4c4b-b9b9-c2812cbc13ed",
   "metadata": {},
   "outputs": [],
   "source": [
    "# run this cell to show the source code #\n",
    "\n",
    "!cat ai202209_s08_03_06.py"
   ]
  },
  {
   "cell_type": "code",
   "execution_count": null,
   "id": "6fbf22f5-7e2d-4865-a458-1a935366df3b",
   "metadata": {},
   "outputs": [],
   "source": [
    "# run this cell to execute the sample script #\n",
    "\n",
    "!python3.9 ai202209_s08_03_06.py"
   ]
  },
  {
   "cell_type": "markdown",
   "id": "060da500-03db-45e7-8247-e96cc5ebee69",
   "metadata": {},
   "source": [
    "# Sample script 03-07 #"
   ]
  },
  {
   "cell_type": "code",
   "execution_count": null,
   "id": "e03c6f20-7e98-4c2a-8899-bbbb06041bb9",
   "metadata": {},
   "outputs": [],
   "source": [
    "# run this cell to show the source code #\n",
    "\n",
    "!cat ai202209_s08_03_07.py"
   ]
  },
  {
   "cell_type": "code",
   "execution_count": null,
   "id": "e2c955a0-eeab-42d4-aca9-595acdba4ac1",
   "metadata": {},
   "outputs": [],
   "source": [
    "# run this cell to execute the sample script #\n",
    "\n",
    "!python3.9 ai202209_s08_03_07.py"
   ]
  },
  {
   "cell_type": "markdown",
   "id": "22230d3e-3e0b-4240-97a0-0670185b8058",
   "metadata": {},
   "source": [
    "# Sample script 04-00 #"
   ]
  },
  {
   "cell_type": "code",
   "execution_count": null,
   "id": "dca61aaa-3f37-431a-a810-9579ae4affd4",
   "metadata": {},
   "outputs": [],
   "source": [
    "# run this cell to show the source code #\n",
    "\n",
    "!cat ai202209_s08_04_00.py"
   ]
  },
  {
   "cell_type": "code",
   "execution_count": null,
   "id": "0e8c04e7-5c73-4e55-860d-d476a24ded77",
   "metadata": {},
   "outputs": [],
   "source": [
    "# run this cell to execute the sample script #\n",
    "\n",
    "!python3.9 ai202209_s08_04_00.py"
   ]
  },
  {
   "cell_type": "code",
   "execution_count": null,
   "id": "b7dbeb8d-d8a6-405d-b564-012cf0afb233",
   "metadata": {},
   "outputs": [],
   "source": [
    "# run this cell to display image #\n",
    "\n",
    "import IPython.display\n",
    "\n",
    "IPython.display.Image ('airmass_plot_00.png')"
   ]
  },
  {
   "cell_type": "markdown",
   "id": "66e178f3-8287-485e-be1e-37d4c45c94c8",
   "metadata": {},
   "source": [
    "# Sample script 04-01 #"
   ]
  },
  {
   "cell_type": "code",
   "execution_count": null,
   "id": "6510f887-59f8-45d6-af11-32ed47ecb446",
   "metadata": {},
   "outputs": [],
   "source": [
    "# run this cell to show the source code #\n",
    "\n",
    "!cat ai202209_s08_04_01.py"
   ]
  },
  {
   "cell_type": "code",
   "execution_count": null,
   "id": "1c28c7dc-9c95-446a-8625-9923d30522d4",
   "metadata": {},
   "outputs": [],
   "source": [
    "# run this cell to execute the sample script #\n",
    "\n",
    "!python3.9 ai202209_s08_04_01.py"
   ]
  },
  {
   "cell_type": "code",
   "execution_count": null,
   "id": "62ccd2d3-6016-4623-9d5d-4a2692eeb3cf",
   "metadata": {},
   "outputs": [],
   "source": [
    "# run this cell to display image #\n",
    "\n",
    "import IPython.display\n",
    "\n",
    "IPython.display.Image ('airmass_plot_01.png')"
   ]
  },
  {
   "cell_type": "markdown",
   "id": "46e8a814-04e8-4ff0-8144-4e4a0bbe3e83",
   "metadata": {},
   "source": [
    "# Sample script 04-02 #"
   ]
  },
  {
   "cell_type": "code",
   "execution_count": null,
   "id": "c9e80f2e-f221-442e-a5fb-59f66533e8f5",
   "metadata": {},
   "outputs": [],
   "source": [
    "# run this cell to show the source code #\n",
    "\n",
    "!cat ai202209_s08_04_02.py"
   ]
  },
  {
   "cell_type": "code",
   "execution_count": null,
   "id": "a9e59f7b-f99e-44a4-b82e-ae4392a750fd",
   "metadata": {},
   "outputs": [],
   "source": [
    "# run this cell to execute the sample script #\n",
    "\n",
    "!python3.9 ai202209_s08_04_02.py"
   ]
  },
  {
   "cell_type": "code",
   "execution_count": null,
   "id": "d2a2b19c-0094-43a4-88d3-519bd07d66d3",
   "metadata": {},
   "outputs": [],
   "source": [
    "# run this cell to display image #\n",
    "\n",
    "import IPython.display\n",
    "\n",
    "IPython.display.Image ('airmass_plot_02.png')"
   ]
  },
  {
   "cell_type": "markdown",
   "id": "4e5e541d-fa8d-4232-9286-58784b32abd2",
   "metadata": {},
   "source": [
    "# Sample script 05-00 #"
   ]
  },
  {
   "cell_type": "code",
   "execution_count": null,
   "id": "2dfc7ec7-c150-4ed2-a1da-20deca88de82",
   "metadata": {},
   "outputs": [],
   "source": [
    "# run this cell to show the source code #\n",
    "\n",
    "!cat ai202209_s08_05_00.py"
   ]
  },
  {
   "cell_type": "code",
   "execution_count": null,
   "id": "043bc905-8e30-48f7-b510-100b44a6c7f7",
   "metadata": {},
   "outputs": [],
   "source": [
    "# run this cell to execute the sample script #\n",
    "\n",
    "!python3.9 ai202209_s08_05_00.py"
   ]
  },
  {
   "cell_type": "code",
   "execution_count": null,
   "id": "4580c921-90fc-4c9a-a38f-96f8b702731f",
   "metadata": {},
   "outputs": [],
   "source": [
    "# run this cell to display image #\n",
    "\n",
    "import IPython.display\n",
    "\n",
    "IPython.display.Image ('sky_plot_00.png')"
   ]
  },
  {
   "cell_type": "markdown",
   "id": "6e4c926d-fc86-4545-a3cd-03ded421143c",
   "metadata": {},
   "source": [
    "# Sample script 06-00 #"
   ]
  },
  {
   "cell_type": "code",
   "execution_count": null,
   "id": "cb3b9892-fd61-4e4b-b0a7-4d45013c99ef",
   "metadata": {},
   "outputs": [],
   "source": [
    "# run this cell to show the source code #\n",
    "\n",
    "!cat ai202209_s08_06_00.py"
   ]
  },
  {
   "cell_type": "code",
   "execution_count": null,
   "id": "30b34d9d-22da-42dc-b736-a391de81b7eb",
   "metadata": {},
   "outputs": [],
   "source": [
    "# run this cell to execute the sample script #\n",
    "\n",
    "!python3.9 ai202209_s08_06_00.py"
   ]
  },
  {
   "cell_type": "code",
   "execution_count": null,
   "id": "f8f837f5-8e9d-4710-be8f-1b02e19173a7",
   "metadata": {},
   "outputs": [],
   "source": [
    "# run this cell to display image #\n",
    "\n",
    "import IPython.display\n",
    "\n",
    "IPython.display.Image ('findingchart_00.png')"
   ]
  },
  {
   "cell_type": "markdown",
   "id": "d34add0f-79b5-48a0-9f52-f0654dd9b3f0",
   "metadata": {},
   "source": [
    "# end of the notebook #"
   ]
  },
  {
   "cell_type": "code",
   "execution_count": null,
   "id": "15b08d5b-c97e-45f6-816c-f9572aea8513",
   "metadata": {},
   "outputs": [],
   "source": []
  }
 ],
 "metadata": {
  "kernelspec": {
   "display_name": "Python 3 (ipykernel)",
   "language": "python",
   "name": "python3"
  },
  "language_info": {
   "codemirror_mode": {
    "name": "ipython",
    "version": 3
   },
   "file_extension": ".py",
   "mimetype": "text/x-python",
   "name": "python",
   "nbconvert_exporter": "python",
   "pygments_lexer": "ipython3",
   "version": "3.9.13"
  }
 },
 "nbformat": 4,
 "nbformat_minor": 5
}
