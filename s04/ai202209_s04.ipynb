{
 "cells": [
  {
   "cell_type": "markdown",
   "id": "496b8609-9b0e-4ea1-9ea2-81fb56a272e3",
   "metadata": {},
   "source": [
    "# Session 04 of Astroinformatics (first semester, academic year 2022) #\n",
    "\n",
    "- About the course\n",
    "    - course name: \"Astroinformatics\"\n",
    "    - semester: from Sep/2022 to Jan/2023\n",
    "    - lecture hours: from 09:00 to 12:00\n",
    "    - classroom: S4-914\n",
    "    - instructor: Kinoshita Daisuke\n",
    "    - course web page: https://s3b.astro.ncu.edu.tw/ai_202209/\n",
    "    - GitHub repository: https://github.com/kinoshitadaisuke/ncu_astroinformatics_202209\n",
    "    - Binder web page: https://mybinder.org/v2/gh/kinoshitadaisuke/ncu_astroinformatics_202209/HEAD"
   ]
  },
  {
   "cell_type": "markdown",
   "id": "cc97ca10-c505-454a-be44-5ab69b96867a",
   "metadata": {},
   "source": [
    "## About this notebook ##\n",
    "\n",
    "This is a notebook for the __session 04__ of \"Astroinformatics\" at first semester of academic year 2022.\n",
    "\n",
    "This notebook contains sample Python scripts only.\n",
    "\n",
    "The lecture note is provided at the course web page.\n",
    "\n",
    "To download the lecture note, visit following web page.\n",
    "\n",
    "https://s3b.astro.ncu.edu.tw/ai_202209/\n",
    "\n",
    "Note that the lecture note can be downloaded only from computers/mobile phones connected to the computer network of our university.\n",
    "\n",
    "Connect to Wi-Fi of our university or use VPN service of our university to download the lecture note.\n",
    "\n",
    "If you have any question about this notebook, contact to Kinoshita Daisuke."
   ]
  },
  {
   "cell_type": "markdown",
   "id": "f5f01dcf-7f26-4391-94fc-efdd86793e05",
   "metadata": {},
   "source": [
    "# Sample script 00 #"
   ]
  },
  {
   "cell_type": "code",
   "execution_count": null,
   "id": "406519fa-909b-400f-bcfd-73bb18bd42b6",
   "metadata": {},
   "outputs": [],
   "source": [
    "# run this cell to show the source code of sample script 00 #\n",
    "\n",
    "!cat ai202209_s04_00.py"
   ]
  },
  {
   "cell_type": "code",
   "execution_count": null,
   "id": "ce1ae685-4a3c-4f7b-a0ed-7eb145536cc7",
   "metadata": {},
   "outputs": [],
   "source": [
    "# run this cell to execute sample script 00 #\n",
    "\n",
    "!python3.9 ai202209_s04_00.py"
   ]
  },
  {
   "cell_type": "code",
   "execution_count": null,
   "id": "1af3412b-a865-45b7-b590-86bab8cda10e",
   "metadata": {},
   "outputs": [],
   "source": [
    "# run this cell to display plot #\n",
    "\n",
    "import IPython.display\n",
    "\n",
    "IPython.display.Image ('ai202209_s04_00.png')"
   ]
  },
  {
   "cell_type": "markdown",
   "id": "6e1e83f2-1b77-45e1-81f1-87c80e41f653",
   "metadata": {},
   "source": [
    "# Sample script 01 #"
   ]
  },
  {
   "cell_type": "code",
   "execution_count": null,
   "id": "a2ed9c08-207f-4d84-bf7b-14f633fdc751",
   "metadata": {},
   "outputs": [],
   "source": [
    "# run this cell to show the source code of sample script 01 #\n",
    "\n",
    "!cat ai202209_s04_01.py"
   ]
  },
  {
   "cell_type": "code",
   "execution_count": null,
   "id": "8f0ccb46-f27c-451d-bc28-10bfd5f612dd",
   "metadata": {},
   "outputs": [],
   "source": [
    "# run this cell to execute sample script 01 #\n",
    "\n",
    "!python3.9 ai202209_s04_01.py"
   ]
  },
  {
   "cell_type": "code",
   "execution_count": null,
   "id": "2f813a69-633a-45db-8c21-a1a917f153b8",
   "metadata": {},
   "outputs": [],
   "source": [
    "# run this cell to display plot #\n",
    "\n",
    "import IPython.display\n",
    "\n",
    "IPython.display.Image ('ai202209_s04_01.png')"
   ]
  },
  {
   "cell_type": "markdown",
   "id": "81ea5e9a-5afb-4de3-b01b-1bca308d179d",
   "metadata": {},
   "source": [
    "# Sample script 02 #"
   ]
  },
  {
   "cell_type": "code",
   "execution_count": null,
   "id": "b2e1c90c-c501-46b3-acf2-78bf239fb583",
   "metadata": {},
   "outputs": [],
   "source": [
    "# run this cell to show the source code of sample script 02 #\n",
    "\n",
    "!cat ai202209_s04_02.py"
   ]
  },
  {
   "cell_type": "code",
   "execution_count": null,
   "id": "e672914e-f743-4297-b77a-15112706c972",
   "metadata": {},
   "outputs": [],
   "source": [
    "# run this cell to execute sample script 02 #\n",
    "\n",
    "!python3.9 ai202209_s04_02.py"
   ]
  },
  {
   "cell_type": "code",
   "execution_count": null,
   "id": "f3127b05-71eb-4a90-9d8a-d6fa63c0fc1a",
   "metadata": {},
   "outputs": [],
   "source": [
    "# run this cell to display plot #\n",
    "\n",
    "import IPython.display\n",
    "\n",
    "IPython.display.Image ('ai202209_s04_02.png')"
   ]
  },
  {
   "cell_type": "markdown",
   "id": "d1f1b88f-1785-4993-a2b7-f1c964e153f3",
   "metadata": {},
   "source": [
    "# Sample script 03 #"
   ]
  },
  {
   "cell_type": "code",
   "execution_count": null,
   "id": "dde40bcb-8e4e-4d30-b4c3-eba5f54987ca",
   "metadata": {},
   "outputs": [],
   "source": [
    "# run this cell to show the source code of sample script 03 #\n",
    "\n",
    "!cat ai202209_s04_03.py"
   ]
  },
  {
   "cell_type": "code",
   "execution_count": null,
   "id": "fad27f21-cf60-4fe4-bc9c-84bb1d8283a7",
   "metadata": {},
   "outputs": [],
   "source": [
    "# run this cell to execute sample script 03 #\n",
    "\n",
    "!python3.9 ai202209_s04_03.py"
   ]
  },
  {
   "cell_type": "code",
   "execution_count": null,
   "id": "cef5a262-cb1f-4c6f-84da-19787d92bc40",
   "metadata": {},
   "outputs": [],
   "source": [
    "# run this cell to display plot #\n",
    "\n",
    "import IPython.display\n",
    "\n",
    "IPython.display.Image ('ai202209_s04_03.png')"
   ]
  },
  {
   "cell_type": "markdown",
   "id": "61f00044-4e79-49b3-b1b8-ee0f10275635",
   "metadata": {},
   "source": [
    "# Sample script 04 #"
   ]
  },
  {
   "cell_type": "code",
   "execution_count": null,
   "id": "43826f15-0ea5-4bb5-a082-5c2ca99755ec",
   "metadata": {},
   "outputs": [],
   "source": [
    "# run this cell to show the source code of sample script 04 #\n",
    "\n",
    "!cat ai202209_s04_04.py"
   ]
  },
  {
   "cell_type": "code",
   "execution_count": null,
   "id": "b17221ea-da89-4825-ac16-13cd2ec98a2d",
   "metadata": {},
   "outputs": [],
   "source": [
    "# run this cell to execute sample script 04 #\n",
    "\n",
    "!python3.9 ai202209_s04_04.py"
   ]
  },
  {
   "cell_type": "code",
   "execution_count": null,
   "id": "492af6dc-7eac-4b8d-b105-1467f0065e2a",
   "metadata": {},
   "outputs": [],
   "source": [
    "# run this cell to display plot #\n",
    "\n",
    "import IPython.display\n",
    "\n",
    "IPython.display.Image ('ai202209_s04_04.png')"
   ]
  },
  {
   "cell_type": "markdown",
   "id": "1fcbc5df-ab17-49ff-bfd5-601a9111f2bd",
   "metadata": {},
   "source": [
    "# Sample script 05 #"
   ]
  },
  {
   "cell_type": "code",
   "execution_count": null,
   "id": "056dec20-2274-41a4-94be-e4b8e226b7e3",
   "metadata": {},
   "outputs": [],
   "source": [
    "# run this cell to show the source code of sample script 05 #\n",
    "\n",
    "!cat ai202209_s04_05.py"
   ]
  },
  {
   "cell_type": "code",
   "execution_count": null,
   "id": "aa8f0e20-4c19-419c-bbe8-17e7d9ccbf1d",
   "metadata": {},
   "outputs": [],
   "source": [
    "# run this cell to execute sample script 05 #\n",
    "\n",
    "!python3.9 ai202209_s04_05.py"
   ]
  },
  {
   "cell_type": "code",
   "execution_count": null,
   "id": "5cb84128-6692-44fa-82ff-68acb276065b",
   "metadata": {},
   "outputs": [],
   "source": [
    "# run this cell to display plot #\n",
    "\n",
    "import IPython.display\n",
    "\n",
    "IPython.display.Image ('ai202209_s04_05.png')"
   ]
  },
  {
   "cell_type": "markdown",
   "id": "8f2cbbfe-7596-4862-87f0-0b63a5d1c651",
   "metadata": {},
   "source": [
    "# Sample script 06 #"
   ]
  },
  {
   "cell_type": "code",
   "execution_count": null,
   "id": "bfed4fcf-3e4e-4544-b933-fd731c743b35",
   "metadata": {},
   "outputs": [],
   "source": [
    "# run this cell to show the source code of sample script 06 #\n",
    "\n",
    "!cat ai202209_s04_06.py"
   ]
  },
  {
   "cell_type": "code",
   "execution_count": null,
   "id": "7d7c6cd8-2d23-43e6-9465-006dd6c20e1d",
   "metadata": {},
   "outputs": [],
   "source": [
    "# run this cell to execute sample script 06 #\n",
    "\n",
    "!python3.9 ai202209_s04_06.py"
   ]
  },
  {
   "cell_type": "code",
   "execution_count": null,
   "id": "00720924-b77e-43cc-8d78-d8bc8194f61b",
   "metadata": {},
   "outputs": [],
   "source": [
    "# run this cell to display plot #\n",
    "\n",
    "import IPython.display\n",
    "\n",
    "IPython.display.Image ('ai202209_s04_06.png')"
   ]
  },
  {
   "cell_type": "markdown",
   "id": "8607fdd7-0ef3-40ae-bad5-cec3ab8af236",
   "metadata": {},
   "source": [
    "# Sample script 07 #"
   ]
  },
  {
   "cell_type": "code",
   "execution_count": null,
   "id": "635652ee-c601-4e63-96f2-142fc5051a49",
   "metadata": {},
   "outputs": [],
   "source": [
    "# run this cell to show the source code of sample script 07 #\n",
    "\n",
    "!cat ai202209_s04_07.py"
   ]
  },
  {
   "cell_type": "code",
   "execution_count": null,
   "id": "bfbcd2a9-ab27-4047-a01d-61012dc74309",
   "metadata": {},
   "outputs": [],
   "source": [
    "# run this cell to execute sample script 07 #\n",
    "\n",
    "!python3.9 ai202209_s04_07.py"
   ]
  },
  {
   "cell_type": "code",
   "execution_count": null,
   "id": "316f4898-54fb-44aa-adc4-1a8538fb86a1",
   "metadata": {},
   "outputs": [],
   "source": [
    "# run this cell to display plot #\n",
    "\n",
    "import IPython.display\n",
    "\n",
    "IPython.display.Image ('ai202209_s04_07.png')"
   ]
  },
  {
   "cell_type": "markdown",
   "id": "d0eee85e-fea9-4f37-b1f1-da38c2285b29",
   "metadata": {},
   "source": [
    "# Sample script 08 #"
   ]
  },
  {
   "cell_type": "code",
   "execution_count": null,
   "id": "76c3355b-8dc9-423b-b9f6-02f54ee4830f",
   "metadata": {},
   "outputs": [],
   "source": [
    "# run this cell to show the source code of sample script 08 #\n",
    "\n",
    "!cat ai202209_s04_08.py"
   ]
  },
  {
   "cell_type": "code",
   "execution_count": null,
   "id": "889f926d-3039-49c2-9f91-300d3e2af302",
   "metadata": {},
   "outputs": [],
   "source": [
    "# run this cell to execute sample script 08 #\n",
    "\n",
    "!python3.9 ai202209_s04_08.py"
   ]
  },
  {
   "cell_type": "code",
   "execution_count": null,
   "id": "5b110a22-7f80-4e0b-abc6-fc1580f14a51",
   "metadata": {},
   "outputs": [],
   "source": [
    "# run this cell to display plot #\n",
    "\n",
    "import IPython.display\n",
    "\n",
    "IPython.display.Image ('ai202209_s04_08.png')"
   ]
  },
  {
   "cell_type": "markdown",
   "id": "e4b8047f-d887-4491-9056-904a1429938d",
   "metadata": {},
   "source": [
    "# Sample script 09 #"
   ]
  },
  {
   "cell_type": "code",
   "execution_count": null,
   "id": "9f32ad75-ecb9-438c-9b14-2b973391278c",
   "metadata": {},
   "outputs": [],
   "source": [
    "# run this cell to show the source code of sample script 09 #\n",
    "\n",
    "!cat ai202209_s04_09.py"
   ]
  },
  {
   "cell_type": "code",
   "execution_count": null,
   "id": "0648f234-173b-4b7b-80cb-a20f65bf3de4",
   "metadata": {},
   "outputs": [],
   "source": [
    "# run this cell to execute sample script 09 #\n",
    "\n",
    "!python3.9 ai202209_s04_09.py"
   ]
  },
  {
   "cell_type": "code",
   "execution_count": null,
   "id": "c8cc2e7c-1a5d-4cce-8c61-c50509c16b3c",
   "metadata": {},
   "outputs": [],
   "source": [
    "# run this cell to display plot #\n",
    "\n",
    "import IPython.display\n",
    "\n",
    "IPython.display.Image ('ai202209_s04_09.png')"
   ]
  },
  {
   "cell_type": "markdown",
   "id": "f0851980-2544-4b42-a6e3-e1f5267ef97b",
   "metadata": {},
   "source": [
    "# Sample script 10 #"
   ]
  },
  {
   "cell_type": "code",
   "execution_count": null,
   "id": "0d19a666-9005-4f10-a39b-a84d1ee07307",
   "metadata": {},
   "outputs": [],
   "source": [
    "# run this cell to show the source code of sample script 10 #\n",
    "\n",
    "!cat ai202209_s04_10.py"
   ]
  },
  {
   "cell_type": "code",
   "execution_count": null,
   "id": "650e1983-0fb2-4012-95a2-80c3bf71f7b5",
   "metadata": {},
   "outputs": [],
   "source": [
    "# run this cell to execute sample script 10 #\n",
    "\n",
    "!python3.9 ai202209_s04_10.py"
   ]
  },
  {
   "cell_type": "code",
   "execution_count": null,
   "id": "18b80581-85e8-4069-aeca-a5ee8dda6fe7",
   "metadata": {},
   "outputs": [],
   "source": [
    "# run this cell to display plot #\n",
    "\n",
    "import IPython.display\n",
    "\n",
    "IPython.display.Image ('ai202209_s04_10.png')"
   ]
  },
  {
   "cell_type": "markdown",
   "id": "871503f1-8f93-4ada-a327-1b15312a0652",
   "metadata": {},
   "source": [
    "# Sample script 11 #"
   ]
  },
  {
   "cell_type": "code",
   "execution_count": null,
   "id": "ae91cc8a-3eba-4e8b-ad24-65ca47f43c55",
   "metadata": {},
   "outputs": [],
   "source": [
    "# run this cell to show the source code of sample script 11 #\n",
    "\n",
    "!cat ai202209_s04_11.py"
   ]
  },
  {
   "cell_type": "code",
   "execution_count": null,
   "id": "ca06cb7c-a0d2-4e23-92ae-9be1c8497cc7",
   "metadata": {},
   "outputs": [],
   "source": [
    "# run this cell to execute sample script 11 #\n",
    "\n",
    "!python3.9 ai202209_s04_11.py"
   ]
  },
  {
   "cell_type": "code",
   "execution_count": null,
   "id": "6d19ecbb-25d0-4e00-9684-07a6c8ca8cde",
   "metadata": {},
   "outputs": [],
   "source": [
    "# run this cell to display plot #\n",
    "\n",
    "import IPython.display\n",
    "\n",
    "IPython.display.Image ('ai202209_s04_11.png')"
   ]
  },
  {
   "cell_type": "markdown",
   "id": "9d113cdc-8f7d-4ebe-b8cf-cd76d9bce5b1",
   "metadata": {},
   "source": [
    "# Sample script 12 #"
   ]
  },
  {
   "cell_type": "code",
   "execution_count": null,
   "id": "4ce8d0de-b9c4-47f3-8b28-8f9b2e79ef19",
   "metadata": {},
   "outputs": [],
   "source": [
    "# run this cell to show the source code of sample script 12 #\n",
    "\n",
    "!cat ai202209_s04_12.py"
   ]
  },
  {
   "cell_type": "code",
   "execution_count": null,
   "id": "a7df577a-638f-49da-ad3d-bac8c668e24e",
   "metadata": {},
   "outputs": [],
   "source": [
    "# run this cell to execute sample script 12 #\n",
    "\n",
    "!python3.9 ai202209_s04_12.py"
   ]
  },
  {
   "cell_type": "code",
   "execution_count": null,
   "id": "33c7a64e-9ca9-4d52-9ec3-8d27dcc01315",
   "metadata": {},
   "outputs": [],
   "source": [
    "# run this cell to display plot #\n",
    "\n",
    "import IPython.display\n",
    "\n",
    "IPython.display.Image ('ai202209_s04_12.png')"
   ]
  },
  {
   "cell_type": "markdown",
   "id": "f6de0686-ddcb-4009-a2db-78563b2b8ec1",
   "metadata": {},
   "source": [
    "# Sample script 13 #"
   ]
  },
  {
   "cell_type": "code",
   "execution_count": null,
   "id": "3b1c28cd-240f-4ee3-9a31-13a4ba59c1e6",
   "metadata": {},
   "outputs": [],
   "source": [
    "# run this cell to show the source code of sample script 13 #\n",
    "\n",
    "!cat ai202209_s04_13.py"
   ]
  },
  {
   "cell_type": "code",
   "execution_count": null,
   "id": "ab198996-fd42-4e4c-bbef-47220bae3c99",
   "metadata": {},
   "outputs": [],
   "source": [
    "# run this cell to execute sample script 13 #\n",
    "\n",
    "!python3.9 ai202209_s04_13.py"
   ]
  },
  {
   "cell_type": "code",
   "execution_count": null,
   "id": "9bdcb558-e441-4f2a-a6fc-d6375e73a460",
   "metadata": {},
   "outputs": [],
   "source": [
    "# run this cell to display plot #\n",
    "\n",
    "import IPython.display\n",
    "\n",
    "IPython.display.Image ('ai202209_s04_13.png')"
   ]
  },
  {
   "cell_type": "markdown",
   "id": "b0f2fe2c-61ab-484f-94ff-9cdc4db9defb",
   "metadata": {},
   "source": [
    "# Sample script 14 #"
   ]
  },
  {
   "cell_type": "code",
   "execution_count": null,
   "id": "f9a08696-0a3a-439a-bd90-3524e8bb6356",
   "metadata": {},
   "outputs": [],
   "source": [
    "# run this cell to show the source code of sample script 14 #\n",
    "\n",
    "!cat ai202209_s04_14.py"
   ]
  },
  {
   "cell_type": "code",
   "execution_count": null,
   "id": "f36ce1c0-fff4-4404-9298-31d4404908bb",
   "metadata": {},
   "outputs": [],
   "source": [
    "# run this cell to execute sample script 14 #\n",
    "\n",
    "!python3.9 ai202209_s04_14.py"
   ]
  },
  {
   "cell_type": "code",
   "execution_count": null,
   "id": "00751668-0009-4f10-81be-491e6ed211c8",
   "metadata": {},
   "outputs": [],
   "source": [
    "# run this cell to display plot #\n",
    "\n",
    "import IPython.display\n",
    "\n",
    "IPython.display.Image ('ai202209_s04_14.png')"
   ]
  },
  {
   "cell_type": "markdown",
   "id": "4985b4c6-fa47-44e7-9ddf-6fe9071405de",
   "metadata": {},
   "source": [
    "# Sample script 15 #"
   ]
  },
  {
   "cell_type": "code",
   "execution_count": null,
   "id": "5051ff03-a30d-4001-819a-7cd6cc47c9ad",
   "metadata": {},
   "outputs": [],
   "source": [
    "# run this cell to show the source code of sample script 15 #\n",
    "\n",
    "!cat ai202209_s04_15.py"
   ]
  },
  {
   "cell_type": "code",
   "execution_count": null,
   "id": "88b961b2-64e6-4cbf-a7cf-a3479307b907",
   "metadata": {},
   "outputs": [],
   "source": [
    "# run this cell to execute sample script 15 #\n",
    "\n",
    "!python3.9 ai202209_s04_15.py"
   ]
  },
  {
   "cell_type": "code",
   "execution_count": null,
   "id": "745b499d-b7a4-4daa-ada5-1208b2375cf9",
   "metadata": {},
   "outputs": [],
   "source": [
    "# run this cell to display plot #\n",
    "\n",
    "import IPython.display\n",
    "\n",
    "IPython.display.Image ('ai202209_s04_15.png')"
   ]
  },
  {
   "cell_type": "markdown",
   "id": "0f2ddc0a-8b3d-450a-984e-4bda87683afd",
   "metadata": {},
   "source": [
    "# Sample script 16 #"
   ]
  },
  {
   "cell_type": "code",
   "execution_count": null,
   "id": "0a0a541a-bd5e-4934-b593-ec92ae8e1c4d",
   "metadata": {},
   "outputs": [],
   "source": [
    "# run this cell to show the source code of sample script 16 #\n",
    "\n",
    "!cat ai202209_s04_16.py"
   ]
  },
  {
   "cell_type": "code",
   "execution_count": null,
   "id": "cc5f1006-0be4-48cd-8fea-6cf5e955f8d5",
   "metadata": {},
   "outputs": [],
   "source": [
    "# run this cell to execute sample script 16 #\n",
    "\n",
    "!python3.9 ai202209_s04_16.py"
   ]
  },
  {
   "cell_type": "code",
   "execution_count": null,
   "id": "4f8cc4a0-4770-41a0-ba6f-e685d300233a",
   "metadata": {},
   "outputs": [],
   "source": [
    "# run this cell to display plot #\n",
    "\n",
    "import IPython.display\n",
    "\n",
    "IPython.display.Image ('ai202209_s04_16.png')"
   ]
  },
  {
   "cell_type": "markdown",
   "id": "c57c054f-e729-4869-aa58-b136c861634d",
   "metadata": {},
   "source": [
    "# Sample script 17 #"
   ]
  },
  {
   "cell_type": "code",
   "execution_count": null,
   "id": "df652a66-60d9-493d-bcb1-718ba5443031",
   "metadata": {},
   "outputs": [],
   "source": [
    "# run this cell to show the source code of sample script 17 #\n",
    "\n",
    "!cat ai202209_s04_17.py"
   ]
  },
  {
   "cell_type": "code",
   "execution_count": null,
   "id": "b9875f2b-8feb-4b66-866a-a09191d5e056",
   "metadata": {},
   "outputs": [],
   "source": [
    "# run this cell to execute sample script 17 #\n",
    "\n",
    "!python3.9 ai202209_s04_17.py"
   ]
  },
  {
   "cell_type": "code",
   "execution_count": null,
   "id": "0f9383fb-c195-4ee2-83a5-00bbd2a478f3",
   "metadata": {},
   "outputs": [],
   "source": [
    "# run this cell to display plot #\n",
    "\n",
    "import IPython.display\n",
    "\n",
    "IPython.display.Image ('ai202209_s04_17.png')"
   ]
  },
  {
   "cell_type": "markdown",
   "id": "4dce7aa2-6f81-46b3-9fa2-eb6686aadc3a",
   "metadata": {},
   "source": [
    "# Sample script 18 #"
   ]
  },
  {
   "cell_type": "code",
   "execution_count": null,
   "id": "3e770ad5-81d8-4bc6-babe-a88a5b8ef6d6",
   "metadata": {},
   "outputs": [],
   "source": [
    "# run this cell to show the source code of sample script 18 #\n",
    "\n",
    "!cat ai202209_s04_18.py"
   ]
  },
  {
   "cell_type": "code",
   "execution_count": null,
   "id": "c831c43e-539f-4106-8d71-6c4593e9ee23",
   "metadata": {},
   "outputs": [],
   "source": [
    "# run this cell to execute sample script 18 #\n",
    "\n",
    "!python3.9 ai202209_s04_18.py"
   ]
  },
  {
   "cell_type": "code",
   "execution_count": null,
   "id": "f862595d-17dd-42ce-a8e9-0be4ebf97ee2",
   "metadata": {},
   "outputs": [],
   "source": [
    "# run this cell to display plot #\n",
    "\n",
    "import IPython.display\n",
    "\n",
    "IPython.display.Image ('ai202209_s04_18.png')"
   ]
  },
  {
   "cell_type": "markdown",
   "id": "d31a4aa8-321a-4712-8fa6-ff6e83830a31",
   "metadata": {},
   "source": [
    "# Sample script 19 #"
   ]
  },
  {
   "cell_type": "code",
   "execution_count": null,
   "id": "720533d9-3ec8-4e12-9108-148a9249ecf8",
   "metadata": {},
   "outputs": [],
   "source": [
    "# run this cell to show the source code of sample script 19 #\n",
    "\n",
    "!cat ai202209_s04_19.py"
   ]
  },
  {
   "cell_type": "code",
   "execution_count": null,
   "id": "e7213064-10ab-452e-8307-e18a9ac12a4d",
   "metadata": {},
   "outputs": [],
   "source": [
    "# run this cell to execute sample script 19 #\n",
    "\n",
    "!python3.9 ai202209_s04_19.py"
   ]
  },
  {
   "cell_type": "code",
   "execution_count": null,
   "id": "73ebd8d0-0991-4ca8-8ba6-3b8c560cb004",
   "metadata": {},
   "outputs": [],
   "source": [
    "# run this cell to display plot #\n",
    "\n",
    "import IPython.display\n",
    "\n",
    "IPython.display.Image ('ai202209_s04_19.png')"
   ]
  },
  {
   "cell_type": "markdown",
   "id": "eef7b57f-f8a4-46ad-9fb9-7f34078df7d2",
   "metadata": {},
   "source": [
    "# Sample script 20 #"
   ]
  },
  {
   "cell_type": "code",
   "execution_count": null,
   "id": "5391af64-fc27-456c-83cb-8cfe21a8bbab",
   "metadata": {},
   "outputs": [],
   "source": [
    "# run this cell to show the source code of sample script 20 #\n",
    "\n",
    "!cat ai202209_s04_20.py"
   ]
  },
  {
   "cell_type": "code",
   "execution_count": null,
   "id": "2b5b2dbc-feb7-4804-bafc-7b80b2c64b93",
   "metadata": {},
   "outputs": [],
   "source": [
    "# run this cell to execute sample script 20 #\n",
    "\n",
    "!python3.9 ai202209_s04_20.py"
   ]
  },
  {
   "cell_type": "code",
   "execution_count": null,
   "id": "4e50409d-5532-4f4d-9ff1-d66837ec3bf7",
   "metadata": {},
   "outputs": [],
   "source": [
    "# run this cell to display plot #\n",
    "\n",
    "import IPython.display\n",
    "\n",
    "IPython.display.Image ('ai202209_s04_20.png')"
   ]
  },
  {
   "cell_type": "markdown",
   "id": "0277335b-deed-490c-991e-01121f06a646",
   "metadata": {},
   "source": [
    "# Sample script 21 #"
   ]
  },
  {
   "cell_type": "code",
   "execution_count": null,
   "id": "55ed5aa5-9e38-4330-aac9-d254a0f881c6",
   "metadata": {},
   "outputs": [],
   "source": [
    "# run this cell to show the source code of sample script 21 #\n",
    "\n",
    "!cat ai202209_s04_21.py"
   ]
  },
  {
   "cell_type": "code",
   "execution_count": null,
   "id": "3e769a5e-7db0-4ad7-a685-5acd864e3d46",
   "metadata": {},
   "outputs": [],
   "source": [
    "# run this cell to execute sample script 21 #\n",
    "\n",
    "!python3.9 ai202209_s04_21.py"
   ]
  },
  {
   "cell_type": "code",
   "execution_count": null,
   "id": "193ededa-ec4d-4c32-ae3f-68809aaa57a1",
   "metadata": {},
   "outputs": [],
   "source": [
    "# run this cell to display plot #\n",
    "\n",
    "import IPython.display\n",
    "\n",
    "IPython.display.Image ('ai202209_s04_21.png')"
   ]
  },
  {
   "cell_type": "markdown",
   "id": "43d9e885-2d6c-4bb5-be76-5fe1496015b2",
   "metadata": {},
   "source": [
    "# Sample script 22 #"
   ]
  },
  {
   "cell_type": "code",
   "execution_count": null,
   "id": "072a8ebc-8bda-4c00-bb94-b3a422b2d1c7",
   "metadata": {},
   "outputs": [],
   "source": [
    "# run this cell to show the source code of sample script 22 #\n",
    "\n",
    "!cat ai202209_s04_22.py"
   ]
  },
  {
   "cell_type": "code",
   "execution_count": null,
   "id": "eb27dd0e-ba96-4ab5-a2cb-60c959fcd040",
   "metadata": {},
   "outputs": [],
   "source": [
    "# run this cell to execute sample script 22 #\n",
    "\n",
    "!python3.9 ai202209_s04_22.py"
   ]
  },
  {
   "cell_type": "code",
   "execution_count": null,
   "id": "29b788c4-a068-4b7a-907a-64cd804c1ae8",
   "metadata": {},
   "outputs": [],
   "source": [
    "# run this cell to show the file \"alf_ori.data\" #\n",
    "\n",
    "!cat alf_ori.data"
   ]
  },
  {
   "cell_type": "markdown",
   "id": "9f06b9d7-e9e7-4bfc-b7ff-4be01ce525d6",
   "metadata": {},
   "source": [
    "# Sample script 23 #"
   ]
  },
  {
   "cell_type": "code",
   "execution_count": null,
   "id": "9b21bd95-fb76-4846-8d2a-4bcd460d420d",
   "metadata": {},
   "outputs": [],
   "source": [
    "# run this cell to show the source code of sample script 23 #\n",
    "\n",
    "!cat ai202209_s04_23.py"
   ]
  },
  {
   "cell_type": "code",
   "execution_count": null,
   "id": "c4aa6486-b073-4cac-8a75-e7856ce5f3e9",
   "metadata": {},
   "outputs": [],
   "source": [
    "# run this cell to execute sample script 23 #\n",
    "\n",
    "!python3.9 ai202209_s04_23.py"
   ]
  },
  {
   "cell_type": "code",
   "execution_count": null,
   "id": "cfde7946-ae99-4a93-a221-82416998f2e3",
   "metadata": {},
   "outputs": [],
   "source": [
    "# run this cell to display plot #\n",
    "\n",
    "import IPython.display\n",
    "\n",
    "IPython.display.Image ('ai202209_s04_23.png')"
   ]
  },
  {
   "cell_type": "markdown",
   "id": "2ec07093-7364-4f24-bca5-26c01fac63f4",
   "metadata": {},
   "source": [
    "# Sample script 24 #"
   ]
  },
  {
   "cell_type": "code",
   "execution_count": null,
   "id": "04664780-5533-4b13-89dd-f31d0b325de8",
   "metadata": {},
   "outputs": [],
   "source": [
    "# run this cell to show the source code of sample script 24 #\n",
    "\n",
    "!cat ai202209_s04_24.py"
   ]
  },
  {
   "cell_type": "code",
   "execution_count": null,
   "id": "87ccf341-3ce5-4f3a-a411-53e170bcf59e",
   "metadata": {},
   "outputs": [],
   "source": [
    "# run this cell to execute sample script 24 #\n",
    "\n",
    "!python3.9 ai202209_s04_24.py"
   ]
  },
  {
   "cell_type": "code",
   "execution_count": null,
   "id": "bc3c05b7-e2f8-4d69-bf5e-04578827f752",
   "metadata": {},
   "outputs": [],
   "source": [
    "# run this cell to display plot #\n",
    "\n",
    "import IPython.display\n",
    "\n",
    "IPython.display.Image ('ai202209_s04_24.png')"
   ]
  },
  {
   "cell_type": "markdown",
   "id": "741da6e6-c657-4aeb-abe5-1d1b27a8e055",
   "metadata": {},
   "source": [
    "# Sample script 25 #"
   ]
  },
  {
   "cell_type": "code",
   "execution_count": null,
   "id": "b0990907-382b-4bc4-b1d9-da9b1be39b6b",
   "metadata": {},
   "outputs": [],
   "source": [
    "# run this cell to show the source code of sample script 25 #\n",
    "\n",
    "!cat ai202209_s04_25.py"
   ]
  },
  {
   "cell_type": "code",
   "execution_count": null,
   "id": "fa159be0-0314-4808-9c35-05c603c8c341",
   "metadata": {},
   "outputs": [],
   "source": [
    "# run this cell to execute sample script 25 #\n",
    "\n",
    "!python3.9 ai202209_s04_25.py"
   ]
  },
  {
   "cell_type": "code",
   "execution_count": null,
   "id": "e26dd77f-6b0b-420d-be5a-bd7569f75cab",
   "metadata": {},
   "outputs": [],
   "source": [
    "# run this cell to display plot #\n",
    "\n",
    "import IPython.display\n",
    "\n",
    "IPython.display.Image ('ai202209_s04_25.png')"
   ]
  },
  {
   "cell_type": "markdown",
   "id": "e43106b4-0e1b-4b83-9ed1-6f7b6015d195",
   "metadata": {},
   "source": [
    "# Sample script 26 #"
   ]
  },
  {
   "cell_type": "code",
   "execution_count": null,
   "id": "27858378-54f2-4bd2-9430-6e5280ce5fc1",
   "metadata": {},
   "outputs": [],
   "source": [
    "# run this cell to show the source code of sample script 26 #\n",
    "\n",
    "!cat ai202209_s04_26.py"
   ]
  },
  {
   "cell_type": "code",
   "execution_count": null,
   "id": "5374bf9b-6a28-4eb6-bd27-0267c614c59f",
   "metadata": {},
   "outputs": [],
   "source": [
    "# run this cell to execute sample script 26 #\n",
    "\n",
    "!python3.9 ai202209_s04_26.py"
   ]
  },
  {
   "cell_type": "code",
   "execution_count": null,
   "id": "d3c114fe-1178-41db-9b0d-e50180a325a7",
   "metadata": {},
   "outputs": [],
   "source": [
    "# run this cell to display plot #\n",
    "\n",
    "import IPython.display\n",
    "\n",
    "IPython.display.Image ('ai202209_s04_26.png')"
   ]
  },
  {
   "cell_type": "markdown",
   "id": "dec1b079-42de-40bc-ac49-2c065cbff607",
   "metadata": {},
   "source": [
    "# Sample script 27 #"
   ]
  },
  {
   "cell_type": "code",
   "execution_count": null,
   "id": "40cf6754-51c5-4e17-a979-e8292fce41b3",
   "metadata": {},
   "outputs": [],
   "source": [
    "# run this cell to show the source code of sample script 27 #\n",
    "\n",
    "!cat ai202209_s04_27.py"
   ]
  },
  {
   "cell_type": "code",
   "execution_count": null,
   "id": "58157802-33fe-4b89-928e-73770e2775e8",
   "metadata": {},
   "outputs": [],
   "source": [
    "# run this cell to execute sample script 27 #\n",
    "\n",
    "!python3.9 ai202209_s04_27.py"
   ]
  },
  {
   "cell_type": "code",
   "execution_count": null,
   "id": "3c779d8a-8dc1-4c53-8260-3ce8b4c9af19",
   "metadata": {},
   "outputs": [],
   "source": [
    "# run this cell to show the information of the catalogue file #\n",
    "\n",
    "!ls -l catalog.gz"
   ]
  },
  {
   "cell_type": "markdown",
   "id": "aa6b4575-02ce-40cb-b30f-ae6c9e46982b",
   "metadata": {},
   "source": [
    "# Sample script 28 #"
   ]
  },
  {
   "cell_type": "code",
   "execution_count": null,
   "id": "599f6dc1-1147-42b5-ae38-84a9ec512d74",
   "metadata": {},
   "outputs": [],
   "source": [
    "# run this cell to show the source code of sample script 28 #\n",
    "\n",
    "!cat ai202209_s04_28.py"
   ]
  },
  {
   "cell_type": "code",
   "execution_count": null,
   "id": "d2fb77ee-7398-4b78-b075-da19dee2e48d",
   "metadata": {},
   "outputs": [],
   "source": [
    "# run this cell to execute sample script 28 #\n",
    "\n",
    "!python3.9 ai202209_s04_28.py"
   ]
  },
  {
   "cell_type": "markdown",
   "id": "eaac82f3-e80e-4430-bc4a-2e60233e8359",
   "metadata": {},
   "source": [
    "# Sample script 29 #"
   ]
  },
  {
   "cell_type": "code",
   "execution_count": null,
   "id": "07d29691-f483-4e65-ae66-51477da1c2d6",
   "metadata": {},
   "outputs": [],
   "source": [
    "# run this cell to show the source code of sample script 29 #\n",
    "\n",
    "!cat ai202209_s04_29.py"
   ]
  },
  {
   "cell_type": "code",
   "execution_count": null,
   "id": "50560580-171c-4102-9e62-2a4b99bc198a",
   "metadata": {},
   "outputs": [],
   "source": [
    "# run this cell to execute sample script 29 #\n",
    "\n",
    "!python3.9 ai202209_s04_29.py"
   ]
  },
  {
   "cell_type": "code",
   "execution_count": null,
   "id": "750d9c10-0f69-4be7-b804-3c39698c2f74",
   "metadata": {},
   "outputs": [],
   "source": [
    "# run this cell to display plot #\n",
    "\n",
    "import IPython.display\n",
    "\n",
    "IPython.display.Image ('ai202209_s04_29.png')"
   ]
  },
  {
   "cell_type": "markdown",
   "id": "49cae5e8-63f8-4572-aa03-0d90825c8127",
   "metadata": {},
   "source": [
    "# Sample script 30 #"
   ]
  },
  {
   "cell_type": "code",
   "execution_count": null,
   "id": "2bff65f9-e850-4828-9f01-84c634f4a11e",
   "metadata": {},
   "outputs": [],
   "source": [
    "# run this cell to show the source code of sample script 30 #\n",
    "\n",
    "!cat ai202209_s04_30.py"
   ]
  },
  {
   "cell_type": "code",
   "execution_count": null,
   "id": "53fe2019-0591-4422-983a-f0d706e6f623",
   "metadata": {},
   "outputs": [],
   "source": [
    "# run this cell to execute sample script 30 #\n",
    "\n",
    "!python3.9 ai202209_s04_30.py"
   ]
  },
  {
   "cell_type": "code",
   "execution_count": null,
   "id": "18b4f0d1-d67c-4a41-8a34-cec4c6ef89c6",
   "metadata": {},
   "outputs": [],
   "source": [
    "# run this cell to display plot #\n",
    "\n",
    "import IPython.display\n",
    "\n",
    "IPython.display.Image ('ai202209_s04_30.png')"
   ]
  },
  {
   "cell_type": "markdown",
   "id": "98ed0b84-9920-4bd4-92ca-d4e728c7bdac",
   "metadata": {},
   "source": [
    "# Sample script 31 #"
   ]
  },
  {
   "cell_type": "code",
   "execution_count": null,
   "id": "eba77dd6-c777-4a81-95dc-f4630e0692ce",
   "metadata": {},
   "outputs": [],
   "source": [
    "# run this cell to show the source code of sample script 31 #\n",
    "\n",
    "!cat ai202209_s04_31.py"
   ]
  },
  {
   "cell_type": "code",
   "execution_count": null,
   "id": "5d9ec86d-8d99-4e68-91ed-641c33ccabc8",
   "metadata": {},
   "outputs": [],
   "source": [
    "# run this cell to execute sample script 31 #\n",
    "\n",
    "!python3.9 ai202209_s04_31.py"
   ]
  },
  {
   "cell_type": "code",
   "execution_count": null,
   "id": "3338e51c-0a62-4607-a94a-1f3f107f5d33",
   "metadata": {},
   "outputs": [],
   "source": [
    "# run this cell to display plot #\n",
    "\n",
    "import IPython.display\n",
    "\n",
    "IPython.display.Image ('ai202209_s04_31.png')"
   ]
  },
  {
   "cell_type": "markdown",
   "id": "956985ad-3c5a-44e3-b709-f781b4afb67d",
   "metadata": {},
   "source": [
    "# Sample script 32 #"
   ]
  },
  {
   "cell_type": "code",
   "execution_count": null,
   "id": "6e183e61-2ae9-4bd5-b112-1958e70c8831",
   "metadata": {},
   "outputs": [],
   "source": [
    "# run this cell to show the source code of sample script 32 #\n",
    "\n",
    "!cat ai202209_s04_32.py"
   ]
  },
  {
   "cell_type": "code",
   "execution_count": null,
   "id": "ebe904b7-0497-49f3-a747-6f0146ab490f",
   "metadata": {},
   "outputs": [],
   "source": [
    "# run this cell to execute sample script 32 #\n",
    "\n",
    "!python3.9 ai202209_s04_32.py"
   ]
  },
  {
   "cell_type": "code",
   "execution_count": null,
   "id": "d3df3b80-7deb-4172-8bc0-82353d177adf",
   "metadata": {},
   "outputs": [],
   "source": [
    "# run this cell to display plot #\n",
    "\n",
    "import IPython.display\n",
    "\n",
    "IPython.display.Image ('ai202209_s04_32.png')"
   ]
  },
  {
   "cell_type": "markdown",
   "id": "5467302e-6cfd-42b4-9522-61c814f7a8c8",
   "metadata": {},
   "source": [
    "# Sample script 33 #"
   ]
  },
  {
   "cell_type": "code",
   "execution_count": null,
   "id": "1efca454-b7c1-4fad-bf19-a6c4425da296",
   "metadata": {},
   "outputs": [],
   "source": [
    "# run this cell to show the source code of sample script 33 #\n",
    "\n",
    "!cat ai202209_s04_33.py"
   ]
  },
  {
   "cell_type": "code",
   "execution_count": null,
   "id": "93ae8f04-d4b4-438c-9be1-09fa95dac124",
   "metadata": {},
   "outputs": [],
   "source": [
    "# run this cell to execute sample script 33 #\n",
    "\n",
    "!python3.9 ai202209_s04_33.py"
   ]
  },
  {
   "cell_type": "code",
   "execution_count": null,
   "id": "ae3a99ac-8ccb-465b-8b5d-09c0303cbc3d",
   "metadata": {},
   "outputs": [],
   "source": [
    "# run this cell to play movie #\n",
    "\n",
    "import IPython.display\n",
    "\n",
    "IPython.display.Video ('ai202209_s04_33.mp4')"
   ]
  },
  {
   "cell_type": "markdown",
   "id": "75c61945-8532-4403-8a4e-d7f03275421c",
   "metadata": {},
   "source": [
    "# Sample script 34 #"
   ]
  },
  {
   "cell_type": "code",
   "execution_count": null,
   "id": "e03d53d7-6736-4975-b787-d0cdbbe70271",
   "metadata": {},
   "outputs": [],
   "source": [
    "# run this cell to show the source code of sample script 34 #\n",
    "\n",
    "!cat ai202209_s04_34.py"
   ]
  },
  {
   "cell_type": "code",
   "execution_count": null,
   "id": "82841f21-8f77-431c-8272-6d29ee620b9c",
   "metadata": {},
   "outputs": [],
   "source": [
    "# run this cell to execute sample script 34 #\n",
    "\n",
    "!python3.9 ai202209_s04_34.py"
   ]
  },
  {
   "cell_type": "markdown",
   "id": "267fbd48-fd2e-486b-a748-951c9680596f",
   "metadata": {},
   "source": [
    "# Sample script 35 #"
   ]
  },
  {
   "cell_type": "code",
   "execution_count": null,
   "id": "754f4c1d-ff90-4b74-9312-d490450ffad5",
   "metadata": {},
   "outputs": [],
   "source": [
    "# run this cell to show the source code of sample script 35 #\n",
    "\n",
    "!cat ai202209_s04_35.py"
   ]
  },
  {
   "cell_type": "code",
   "execution_count": null,
   "id": "bc5d5332-bd22-4fdf-b8aa-c9dbc454a730",
   "metadata": {},
   "outputs": [],
   "source": [
    "# run this cell to execute sample script 35 #\n",
    "\n",
    "!python3.9 ai202209_s04_35.py"
   ]
  },
  {
   "cell_type": "markdown",
   "id": "529a6c3d-d15b-43f1-9ae1-86071732841a",
   "metadata": {},
   "source": [
    "# Sample script 36 #"
   ]
  },
  {
   "cell_type": "code",
   "execution_count": null,
   "id": "a1e4a68c-1697-422e-bc7a-7d25467e3c92",
   "metadata": {},
   "outputs": [],
   "source": [
    "# run this cell to show the source code of sample script 36 #\n",
    "\n",
    "!cat ai202209_s04_36.py"
   ]
  },
  {
   "cell_type": "code",
   "execution_count": null,
   "id": "45ff5370-1fac-44e6-8fc6-14ad478bc2cc",
   "metadata": {},
   "outputs": [],
   "source": [
    "# run this cell to execute sample script 36 #\n",
    "\n",
    "!python3.9 ai202209_s04_36.py"
   ]
  },
  {
   "cell_type": "code",
   "execution_count": null,
   "id": "bf28420d-4881-4088-81a9-8dfe308e060c",
   "metadata": {},
   "outputs": [],
   "source": [
    "# run this cell to display plot #\n",
    "\n",
    "import IPython.display\n",
    "\n",
    "IPython.display.Image ('ai202209_s04_36.png')"
   ]
  },
  {
   "cell_type": "markdown",
   "id": "086d940f-400f-4a7e-ba34-f853fc8edfd5",
   "metadata": {},
   "source": [
    "# Sample script 37 #"
   ]
  },
  {
   "cell_type": "code",
   "execution_count": null,
   "id": "5de5dfd0-f1c2-466c-acba-eb2e9604be43",
   "metadata": {},
   "outputs": [],
   "source": [
    "# run this cell to show the source code of sample script 37 #\n",
    "\n",
    "!cat ai202209_s04_37.py"
   ]
  },
  {
   "cell_type": "code",
   "execution_count": null,
   "id": "8f75d5b6-d9d9-4768-ae56-c20c9538ca80",
   "metadata": {},
   "outputs": [],
   "source": [
    "# run this cell to execute sample script 37 #\n",
    "\n",
    "!python3.9 ai202209_s04_37.py"
   ]
  },
  {
   "cell_type": "code",
   "execution_count": null,
   "id": "792d646a-5300-4f1e-8a4a-5888a2b1a9bf",
   "metadata": {},
   "outputs": [],
   "source": [
    "# run this cell to display plot #\n",
    "\n",
    "import IPython.display\n",
    "\n",
    "IPython.display.Video ('ai202209_s04_37.mp4')"
   ]
  },
  {
   "cell_type": "markdown",
   "id": "d80d57c0-0428-4c7e-988d-e4fe2d7df1eb",
   "metadata": {},
   "source": [
    "# Sample script 38 #"
   ]
  },
  {
   "cell_type": "code",
   "execution_count": null,
   "id": "2ed2bc57-7ce7-401d-b82b-a92c94583cd5",
   "metadata": {},
   "outputs": [],
   "source": [
    "# run this cell to show the source code of sample script 38 #\n",
    "\n",
    "!cat ai202209_s04_38.py"
   ]
  },
  {
   "cell_type": "code",
   "execution_count": null,
   "id": "a2ea32fa-de7b-4279-8904-ce5f8897ebcc",
   "metadata": {},
   "outputs": [],
   "source": [
    "# run this cell to execute sample script 38 #\n",
    "\n",
    "!python3.9 ai202209_s04_38.py"
   ]
  },
  {
   "cell_type": "code",
   "execution_count": null,
   "id": "8cc257bc-6437-4350-8957-f751d1bf9fd3",
   "metadata": {},
   "outputs": [],
   "source": [
    "# run this cell to display plot #\n",
    "\n",
    "import IPython.display\n",
    "\n",
    "IPython.display.Image ('ai202209_s04_38.png')"
   ]
  },
  {
   "cell_type": "markdown",
   "id": "b48d84cc-eec7-4967-8d21-35dc94348af5",
   "metadata": {},
   "source": [
    "# Sample script 39 #"
   ]
  },
  {
   "cell_type": "code",
   "execution_count": null,
   "id": "a42ce16b-b199-406f-9411-31dd722854ad",
   "metadata": {},
   "outputs": [],
   "source": [
    "# run this cell to show the source code of sample script 39 #\n",
    "\n",
    "!cat ai202209_s04_39.py"
   ]
  },
  {
   "cell_type": "code",
   "execution_count": null,
   "id": "68874e56-10e3-4194-96f1-1ad4becf7083",
   "metadata": {},
   "outputs": [],
   "source": [
    "# run this cell to execute sample script 39 #\n",
    "\n",
    "!python3.9 ai202209_s04_39.py"
   ]
  },
  {
   "cell_type": "code",
   "execution_count": null,
   "id": "91e01ec9-ff20-4407-b91c-8019ac5b6be7",
   "metadata": {},
   "outputs": [],
   "source": [
    "# run this cell to display plot #\n",
    "\n",
    "import IPython.display\n",
    "\n",
    "IPython.display.Image ('ai202209_s04_39.png')"
   ]
  },
  {
   "cell_type": "markdown",
   "id": "78663e98-c656-4f4e-afcd-86e96d44d0cf",
   "metadata": {},
   "source": [
    "# Sample script 40 #"
   ]
  },
  {
   "cell_type": "code",
   "execution_count": null,
   "id": "fdafd47e-ca4d-4c0d-bfd8-fde113bc7e5b",
   "metadata": {},
   "outputs": [],
   "source": [
    "# run this cell to show the source code of sample script 40 #\n",
    "\n",
    "!cat ai202209_s04_40.py"
   ]
  },
  {
   "cell_type": "code",
   "execution_count": null,
   "id": "01733889-b6bd-48e7-b7c0-78849f1f772a",
   "metadata": {},
   "outputs": [],
   "source": [
    "# run this cell to execute sample script 40 #\n",
    "\n",
    "!python3.9 ai202209_s04_40.py"
   ]
  },
  {
   "cell_type": "code",
   "execution_count": null,
   "id": "373b2b70-a267-46a4-9be7-ea2ce6c3f3be",
   "metadata": {},
   "outputs": [],
   "source": [
    "# make a movie file from PNG files\n",
    "\n",
    "!ffmpeg5 -f image2 -start_number 0 -framerate 30 -i solsys_3d_struct_%06d.png -an -vcodec libx264 -pix_fmt yuv420p -threads 8 solsys_3d_struct.mp4"
   ]
  },
  {
   "cell_type": "code",
   "execution_count": null,
   "id": "cfa75969-e23e-4008-83eb-75292a9bf3db",
   "metadata": {},
   "outputs": [],
   "source": [
    "# run this cell to display plot #\n",
    "\n",
    "import IPython.display\n",
    "\n",
    "IPython.display.Video ('solsys_3d_struct.mp4')"
   ]
  },
  {
   "cell_type": "markdown",
   "id": "c3e89e45-eae1-412f-bdc2-808745c25e92",
   "metadata": {},
   "source": [
    "# Sample script 41 #"
   ]
  },
  {
   "cell_type": "code",
   "execution_count": null,
   "id": "6d8f234a-f2c4-4ff4-9f9e-f5cddfb0faf2",
   "metadata": {},
   "outputs": [],
   "source": [
    "# run this cell to show the source code of sample script 41 #\n",
    "\n",
    "!cat ai202209_s04_41.py"
   ]
  },
  {
   "cell_type": "code",
   "execution_count": null,
   "id": "2db7d5ae-66cc-409c-b0b2-5bce4433934c",
   "metadata": {},
   "outputs": [],
   "source": [
    "# run this cell to execute sample script 41 #\n",
    "\n",
    "!python3.9 ai202209_s04_41.py"
   ]
  },
  {
   "cell_type": "code",
   "execution_count": null,
   "id": "d58d85c1-1e04-4035-8613-2de9efedd913",
   "metadata": {},
   "outputs": [],
   "source": [
    "# make a movie file from PNG files\n",
    "\n",
    "!ffmpeg5 -f image2 -start_number 0 -framerate 30 -i solsys_3d_struct2_%06d.png -an -vcodec libx264 -pix_fmt yuv420p -threads 8 solsys_3d_struct2.mp4"
   ]
  },
  {
   "cell_type": "code",
   "execution_count": null,
   "id": "8f720773-7e31-489e-b96d-a609d3249752",
   "metadata": {},
   "outputs": [],
   "source": [
    "# run this cell to display plot #\n",
    "\n",
    "import IPython.display\n",
    "\n",
    "IPython.display.Video ('solsys_3d_struct2.mp4')"
   ]
  },
  {
   "cell_type": "markdown",
   "id": "154de376-4079-4bf7-b6b1-3cca7814a46c",
   "metadata": {},
   "source": [
    "# Sample script 42 #"
   ]
  },
  {
   "cell_type": "code",
   "execution_count": null,
   "id": "0f4eeb67-abb3-487d-a68a-d166dc71aeec",
   "metadata": {},
   "outputs": [],
   "source": [
    "# run this cell to show the source code of sample script 42 #\n",
    "\n",
    "!cat ai202209_s04_42.py"
   ]
  },
  {
   "cell_type": "code",
   "execution_count": null,
   "id": "296319d1-3c6b-4edb-b08d-070e3b7bf1d4",
   "metadata": {},
   "outputs": [],
   "source": [
    "# run this cell to execute sample script 42 #\n",
    "\n",
    "# It takes long time to complete.\n",
    "\n",
    "!python3.9 ai202209_s04_42.py"
   ]
  },
  {
   "cell_type": "code",
   "execution_count": null,
   "id": "e388eb2a-b7aa-4e4c-b074-4ee149aa0544",
   "metadata": {},
   "outputs": [],
   "source": [
    "# make a movie file from PNG files\n",
    "\n",
    "!ffmpeg5 -f image2 -start_number 0 -framerate 30 -i solsys_3d_struct3_%06d.png -an -vcodec libx264 -pix_fmt yuv420p -threads 8 solsys_3d_struct3.mp4"
   ]
  },
  {
   "cell_type": "code",
   "execution_count": null,
   "id": "933700b8-2cae-4122-945d-1e5c0557f8d1",
   "metadata": {},
   "outputs": [],
   "source": [
    "# run this cell to display plot #\n",
    "\n",
    "import IPython.display\n",
    "\n",
    "IPython.display.Video ('solsys_3d_struct3.mp4')"
   ]
  },
  {
   "cell_type": "code",
   "execution_count": null,
   "id": "4acd43cc-89ba-44a5-a20c-71781c7ba864",
   "metadata": {},
   "outputs": [],
   "source": []
  }
 ],
 "metadata": {
  "kernelspec": {
   "display_name": "Python 3 (ipykernel)",
   "language": "python",
   "name": "python3"
  },
  "language_info": {
   "codemirror_mode": {
    "name": "ipython",
    "version": 3
   },
   "file_extension": ".py",
   "mimetype": "text/x-python",
   "name": "python",
   "nbconvert_exporter": "python",
   "pygments_lexer": "ipython3",
   "version": "3.9.13"
  }
 },
 "nbformat": 4,
 "nbformat_minor": 5
}
