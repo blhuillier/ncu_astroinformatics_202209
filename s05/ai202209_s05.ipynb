{
 "cells": [
  {
   "cell_type": "markdown",
   "id": "527bf7c3-828b-44e9-8d8d-2a9bc4732b76",
   "metadata": {},
   "source": [
    "# Session 05 of Astroinformatics (first semester, academic year 2022) #\n",
    "\n",
    "- About the course\n",
    "    - course name: \"Astroinformatics\"\n",
    "    - semester: from Sep/2022 to Jan/2023\n",
    "    - lecture hours: from 09:00 to 12:00\n",
    "    - classroom: S4-914\n",
    "    - instructor: Kinoshita Daisuke\n",
    "    - course web page: https://s3b.astro.ncu.edu.tw/ai_202209/\n",
    "    - GitHub repository: https://github.com/kinoshitadaisuke/ncu_astroinformatics_202209\n",
    "    - Binder web page: https://mybinder.org/v2/gh/kinoshitadaisuke/ncu_astroinformatics_202209/HEAD"
   ]
  },
  {
   "cell_type": "markdown",
   "id": "57ed5cc3-2d49-4c16-bd14-feb937647071",
   "metadata": {},
   "source": [
    "## About this notebook ##\n",
    "\n",
    "This is a notebook for the __session 05__ of \"Astroinformatics\" at first semester of academic year 2022.\n",
    "\n",
    "This notebook contains sample Python scripts only.\n",
    "\n",
    "The lecture note is provided at the course web page.\n",
    "\n",
    "To download the lecture note, visit following web page.\n",
    "\n",
    "https://s3b.astro.ncu.edu.tw/ai_202209/\n",
    "\n",
    "Note that the lecture note can be downloaded only from computers/mobile phones connected to the computer network of our university.\n",
    "\n",
    "Connect to Wi-Fi of our university or use VPN service of our university to download the lecture note.\n",
    "\n",
    "If you have any question about this notebook, contact to Kinoshita Daisuke."
   ]
  },
  {
   "cell_type": "markdown",
   "id": "26548325-b8f6-4d3c-9354-250a7018ae09",
   "metadata": {},
   "source": [
    "# Sample script 00 #"
   ]
  },
  {
   "cell_type": "code",
   "execution_count": null,
   "id": "04c426b5-f660-4eb1-9b48-6a5bde4ff7dd",
   "metadata": {},
   "outputs": [],
   "source": [
    "# run this cell to show the source code of sample script 00 #\n",
    "\n",
    "!cat ai202209_s05_00.py"
   ]
  },
  {
   "cell_type": "code",
   "execution_count": null,
   "id": "a761c18d-3f56-4ca9-8566-8269fced441a",
   "metadata": {},
   "outputs": [],
   "source": [
    "# run this cell to execute sample script 00 #\n",
    "\n",
    "!python3.9 ai202209_s05_00.py"
   ]
  },
  {
   "cell_type": "markdown",
   "id": "55ed9f70-8fd7-4966-8b08-e75828de4810",
   "metadata": {},
   "source": [
    "# Sample script 01 #"
   ]
  },
  {
   "cell_type": "code",
   "execution_count": null,
   "id": "0cee794e-2698-4fa2-b88b-cd4318629b3c",
   "metadata": {},
   "outputs": [],
   "source": [
    "# run this cell to show the source code of sample script 01 #\n",
    "\n",
    "!cat ai202209_s05_01.py"
   ]
  },
  {
   "cell_type": "code",
   "execution_count": null,
   "id": "db4191df-435c-4d49-b51e-ad7b42a1cd9f",
   "metadata": {},
   "outputs": [],
   "source": [
    "# run this cell to execute sample script 01 #\n",
    "\n",
    "!python3.9 ai202209_s05_01.py"
   ]
  },
  {
   "cell_type": "markdown",
   "id": "70e3de30-1196-420f-8a86-c3f13b942849",
   "metadata": {},
   "source": [
    "# Sample script 02 #"
   ]
  },
  {
   "cell_type": "code",
   "execution_count": null,
   "id": "359088ba-ffca-4424-9532-12d3f27a6618",
   "metadata": {},
   "outputs": [],
   "source": [
    "# run this cell to show the source code of sample script 02 #\n",
    "\n",
    "!cat ai202209_s05_02.py"
   ]
  },
  {
   "cell_type": "code",
   "execution_count": null,
   "id": "e80b2f61-0820-4369-998a-c1d2a98345d3",
   "metadata": {},
   "outputs": [],
   "source": [
    "# run this cell to execute sample script 02 #\n",
    "\n",
    "!python3.9 ai202209_s05_02.py"
   ]
  },
  {
   "cell_type": "markdown",
   "id": "f8e4f85a-a846-4dfd-b1ea-e11bab50dfb8",
   "metadata": {},
   "source": [
    "# Sample script 03 #"
   ]
  },
  {
   "cell_type": "code",
   "execution_count": null,
   "id": "f833188c-00c4-428e-8a22-a2c435a22c52",
   "metadata": {},
   "outputs": [],
   "source": [
    "# run this cell to show the source code of sample script 03 #\n",
    "\n",
    "!cat ai202209_s05_03.py"
   ]
  },
  {
   "cell_type": "code",
   "execution_count": null,
   "id": "63e2dee5-daf3-4832-9f32-a3f1a16b9bfa",
   "metadata": {},
   "outputs": [],
   "source": [
    "# run this cell to execute sample script 03 #\n",
    "\n",
    "!python3.9 ai202209_s05_03.py"
   ]
  },
  {
   "cell_type": "markdown",
   "id": "0a446181-bef2-4888-b2cd-a5f8d6236d0f",
   "metadata": {},
   "source": [
    "# Sample script 04 #"
   ]
  },
  {
   "cell_type": "code",
   "execution_count": null,
   "id": "3b9a6d39-9fe5-434e-8e22-3f148bed94ad",
   "metadata": {},
   "outputs": [],
   "source": [
    "# run this cell to show the source code of sample script 04 #\n",
    "\n",
    "!cat ai202209_s05_04.py"
   ]
  },
  {
   "cell_type": "code",
   "execution_count": null,
   "id": "1b589472-486e-4c85-8db2-4b6d4d5e2fae",
   "metadata": {},
   "outputs": [],
   "source": [
    "# run this cell to execute sample script 04 #\n",
    "\n",
    "!python3.9 ai202209_s05_04.py"
   ]
  },
  {
   "cell_type": "markdown",
   "id": "6e522650-737b-430f-8ebe-fa6256cef97a",
   "metadata": {},
   "source": [
    "# Sample script 05 #"
   ]
  },
  {
   "cell_type": "code",
   "execution_count": null,
   "id": "ae5bad56-f1f1-4248-ab9c-c09860b3c5f1",
   "metadata": {},
   "outputs": [],
   "source": [
    "# run this cell to show the source code of sample script 05 #\n",
    "\n",
    "!cat ai202209_s05_05.py"
   ]
  },
  {
   "cell_type": "code",
   "execution_count": null,
   "id": "7dd4dedf-248b-44ff-afc1-1cb8ac97d934",
   "metadata": {},
   "outputs": [],
   "source": [
    "# run this cell to execute sample script 05 #\n",
    "\n",
    "!python3.9 ai202209_s05_05.py"
   ]
  },
  {
   "cell_type": "markdown",
   "id": "5ccd12fd-297e-4e6a-ad05-25d076838bf1",
   "metadata": {},
   "source": [
    "# Sample script 06 #"
   ]
  },
  {
   "cell_type": "code",
   "execution_count": null,
   "id": "80b3a37a-919d-42a2-b0b8-87e1612fd63a",
   "metadata": {},
   "outputs": [],
   "source": [
    "# run this cell to show the source code of sample script 06 #\n",
    "\n",
    "!cat ai202209_s05_06.py"
   ]
  },
  {
   "cell_type": "code",
   "execution_count": null,
   "id": "082a570c-1754-4c26-bb4a-0160589c8c10",
   "metadata": {},
   "outputs": [],
   "source": [
    "# run this cell to execute sample script 06 #\n",
    "\n",
    "!python3.9 ai202209_s05_06.py"
   ]
  },
  {
   "cell_type": "markdown",
   "id": "95cd2c7c-6069-4286-abf4-c266f943c83b",
   "metadata": {},
   "source": [
    "# Sample script 07 #"
   ]
  },
  {
   "cell_type": "code",
   "execution_count": null,
   "id": "d1223773-2d41-4977-b895-66840c3ba3e5",
   "metadata": {},
   "outputs": [],
   "source": [
    "# run this cell to show the source code of sample script 07 #\n",
    "\n",
    "!cat ai202209_s05_07.py"
   ]
  },
  {
   "cell_type": "code",
   "execution_count": null,
   "id": "15faa768-65c8-490f-b828-33c08ddbbd24",
   "metadata": {},
   "outputs": [],
   "source": [
    "# run this cell to execute sample script 07 #\n",
    "\n",
    "!python3.9 ai202209_s05_07.py"
   ]
  },
  {
   "cell_type": "markdown",
   "id": "ebe58595-3fca-44cd-a009-20732fa59cb1",
   "metadata": {},
   "source": [
    "# Sample script 08 #"
   ]
  },
  {
   "cell_type": "code",
   "execution_count": null,
   "id": "75a44dd5-1854-4600-9d67-6b58ad651241",
   "metadata": {},
   "outputs": [],
   "source": [
    "# run this cell to show the source code of sample script 08 #\n",
    "\n",
    "!cat ai202209_s05_08.py"
   ]
  },
  {
   "cell_type": "code",
   "execution_count": null,
   "id": "1cec7650-fef4-43d3-beea-5329e9a74988",
   "metadata": {},
   "outputs": [],
   "source": [
    "# run this cell to execute sample script 08 #\n",
    "\n",
    "!python3.9 ai202209_s05_08.py"
   ]
  },
  {
   "cell_type": "markdown",
   "id": "c9734ab3-4729-43df-9df3-d74564c4cb7f",
   "metadata": {},
   "source": [
    "# Sample script 09 #"
   ]
  },
  {
   "cell_type": "code",
   "execution_count": null,
   "id": "c8e2ce21-774c-4a29-a0d8-f94b5ea83a5c",
   "metadata": {},
   "outputs": [],
   "source": [
    "# run this cell to show the source code of sample script 09 #\n",
    "\n",
    "!cat ai202209_s05_09.py"
   ]
  },
  {
   "cell_type": "code",
   "execution_count": null,
   "id": "30379787-d396-4fb1-92de-a55484f00ff3",
   "metadata": {},
   "outputs": [],
   "source": [
    "# run this cell to execute sample script 09 #\n",
    "\n",
    "!python3.9 ai202209_s05_09.py"
   ]
  },
  {
   "cell_type": "markdown",
   "id": "c99fbb54-939f-4bed-a50e-dbbf6b924674",
   "metadata": {},
   "source": [
    "# Sample script 10 #"
   ]
  },
  {
   "cell_type": "code",
   "execution_count": null,
   "id": "e79bb092-674b-43aa-b8ab-5fd3786b8820",
   "metadata": {},
   "outputs": [],
   "source": [
    "# run this cell to show the source code of sample script 10 #\n",
    "\n",
    "!cat ai202209_s05_10.py"
   ]
  },
  {
   "cell_type": "code",
   "execution_count": null,
   "id": "36f16bb6-3627-4dff-aa48-a0ff494c42d7",
   "metadata": {},
   "outputs": [],
   "source": [
    "# run this cell to execute sample script 10 #\n",
    "\n",
    "!python3.9 ai202209_s05_10.py"
   ]
  },
  {
   "cell_type": "markdown",
   "id": "ac825975-4aec-4a0e-94bc-cb71c40170d1",
   "metadata": {},
   "source": [
    "# Sample script 11 #"
   ]
  },
  {
   "cell_type": "code",
   "execution_count": null,
   "id": "46be3a4e-5ea3-4bf4-9ab1-26c5bf6a1540",
   "metadata": {},
   "outputs": [],
   "source": [
    "# run this cell to show the source code of sample script 11 #\n",
    "\n",
    "!cat ai202209_s05_11.py"
   ]
  },
  {
   "cell_type": "code",
   "execution_count": null,
   "id": "2ac3a4f4-fe2b-4aec-8696-a09fba18d06a",
   "metadata": {},
   "outputs": [],
   "source": [
    "# run this cell to execute sample script 11 #\n",
    "\n",
    "!python3.9 ai202209_s05_11.py"
   ]
  },
  {
   "cell_type": "markdown",
   "id": "e6d619b5-891b-4af8-a991-7fc6b89bae00",
   "metadata": {},
   "source": [
    "# Sample script 12 #"
   ]
  },
  {
   "cell_type": "code",
   "execution_count": null,
   "id": "e300067b-e053-47cc-99f9-2f6e785a33a0",
   "metadata": {},
   "outputs": [],
   "source": [
    "# run this cell to show the source code of sample script 12 #\n",
    "\n",
    "!cat ai202209_s05_12.py"
   ]
  },
  {
   "cell_type": "code",
   "execution_count": null,
   "id": "c3ce2688-60b8-4b12-b272-2e9c55c37470",
   "metadata": {},
   "outputs": [],
   "source": [
    "# run this cell to execute sample script 12 #\n",
    "\n",
    "!python3.9 ai202209_s05_12.py"
   ]
  },
  {
   "cell_type": "markdown",
   "id": "1f58310e-420b-468d-8a8f-4cc2eb412a28",
   "metadata": {},
   "source": [
    "# Sample script 13 #"
   ]
  },
  {
   "cell_type": "code",
   "execution_count": null,
   "id": "ebc82f73-b710-4745-8077-09ee9556ae8d",
   "metadata": {},
   "outputs": [],
   "source": [
    "# run this cell to show the source code of sample script 13 #\n",
    "\n",
    "!cat ai202209_s05_13.py"
   ]
  },
  {
   "cell_type": "code",
   "execution_count": null,
   "id": "6a7267a7-6564-4b1d-9111-3dc3a066c063",
   "metadata": {},
   "outputs": [],
   "source": [
    "# run this cell to execute sample script 13 #\n",
    "\n",
    "!python3.9 ai202209_s05_13.py"
   ]
  },
  {
   "cell_type": "markdown",
   "id": "9807ac09-1260-4c8b-aa7e-09a5ba51016e",
   "metadata": {},
   "source": [
    "# Sample script 14 #"
   ]
  },
  {
   "cell_type": "code",
   "execution_count": null,
   "id": "92945535-71e5-432a-a4ac-922cc2689d4c",
   "metadata": {},
   "outputs": [],
   "source": [
    "# run this cell to show the source code of sample script 14 #\n",
    "\n",
    "!cat ai202209_s05_14.py"
   ]
  },
  {
   "cell_type": "code",
   "execution_count": null,
   "id": "6541101c-8ce9-499a-9e26-a951210308eb",
   "metadata": {},
   "outputs": [],
   "source": [
    "# run this cell to execute sample script 14 #\n",
    "\n",
    "!python3.9 ai202209_s05_14.py"
   ]
  },
  {
   "cell_type": "code",
   "execution_count": null,
   "id": "87f65652-91e9-4c73-8f0b-c9463f0c0fba",
   "metadata": {},
   "outputs": [],
   "source": [
    "# run this cell to display plot\n",
    "\n",
    "import IPython.display\n",
    "\n",
    "IPython.display.Image ('ai202209_s05_14.png')"
   ]
  },
  {
   "cell_type": "markdown",
   "id": "032a991f-9365-460e-86ef-740e49faa9b1",
   "metadata": {},
   "source": [
    "# Sample script 15 #"
   ]
  },
  {
   "cell_type": "code",
   "execution_count": null,
   "id": "69ac261b-2858-418e-830b-98c550dd8b56",
   "metadata": {},
   "outputs": [],
   "source": [
    "# run this cell to show the source code of sample script 15 #\n",
    "\n",
    "!cat ai202209_s05_15.py"
   ]
  },
  {
   "cell_type": "code",
   "execution_count": null,
   "id": "bb7103d9-fd11-41ea-bc92-c86d9d9d3d64",
   "metadata": {},
   "outputs": [],
   "source": [
    "# run this cell to execute sample script 15 #\n",
    "\n",
    "!python3.9 ai202209_s05_15.py"
   ]
  },
  {
   "cell_type": "code",
   "execution_count": null,
   "id": "69ed9b83-324d-49dc-8540-b86755254286",
   "metadata": {},
   "outputs": [],
   "source": [
    "# run this cell to display plot\n",
    "\n",
    "import IPython.display\n",
    "\n",
    "IPython.display.Image ('ai202209_s05_15.png')"
   ]
  },
  {
   "cell_type": "markdown",
   "id": "620350be-bfdd-4a5e-8771-15d9c9a93432",
   "metadata": {},
   "source": [
    "# Sample script 16 #"
   ]
  },
  {
   "cell_type": "code",
   "execution_count": null,
   "id": "7cab825d-8976-416f-86ed-9a709d650de2",
   "metadata": {},
   "outputs": [],
   "source": [
    "# run this cell to show the source code of sample script 16 #\n",
    "\n",
    "!cat ai202209_s05_16.py"
   ]
  },
  {
   "cell_type": "code",
   "execution_count": null,
   "id": "f2fab77a-174c-4357-8368-8dacfe522031",
   "metadata": {},
   "outputs": [],
   "source": [
    "# run this cell to execute sample script 16 #\n",
    "\n",
    "!python3.9 ai202209_s05_16.py"
   ]
  },
  {
   "cell_type": "code",
   "execution_count": null,
   "id": "a158fdc9-c575-4b1a-886d-757a2b5e0a6d",
   "metadata": {},
   "outputs": [],
   "source": [
    "# run this cell to display plot\n",
    "\n",
    "import IPython.display\n",
    "\n",
    "IPython.display.Image ('ai202209_s05_16.png')"
   ]
  },
  {
   "cell_type": "markdown",
   "id": "ceeac60c-6cf1-4e0d-8061-6b83aaa19077",
   "metadata": {},
   "source": [
    "# Sample script 17 #"
   ]
  },
  {
   "cell_type": "code",
   "execution_count": null,
   "id": "3296fdd3-526f-4e55-9418-ae9b89edcbe2",
   "metadata": {},
   "outputs": [],
   "source": [
    "# run this cell to show the source code of sample script 17 #\n",
    "\n",
    "!cat ai202209_s05_17.py"
   ]
  },
  {
   "cell_type": "code",
   "execution_count": null,
   "id": "8611b5b0-0417-4d1a-a1f1-9e375dfe3923",
   "metadata": {},
   "outputs": [],
   "source": [
    "# run this cell to execute sample script 17 #\n",
    "\n",
    "!python3.9 ai202209_s05_17.py"
   ]
  },
  {
   "cell_type": "code",
   "execution_count": null,
   "id": "88b96d07-23f0-4d62-b742-347a6a391d56",
   "metadata": {},
   "outputs": [],
   "source": [
    "# run this cell to display plot\n",
    "\n",
    "import IPython.display\n",
    "\n",
    "IPython.display.Image ('ai202209_s05_17.png')"
   ]
  },
  {
   "cell_type": "markdown",
   "id": "de58c8dc-5257-4812-957d-4c126a44519f",
   "metadata": {},
   "source": [
    "# Sample script 18 #"
   ]
  },
  {
   "cell_type": "code",
   "execution_count": null,
   "id": "fabd45ad-96a6-4c3c-8dff-fd794d7ab980",
   "metadata": {},
   "outputs": [],
   "source": [
    "# run this cell to show the source code of sample script 18 #\n",
    "\n",
    "!cat ai202209_s05_18.py"
   ]
  },
  {
   "cell_type": "code",
   "execution_count": null,
   "id": "1817be3e-480e-4600-a476-9a857a7e6a05",
   "metadata": {},
   "outputs": [],
   "source": [
    "# run this cell to execute sample script 18 #\n",
    "\n",
    "!python3.9 ai202209_s05_18.py"
   ]
  },
  {
   "cell_type": "code",
   "execution_count": null,
   "id": "697abfdb-db15-47bd-a636-b29520026d2e",
   "metadata": {},
   "outputs": [],
   "source": [
    "# run this cell to display plot\n",
    "\n",
    "import IPython.display\n",
    "\n",
    "IPython.display.Image ('ai202209_s05_18.png')"
   ]
  },
  {
   "cell_type": "markdown",
   "id": "b9ee8f72-d83b-447f-8109-37c1208f52c9",
   "metadata": {},
   "source": [
    "# Sample script 19 #"
   ]
  },
  {
   "cell_type": "code",
   "execution_count": null,
   "id": "492bfc37-bf47-47a5-9853-c08b02e4a26f",
   "metadata": {},
   "outputs": [],
   "source": [
    "# run this cell to show the source code of sample script 19 #\n",
    "\n",
    "!cat ai202209_s05_19.py"
   ]
  },
  {
   "cell_type": "code",
   "execution_count": null,
   "id": "e6a22676-bd87-46ad-ae46-20708ac0f193",
   "metadata": {},
   "outputs": [],
   "source": [
    "# run this cell to execute sample script 19 #\n",
    "\n",
    "!python3.9 ai202209_s05_19.py"
   ]
  },
  {
   "cell_type": "code",
   "execution_count": null,
   "id": "f36b7aae-0830-4629-aa60-1e63f1eb2424",
   "metadata": {},
   "outputs": [],
   "source": [
    "# run this cell to display plot\n",
    "\n",
    "import IPython.display\n",
    "\n",
    "IPython.display.Image ('ai202209_s05_19.png')"
   ]
  },
  {
   "cell_type": "markdown",
   "id": "2c8d427f-a10a-41a9-8077-bdb1495c7807",
   "metadata": {},
   "source": [
    "# Sample script 20 #"
   ]
  },
  {
   "cell_type": "code",
   "execution_count": null,
   "id": "288891cd-d6f1-4f12-a0bf-e772740f9285",
   "metadata": {},
   "outputs": [],
   "source": [
    "# run this cell to show the source code of sample script 20 #\n",
    "\n",
    "!cat ai202209_s05_20.py"
   ]
  },
  {
   "cell_type": "code",
   "execution_count": null,
   "id": "6e125920-8a3b-4800-b094-5f6de8c983a7",
   "metadata": {},
   "outputs": [],
   "source": [
    "# run this cell to execute sample script 20 #\n",
    "\n",
    "!python3.9 ai202209_s05_20.py"
   ]
  },
  {
   "cell_type": "code",
   "execution_count": null,
   "id": "c2e27126-2d31-40f3-b24c-0be0a9df8140",
   "metadata": {},
   "outputs": [],
   "source": [
    "# run this cell to display plot\n",
    "\n",
    "import IPython.display\n",
    "\n",
    "IPython.display.Image ('ai202209_s05_20.png')"
   ]
  },
  {
   "cell_type": "markdown",
   "id": "6a79b1ba-f55e-494a-95b9-cb2e7948dab8",
   "metadata": {},
   "source": [
    "# Sample script 21 #"
   ]
  },
  {
   "cell_type": "code",
   "execution_count": null,
   "id": "f178281e-d0eb-4f23-b757-0f5c1cfda39e",
   "metadata": {},
   "outputs": [],
   "source": [
    "# run this cell to show the source code of sample script 21 #\n",
    "\n",
    "!cat ai202209_s05_21.py"
   ]
  },
  {
   "cell_type": "code",
   "execution_count": null,
   "id": "b92574a8-6d38-4cfc-9f66-e6f0a00be381",
   "metadata": {},
   "outputs": [],
   "source": [
    "# run this cell to execute sample script 21 #\n",
    "\n",
    "!python3.9 ai202209_s05_21.py"
   ]
  },
  {
   "cell_type": "markdown",
   "id": "cde4aae5-4b3e-4498-8b26-1e96d9a7bce3",
   "metadata": {},
   "source": [
    "# Sample script 22 #"
   ]
  },
  {
   "cell_type": "code",
   "execution_count": null,
   "id": "675ad156-8074-47cc-9c35-1060e4df9b2b",
   "metadata": {},
   "outputs": [],
   "source": [
    "# run this cell to show the source code of sample script 22 #\n",
    "\n",
    "!cat ai202209_s05_22.py"
   ]
  },
  {
   "cell_type": "code",
   "execution_count": null,
   "id": "67bca283-662b-409c-9dad-325cb995ec94",
   "metadata": {},
   "outputs": [],
   "source": [
    "# run this cell to execute sample script 22 #\n",
    "\n",
    "!python3.9 ai202209_s05_22.py"
   ]
  },
  {
   "cell_type": "markdown",
   "id": "0141128b-e589-400c-a989-04f2d2b453d0",
   "metadata": {},
   "source": [
    "# Sample script 23 #"
   ]
  },
  {
   "cell_type": "code",
   "execution_count": null,
   "id": "49e93efc-73ea-4ed7-b498-a3a3ca9858f3",
   "metadata": {},
   "outputs": [],
   "source": [
    "# run this cell to show the source code of sample script 23 #\n",
    "\n",
    "!cat ai202209_s05_23.py"
   ]
  },
  {
   "cell_type": "code",
   "execution_count": null,
   "id": "01ba0aef-890e-44b9-a661-cc7126e426c8",
   "metadata": {},
   "outputs": [],
   "source": [
    "# run this cell to execute sample script 23 #\n",
    "\n",
    "!python3.9 ai202209_s05_23.py"
   ]
  },
  {
   "cell_type": "markdown",
   "id": "798cc0aa-fbdf-4f8d-9459-07673489b104",
   "metadata": {},
   "source": [
    "# Sample script 24 #"
   ]
  },
  {
   "cell_type": "code",
   "execution_count": null,
   "id": "68fb0168-38b4-407f-b8cc-8545cf0636a9",
   "metadata": {},
   "outputs": [],
   "source": [
    "# run this cell to show the source code of sample script 24 #\n",
    "\n",
    "!cat ai202209_s05_24.py"
   ]
  },
  {
   "cell_type": "code",
   "execution_count": null,
   "id": "57cf559f-25fa-4738-85f9-a89de0ca3672",
   "metadata": {},
   "outputs": [],
   "source": [
    "# run this cell to execute sample script 24 #\n",
    "\n",
    "!python3.9 ai202209_s05_24.py"
   ]
  },
  {
   "cell_type": "markdown",
   "id": "4988b9b7-c8bb-4ef6-b04e-617f18faf219",
   "metadata": {},
   "source": [
    "# Sample script 25 #"
   ]
  },
  {
   "cell_type": "code",
   "execution_count": null,
   "id": "919bdc0f-94b2-4025-8bfe-eb2f38511b93",
   "metadata": {},
   "outputs": [],
   "source": [
    "# run this cell to show the source code of sample script 25 #\n",
    "\n",
    "!cat ai202209_s05_25.py"
   ]
  },
  {
   "cell_type": "code",
   "execution_count": null,
   "id": "85babf8d-31eb-46f0-b90c-a49ae90916f1",
   "metadata": {},
   "outputs": [],
   "source": [
    "# run this cell to execute sample script 25 #\n",
    "\n",
    "!python3.9 ai202209_s05_25.py"
   ]
  },
  {
   "cell_type": "markdown",
   "id": "28e6bd77-e164-43e0-a269-7fc43d575ba7",
   "metadata": {},
   "source": [
    "# Sample script 26 #"
   ]
  },
  {
   "cell_type": "code",
   "execution_count": null,
   "id": "25c79107-75d1-4e84-996d-9981aa0048da",
   "metadata": {},
   "outputs": [],
   "source": [
    "# run this cell to show the source code of sample script 26 #\n",
    "\n",
    "!cat ai202209_s05_26.py"
   ]
  },
  {
   "cell_type": "code",
   "execution_count": null,
   "id": "9831dde3-2a5b-4bbd-8f64-1cd6a84eeba4",
   "metadata": {},
   "outputs": [],
   "source": [
    "# run this cell to execute sample script 26 #\n",
    "\n",
    "!python3.9 ai202209_s05_26.py"
   ]
  },
  {
   "cell_type": "markdown",
   "id": "2c58fe6b-0a96-4741-a987-439178127e31",
   "metadata": {},
   "source": [
    "# Sample script 27 #"
   ]
  },
  {
   "cell_type": "code",
   "execution_count": null,
   "id": "9cb02c62-ae5d-47a1-8e58-ff7579cf6f08",
   "metadata": {},
   "outputs": [],
   "source": [
    "# run this cell to show the source code of sample script 27 #\n",
    "\n",
    "!cat ai202209_s05_27.py"
   ]
  },
  {
   "cell_type": "code",
   "execution_count": null,
   "id": "52cfbc74-2219-4a4b-9ed9-b5234cef2201",
   "metadata": {},
   "outputs": [],
   "source": [
    "# run this cell to execute sample script 27 #\n",
    "\n",
    "!python3.9 ai202209_s05_27.py"
   ]
  },
  {
   "cell_type": "markdown",
   "id": "b8af4e08-175a-4b76-935f-f657c4e3052f",
   "metadata": {},
   "source": [
    "# Sample script 28 #"
   ]
  },
  {
   "cell_type": "code",
   "execution_count": null,
   "id": "997ffe85-4ac6-45b1-a11d-b8e22f7e84e6",
   "metadata": {},
   "outputs": [],
   "source": [
    "# run this cell to show the source code of sample script 28 #\n",
    "\n",
    "!cat ai202209_s05_28.py"
   ]
  },
  {
   "cell_type": "code",
   "execution_count": null,
   "id": "42af65c6-3e29-4b03-84ee-47d8566955a8",
   "metadata": {},
   "outputs": [],
   "source": [
    "# run this cell to execute sample script 28 #\n",
    "\n",
    "!python3.9 ai202209_s05_28.py"
   ]
  },
  {
   "cell_type": "code",
   "execution_count": null,
   "id": "063913ae-c406-4976-8b2c-68eabf0c2567",
   "metadata": {},
   "outputs": [],
   "source": [
    "# run this cell to display plot\n",
    "\n",
    "import IPython.display\n",
    "\n",
    "IPython.display.Image ('ai202209_s05_28.png')"
   ]
  },
  {
   "cell_type": "markdown",
   "id": "73dd3646-4cb2-4456-98c0-ef2c8e1610cf",
   "metadata": {},
   "source": [
    "# Sample script 29 #"
   ]
  },
  {
   "cell_type": "code",
   "execution_count": null,
   "id": "b6e4b395-53a5-4186-a747-122d2fa38661",
   "metadata": {},
   "outputs": [],
   "source": [
    "# run this cell to show the source code of sample script 29 #\n",
    "\n",
    "!cat ai202209_s05_29.py"
   ]
  },
  {
   "cell_type": "code",
   "execution_count": null,
   "id": "50c7721f-8484-4b87-81cf-db19adf8dd31",
   "metadata": {},
   "outputs": [],
   "source": [
    "# run this cell to execute sample script 29 #\n",
    "\n",
    "!python3.9 ai202209_s05_29.py"
   ]
  },
  {
   "cell_type": "code",
   "execution_count": null,
   "id": "c0b9eecd-2577-4a17-8823-218dfdb2b164",
   "metadata": {},
   "outputs": [],
   "source": [
    "# run this cell to display plot\n",
    "\n",
    "import IPython.display\n",
    "\n",
    "IPython.display.Image ('ai202209_s05_29.png')"
   ]
  },
  {
   "cell_type": "markdown",
   "id": "abe559c2-7c79-41d3-a7b6-1e80004d4d5a",
   "metadata": {},
   "source": [
    "# Sample script 30 #"
   ]
  },
  {
   "cell_type": "code",
   "execution_count": null,
   "id": "15934516-20b2-444c-acfd-de31cd12aba3",
   "metadata": {},
   "outputs": [],
   "source": [
    "# run this cell to show the source code of sample script 30 #\n",
    "\n",
    "!cat ai202209_s05_30.py"
   ]
  },
  {
   "cell_type": "code",
   "execution_count": null,
   "id": "04b2cd31-62b1-4dd6-a369-3397cc40799a",
   "metadata": {},
   "outputs": [],
   "source": [
    "# run this cell to execute sample script 30 #\n",
    "\n",
    "!python3.9 ai202209_s05_30.py"
   ]
  },
  {
   "cell_type": "code",
   "execution_count": null,
   "id": "5f7b6322-1dd8-4d52-aee4-b28ddc9d6630",
   "metadata": {},
   "outputs": [],
   "source": [
    "# run this cell to display plot\n",
    "\n",
    "import IPython.display\n",
    "\n",
    "IPython.display.Image ('ai202209_s05_30.png')"
   ]
  },
  {
   "cell_type": "markdown",
   "id": "2e5d9ef6-c712-43c4-ac2b-dead45fbaaf7",
   "metadata": {},
   "source": [
    "# Sample script 31 #"
   ]
  },
  {
   "cell_type": "code",
   "execution_count": null,
   "id": "46e42107-9bae-4406-a902-64a9bb024af8",
   "metadata": {},
   "outputs": [],
   "source": [
    "# run this cell to show the source code of sample script 31 #\n",
    "\n",
    "!cat ai202209_s05_31.py"
   ]
  },
  {
   "cell_type": "code",
   "execution_count": null,
   "id": "9e0d1044-3803-4e48-946f-bf76bff7340e",
   "metadata": {},
   "outputs": [],
   "source": [
    "# run this cell to execute sample script 31 #\n",
    "\n",
    "#\n",
    "# It may take a while to make a movie file #\n",
    "#\n",
    "\n",
    "!python3.9 ai202209_s05_31.py"
   ]
  },
  {
   "cell_type": "code",
   "execution_count": null,
   "id": "89f874e8-0d8c-42f8-8db5-30630534602d",
   "metadata": {},
   "outputs": [],
   "source": [
    "# run this cell to display plot\n",
    "\n",
    "import IPython.display\n",
    "\n",
    "IPython.display.Video ('ai202209_s05_31.mp4')"
   ]
  },
  {
   "cell_type": "markdown",
   "id": "dcdeb1ea-bbcc-4be9-967d-0128d69c4f9e",
   "metadata": {},
   "source": [
    "# Sample script 32 #"
   ]
  },
  {
   "cell_type": "code",
   "execution_count": null,
   "id": "85fd8a24-f76a-4cdd-b3d5-4c70f3cc5651",
   "metadata": {},
   "outputs": [],
   "source": [
    "# run this cell to show the source code of sample script 32 #\n",
    "\n",
    "!cat ai202209_s05_32.py"
   ]
  },
  {
   "cell_type": "code",
   "execution_count": null,
   "id": "9bf3c133-326f-42f0-a3c8-b854032c88cb",
   "metadata": {},
   "outputs": [],
   "source": [
    "# run this cell to execute sample script 32 #\n",
    "\n",
    "!python3.9 ai202209_s05_32.py"
   ]
  },
  {
   "cell_type": "code",
   "execution_count": null,
   "id": "3da1993e-677c-4515-b038-8181fd706eea",
   "metadata": {},
   "outputs": [],
   "source": [
    "# run this cell to display plot\n",
    "\n",
    "import IPython.display\n",
    "\n",
    "IPython.display.Image ('ai202209_s05_32.png')"
   ]
  },
  {
   "cell_type": "markdown",
   "id": "30bd9c93-cdc9-4c49-9595-c97e54d789ae",
   "metadata": {},
   "source": [
    "# Sample script 33 #"
   ]
  },
  {
   "cell_type": "code",
   "execution_count": null,
   "id": "87c94ba7-83b1-4ceb-85f2-cd30dfc09c37",
   "metadata": {},
   "outputs": [],
   "source": [
    "# run this cell to show the source code of sample script 33 #\n",
    "\n",
    "!cat ai202209_s05_33.py"
   ]
  },
  {
   "cell_type": "code",
   "execution_count": null,
   "id": "bb3409be-e1d9-442a-a35b-3a4cecfbd458",
   "metadata": {},
   "outputs": [],
   "source": [
    "# run this cell to execute sample script 33 #\n",
    "\n",
    "!python3.9 ai202209_s05_33.py"
   ]
  },
  {
   "cell_type": "code",
   "execution_count": null,
   "id": "ecff661b-a66d-41c6-8b75-e578cbc478d5",
   "metadata": {},
   "outputs": [],
   "source": [
    "# run this cell to display plot\n",
    "\n",
    "import IPython.display\n",
    "\n",
    "IPython.display.Image ('ai202209_s05_33.png')"
   ]
  },
  {
   "cell_type": "markdown",
   "id": "8fcdd426-f961-4f6b-8f0c-c112bf7c62d5",
   "metadata": {},
   "source": [
    "# Sample script 34 #"
   ]
  },
  {
   "cell_type": "code",
   "execution_count": null,
   "id": "78b77d78-c31a-41b4-a3c9-ee080d38ab14",
   "metadata": {},
   "outputs": [],
   "source": [
    "# run this cell to show the source code of sample script 34 #\n",
    "\n",
    "!cat ai202209_s05_34.py"
   ]
  },
  {
   "cell_type": "code",
   "execution_count": null,
   "id": "d4545bb2-5e3a-44be-b79c-4be7577784ca",
   "metadata": {},
   "outputs": [],
   "source": [
    "# run this cell to execute sample script 34 #\n",
    "\n",
    "!python3.9 ai202209_s05_34.py"
   ]
  },
  {
   "cell_type": "code",
   "execution_count": null,
   "id": "7e722d7e-78aa-4732-8956-32169792ac3e",
   "metadata": {},
   "outputs": [],
   "source": [
    "# run this cell to display plot\n",
    "\n",
    "import IPython.display\n",
    "\n",
    "IPython.display.Image ('ai202209_s05_34.png')"
   ]
  },
  {
   "cell_type": "markdown",
   "id": "eb7ce408-9057-44da-b918-7b7e503d9ddf",
   "metadata": {},
   "source": [
    "# Sample script 35 #"
   ]
  },
  {
   "cell_type": "code",
   "execution_count": null,
   "id": "bb890f6a-840b-4cca-b3d0-ab582fbdea06",
   "metadata": {},
   "outputs": [],
   "source": [
    "# run this cell to show the source code of sample script 35 #\n",
    "\n",
    "!cat ai202209_s05_35.py"
   ]
  },
  {
   "cell_type": "code",
   "execution_count": null,
   "id": "c0efe1a3-63a0-4d3b-bcd5-eb55d78cd808",
   "metadata": {},
   "outputs": [],
   "source": [
    "# run this cell to execute sample script 35 #\n",
    "\n",
    "!python3.9 ai202209_s05_35.py"
   ]
  },
  {
   "cell_type": "code",
   "execution_count": null,
   "id": "81ee2c08-0449-4472-8b5b-7fa5edc15053",
   "metadata": {},
   "outputs": [],
   "source": [
    "# run this cell to display plot\n",
    "\n",
    "import IPython.display\n",
    "\n",
    "IPython.display.Image ('ai202209_s05_35.png')"
   ]
  },
  {
   "cell_type": "markdown",
   "id": "b9730c33-8381-4304-ab88-2a004060f0e7",
   "metadata": {},
   "source": [
    "# Sample script 36 #"
   ]
  },
  {
   "cell_type": "code",
   "execution_count": null,
   "id": "9d1c9093-78f2-4741-bb2b-275c9d07d670",
   "metadata": {},
   "outputs": [],
   "source": [
    "# run this cell to show the source code of sample script 36 #\n",
    "\n",
    "!cat ai202209_s05_36.py"
   ]
  },
  {
   "cell_type": "code",
   "execution_count": null,
   "id": "0ec12165-e11c-4c01-9145-be7e1dc421f3",
   "metadata": {},
   "outputs": [],
   "source": [
    "# run this cell to execute sample script 36 #\n",
    "\n",
    "!python3.9 ai202209_s05_36.py"
   ]
  },
  {
   "cell_type": "code",
   "execution_count": null,
   "id": "57904890-3a50-44bc-865b-536a3f7714a8",
   "metadata": {},
   "outputs": [],
   "source": [
    "# run this cell to display plot\n",
    "\n",
    "import IPython.display\n",
    "\n",
    "IPython.display.Image ('ai202209_s05_36.png')"
   ]
  },
  {
   "cell_type": "markdown",
   "id": "cf183b29-4b85-4e8c-b9eb-634fe3596a52",
   "metadata": {},
   "source": [
    "# Sample script 37 #"
   ]
  },
  {
   "cell_type": "code",
   "execution_count": null,
   "id": "6ed6d699-8197-45a4-a90b-db4196d9ca3b",
   "metadata": {},
   "outputs": [],
   "source": [
    "# run this cell to show the source code of sample script 37 #\n",
    "\n",
    "!cat ai202209_s05_37.py"
   ]
  },
  {
   "cell_type": "code",
   "execution_count": null,
   "id": "c6ab554b-e753-4579-a9f0-381383d48bcf",
   "metadata": {},
   "outputs": [],
   "source": [
    "# run this cell to execute sample script 37 #\n",
    "\n",
    "!python3.9 ai202209_s05_37.py"
   ]
  },
  {
   "cell_type": "code",
   "execution_count": null,
   "id": "d5d0837c-5707-4e15-a72b-b8751c484b68",
   "metadata": {},
   "outputs": [],
   "source": [
    "# run this cell to display plot\n",
    "\n",
    "import IPython.display\n",
    "\n",
    "IPython.display.Image ('ai202209_s05_37.png')"
   ]
  },
  {
   "cell_type": "markdown",
   "id": "ea148767-da46-482e-91ed-b21dcd2984a2",
   "metadata": {},
   "source": [
    "# Sample script 38 #"
   ]
  },
  {
   "cell_type": "code",
   "execution_count": null,
   "id": "d49220b2-47bd-4f03-a4a7-756f697ca484",
   "metadata": {},
   "outputs": [],
   "source": [
    "# run this cell to show the source code of sample script 38 #\n",
    "\n",
    "!cat ai202209_s05_38.py"
   ]
  },
  {
   "cell_type": "code",
   "execution_count": null,
   "id": "01e70e37-545f-44f2-9cba-511d68981cfd",
   "metadata": {},
   "outputs": [],
   "source": [
    "# run this cell to execute sample script 38 #\n",
    "\n",
    "!python3.9 ai202209_s05_38.py"
   ]
  },
  {
   "cell_type": "code",
   "execution_count": null,
   "id": "6223867c-11a2-4ea5-a4d3-aa28b09f5912",
   "metadata": {},
   "outputs": [],
   "source": [
    "# run this cell to check created data file #\n",
    "\n",
    "!ls -lF ai202209_s05_38.data\n",
    "\n",
    "!cat ai202209_s05_38.data"
   ]
  },
  {
   "cell_type": "markdown",
   "id": "88ebc6f6-eb91-411f-a9bb-7047d761c1d7",
   "metadata": {},
   "source": [
    "# Sample script 39 #"
   ]
  },
  {
   "cell_type": "code",
   "execution_count": null,
   "id": "4590e78c-7982-43d4-aa39-b5357a5aab83",
   "metadata": {},
   "outputs": [],
   "source": [
    "# run this cell to show the source code of sample script 39 #\n",
    "\n",
    "!cat ai202209_s05_39.py"
   ]
  },
  {
   "cell_type": "code",
   "execution_count": null,
   "id": "b29d177c-2f1a-4fa7-97f0-a8e1e44e94b4",
   "metadata": {},
   "outputs": [],
   "source": [
    "# run this cell to execute sample script 39 #\n",
    "\n",
    "!python3.9 ai202209_s05_39.py"
   ]
  },
  {
   "cell_type": "code",
   "execution_count": null,
   "id": "cf3c825e-bf60-4344-8aca-1c4ebda914db",
   "metadata": {},
   "outputs": [],
   "source": [
    "# run this cell to display plot\n",
    "\n",
    "import IPython.display\n",
    "\n",
    "IPython.display.Image ('ai202209_s05_39.png')"
   ]
  },
  {
   "cell_type": "markdown",
   "id": "bc1bbdd8-63c0-43f9-99a7-6d27c49a8366",
   "metadata": {},
   "source": [
    "# Sample script 40 #"
   ]
  },
  {
   "cell_type": "code",
   "execution_count": null,
   "id": "771456bb-684b-4fe7-9861-837df35840a8",
   "metadata": {},
   "outputs": [],
   "source": [
    "# run this cell to show the source code of sample script 40 #\n",
    "\n",
    "!cat ai202209_s05_40.py"
   ]
  },
  {
   "cell_type": "code",
   "execution_count": null,
   "id": "2c93fa58-77db-4691-ba7e-53e765b7ff11",
   "metadata": {},
   "outputs": [],
   "source": [
    "# run this cell to execute sample script 40 #\n",
    "\n",
    "!python3.9 ai202209_s05_40.py"
   ]
  },
  {
   "cell_type": "code",
   "execution_count": null,
   "id": "cde087d0-9641-4601-b8b1-01b00a36e260",
   "metadata": {},
   "outputs": [],
   "source": [
    "# run this cell to display plot\n",
    "\n",
    "import IPython.display\n",
    "\n",
    "IPython.display.Image ('ai202209_s05_40.png')"
   ]
  },
  {
   "cell_type": "markdown",
   "id": "92d264c1-7367-49ab-9f18-ee7ec33ee13c",
   "metadata": {},
   "source": [
    "# Sample script 41 #"
   ]
  },
  {
   "cell_type": "code",
   "execution_count": null,
   "id": "07599e18-5f03-4e14-a2a0-74fd13dd6dd4",
   "metadata": {},
   "outputs": [],
   "source": [
    "# run this cell to show the source code of sample script 41 #\n",
    "\n",
    "!cat ai202209_s05_41.py"
   ]
  },
  {
   "cell_type": "code",
   "execution_count": null,
   "id": "bbb7d5b8-7783-43bd-940b-1a2b5b7d76fe",
   "metadata": {},
   "outputs": [],
   "source": [
    "# run this cell to execute sample script 41 #\n",
    "\n",
    "!python3.9 ai202209_s05_41.py"
   ]
  },
  {
   "cell_type": "code",
   "execution_count": null,
   "id": "d5ef8321-c94a-4698-a808-ff105ae09bbe",
   "metadata": {},
   "outputs": [],
   "source": [
    "# run this cell to check created data file #\n",
    "\n",
    "!ls -lF ai202209_s05_41.data\n",
    "\n",
    "!cat ai202209_s05_41.data"
   ]
  },
  {
   "cell_type": "markdown",
   "id": "141cdc70-d6b1-4afd-a651-29093f1e2c7d",
   "metadata": {},
   "source": [
    "# Sample script 42 #"
   ]
  },
  {
   "cell_type": "code",
   "execution_count": null,
   "id": "b1a0e42b-4df3-4a8c-a4d5-2269d9f1d970",
   "metadata": {},
   "outputs": [],
   "source": [
    "# run this cell to show the source code of sample script 42 #\n",
    "\n",
    "!cat ai202209_s05_42.py"
   ]
  },
  {
   "cell_type": "code",
   "execution_count": null,
   "id": "a6676071-6784-4494-8bcd-06dccbf352ec",
   "metadata": {},
   "outputs": [],
   "source": [
    "# run this cell to execute sample script 42 #\n",
    "\n",
    "!python3.9 ai202209_s05_42.py"
   ]
  },
  {
   "cell_type": "code",
   "execution_count": null,
   "id": "79bc531c-1068-4362-9b29-7c211f599f0c",
   "metadata": {},
   "outputs": [],
   "source": [
    "# run this cell to display plot\n",
    "\n",
    "import IPython.display\n",
    "\n",
    "IPython.display.Image ('ai202209_s05_42.png')"
   ]
  },
  {
   "cell_type": "markdown",
   "id": "4b55a37b-a784-4f53-bc53-95e31824aed4",
   "metadata": {},
   "source": [
    "# Sample script 43 #"
   ]
  },
  {
   "cell_type": "code",
   "execution_count": null,
   "id": "0f695831-af55-4f8a-8d40-35f5317ed479",
   "metadata": {},
   "outputs": [],
   "source": [
    "# run this cell to show the source code of sample script 43 #\n",
    "\n",
    "!cat ai202209_s05_43.py"
   ]
  },
  {
   "cell_type": "code",
   "execution_count": null,
   "id": "35aa4872-a646-4094-947d-1afc63796eea",
   "metadata": {},
   "outputs": [],
   "source": [
    "# run this cell to execute sample script 43 #\n",
    "\n",
    "!python3.9 ai202209_s05_43.py"
   ]
  },
  {
   "cell_type": "code",
   "execution_count": null,
   "id": "d2165485-ff21-4b20-b164-f28d8a1cd986",
   "metadata": {},
   "outputs": [],
   "source": [
    "# run this cell to display plot\n",
    "\n",
    "import IPython.display\n",
    "\n",
    "IPython.display.Image ('ai202209_s05_43.png')"
   ]
  },
  {
   "cell_type": "markdown",
   "id": "af4bb809-4743-4968-8bb4-598579ab2413",
   "metadata": {},
   "source": [
    "# Sample script 44 #"
   ]
  },
  {
   "cell_type": "code",
   "execution_count": null,
   "id": "237becf5-a305-4f88-b55e-9570ba4aec54",
   "metadata": {},
   "outputs": [],
   "source": [
    "# run this cell to show the source code of sample script 44 #\n",
    "\n",
    "!cat ai202209_s05_44.py"
   ]
  },
  {
   "cell_type": "code",
   "execution_count": null,
   "id": "e957b77e-541c-4d61-a30d-aa4935ac4ee3",
   "metadata": {},
   "outputs": [],
   "source": [
    "# run this cell to execute sample script 44 #\n",
    "\n",
    "!python3.9 ai202209_s05_44.py"
   ]
  },
  {
   "cell_type": "code",
   "execution_count": null,
   "id": "9ee6c762-1d00-48f8-a443-00a2db47c3f0",
   "metadata": {},
   "outputs": [],
   "source": [
    "# run this cell to display plot\n",
    "\n",
    "import IPython.display\n",
    "\n",
    "IPython.display.Image ('ai202209_s05_44.png')"
   ]
  },
  {
   "cell_type": "markdown",
   "id": "4c4e66a8-219e-4915-947c-c545e8dc96ea",
   "metadata": {},
   "source": [
    "# Sample script 45 #"
   ]
  },
  {
   "cell_type": "code",
   "execution_count": null,
   "id": "19bba268-292e-4c9a-86b5-437815185b74",
   "metadata": {},
   "outputs": [],
   "source": [
    "# run this cell to show the source code of sample script 45 #\n",
    "\n",
    "!cat ai202209_s05_45.py"
   ]
  },
  {
   "cell_type": "code",
   "execution_count": null,
   "id": "a19f03c7-b8e8-4004-acb4-96469c827663",
   "metadata": {},
   "outputs": [],
   "source": [
    "# run this cell to execute sample script 45 #\n",
    "\n",
    "!python3.9 ai202209_s05_45.py"
   ]
  },
  {
   "cell_type": "code",
   "execution_count": null,
   "id": "e13d932b-20eb-4718-8662-34f9f1270f74",
   "metadata": {},
   "outputs": [],
   "source": [
    "# run this cell to check created data file #\n",
    "\n",
    "!ls -lF ai202209_s05_45.data\n",
    "\n",
    "!cat ai202209_s05_45.data"
   ]
  },
  {
   "cell_type": "markdown",
   "id": "71ca342e-18ac-4eac-a2a0-05af6d74bc7f",
   "metadata": {},
   "source": [
    "# Sample script 46 #"
   ]
  },
  {
   "cell_type": "code",
   "execution_count": null,
   "id": "65459b27-ea38-43dc-b84f-815191b286eb",
   "metadata": {},
   "outputs": [],
   "source": [
    "# run this cell to show the source code of sample script 46 #\n",
    "\n",
    "!cat ai202209_s05_46.py"
   ]
  },
  {
   "cell_type": "code",
   "execution_count": null,
   "id": "13d785c5-5994-4f62-bce7-580afc0eba81",
   "metadata": {},
   "outputs": [],
   "source": [
    "# run this cell to execute sample script 46 #\n",
    "\n",
    "!python3.9 ai202209_s05_46.py"
   ]
  },
  {
   "cell_type": "code",
   "execution_count": null,
   "id": "4cc35e6e-dd41-45d0-b3aa-23ec6c742267",
   "metadata": {},
   "outputs": [],
   "source": [
    "# run this cell to display plot\n",
    "\n",
    "import IPython.display\n",
    "\n",
    "IPython.display.Image ('ai202209_s05_46.png')"
   ]
  },
  {
   "cell_type": "markdown",
   "id": "0dc90177-89cf-4811-8fda-0d07aabc2bc2",
   "metadata": {},
   "source": [
    "# Sample script 47 #"
   ]
  },
  {
   "cell_type": "code",
   "execution_count": null,
   "id": "2364faf3-d78f-4d25-a0ed-f680174c2bd1",
   "metadata": {},
   "outputs": [],
   "source": [
    "# run this cell to show the source code of sample script 47 #\n",
    "\n",
    "!cat ai202209_s05_47.py"
   ]
  },
  {
   "cell_type": "code",
   "execution_count": null,
   "id": "8cc8a746-6569-47aa-a447-182e70397ba9",
   "metadata": {},
   "outputs": [],
   "source": [
    "# run this cell to execute sample script 47 #\n",
    "\n",
    "!python3.9 ai202209_s05_47.py"
   ]
  },
  {
   "cell_type": "code",
   "execution_count": null,
   "id": "f625a673-8fae-44de-8083-858bb420c9ad",
   "metadata": {},
   "outputs": [],
   "source": [
    "# run this cell to display plot\n",
    "\n",
    "import IPython.display\n",
    "\n",
    "IPython.display.Image ('ai202209_s05_47.png')"
   ]
  },
  {
   "cell_type": "markdown",
   "id": "34fb2ee4-915d-464f-823f-80efee36c74b",
   "metadata": {},
   "source": [
    "# Sample script 48 #"
   ]
  },
  {
   "cell_type": "code",
   "execution_count": null,
   "id": "88e3450e-3ef2-4d53-b799-38f6e5d13abe",
   "metadata": {},
   "outputs": [],
   "source": [
    "# run this cell to show the source code of sample script 48 #\n",
    "\n",
    "!cat ai202209_s05_48.py"
   ]
  },
  {
   "cell_type": "code",
   "execution_count": null,
   "id": "e2bb0715-d611-4436-ad31-0cca7759f3fd",
   "metadata": {},
   "outputs": [],
   "source": [
    "# run this cell to execute sample script 48 #\n",
    "\n",
    "!python3.9 ai202209_s05_48.py"
   ]
  },
  {
   "cell_type": "code",
   "execution_count": null,
   "id": "bbe85f08-4e29-4903-b1ed-95ebd53020ef",
   "metadata": {},
   "outputs": [],
   "source": [
    "# run this cell to check created data file #\n",
    "\n",
    "!ls -lF ai202209_s05_48.data\n",
    "\n",
    "!cat ai202209_s05_48.data"
   ]
  },
  {
   "cell_type": "markdown",
   "id": "0b25316c-bd83-4070-9bac-db0e7a855810",
   "metadata": {},
   "source": [
    "# Sample script 49 #"
   ]
  },
  {
   "cell_type": "code",
   "execution_count": null,
   "id": "6849ee34-88a7-49e3-9148-30dfab9efba5",
   "metadata": {},
   "outputs": [],
   "source": [
    "# run this cell to show the source code of sample script 49 #\n",
    "\n",
    "!cat ai202209_s05_49.py"
   ]
  },
  {
   "cell_type": "code",
   "execution_count": null,
   "id": "b247f20b-8dc7-4d0e-b9f0-6077798a8988",
   "metadata": {},
   "outputs": [],
   "source": [
    "# run this cell to execute sample script 49 #\n",
    "\n",
    "!python3.9 ai202209_s05_49.py"
   ]
  },
  {
   "cell_type": "code",
   "execution_count": null,
   "id": "1cf90f55-69e2-4477-b162-060faa38ed74",
   "metadata": {},
   "outputs": [],
   "source": [
    "# run this cell to display plot\n",
    "\n",
    "import IPython.display\n",
    "\n",
    "IPython.display.Image ('ai202209_s05_49.png')"
   ]
  },
  {
   "cell_type": "markdown",
   "id": "e2637b79-300a-4957-a4e1-5cc1c67dea26",
   "metadata": {},
   "source": [
    "# Sample script 50 #"
   ]
  },
  {
   "cell_type": "code",
   "execution_count": null,
   "id": "68711312-aa60-42d2-812f-80e8532d2d78",
   "metadata": {},
   "outputs": [],
   "source": [
    "# run this cell to show the source code of sample script 50 #\n",
    "\n",
    "!cat ai202209_s05_50.py"
   ]
  },
  {
   "cell_type": "code",
   "execution_count": null,
   "id": "d7e3efdc-34d7-4b09-9b0f-431d7de9247f",
   "metadata": {},
   "outputs": [],
   "source": [
    "# run this cell to execute sample script 50 #\n",
    "\n",
    "!python3.9 ai202209_s05_50.py"
   ]
  },
  {
   "cell_type": "code",
   "execution_count": null,
   "id": "d676f68a-75f2-4bce-860a-45bd86941537",
   "metadata": {},
   "outputs": [],
   "source": [
    "# run this cell to display plot\n",
    "\n",
    "import IPython.display\n",
    "\n",
    "IPython.display.Image ('ai202209_s05_50.png')"
   ]
  },
  {
   "cell_type": "markdown",
   "id": "12c485be-acd3-4c68-acdf-e71c4256eb16",
   "metadata": {},
   "source": [
    "# Sample script 51 #"
   ]
  },
  {
   "cell_type": "code",
   "execution_count": null,
   "id": "fe72e186-5465-4326-bf5f-1bcce819173e",
   "metadata": {},
   "outputs": [],
   "source": [
    "# run this cell to show the source code of sample script 51 #\n",
    "\n",
    "!cat ai202209_s05_51.py"
   ]
  },
  {
   "cell_type": "code",
   "execution_count": null,
   "id": "24b7475a-f149-4fbc-a90b-3bbe9951e147",
   "metadata": {},
   "outputs": [],
   "source": [
    "# run this cell to execute sample script 51 #\n",
    "\n",
    "!python3.9 ai202209_s05_51.py"
   ]
  },
  {
   "cell_type": "code",
   "execution_count": null,
   "id": "e9e39401-9f29-48c6-af6b-ba95c918479f",
   "metadata": {},
   "outputs": [],
   "source": [
    "# run this cell to display plot\n",
    "\n",
    "import IPython.display\n",
    "\n",
    "IPython.display.Image ('ai202209_s05_51.png')"
   ]
  },
  {
   "cell_type": "markdown",
   "id": "e0554f47-0b9e-4338-be4c-ab6730641271",
   "metadata": {},
   "source": [
    "# Sample script 52 #"
   ]
  },
  {
   "cell_type": "code",
   "execution_count": null,
   "id": "90e9460a-df33-42b4-a9fe-1a10e848f88a",
   "metadata": {},
   "outputs": [],
   "source": [
    "# run this cell to show the source code of sample script 52 #\n",
    "\n",
    "!cat ai202209_s05_52.py"
   ]
  },
  {
   "cell_type": "code",
   "execution_count": null,
   "id": "e2347da5-840f-460c-86b5-6821a6e07300",
   "metadata": {},
   "outputs": [],
   "source": [
    "# run this cell to execute sample script 52 #\n",
    "\n",
    "!python3.9 ai202209_s05_52.py"
   ]
  },
  {
   "cell_type": "code",
   "execution_count": null,
   "id": "1a34dfcc-cb53-495c-b288-bea7d3fce64b",
   "metadata": {},
   "outputs": [],
   "source": [
    "# run this cell to check created data file #\n",
    "\n",
    "!ls -lF ai202209_s05_52.data\n",
    "\n",
    "!cat ai202209_s05_52.data"
   ]
  },
  {
   "cell_type": "markdown",
   "id": "29d3daf5-6411-473a-9609-ef6c1e5d6e66",
   "metadata": {},
   "source": [
    "# Sample script 53 #"
   ]
  },
  {
   "cell_type": "code",
   "execution_count": null,
   "id": "160a7952-584a-4c4d-862c-8f9b36e5df74",
   "metadata": {},
   "outputs": [],
   "source": [
    "# run this cell to show the source code of sample script 53 #\n",
    "\n",
    "!cat ai202209_s05_53.py"
   ]
  },
  {
   "cell_type": "code",
   "execution_count": null,
   "id": "490d9856-cfc9-42a3-8a8e-96e4c1d10ada",
   "metadata": {},
   "outputs": [],
   "source": [
    "# run this cell to execute sample script 53 #\n",
    "\n",
    "!python3.9 ai202209_s05_53.py"
   ]
  },
  {
   "cell_type": "code",
   "execution_count": null,
   "id": "6f9eb03b-e02b-4ac0-baf4-abd0a2d2389c",
   "metadata": {},
   "outputs": [],
   "source": [
    "# run this cell to display plot\n",
    "\n",
    "import IPython.display\n",
    "\n",
    "IPython.display.Image ('ai202209_s05_53.png')"
   ]
  },
  {
   "cell_type": "markdown",
   "id": "2f40949b-bd48-4b13-9576-6afc2470beb9",
   "metadata": {},
   "source": [
    "# Sample script 54 #"
   ]
  },
  {
   "cell_type": "code",
   "execution_count": null,
   "id": "d46cefd4-f9cc-4150-95a0-801db4e29cb8",
   "metadata": {},
   "outputs": [],
   "source": [
    "# run this cell to show the source code of sample script 54 #\n",
    "\n",
    "!cat ai202209_s05_54.py"
   ]
  },
  {
   "cell_type": "code",
   "execution_count": null,
   "id": "c83677d3-9fcc-4adb-8731-1b09d78f8a2a",
   "metadata": {},
   "outputs": [],
   "source": [
    "# run this cell to execute sample script 54 #\n",
    "\n",
    "!python3.9 ai202209_s05_54.py"
   ]
  },
  {
   "cell_type": "markdown",
   "id": "43314c36-7a1b-4cf9-a0a4-d517e0ddc6ae",
   "metadata": {},
   "source": [
    "# Sample script 55 #"
   ]
  },
  {
   "cell_type": "code",
   "execution_count": null,
   "id": "572d0b35-d599-4c64-b1ee-b35c79310353",
   "metadata": {},
   "outputs": [],
   "source": [
    "# run this cell to show the source code of sample script 55 #\n",
    "\n",
    "!cat ai202209_s05_55.py"
   ]
  },
  {
   "cell_type": "code",
   "execution_count": null,
   "id": "dd0f15eb-578a-40b0-aa3d-71e0d20eec0f",
   "metadata": {},
   "outputs": [],
   "source": [
    "# run this cell to execute sample script 55 #\n",
    "\n",
    "!python3.9 ai202209_s05_55.py"
   ]
  },
  {
   "cell_type": "code",
   "execution_count": null,
   "id": "b0e2eb8b-74c5-478b-9824-b528adeef9bf",
   "metadata": {},
   "outputs": [],
   "source": [
    "# run this cell to display plot\n",
    "\n",
    "import IPython.display\n",
    "\n",
    "IPython.display.Image ('ai202209_s05_55.png')"
   ]
  },
  {
   "cell_type": "markdown",
   "id": "4dcacf8c-b51b-4100-879b-b6b626b759a0",
   "metadata": {},
   "source": [
    "# Sample script 56 #"
   ]
  },
  {
   "cell_type": "code",
   "execution_count": null,
   "id": "efab776f-c5f1-4c58-b73d-eaef6cb345f8",
   "metadata": {},
   "outputs": [],
   "source": [
    "# run this cell to show the source code of sample script 56 #\n",
    "\n",
    "!cat ai202209_s05_56.py"
   ]
  },
  {
   "cell_type": "code",
   "execution_count": null,
   "id": "ec53a845-6f92-4f31-82ec-54b617462b8f",
   "metadata": {},
   "outputs": [],
   "source": [
    "# run this cell to execute sample script 56 #\n",
    "\n",
    "!python3.9 ai202209_s05_56.py"
   ]
  },
  {
   "cell_type": "code",
   "execution_count": null,
   "id": "cf58db24-6626-4fcc-9f43-0a709ef4bf13",
   "metadata": {},
   "outputs": [],
   "source": [
    "# run this cell to display plot\n",
    "\n",
    "import IPython.display\n",
    "\n",
    "IPython.display.Image ('ai202209_s05_56.png')"
   ]
  },
  {
   "cell_type": "markdown",
   "id": "a8cbd709-50fa-4882-a465-b554b73b3f50",
   "metadata": {},
   "source": [
    "# Sample script 57 #"
   ]
  },
  {
   "cell_type": "code",
   "execution_count": null,
   "id": "c401df3c-9ce3-4078-9751-3ceb860bbd05",
   "metadata": {},
   "outputs": [],
   "source": [
    "# run this cell to show the source code of sample script 57 #\n",
    "\n",
    "!cat ai202209_s05_57.py"
   ]
  },
  {
   "cell_type": "code",
   "execution_count": null,
   "id": "fac6ac3f-7712-4039-ac73-2195f55b8ce8",
   "metadata": {},
   "outputs": [],
   "source": [
    "# run this cell to execute sample script 57 #\n",
    "\n",
    "!python3.9 ai202209_s05_57.py"
   ]
  },
  {
   "cell_type": "code",
   "execution_count": null,
   "id": "9d6186ef-6fb1-49d0-b763-91c8ff3b0d6c",
   "metadata": {},
   "outputs": [],
   "source": [
    "# run this cell to display plot\n",
    "\n",
    "import IPython.display\n",
    "\n",
    "IPython.display.Image ('ai202209_s05_57.png')"
   ]
  },
  {
   "cell_type": "code",
   "execution_count": null,
   "id": "cdd93926-22b8-4e7c-ad3a-7b08e4875a5b",
   "metadata": {},
   "outputs": [],
   "source": []
  }
 ],
 "metadata": {
  "kernelspec": {
   "display_name": "Python 3 (ipykernel)",
   "language": "python",
   "name": "python3"
  },
  "language_info": {
   "codemirror_mode": {
    "name": "ipython",
    "version": 3
   },
   "file_extension": ".py",
   "mimetype": "text/x-python",
   "name": "python",
   "nbconvert_exporter": "python",
   "pygments_lexer": "ipython3",
   "version": "3.9.13"
  }
 },
 "nbformat": 4,
 "nbformat_minor": 5
}
