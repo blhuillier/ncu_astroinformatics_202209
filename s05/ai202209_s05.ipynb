{
 "cells": [
  {
   "cell_type": "markdown",
   "id": "527bf7c3-828b-44e9-8d8d-2a9bc4732b76",
   "metadata": {},
   "source": [
    "# Session 04 of Astroinformatics (first semester, academic year 2022) #\n",
    "\n",
    "- About the course\n",
    "    - course name: \"Astroinformatics\"\n",
    "    - semester: from Sep/2022 to Jan/2023\n",
    "    - lecture hours: from 09:00 to 12:00\n",
    "    - classroom: S4-914\n",
    "    - instructor: Kinoshita Daisuke\n",
    "    - course web page: https://s3b.astro.ncu.edu.tw/ai_202209/\n",
    "    - GitHub repository: https://github.com/kinoshitadaisuke/ncu_astroinformatics_202209\n",
    "    - Binder web page: https://mybinder.org/v2/gh/kinoshitadaisuke/ncu_astroinformatics_202209/HEAD"
   ]
  },
  {
   "cell_type": "markdown",
   "id": "57ed5cc3-2d49-4c16-bd14-feb937647071",
   "metadata": {},
   "source": [
    "## About this notebook ##\n",
    "\n",
    "This is a notebook for the __session 05__ of \"Astroinformatics\" at first semester of academic year 2022.\n",
    "\n",
    "This notebook contains sample Python scripts only.\n",
    "\n",
    "The lecture note is provided at the course web page.\n",
    "\n",
    "To download the lecture note, visit following web page.\n",
    "\n",
    "https://s3b.astro.ncu.edu.tw/ai_202209/\n",
    "\n",
    "Note that the lecture note can be downloaded only from computers/mobile phones connected to the computer network of our university.\n",
    "\n",
    "Connect to Wi-Fi of our university or use VPN service of our university to download the lecture note.\n",
    "\n",
    "If you have any question about this notebook, contact to Kinoshita Daisuke."
   ]
  },
  {
   "cell_type": "markdown",
   "id": "26548325-b8f6-4d3c-9354-250a7018ae09",
   "metadata": {},
   "source": [
    "# Sample script 00 #"
   ]
  },
  {
   "cell_type": "code",
   "execution_count": null,
   "id": "04c426b5-f660-4eb1-9b48-6a5bde4ff7dd",
   "metadata": {},
   "outputs": [],
   "source": [
    "# run this cell to show the source code of sample script 00 #\n",
    "\n",
    "!cat ai202209_s05_00.py"
   ]
  },
  {
   "cell_type": "code",
   "execution_count": null,
   "id": "a761c18d-3f56-4ca9-8566-8269fced441a",
   "metadata": {},
   "outputs": [],
   "source": [
    "# run this cell to execute sample script 00 #\n",
    "\n",
    "!python3.9 ai202209_s05_00.py"
   ]
  },
  {
   "cell_type": "markdown",
   "id": "55ed9f70-8fd7-4966-8b08-e75828de4810",
   "metadata": {},
   "source": [
    "# Sample script 01 #"
   ]
  },
  {
   "cell_type": "code",
   "execution_count": null,
   "id": "0cee794e-2698-4fa2-b88b-cd4318629b3c",
   "metadata": {},
   "outputs": [],
   "source": [
    "# run this cell to show the source code of sample script 01 #\n",
    "\n",
    "!cat ai202209_s05_01.py"
   ]
  },
  {
   "cell_type": "code",
   "execution_count": null,
   "id": "db4191df-435c-4d49-b51e-ad7b42a1cd9f",
   "metadata": {},
   "outputs": [],
   "source": [
    "# run this cell to execute sample script 01 #\n",
    "\n",
    "!python3.9 ai202209_s05_01.py"
   ]
  },
  {
   "cell_type": "markdown",
   "id": "70e3de30-1196-420f-8a86-c3f13b942849",
   "metadata": {},
   "source": [
    "# Sample script 02 #"
   ]
  },
  {
   "cell_type": "code",
   "execution_count": null,
   "id": "359088ba-ffca-4424-9532-12d3f27a6618",
   "metadata": {},
   "outputs": [],
   "source": [
    "# run this cell to show the source code of sample script 02 #\n",
    "\n",
    "!cat ai202209_s05_02.py"
   ]
  },
  {
   "cell_type": "code",
   "execution_count": null,
   "id": "e80b2f61-0820-4369-998a-c1d2a98345d3",
   "metadata": {},
   "outputs": [],
   "source": [
    "# run this cell to execute sample script 02 #\n",
    "\n",
    "!python3.9 ai202209_s05_02.py"
   ]
  },
  {
   "cell_type": "markdown",
   "id": "f8e4f85a-a846-4dfd-b1ea-e11bab50dfb8",
   "metadata": {},
   "source": [
    "# Sample script 03 #"
   ]
  },
  {
   "cell_type": "code",
   "execution_count": null,
   "id": "f833188c-00c4-428e-8a22-a2c435a22c52",
   "metadata": {},
   "outputs": [],
   "source": [
    "# run this cell to show the source code of sample script 03 #\n",
    "\n",
    "!cat ai202209_s05_03.py"
   ]
  },
  {
   "cell_type": "code",
   "execution_count": null,
   "id": "63e2dee5-daf3-4832-9f32-a3f1a16b9bfa",
   "metadata": {},
   "outputs": [],
   "source": [
    "# run this cell to execute sample script 03 #\n",
    "\n",
    "!python3.9 ai202209_s05_03.py"
   ]
  },
  {
   "cell_type": "markdown",
   "id": "0a446181-bef2-4888-b2cd-a5f8d6236d0f",
   "metadata": {},
   "source": [
    "# Sample script 04 #"
   ]
  },
  {
   "cell_type": "code",
   "execution_count": null,
   "id": "3b9a6d39-9fe5-434e-8e22-3f148bed94ad",
   "metadata": {},
   "outputs": [],
   "source": [
    "# run this cell to show the source code of sample script 04 #\n",
    "\n",
    "!cat ai202209_s05_04.py"
   ]
  },
  {
   "cell_type": "code",
   "execution_count": null,
   "id": "1b589472-486e-4c85-8db2-4b6d4d5e2fae",
   "metadata": {},
   "outputs": [],
   "source": [
    "# run this cell to execute sample script 04 #\n",
    "\n",
    "!python3.9 ai202209_s05_04.py"
   ]
  },
  {
   "cell_type": "code",
   "execution_count": null,
   "id": "87f65652-91e9-4c73-8f0b-c9463f0c0fba",
   "metadata": {},
   "outputs": [],
   "source": []
  }
 ],
 "metadata": {
  "kernelspec": {
   "display_name": "Python 3 (ipykernel)",
   "language": "python",
   "name": "python3"
  },
  "language_info": {
   "codemirror_mode": {
    "name": "ipython",
    "version": 3
   },
   "file_extension": ".py",
   "mimetype": "text/x-python",
   "name": "python",
   "nbconvert_exporter": "python",
   "pygments_lexer": "ipython3",
   "version": "3.9.13"
  }
 },
 "nbformat": 4,
 "nbformat_minor": 5
}
