{
 "cells": [
  {
   "cell_type": "markdown",
   "id": "527bf7c3-828b-44e9-8d8d-2a9bc4732b76",
   "metadata": {},
   "source": [
    "# Session 04 of Astroinformatics (first semester, academic year 2022) #\n",
    "\n",
    "- About the course\n",
    "    - course name: \"Astroinformatics\"\n",
    "    - semester: from Sep/2022 to Jan/2023\n",
    "    - lecture hours: from 09:00 to 12:00\n",
    "    - classroom: S4-914\n",
    "    - instructor: Kinoshita Daisuke\n",
    "    - course web page: https://s3b.astro.ncu.edu.tw/ai_202209/\n",
    "    - GitHub repository: https://github.com/kinoshitadaisuke/ncu_astroinformatics_202209\n",
    "    - Binder web page: https://mybinder.org/v2/gh/kinoshitadaisuke/ncu_astroinformatics_202209/HEAD"
   ]
  },
  {
   "cell_type": "markdown",
   "id": "57ed5cc3-2d49-4c16-bd14-feb937647071",
   "metadata": {},
   "source": [
    "## About this notebook ##\n",
    "\n",
    "This is a notebook for the __session 05__ of \"Astroinformatics\" at first semester of academic year 2022.\n",
    "\n",
    "This notebook contains sample Python scripts only.\n",
    "\n",
    "The lecture note is provided at the course web page.\n",
    "\n",
    "To download the lecture note, visit following web page.\n",
    "\n",
    "https://s3b.astro.ncu.edu.tw/ai_202209/\n",
    "\n",
    "Note that the lecture note can be downloaded only from computers/mobile phones connected to the computer network of our university.\n",
    "\n",
    "Connect to Wi-Fi of our university or use VPN service of our university to download the lecture note.\n",
    "\n",
    "If you have any question about this notebook, contact to Kinoshita Daisuke."
   ]
  },
  {
   "cell_type": "markdown",
   "id": "26548325-b8f6-4d3c-9354-250a7018ae09",
   "metadata": {},
   "source": [
    "# Sample script 00 #"
   ]
  },
  {
   "cell_type": "code",
   "execution_count": 1,
   "id": "04c426b5-f660-4eb1-9b48-6a5bde4ff7dd",
   "metadata": {},
   "outputs": [
    {
     "name": "stdout",
     "output_type": "stream",
     "text": [
      "#!/usr/pkg/bin/python3.9\n",
      "\n",
      "#\n",
      "# Time-stamp: <2022/10/09 09:25:51 (CST) daisuke>\n",
      "#\n",
      "\n",
      "# importing scipy module\n",
      "import scipy.constants\n",
      "\n",
      "# value of pi\n",
      "pi = scipy.constants.pi\n",
      "\n",
      "# printing value of pi\n",
      "print (f'pi = {pi}')\n"
     ]
    }
   ],
   "source": [
    "# run this cell to show the source code of sample script 00 #\n",
    "\n",
    "!cat ai202209_s05_00.py"
   ]
  },
  {
   "cell_type": "code",
   "execution_count": 12,
   "id": "a761c18d-3f56-4ca9-8566-8269fced441a",
   "metadata": {},
   "outputs": [
    {
     "name": "stdout",
     "output_type": "stream",
     "text": [
      "pi = 3.141592653589793\n"
     ]
    }
   ],
   "source": [
    "# run this cell to execute sample script 00 #\n",
    "\n",
    "!python3.9 ai202209_s05_00.py"
   ]
  },
  {
   "cell_type": "markdown",
   "id": "55ed9f70-8fd7-4966-8b08-e75828de4810",
   "metadata": {},
   "source": [
    "# Sample script 01 #"
   ]
  },
  {
   "cell_type": "code",
   "execution_count": 11,
   "id": "0cee794e-2698-4fa2-b88b-cd4318629b3c",
   "metadata": {},
   "outputs": [
    {
     "name": "stdout",
     "output_type": "stream",
     "text": [
      "#!/usr/pkg/bin/python3.9\n",
      "\n",
      "#\n",
      "# Time-stamp: <2022/10/09 13:58:31 (CST) daisuke>\n",
      "#\n",
      "\n",
      "# importing scipy module\n",
      "import scipy.constants\n",
      "\n",
      "#\n",
      "# some physical constants\n",
      "#\n",
      "\n",
      "# speed of light in vacuum\n",
      "c = scipy.constants.c\n",
      "\n",
      "# Planck constant\n",
      "h = scipy.constants.h\n",
      "\n",
      "# gravitational constant\n",
      "G = scipy.constants.G\n",
      "\n",
      "# Avogadro constant\n",
      "N_A = scipy.constants.N_A\n",
      "\n",
      "# Boltzmann constant\n",
      "k = scipy.constants.k\n",
      "\n",
      "# Stefan-Boltzmann constant\n",
      "sigma = scipy.constants.sigma\n",
      "\n",
      "# electron mass\n",
      "m_e = scipy.constants.m_e\n",
      "\n",
      "# proton mass\n",
      "m_p = scipy.constants.m_p\n",
      "\n",
      "# printing constants\n",
      "print (f'c     = {c:g}')\n",
      "print (f'h     = {h:g}')\n",
      "print (f'G     = {G:g}')\n",
      "print (f'N_A   = {N_A:g}')\n",
      "print (f'k     = {k:g}')\n",
      "print (f'sigma = {sigma:g}')\n",
      "print (f'm_e   = {m_e:g}')\n",
      "print (f'm_p   = {m_p:g}')\n"
     ]
    }
   ],
   "source": [
    "# run this cell to show the source code of sample script 01 #\n",
    "\n",
    "!cat ai202209_s05_01.py"
   ]
  },
  {
   "cell_type": "code",
   "execution_count": 13,
   "id": "db4191df-435c-4d49-b51e-ad7b42a1cd9f",
   "metadata": {},
   "outputs": [
    {
     "name": "stdout",
     "output_type": "stream",
     "text": [
      "c     = 2.99792e+08\n",
      "h     = 6.62607e-34\n",
      "G     = 6.6743e-11\n",
      "N_A   = 6.02214e+23\n",
      "k     = 1.38065e-23\n",
      "sigma = 5.67037e-08\n",
      "m_e   = 9.10938e-31\n",
      "m_p   = 1.67262e-27\n"
     ]
    }
   ],
   "source": [
    "# run this cell to execute sample script 01 #\n",
    "\n",
    "!python3.9 ai202209_s05_01.py"
   ]
  },
  {
   "cell_type": "markdown",
   "id": "70e3de30-1196-420f-8a86-c3f13b942849",
   "metadata": {},
   "source": [
    "# Sample script 02 #"
   ]
  },
  {
   "cell_type": "code",
   "execution_count": 5,
   "id": "359088ba-ffca-4424-9532-12d3f27a6618",
   "metadata": {},
   "outputs": [
    {
     "name": "stdout",
     "output_type": "stream",
     "text": [
      "#!/usr/pkg/bin/python3.9\n",
      "\n",
      "#\n",
      "# Time-stamp: <2022/10/09 13:32:10 (CST) daisuke>\n",
      "#\n",
      "\n",
      "# importing scipy module\n",
      "import scipy.constants\n",
      "\n",
      "#\n",
      "# some more physical constants\n",
      "#\n",
      "\n",
      "# atomic mass unit\n",
      "amu = scipy.constants.physical_constants['atomic mass constant']\n",
      "\n",
      "# Bohr radius\n",
      "a_0 = scipy.constants.physical_constants['Bohr radius']\n",
      "\n",
      "# Boltzmann constant\n",
      "k = scipy.constants.physical_constants['Boltzmann constant']\n",
      "\n",
      "# electron mass\n",
      "m_e = scipy.constants.physical_constants['electron mass']\n",
      "\n",
      "# electron volt\n",
      "eV = scipy.constants.physical_constants['electron volt']\n",
      "\n",
      "# Planck constant\n",
      "h = scipy.constants.physical_constants['Planck constant']\n",
      "\n",
      "# proton mass\n",
      "m_p = scipy.constants.physical_constants['proton mass']\n",
      "\n",
      "# speed of light in vacuum\n",
      "c = scipy.constants.physical_constants['speed of light in vacuum']\n",
      "\n",
      "# standard atmospheric pressure\n",
      "atm = scipy.constants.physical_constants['standard atmosphere']\n",
      "\n",
      "# electric permittivity in vacuum\n",
      "epsilon_0 = scipy.constants.physical_constants['vacuum electric permittivity']\n",
      "\n",
      "# magnetic permeability in vacuum\n",
      "mu_0 = scipy.constants.physical_constants['vacuum mag. permeability']\n",
      "\n",
      "# printing constants\n",
      "print (f'amu  = {amu[0]:g} +/- {amu[2]:g} [{amu[1]}]')\n",
      "print (f'a_0  = {a_0[0]:g} +/- {a_0[2]:g} [{a_0[1]}]')\n",
      "print (f'k    = {k[0]:g} +/- {k[2]:g} [{k[1]}]')\n",
      "print (f'm_e  = {m_e[0]:g} +/- {m_e[2]:g} [{m_e[1]}]')\n",
      "print (f'eV   = {eV[0]:g} +/- {eV[2]:g} [{eV[1]}]')\n",
      "print (f'h    = {h[0]:g} +/- {h[2]:g} [{h[1]}]')\n",
      "print (f'm_p  = {m_p[0]:g} +/- {m_p[2]:g} [{m_p[1]}]')\n",
      "print (f'c    = {c[0]:g} +/- {c[2]:g} [{c[1]}]')\n",
      "print (f'atm  = {atm[0]:g} +/- {atm[2]:g} [{atm[1]}]')\n",
      "print (f'eps0 = {epsilon_0[0]:g} +/- {epsilon_0[2]:g} [{epsilon_0[1]}]')\n",
      "print (f'mu0  = {mu_0[0]:g} +/- {mu_0[2]:g} [{mu_0[1]}]')\n"
     ]
    }
   ],
   "source": [
    "# run this cell to show the source code of sample script 02 #\n",
    "\n",
    "!cat ai202209_s05_02.py"
   ]
  },
  {
   "cell_type": "code",
   "execution_count": 14,
   "id": "e80b2f61-0820-4369-998a-c1d2a98345d3",
   "metadata": {},
   "outputs": [
    {
     "name": "stdout",
     "output_type": "stream",
     "text": [
      "amu  = 1.66054e-27 +/- 5e-37 [kg]\n",
      "a_0  = 5.29177e-11 +/- 8e-21 [m]\n",
      "k    = 1.38065e-23 +/- 0 [J K^-1]\n",
      "m_e  = 9.10938e-31 +/- 2.8e-40 [kg]\n",
      "eV   = 1.60218e-19 +/- 0 [J]\n",
      "h    = 6.62607e-34 +/- 0 [J Hz^-1]\n",
      "m_p  = 1.67262e-27 +/- 5.1e-37 [kg]\n",
      "c    = 2.99792e+08 +/- 0 [m s^-1]\n",
      "atm  = 101325 +/- 0 [Pa]\n",
      "eps0 = 8.85419e-12 +/- 1.3e-21 [F m^-1]\n",
      "mu0  = 1.25664e-06 +/- 1.9e-16 [N A^-2]\n"
     ]
    }
   ],
   "source": [
    "# run this cell to execute sample script 02 #\n",
    "\n",
    "!python3.9 ai202209_s05_02.py"
   ]
  },
  {
   "cell_type": "markdown",
   "id": "f8e4f85a-a846-4dfd-b1ea-e11bab50dfb8",
   "metadata": {},
   "source": [
    "# Sample script 03 #"
   ]
  },
  {
   "cell_type": "code",
   "execution_count": 7,
   "id": "f833188c-00c4-428e-8a22-a2c435a22c52",
   "metadata": {},
   "outputs": [
    {
     "name": "stdout",
     "output_type": "stream",
     "text": [
      "#!/usr/pkg/bin/python3.9\n",
      "\n",
      "#\n",
      "# Time-stamp: <2022/10/09 13:44:39 (CST) daisuke>\n",
      "#\n",
      "\n",
      "# importing scipy module\n",
      "import scipy.constants\n",
      "\n",
      "# finding a constant\n",
      "search_result = scipy.constants.find ('Wien')\n",
      "\n",
      "# printing search result\n",
      "for constant in search_result:\n",
      "    print (f'{constant}')\n"
     ]
    }
   ],
   "source": [
    "# run this cell to show the source code of sample script 03 #\n",
    "\n",
    "!cat ai202209_s05_03.py"
   ]
  },
  {
   "cell_type": "code",
   "execution_count": 15,
   "id": "63e2dee5-daf3-4832-9f32-a3f1a16b9bfa",
   "metadata": {},
   "outputs": [
    {
     "name": "stdout",
     "output_type": "stream",
     "text": [
      "Wien frequency displacement law constant\n",
      "Wien wavelength displacement law constant\n"
     ]
    }
   ],
   "source": [
    "# run this cell to execute sample script 03 #\n",
    "\n",
    "!python3.9 ai202209_s05_03.py"
   ]
  },
  {
   "cell_type": "markdown",
   "id": "0a446181-bef2-4888-b2cd-a5f8d6236d0f",
   "metadata": {},
   "source": [
    "# Sample script 04 #"
   ]
  },
  {
   "cell_type": "code",
   "execution_count": 9,
   "id": "3b9a6d39-9fe5-434e-8e22-3f148bed94ad",
   "metadata": {},
   "outputs": [
    {
     "name": "stdout",
     "output_type": "stream",
     "text": [
      "#!/usr/pkg/bin/python3.9\n",
      "\n",
      "#\n",
      "# Time-stamp: <2022/10/09 13:48:20 (CST) daisuke>\n",
      "#\n",
      "\n",
      "# importing scipy module\n",
      "import scipy.constants\n",
      "\n",
      "# some units for length\n",
      "au     = scipy.constants.au\n",
      "ly     = scipy.constants.light_year\n",
      "parsec = scipy.constants.parsec\n",
      "\n",
      "# printing units for length\n",
      "print (f'au     = {au:g} [m]')\n",
      "print (f'ly     = {ly:g} [m]')\n",
      "print (f'parsec = {parsec:g} [m]')\n"
     ]
    }
   ],
   "source": [
    "# run this cell to show the source code of sample script 04 #\n",
    "\n",
    "!cat ai202209_s05_04.py"
   ]
  },
  {
   "cell_type": "code",
   "execution_count": 16,
   "id": "1b589472-486e-4c85-8db2-4b6d4d5e2fae",
   "metadata": {},
   "outputs": [
    {
     "name": "stdout",
     "output_type": "stream",
     "text": [
      "au     = 1.49598e+11 [m]\n",
      "ly     = 9.46073e+15 [m]\n",
      "parsec = 3.08568e+16 [m]\n"
     ]
    }
   ],
   "source": [
    "# run this cell to execute sample script 04 #\n",
    "\n",
    "!python3.9 ai202209_s05_04.py"
   ]
  },
  {
   "cell_type": "code",
   "execution_count": null,
   "id": "87f65652-91e9-4c73-8f0b-c9463f0c0fba",
   "metadata": {},
   "outputs": [],
   "source": []
  }
 ],
 "metadata": {
  "kernelspec": {
   "display_name": "Python 3 (ipykernel)",
   "language": "python",
   "name": "python3"
  },
  "language_info": {
   "codemirror_mode": {
    "name": "ipython",
    "version": 3
   },
   "file_extension": ".py",
   "mimetype": "text/x-python",
   "name": "python",
   "nbconvert_exporter": "python",
   "pygments_lexer": "ipython3",
   "version": "3.9.13"
  }
 },
 "nbformat": 4,
 "nbformat_minor": 5
}
