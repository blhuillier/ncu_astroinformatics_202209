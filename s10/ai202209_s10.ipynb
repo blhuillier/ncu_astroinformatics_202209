{
 "cells": [
  {
   "cell_type": "markdown",
   "id": "527bf7c3-828b-44e9-8d8d-2a9bc4732b76",
   "metadata": {},
   "source": [
    "# Session 10 of Astroinformatics (first semester, academic year 2022) #\n",
    "\n",
    "- About the course\n",
    "    - course name: \"Astroinformatics\"\n",
    "    - semester: from Sep/2022 to Jan/2023\n",
    "    - lecture hours: from 09:00 to 12:00\n",
    "    - classroom: S4-914\n",
    "    - instructor: Kinoshita Daisuke\n",
    "    - course web page: https://s3b.astro.ncu.edu.tw/ai_202209/\n",
    "    - GitHub repository: https://github.com/kinoshitadaisuke/ncu_astroinformatics_202209\n",
    "    - Binder web page: https://mybinder.org/v2/gh/kinoshitadaisuke/ncu_astroinformatics_202209/HEAD"
   ]
  },
  {
   "cell_type": "markdown",
   "id": "57ed5cc3-2d49-4c16-bd14-feb937647071",
   "metadata": {},
   "source": [
    "## About this notebook ##\n",
    "\n",
    "This is a notebook for the __session 10__ of \"Astroinformatics\" at first semester of academic year 2022.\n",
    "\n",
    "This notebook contains sample Python scripts only.\n",
    "\n",
    "The lecture note is provided at the course web page.\n",
    "\n",
    "To download the lecture note, visit following web page.\n",
    "\n",
    "https://s3b.astro.ncu.edu.tw/ai_202209/\n",
    "\n",
    "Note that the lecture note can be downloaded only from computers/mobile phones connected to the computer network of our university.\n",
    "\n",
    "Connect to Wi-Fi of our university or use VPN service of our university to download the lecture note.\n",
    "\n",
    "If you have any question about this notebook, contact to Kinoshita Daisuke."
   ]
  },
  {
   "cell_type": "markdown",
   "id": "electrical-trainer",
   "metadata": {},
   "source": [
    "# Sample script 00-00 #"
   ]
  },
  {
   "cell_type": "code",
   "execution_count": null,
   "id": "fancy-ukraine",
   "metadata": {},
   "outputs": [],
   "source": [
    "# run this cell to display the source code of the script #\n",
    "\n",
    "!cat ai202209_s10_00_00.py"
   ]
  },
  {
   "cell_type": "code",
   "execution_count": null,
   "id": "specified-mexico",
   "metadata": {},
   "outputs": [],
   "source": [
    "# run this cell to execute the script #\n",
    "\n",
    "!python3.9 ai202209_s10_00_00.py"
   ]
  },
  {
   "cell_type": "markdown",
   "id": "buried-bruce",
   "metadata": {},
   "source": [
    "# Sample script 00-01 #"
   ]
  },
  {
   "cell_type": "code",
   "execution_count": null,
   "id": "toxic-venue",
   "metadata": {},
   "outputs": [],
   "source": [
    "# run this cell to display the source code of the script #\n",
    "\n",
    "!cat ai202209_s10_00_01.py"
   ]
  },
  {
   "cell_type": "code",
   "execution_count": null,
   "id": "hourly-legend",
   "metadata": {},
   "outputs": [],
   "source": [
    "# run this cell to execute the script #\n",
    "\n",
    "!python3.9 ai202209_s10_00_01.py"
   ]
  },
  {
   "cell_type": "markdown",
   "id": "spare-surname",
   "metadata": {},
   "source": [
    "# Sample script 00-02 #"
   ]
  },
  {
   "cell_type": "code",
   "execution_count": null,
   "id": "flexible-tattoo",
   "metadata": {},
   "outputs": [],
   "source": [
    "# run this cell to display the source code of the script #\n",
    "\n",
    "!cat ai202209_s10_00_02.py"
   ]
  },
  {
   "cell_type": "code",
   "execution_count": null,
   "id": "commercial-shopper",
   "metadata": {},
   "outputs": [],
   "source": [
    "# run this cell to execute the script #\n",
    "\n",
    "!python3.9 ai202209_s10_00_02.py"
   ]
  },
  {
   "cell_type": "markdown",
   "id": "alone-oasis",
   "metadata": {},
   "source": [
    "# Sample script 00-03 #"
   ]
  },
  {
   "cell_type": "code",
   "execution_count": null,
   "id": "pediatric-healing",
   "metadata": {},
   "outputs": [],
   "source": [
    "# run this cell to display the source code of the script #\n",
    "\n",
    "!cat ai202209_s10_00_03.py"
   ]
  },
  {
   "cell_type": "code",
   "execution_count": null,
   "id": "behind-cricket",
   "metadata": {},
   "outputs": [],
   "source": [
    "# run this cell to execute the script #\n",
    "\n",
    "!python3.9 ai202209_s10_00_03.py"
   ]
  },
  {
   "cell_type": "markdown",
   "id": "generous-castle",
   "metadata": {},
   "source": [
    "# Sample script 00-04 #"
   ]
  },
  {
   "cell_type": "code",
   "execution_count": null,
   "id": "successful-chester",
   "metadata": {},
   "outputs": [],
   "source": [
    "# run this cell to display the source code of the script #\n",
    "\n",
    "!cat ai202209_s10_00_04.py"
   ]
  },
  {
   "cell_type": "code",
   "execution_count": null,
   "id": "pleased-stadium",
   "metadata": {},
   "outputs": [],
   "source": [
    "# run this cell to execute the script #\n",
    "\n",
    "!python3.9 ai202209_s10_00_04.py"
   ]
  },
  {
   "cell_type": "code",
   "execution_count": null,
   "id": "emerging-anaheim",
   "metadata": {},
   "outputs": [],
   "source": [
    "# run this cell to display PNG image #\n",
    "\n",
    "import IPython.display\n",
    "\n",
    "IPython.display.Image ('ai202209_s10_00_04.png')"
   ]
  },
  {
   "cell_type": "markdown",
   "id": "noticed-warehouse",
   "metadata": {},
   "source": [
    "# Sample script 00-05 #"
   ]
  },
  {
   "cell_type": "code",
   "execution_count": null,
   "id": "pursuant-swimming",
   "metadata": {},
   "outputs": [],
   "source": [
    "# run this cell to display the source code of the script #\n",
    "\n",
    "!cat ai202209_s10_00_05.py"
   ]
  },
  {
   "cell_type": "code",
   "execution_count": null,
   "id": "naval-flexibility",
   "metadata": {},
   "outputs": [],
   "source": [
    "# run this cell to execute the script #\n",
    "\n",
    "!python3.9 ai202209_s10_00_05.py"
   ]
  },
  {
   "cell_type": "code",
   "execution_count": null,
   "id": "usual-naples",
   "metadata": {},
   "outputs": [],
   "source": [
    "# run this cell to display PNG image #\n",
    "\n",
    "import IPython.display\n",
    "\n",
    "IPython.display.Image ('ai202209_s10_00_05.png')"
   ]
  },
  {
   "cell_type": "markdown",
   "id": "equal-furniture",
   "metadata": {},
   "source": [
    "# Sample script 00-06 #"
   ]
  },
  {
   "cell_type": "code",
   "execution_count": null,
   "id": "cubic-regular",
   "metadata": {},
   "outputs": [],
   "source": [
    "# run this cell to display the source code of the script #\n",
    "\n",
    "!cat ai202209_s10_00_06.py"
   ]
  },
  {
   "cell_type": "code",
   "execution_count": null,
   "id": "married-boxing",
   "metadata": {},
   "outputs": [],
   "source": [
    "# run this cell to execute the script #\n",
    "\n",
    "!python3.9 ai202209_s10_00_06.py"
   ]
  },
  {
   "cell_type": "code",
   "execution_count": null,
   "id": "retained-christianity",
   "metadata": {},
   "outputs": [],
   "source": [
    "# run this cell to display PNG image #\n",
    "\n",
    "import IPython.display\n",
    "\n",
    "IPython.display.Image ('ai202209_s10_00_06.png')"
   ]
  },
  {
   "cell_type": "markdown",
   "id": "reliable-company",
   "metadata": {},
   "source": [
    "# Sample script 00-07 #"
   ]
  },
  {
   "cell_type": "code",
   "execution_count": null,
   "id": "governing-butterfly",
   "metadata": {},
   "outputs": [],
   "source": [
    "# run this cell to display the source code of the script #\n",
    "\n",
    "!cat ai202209_s10_00_07.py"
   ]
  },
  {
   "cell_type": "code",
   "execution_count": null,
   "id": "legal-velvet",
   "metadata": {},
   "outputs": [],
   "source": [
    "# run this cell to execute the script #\n",
    "\n",
    "!python3.9 ai202209_s10_00_07.py"
   ]
  },
  {
   "cell_type": "code",
   "execution_count": null,
   "id": "waiting-settle",
   "metadata": {},
   "outputs": [],
   "source": [
    "# run this cell to display PNG image #\n",
    "\n",
    "import IPython.display\n",
    "\n",
    "IPython.display.Image ('ai202209_s10_00_07.png')"
   ]
  },
  {
   "cell_type": "markdown",
   "id": "acting-madonna",
   "metadata": {},
   "source": [
    "# Sample script 00-08 #"
   ]
  },
  {
   "cell_type": "code",
   "execution_count": null,
   "id": "mature-prior",
   "metadata": {},
   "outputs": [],
   "source": [
    "# run this cell to display the source code of the script #\n",
    "\n",
    "!cat ai202209_s10_00_08.py"
   ]
  },
  {
   "cell_type": "code",
   "execution_count": null,
   "id": "global-today",
   "metadata": {},
   "outputs": [],
   "source": [
    "# run this cell to execute the script #\n",
    "\n",
    "!python3.9 ai202209_s10_00_08.py"
   ]
  },
  {
   "cell_type": "markdown",
   "id": "tough-secret",
   "metadata": {},
   "source": [
    "# Sample script 00-09 #"
   ]
  },
  {
   "cell_type": "code",
   "execution_count": null,
   "id": "liable-seventh",
   "metadata": {},
   "outputs": [],
   "source": [
    "# run this cell to display the source code of the script #\n",
    "\n",
    "!cat ai202209_s10_00_09.py"
   ]
  },
  {
   "cell_type": "code",
   "execution_count": null,
   "id": "spanish-shepherd",
   "metadata": {},
   "outputs": [],
   "source": [
    "# run this cell to execute the script #\n",
    "\n",
    "!python3.9 ai202209_s10_00_09.py"
   ]
  },
  {
   "cell_type": "markdown",
   "id": "proper-collector",
   "metadata": {},
   "source": [
    "# Sample script 00-10 #"
   ]
  },
  {
   "cell_type": "code",
   "execution_count": null,
   "id": "cooperative-graduation",
   "metadata": {},
   "outputs": [],
   "source": [
    "# run this cell to display the source code of the script #\n",
    "\n",
    "!cat ai202209_s10_00_10.py"
   ]
  },
  {
   "cell_type": "code",
   "execution_count": null,
   "id": "cooperative-gather",
   "metadata": {},
   "outputs": [],
   "source": [
    "# run this cell to execute the script #\n",
    "\n",
    "!python3.9 ai202209_s10_00_10.py"
   ]
  },
  {
   "cell_type": "code",
   "execution_count": null,
   "id": "considered-avenue",
   "metadata": {},
   "outputs": [],
   "source": [
    "# run this cell to display PNG image #\n",
    "\n",
    "import IPython.display\n",
    "\n",
    "IPython.display.Image ('ai202209_s10_00_10.png')"
   ]
  },
  {
   "cell_type": "markdown",
   "id": "middle-remedy",
   "metadata": {},
   "source": [
    "# Sample script 00-11 #"
   ]
  },
  {
   "cell_type": "code",
   "execution_count": null,
   "id": "christian-seafood",
   "metadata": {},
   "outputs": [],
   "source": [
    "# run this cell to display the source code of the script #\n",
    "\n",
    "!cat ai202209_s10_00_11.py"
   ]
  },
  {
   "cell_type": "code",
   "execution_count": null,
   "id": "quantitative-monthly",
   "metadata": {},
   "outputs": [],
   "source": [
    "# run this cell to execute the script #\n",
    "\n",
    "!python3.9 ai202209_s10_00_11.py"
   ]
  },
  {
   "cell_type": "code",
   "execution_count": null,
   "id": "reasonable-tutorial",
   "metadata": {},
   "outputs": [],
   "source": [
    "# run this cell to display PNG image #\n",
    "\n",
    "import IPython.display\n",
    "\n",
    "IPython.display.Image ('ai202209_s10_00_11.png')"
   ]
  },
  {
   "cell_type": "markdown",
   "id": "underlying-chick",
   "metadata": {},
   "source": [
    "# Sample script 00-12 #"
   ]
  },
  {
   "cell_type": "code",
   "execution_count": null,
   "id": "hazardous-equilibrium",
   "metadata": {},
   "outputs": [],
   "source": [
    "# run this cell to display the source code of the script #\n",
    "\n",
    "!cat ai202209_s10_00_12.py"
   ]
  },
  {
   "cell_type": "code",
   "execution_count": null,
   "id": "upper-armstrong",
   "metadata": {},
   "outputs": [],
   "source": [
    "# run this cell to execute the script #\n",
    "\n",
    "!python3.9 ai202209_s10_00_12.py"
   ]
  },
  {
   "cell_type": "code",
   "execution_count": null,
   "id": "aware-springfield",
   "metadata": {},
   "outputs": [],
   "source": [
    "# run this cell to display PNG image #\n",
    "\n",
    "import IPython.display\n",
    "\n",
    "IPython.display.Image ('ai202209_s10_00_12.png')"
   ]
  },
  {
   "cell_type": "markdown",
   "id": "lyric-policy",
   "metadata": {},
   "source": [
    "# Sample script 00-13 #"
   ]
  },
  {
   "cell_type": "code",
   "execution_count": null,
   "id": "prepared-english",
   "metadata": {},
   "outputs": [],
   "source": [
    "# run this cell to display the source code of the script #\n",
    "\n",
    "!cat ai202209_s10_00_13.py"
   ]
  },
  {
   "cell_type": "code",
   "execution_count": null,
   "id": "determined-cinema",
   "metadata": {},
   "outputs": [],
   "source": [
    "# run this cell to execute the script #\n",
    "\n",
    "!python3.9 ai202209_s10_00_13.py"
   ]
  },
  {
   "cell_type": "code",
   "execution_count": null,
   "id": "forbidden-blond",
   "metadata": {},
   "outputs": [],
   "source": [
    "# run this cell to display PNG image #\n",
    "\n",
    "import IPython.display\n",
    "\n",
    "IPython.display.Image ('ai202209_s10_00_13.png')"
   ]
  },
  {
   "cell_type": "markdown",
   "id": "desperate-stockholm",
   "metadata": {},
   "source": [
    "# Sample script 00-14 #"
   ]
  },
  {
   "cell_type": "code",
   "execution_count": null,
   "id": "incident-marathon",
   "metadata": {},
   "outputs": [],
   "source": [
    "# run this cell to display the source code of the script #\n",
    "\n",
    "!cat ai202209_s10_00_14.py"
   ]
  },
  {
   "cell_type": "code",
   "execution_count": null,
   "id": "loose-sequence",
   "metadata": {},
   "outputs": [],
   "source": [
    "# run this cell to execute the script #\n",
    "\n",
    "!python3.9 ai202209_s10_00_14.py"
   ]
  },
  {
   "cell_type": "code",
   "execution_count": null,
   "id": "small-ability",
   "metadata": {},
   "outputs": [],
   "source": [
    "# run this cell to display PNG image #\n",
    "\n",
    "import IPython.display\n",
    "\n",
    "IPython.display.Image ('ai202209_s10_00_14.png')"
   ]
  },
  {
   "cell_type": "markdown",
   "id": "tamil-irrigation",
   "metadata": {},
   "source": [
    "# Sample script 00-15 #"
   ]
  },
  {
   "cell_type": "code",
   "execution_count": null,
   "id": "eleven-chamber",
   "metadata": {},
   "outputs": [],
   "source": [
    "# run this cell to display the source code of the script #\n",
    "\n",
    "!cat ai202209_s10_00_15.py"
   ]
  },
  {
   "cell_type": "code",
   "execution_count": null,
   "id": "recovered-improvement",
   "metadata": {},
   "outputs": [],
   "source": [
    "# run this cell to execute the script #\n",
    "\n",
    "!python3.9 ai202209_s10_00_15.py"
   ]
  },
  {
   "cell_type": "code",
   "execution_count": null,
   "id": "miniature-details",
   "metadata": {},
   "outputs": [],
   "source": [
    "# run this cell to display PNG image #\n",
    "\n",
    "import IPython.display\n",
    "\n",
    "IPython.display.Image ('ai202209_s10_00_15.png')"
   ]
  },
  {
   "cell_type": "markdown",
   "id": "placed-purchase",
   "metadata": {},
   "source": [
    "# Sample script 00-16 #"
   ]
  },
  {
   "cell_type": "code",
   "execution_count": null,
   "id": "excited-anniversary",
   "metadata": {},
   "outputs": [],
   "source": [
    "# run this cell to display the source code of the script #\n",
    "\n",
    "!cat ai202209_s10_00_16.py"
   ]
  },
  {
   "cell_type": "code",
   "execution_count": null,
   "id": "helpful-planning",
   "metadata": {},
   "outputs": [],
   "source": [
    "# run this cell to execute the script #\n",
    "\n",
    "!python3.9 ai202209_s10_00_16.py"
   ]
  },
  {
   "cell_type": "code",
   "execution_count": null,
   "id": "earlier-swedish",
   "metadata": {},
   "outputs": [],
   "source": [
    "# run this cell to display PNG image #\n",
    "\n",
    "import IPython.display\n",
    "\n",
    "IPython.display.Image ('ai202209_s10_00_16.png')"
   ]
  },
  {
   "cell_type": "markdown",
   "id": "forbidden-integer",
   "metadata": {},
   "source": [
    "# Sample script 01-00 #"
   ]
  },
  {
   "cell_type": "code",
   "execution_count": null,
   "id": "scheduled-philosophy",
   "metadata": {},
   "outputs": [],
   "source": [
    "# run this cell to display the source code of the script #\n",
    "\n",
    "!cat ai202209_s10_01_00.py"
   ]
  },
  {
   "cell_type": "code",
   "execution_count": null,
   "id": "arabic-shaft",
   "metadata": {},
   "outputs": [],
   "source": [
    "# run this cell to execute the script #\n",
    "\n",
    "!python3.9 ai202209_s10_01_00.py"
   ]
  },
  {
   "cell_type": "markdown",
   "id": "temporal-zimbabwe",
   "metadata": {},
   "source": [
    "# Sample script 01-01 #"
   ]
  },
  {
   "cell_type": "code",
   "execution_count": null,
   "id": "subjective-lobby",
   "metadata": {},
   "outputs": [],
   "source": [
    "# run this cell to display the source code of the script #\n",
    "\n",
    "!cat ai202209_s10_01_01.py"
   ]
  },
  {
   "cell_type": "code",
   "execution_count": null,
   "id": "absolute-singles",
   "metadata": {},
   "outputs": [],
   "source": [
    "# run this cell to execute the script #\n",
    "\n",
    "!python3.9 ai202209_s10_01_01.py"
   ]
  },
  {
   "cell_type": "markdown",
   "id": "usual-trainer",
   "metadata": {},
   "source": [
    "# Sample script 01-02 #"
   ]
  },
  {
   "cell_type": "code",
   "execution_count": null,
   "id": "prepared-consultancy",
   "metadata": {},
   "outputs": [],
   "source": [
    "# run this cell to display the source code of the script #\n",
    "\n",
    "!cat ai202209_s10_01_02.py"
   ]
  },
  {
   "cell_type": "code",
   "execution_count": null,
   "id": "passing-proceeding",
   "metadata": {},
   "outputs": [],
   "source": [
    "# run this cell to execute the script #\n",
    "\n",
    "!python3.9 ai202209_s10_01_02.py"
   ]
  },
  {
   "cell_type": "markdown",
   "id": "surprised-consumption",
   "metadata": {},
   "source": [
    "# Sample script 01-03 #"
   ]
  },
  {
   "cell_type": "code",
   "execution_count": null,
   "id": "parental-pledge",
   "metadata": {},
   "outputs": [],
   "source": [
    "# run this cell to display the source code of the script #\n",
    "\n",
    "!cat ai202209_s10_01_03.py"
   ]
  },
  {
   "cell_type": "code",
   "execution_count": null,
   "id": "equal-powell",
   "metadata": {},
   "outputs": [],
   "source": [
    "# run this cell to execute the script #\n",
    "\n",
    "!python3.9 ai202209_s10_01_03.py"
   ]
  },
  {
   "cell_type": "code",
   "execution_count": null,
   "id": "plastic-consensus",
   "metadata": {},
   "outputs": [],
   "source": [
    "# run this cell to display PNG image #\n",
    "\n",
    "import IPython.display\n",
    "\n",
    "IPython.display.Image ('ai202209_s10_01_03.png')"
   ]
  },
  {
   "cell_type": "markdown",
   "id": "yellow-encyclopedia",
   "metadata": {},
   "source": [
    "# Sample script 01-04 #"
   ]
  },
  {
   "cell_type": "code",
   "execution_count": null,
   "id": "undefined-cameroon",
   "metadata": {},
   "outputs": [],
   "source": [
    "# run this cell to display the source code of the script #\n",
    "\n",
    "!cat ai202209_s10_01_04.py"
   ]
  },
  {
   "cell_type": "code",
   "execution_count": null,
   "id": "blocked-cyprus",
   "metadata": {},
   "outputs": [],
   "source": [
    "# run this cell to execute the script #\n",
    "\n",
    "!python3.9 ai202209_s10_01_04.py"
   ]
  },
  {
   "cell_type": "code",
   "execution_count": null,
   "id": "interstate-lyric",
   "metadata": {},
   "outputs": [],
   "source": [
    "# run this cell to display PNG image #\n",
    "\n",
    "import IPython.display\n",
    "\n",
    "IPython.display.Image ('ai202209_s10_01_04.png')"
   ]
  },
  {
   "cell_type": "markdown",
   "id": "cutting-swing",
   "metadata": {},
   "source": [
    "# Sample script 01-05 #"
   ]
  },
  {
   "cell_type": "code",
   "execution_count": null,
   "id": "resistant-friend",
   "metadata": {},
   "outputs": [],
   "source": [
    "# run this cell to display the source code of the script #\n",
    "\n",
    "!cat ai202209_s10_01_05.py"
   ]
  },
  {
   "cell_type": "code",
   "execution_count": null,
   "id": "ahead-antigua",
   "metadata": {},
   "outputs": [],
   "source": [
    "# run this cell to execute the script #\n",
    "\n",
    "!python3.9 ai202209_s10_01_05.py"
   ]
  },
  {
   "cell_type": "code",
   "execution_count": null,
   "id": "polyphonic-attack",
   "metadata": {},
   "outputs": [],
   "source": [
    "# run this cell to display PNG image #\n",
    "\n",
    "import IPython.display\n",
    "\n",
    "IPython.display.Image ('ai202209_s10_01_05.png')"
   ]
  },
  {
   "cell_type": "markdown",
   "id": "focal-white",
   "metadata": {},
   "source": [
    "# Sample script 01-06 #"
   ]
  },
  {
   "cell_type": "code",
   "execution_count": null,
   "id": "younger-generation",
   "metadata": {},
   "outputs": [],
   "source": [
    "# run this cell to display the source code of the script #\n",
    "\n",
    "!cat ai202209_s10_01_06.py"
   ]
  },
  {
   "cell_type": "code",
   "execution_count": null,
   "id": "explicit-concentration",
   "metadata": {},
   "outputs": [],
   "source": [
    "# run this cell to execute the script #\n",
    "\n",
    "!python3.9 ai202209_s10_01_06.py"
   ]
  },
  {
   "cell_type": "markdown",
   "id": "vietnamese-rally",
   "metadata": {},
   "source": [
    "# Sample script 01-07 #"
   ]
  },
  {
   "cell_type": "code",
   "execution_count": null,
   "id": "cordless-height",
   "metadata": {},
   "outputs": [],
   "source": [
    "# run this cell to display the source code of the script #\n",
    "\n",
    "!cat ai202209_s10_01_07.py"
   ]
  },
  {
   "cell_type": "code",
   "execution_count": null,
   "id": "timely-warrior",
   "metadata": {},
   "outputs": [],
   "source": [
    "# run this cell to execute the script #\n",
    "\n",
    "!python3.9 ai202209_s10_01_07.py"
   ]
  },
  {
   "cell_type": "code",
   "execution_count": null,
   "id": "ranging-spirit",
   "metadata": {},
   "outputs": [],
   "source": [
    "# run this cell to display PNG image #\n",
    "\n",
    "import IPython.display\n",
    "\n",
    "IPython.display.Image ('ai202209_s10_01_07.png')"
   ]
  },
  {
   "cell_type": "markdown",
   "id": "atomic-technician",
   "metadata": {},
   "source": [
    "# Sample script 01-08 #"
   ]
  },
  {
   "cell_type": "code",
   "execution_count": null,
   "id": "appointed-vegetable",
   "metadata": {},
   "outputs": [],
   "source": [
    "# run this cell to display the source code of the script #\n",
    "\n",
    "!cat ai202209_s10_01_08.py"
   ]
  },
  {
   "cell_type": "code",
   "execution_count": null,
   "id": "occupational-bundle",
   "metadata": {},
   "outputs": [],
   "source": [
    "# run this cell to execute the script #\n",
    "\n",
    "!python3.9 ai202209_s10_01_08.py"
   ]
  },
  {
   "cell_type": "code",
   "execution_count": null,
   "id": "nominated-preparation",
   "metadata": {},
   "outputs": [],
   "source": [
    "# run this cell to display PNG image #\n",
    "\n",
    "import IPython.display\n",
    "\n",
    "IPython.display.Image ('ai202209_s10_01_08.png')"
   ]
  },
  {
   "cell_type": "markdown",
   "id": "closing-green",
   "metadata": {},
   "source": [
    "# Sample script 02-00 #"
   ]
  },
  {
   "cell_type": "code",
   "execution_count": null,
   "id": "numerous-format",
   "metadata": {},
   "outputs": [],
   "source": [
    "# run this cell to display the source code of the script #\n",
    "\n",
    "!cat ai202209_s10_02_00.py"
   ]
  },
  {
   "cell_type": "code",
   "execution_count": null,
   "id": "level-strand",
   "metadata": {},
   "outputs": [],
   "source": [
    "# run this cell to execute the script #\n",
    "\n",
    "!python3.9 ai202209_s10_02_00.py"
   ]
  },
  {
   "cell_type": "markdown",
   "id": "treated-contamination",
   "metadata": {},
   "source": [
    "# Sample script 02-01 #"
   ]
  },
  {
   "cell_type": "code",
   "execution_count": null,
   "id": "automatic-toronto",
   "metadata": {},
   "outputs": [],
   "source": [
    "# run this cell to display the source code of the script #\n",
    "\n",
    "!cat ai202209_s10_02_01.py"
   ]
  },
  {
   "cell_type": "code",
   "execution_count": null,
   "id": "golden-processor",
   "metadata": {},
   "outputs": [],
   "source": [
    "# run this cell to execute the script #\n",
    "\n",
    "!python3.9 ai202209_s10_02_01.py"
   ]
  },
  {
   "cell_type": "code",
   "execution_count": null,
   "id": "planned-stomach",
   "metadata": {},
   "outputs": [],
   "source": [
    "# run this cell to display PNG image #\n",
    "\n",
    "import IPython.display\n",
    "\n",
    "IPython.display.Image ('ai202209_s10_02_01.png')"
   ]
  },
  {
   "cell_type": "markdown",
   "id": "arabic-haiti",
   "metadata": {},
   "source": [
    "# Sample script 02-02 #"
   ]
  },
  {
   "cell_type": "code",
   "execution_count": null,
   "id": "flexible-morning",
   "metadata": {},
   "outputs": [],
   "source": [
    "# run this cell to display the source code of the script #\n",
    "\n",
    "!cat ai202209_s10_02_02.py"
   ]
  },
  {
   "cell_type": "code",
   "execution_count": null,
   "id": "small-curve",
   "metadata": {},
   "outputs": [],
   "source": [
    "# run this cell to execute the script #\n",
    "\n",
    "!python3.9 ai202209_s10_02_02.py"
   ]
  },
  {
   "cell_type": "code",
   "execution_count": null,
   "id": "persistent-airport",
   "metadata": {},
   "outputs": [],
   "source": [
    "# run this cell to display PNG image #\n",
    "\n",
    "import IPython.display\n",
    "\n",
    "IPython.display.Image ('ai202209_s10_02_02.png')"
   ]
  },
  {
   "cell_type": "markdown",
   "id": "closed-harris",
   "metadata": {},
   "source": [
    "# Sample script 02-03 #"
   ]
  },
  {
   "cell_type": "code",
   "execution_count": null,
   "id": "running-joining",
   "metadata": {},
   "outputs": [],
   "source": [
    "# run this cell to display the source code of the script #\n",
    "\n",
    "!cat ai202209_s10_02_03.py"
   ]
  },
  {
   "cell_type": "code",
   "execution_count": null,
   "id": "sapphire-medicaid",
   "metadata": {},
   "outputs": [],
   "source": [
    "# run this cell to execute the script #\n",
    "\n",
    "!python3.9 ai202209_s10_02_03.py"
   ]
  },
  {
   "cell_type": "code",
   "execution_count": null,
   "id": "toxic-department",
   "metadata": {},
   "outputs": [],
   "source": [
    "# run this cell to display PNG image #\n",
    "\n",
    "import IPython.display\n",
    "\n",
    "IPython.display.Image ('ai202209_s10_02_03.png')"
   ]
  },
  {
   "cell_type": "markdown",
   "id": "exact-steering",
   "metadata": {},
   "source": [
    "# Sample script 03-00 #"
   ]
  },
  {
   "cell_type": "code",
   "execution_count": null,
   "id": "animated-blanket",
   "metadata": {},
   "outputs": [],
   "source": [
    "# run this cell to display the source code of the script #\n",
    "\n",
    "!cat ai202209_s10_03_00.py"
   ]
  },
  {
   "cell_type": "code",
   "execution_count": null,
   "id": "saved-myanmar",
   "metadata": {},
   "outputs": [],
   "source": [
    "# run this cell to execute the script #\n",
    "\n",
    "!python3.9 ai202209_s10_03_00.py"
   ]
  },
  {
   "cell_type": "markdown",
   "id": "compatible-committee",
   "metadata": {},
   "source": [
    "# Sample script 03-01 #"
   ]
  },
  {
   "cell_type": "code",
   "execution_count": null,
   "id": "placed-teacher",
   "metadata": {},
   "outputs": [],
   "source": [
    "# run this cell to display the source code of the script #\n",
    "\n",
    "!cat ai202209_s10_03_01.py"
   ]
  },
  {
   "cell_type": "code",
   "execution_count": null,
   "id": "affiliated-lottery",
   "metadata": {},
   "outputs": [],
   "source": [
    "# run this cell to execute the script #\n",
    "\n",
    "!python3.9 ai202209_s10_03_01.py"
   ]
  },
  {
   "cell_type": "markdown",
   "id": "plain-plaintiff",
   "metadata": {},
   "source": [
    "# Sample script 03-02 #"
   ]
  },
  {
   "cell_type": "code",
   "execution_count": null,
   "id": "iraqi-bolivia",
   "metadata": {},
   "outputs": [],
   "source": [
    "# run this cell to display the source code of the script #\n",
    "\n",
    "!cat ai202209_s10_03_02.py"
   ]
  },
  {
   "cell_type": "code",
   "execution_count": null,
   "id": "excessive-spring",
   "metadata": {},
   "outputs": [],
   "source": [
    "# run this cell to execute the script #\n",
    "\n",
    "!python3.9 ai202209_s10_03_02.py"
   ]
  },
  {
   "cell_type": "markdown",
   "id": "occupational-assets",
   "metadata": {},
   "source": [
    "# Sample script 03-03 #"
   ]
  },
  {
   "cell_type": "code",
   "execution_count": null,
   "id": "willing-moldova",
   "metadata": {},
   "outputs": [],
   "source": [
    "# run this cell to display the source code of the script #\n",
    "\n",
    "!cat ai202209_s10_03_03.py"
   ]
  },
  {
   "cell_type": "code",
   "execution_count": null,
   "id": "distinguished-israeli",
   "metadata": {},
   "outputs": [],
   "source": [
    "# run this cell to execute the script #\n",
    "\n",
    "!python3.9 ai202209_s10_03_03.py"
   ]
  },
  {
   "cell_type": "code",
   "execution_count": null,
   "id": "median-bernard",
   "metadata": {},
   "outputs": [],
   "source": [
    "# run this cell to display PNG image #\n",
    "\n",
    "import IPython.display\n",
    "\n",
    "IPython.display.Image ('ai202209_s10_03_03.png')"
   ]
  },
  {
   "cell_type": "markdown",
   "id": "d34add0f-79b5-48a0-9f52-f0654dd9b3f0",
   "metadata": {},
   "source": [
    "# end of the notebook #"
   ]
  },
  {
   "cell_type": "code",
   "execution_count": null,
   "id": "15b08d5b-c97e-45f6-816c-f9572aea8513",
   "metadata": {},
   "outputs": [],
   "source": []
  }
 ],
 "metadata": {
  "kernelspec": {
   "display_name": "Python 3",
   "language": "python",
   "name": "python3"
  },
  "language_info": {
   "codemirror_mode": {
    "name": "ipython",
    "version": 3
   },
   "file_extension": ".py",
   "mimetype": "text/x-python",
   "name": "python",
   "nbconvert_exporter": "python",
   "pygments_lexer": "ipython3",
   "version": "3.9.2"
  }
 },
 "nbformat": 4,
 "nbformat_minor": 5
}
