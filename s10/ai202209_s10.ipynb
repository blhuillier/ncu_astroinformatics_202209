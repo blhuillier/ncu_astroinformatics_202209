{
 "cells": [
  {
   "cell_type": "markdown",
   "id": "527bf7c3-828b-44e9-8d8d-2a9bc4732b76",
   "metadata": {},
   "source": [
    "# Session 10 of Astroinformatics (first semester, academic year 2022) #\n",
    "\n",
    "- About the course\n",
    "    - course name: \"Astroinformatics\"\n",
    "    - semester: from Sep/2022 to Jan/2023\n",
    "    - lecture hours: from 09:00 to 12:00\n",
    "    - classroom: S4-914\n",
    "    - instructor: Kinoshita Daisuke\n",
    "    - course web page: https://s3b.astro.ncu.edu.tw/ai_202209/\n",
    "    - GitHub repository: https://github.com/kinoshitadaisuke/ncu_astroinformatics_202209\n",
    "    - Binder web page: https://mybinder.org/v2/gh/kinoshitadaisuke/ncu_astroinformatics_202209/HEAD"
   ]
  },
  {
   "cell_type": "markdown",
   "id": "57ed5cc3-2d49-4c16-bd14-feb937647071",
   "metadata": {},
   "source": [
    "## About this notebook ##\n",
    "\n",
    "This is a notebook for the __session 10__ of \"Astroinformatics\" at first semester of academic year 2022.\n",
    "\n",
    "This notebook contains sample Python scripts only.\n",
    "\n",
    "The lecture note is provided at the course web page.\n",
    "\n",
    "To download the lecture note, visit following web page.\n",
    "\n",
    "https://s3b.astro.ncu.edu.tw/ai_202209/\n",
    "\n",
    "Note that the lecture note can be downloaded only from computers/mobile phones connected to the computer network of our university.\n",
    "\n",
    "Connect to Wi-Fi of our university or use VPN service of our university to download the lecture note.\n",
    "\n",
    "If you have any question about this notebook, contact to Kinoshita Daisuke."
   ]
  },
  {
   "cell_type": "markdown",
   "id": "d34add0f-79b5-48a0-9f52-f0654dd9b3f0",
   "metadata": {},
   "source": [
    "# end of the notebook #"
   ]
  },
  {
   "cell_type": "code",
   "execution_count": null,
   "id": "15b08d5b-c97e-45f6-816c-f9572aea8513",
   "metadata": {},
   "outputs": [],
   "source": []
  }
 ],
 "metadata": {
  "kernelspec": {
   "display_name": "Python 3 (ipykernel)",
   "language": "python",
   "name": "python3"
  },
  "language_info": {
   "codemirror_mode": {
    "name": "ipython",
    "version": 3
   },
   "file_extension": ".py",
   "mimetype": "text/x-python",
   "name": "python",
   "nbconvert_exporter": "python",
   "pygments_lexer": "ipython3",
   "version": "3.9.13"
  }
 },
 "nbformat": 4,
 "nbformat_minor": 5
}
