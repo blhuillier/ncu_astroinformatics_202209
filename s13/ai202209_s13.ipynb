{
 "cells": [
  {
   "cell_type": "markdown",
   "id": "527bf7c3-828b-44e9-8d8d-2a9bc4732b76",
   "metadata": {},
   "source": [
    "# Session 13 of Astroinformatics (first semester, academic year 2022) #\n",
    "\n",
    "- About the course\n",
    "    - course name: \"Astroinformatics\"\n",
    "    - semester: from Sep/2022 to Jan/2023\n",
    "    - lecture hours: from 09:00 to 12:00\n",
    "    - classroom: S4-914\n",
    "    - instructor: Kinoshita Daisuke\n",
    "    - course web page: https://s3b.astro.ncu.edu.tw/ai_202209/\n",
    "    - GitHub repository: https://github.com/kinoshitadaisuke/ncu_astroinformatics_202209\n",
    "    - Binder web page: https://mybinder.org/v2/gh/kinoshitadaisuke/ncu_astroinformatics_202209/HEAD"
   ]
  },
  {
   "cell_type": "markdown",
   "id": "57ed5cc3-2d49-4c16-bd14-feb937647071",
   "metadata": {},
   "source": [
    "## About this notebook ##\n",
    "\n",
    "This is a notebook for the __session 13__ of \"Astroinformatics\" at first semester of academic year 2022.\n",
    "\n",
    "This notebook contains sample Python scripts only.\n",
    "\n",
    "The lecture note is provided at the course web page.\n",
    "\n",
    "To download the lecture note, visit following web page.\n",
    "\n",
    "https://s3b.astro.ncu.edu.tw/ai_202209/\n",
    "\n",
    "Note that the lecture note can be downloaded only from computers/mobile phones connected to the computer network of our university.\n",
    "\n",
    "Connect to Wi-Fi of our university or use VPN service of our university to download the lecture note.\n",
    "\n",
    "If you have any question about this notebook, contact to Kinoshita Daisuke."
   ]
  },
  {
   "cell_type": "markdown",
   "id": "28ae843f-8481-4a6b-a643-25536ccb5fed",
   "metadata": {},
   "source": [
    "# Sample script 00-00 #"
   ]
  },
  {
   "cell_type": "code",
   "execution_count": null,
   "id": "5d8b745a-39fa-4c96-b6ed-ca16e5c33455",
   "metadata": {},
   "outputs": [],
   "source": [
    "# run this cell to show the source code #\n",
    "\n",
    "!cat ai202209_s13_00_00.py"
   ]
  },
  {
   "cell_type": "code",
   "execution_count": null,
   "id": "fac55a54-8be2-4e5e-8442-3c0362317efe",
   "metadata": {},
   "outputs": [],
   "source": [
    "# run this cell to execute the script #\n",
    "\n",
    "!python3.9 ai202209_s13_00_00.py"
   ]
  },
  {
   "cell_type": "markdown",
   "id": "46d7659c-67ad-4c13-a0eb-4aaa9d9b9832",
   "metadata": {},
   "source": [
    "# Sample script 00-01 #"
   ]
  },
  {
   "cell_type": "code",
   "execution_count": null,
   "id": "e6e221fb-7735-4a20-8dd9-b012d7f88562",
   "metadata": {},
   "outputs": [],
   "source": [
    "# run this cell to show the source code #\n",
    "\n",
    "!cat ai202209_s13_00_01.py"
   ]
  },
  {
   "cell_type": "code",
   "execution_count": null,
   "id": "d0f285cc-d31f-4b0c-84e7-82cf87f5210d",
   "metadata": {},
   "outputs": [],
   "source": [
    "# run this cell to execute the script #\n",
    "\n",
    "!python3.9 ai202209_s13_00_01.py numpy"
   ]
  },
  {
   "cell_type": "code",
   "execution_count": null,
   "id": "9c2b213b-7066-49dd-8362-4f09d394382b",
   "metadata": {},
   "outputs": [],
   "source": [
    "# run this cell to execute the script #\n",
    "\n",
    "!python3.9 ai202209_s13_00_01.py numpy scipy"
   ]
  },
  {
   "cell_type": "code",
   "execution_count": null,
   "id": "f4328330-fec5-46da-af66-11133f5d3cce",
   "metadata": {},
   "outputs": [],
   "source": [
    "# run this cell to execute the script #\n",
    "\n",
    "!python3.9 ai202209_s13_00_01.py numpy scipy matplotlib astropy astroquery photutils ginga"
   ]
  },
  {
   "cell_type": "markdown",
   "id": "d903ee70-1f1b-4403-826c-df647f9116bb",
   "metadata": {},
   "source": [
    "# Sample script 01-00 #"
   ]
  },
  {
   "cell_type": "code",
   "execution_count": null,
   "id": "b16bb6ce-0c5b-4f3c-90ae-1bb4f3cd199a",
   "metadata": {},
   "outputs": [],
   "source": [
    "# run this cell to show the source code #\n",
    "\n",
    "!cat ai202209_s13_01_00.py"
   ]
  },
  {
   "cell_type": "code",
   "execution_count": null,
   "id": "db1a3ed1-2efc-4936-9ae6-7079f06a5bd5",
   "metadata": {},
   "outputs": [],
   "source": [
    "# run this cell to execute the script #\n",
    "\n",
    "!python3.9 ai202209_s13_01_00.py"
   ]
  },
  {
   "cell_type": "markdown",
   "id": "30890761-a492-4d61-a7c3-08a4de64adc9",
   "metadata": {},
   "source": [
    "# Sample script 01-01 #"
   ]
  },
  {
   "cell_type": "code",
   "execution_count": null,
   "id": "962f8d39-539b-49c1-9816-5f5425766efb",
   "metadata": {},
   "outputs": [],
   "source": [
    "# run this cell to show the source code #\n",
    "\n",
    "!cat ai202209_s13_01_01.py"
   ]
  },
  {
   "cell_type": "code",
   "execution_count": null,
   "id": "53dac8e6-ae54-4589-ae01-1ccd9c7dd861",
   "metadata": {},
   "outputs": [],
   "source": [
    "# run this cell to execute the script #\n",
    "\n",
    "!python3.9 ai202209_s13_01_01.py"
   ]
  },
  {
   "cell_type": "markdown",
   "id": "b918989c-d3c0-41be-a67f-50591121c8a0",
   "metadata": {},
   "source": [
    "# Sample script 01-02 #"
   ]
  },
  {
   "cell_type": "code",
   "execution_count": null,
   "id": "4f98be85-a94b-4935-b964-c337a90cfcbe",
   "metadata": {},
   "outputs": [],
   "source": [
    "# run this cell to show the source code #\n",
    "\n",
    "!cat ai202209_s13_01_02.py"
   ]
  },
  {
   "cell_type": "code",
   "execution_count": null,
   "id": "030c1d31-7991-4a0f-9010-64af9a9fd320",
   "metadata": {},
   "outputs": [],
   "source": [
    "# run this cell to execute the script #\n",
    "\n",
    "!python3.9 ai202209_s13_01_02.py"
   ]
  },
  {
   "cell_type": "markdown",
   "id": "24f72e43-6f1d-4361-9b49-0acab5153761",
   "metadata": {},
   "source": [
    "# Sample script 01-03 #"
   ]
  },
  {
   "cell_type": "code",
   "execution_count": null,
   "id": "1059a92c-6631-46dc-9d53-98d60683e64e",
   "metadata": {},
   "outputs": [],
   "source": [
    "# run this cell to show the source code #\n",
    "\n",
    "!cat ai202209_s13_01_03.py"
   ]
  },
  {
   "cell_type": "code",
   "execution_count": null,
   "id": "630f43c4-8278-4f6f-8ed1-b7e6408b2178",
   "metadata": {},
   "outputs": [],
   "source": [
    "# run this cell to execute the script #\n",
    "\n",
    "!python3.9 ai202209_s13_01_03.py"
   ]
  },
  {
   "cell_type": "markdown",
   "id": "b73c96d8-c944-45ee-ac04-bdc82b85e7a9",
   "metadata": {},
   "source": [
    "# Sample script 01-04 #"
   ]
  },
  {
   "cell_type": "code",
   "execution_count": null,
   "id": "d526fcc1-ca4e-471e-a4c3-10974dbcb6e6",
   "metadata": {},
   "outputs": [],
   "source": [
    "# run this cell to show the source code #\n",
    "\n",
    "!cat ai202209_s13_01_04.py"
   ]
  },
  {
   "cell_type": "code",
   "execution_count": null,
   "id": "f536c6f3-94af-48ae-9429-57214d69e4a8",
   "metadata": {},
   "outputs": [],
   "source": [
    "# run this cell to execute the script #\n",
    "\n",
    "!python3.9 ai202209_s13_01_04.py"
   ]
  },
  {
   "cell_type": "markdown",
   "id": "07ff5ec1-ea0f-4a5f-95fb-98585ff2039c",
   "metadata": {},
   "source": [
    "# Sample script 01-05 #"
   ]
  },
  {
   "cell_type": "code",
   "execution_count": null,
   "id": "bcc3ad04-47ba-4c8a-ac1e-706188078408",
   "metadata": {},
   "outputs": [],
   "source": [
    "# run this cell to show the source code #\n",
    "\n",
    "!cat ai202209_s13_01_05.py"
   ]
  },
  {
   "cell_type": "code",
   "execution_count": null,
   "id": "fc0215ab-fdd5-4828-8fe1-31053c48268f",
   "metadata": {},
   "outputs": [],
   "source": [
    "# run this cell to execute the script #\n",
    "\n",
    "!python3.9 ai202209_s13_01_05.py"
   ]
  },
  {
   "cell_type": "markdown",
   "id": "bda399c7-0029-4b53-9682-dd0d8f2dff28",
   "metadata": {},
   "source": [
    "# Sample script 01-06 #"
   ]
  },
  {
   "cell_type": "code",
   "execution_count": null,
   "id": "fc7edc32-d551-4745-80e9-bd1b416922fe",
   "metadata": {},
   "outputs": [],
   "source": [
    "# run this cell to show the source code #\n",
    "\n",
    "!cat ai202209_s13_01_06.py"
   ]
  },
  {
   "cell_type": "code",
   "execution_count": null,
   "id": "215087e1-a257-4b23-95fb-5de7d9f08b88",
   "metadata": {},
   "outputs": [],
   "source": [
    "# run this cell to execute the script #\n",
    "\n",
    "!python3.9 ai202209_s13_01_06.py"
   ]
  },
  {
   "cell_type": "markdown",
   "id": "05b3f007-5227-4fc5-9784-6a63b015e579",
   "metadata": {},
   "source": [
    "# Sample script 01-07 #"
   ]
  },
  {
   "cell_type": "code",
   "execution_count": null,
   "id": "7be4bd39-99d7-435d-a901-2d1c867a9088",
   "metadata": {},
   "outputs": [],
   "source": [
    "# run this cell to show the source code #\n",
    "\n",
    "!cat ai202209_s13_01_07.py"
   ]
  },
  {
   "cell_type": "code",
   "execution_count": null,
   "id": "079be758-5766-433f-a25a-bd92211d5f2a",
   "metadata": {},
   "outputs": [],
   "source": [
    "# run this cell to execute the script #\n",
    "\n",
    "!python3.9 ai202209_s13_01_07.py"
   ]
  },
  {
   "cell_type": "markdown",
   "id": "dc336150-f224-47d3-b772-fee22b0d869c",
   "metadata": {},
   "source": [
    "# Sample script 01-08 #"
   ]
  },
  {
   "cell_type": "code",
   "execution_count": null,
   "id": "1534ca10-0485-4ffe-8927-17e1c0fe622e",
   "metadata": {},
   "outputs": [],
   "source": [
    "# run this cell to show the source code #\n",
    "\n",
    "!cat ai202209_s13_01_08.py"
   ]
  },
  {
   "cell_type": "code",
   "execution_count": null,
   "id": "287910a4-35c6-448f-81af-a1d7a5c7cf4f",
   "metadata": {},
   "outputs": [],
   "source": [
    "# run this cell to execute the script #\n",
    "\n",
    "!python3.9 ai202209_s13_01_08.py"
   ]
  },
  {
   "cell_type": "markdown",
   "id": "3128bcbd-ccbf-45e6-92ea-b4a7a932558f",
   "metadata": {},
   "source": [
    "# Sample script 01-09 #"
   ]
  },
  {
   "cell_type": "code",
   "execution_count": null,
   "id": "60797148-d493-4f6c-9a59-6cd759210464",
   "metadata": {},
   "outputs": [],
   "source": [
    "# run this cell to show the source code #\n",
    "\n",
    "!cat ai202209_s13_01_09.py"
   ]
  },
  {
   "cell_type": "code",
   "execution_count": null,
   "id": "cc062df1-b3c2-4a15-86bd-20affb372316",
   "metadata": {},
   "outputs": [],
   "source": [
    "# run this cell to execute the script #\n",
    "\n",
    "!python3.9 ai202209_s13_01_09.py"
   ]
  },
  {
   "cell_type": "markdown",
   "id": "07a65cd4-e037-43cb-a146-abe5d82b4513",
   "metadata": {},
   "source": [
    "# Sample script 01-10 #"
   ]
  },
  {
   "cell_type": "code",
   "execution_count": null,
   "id": "a4acaa22-32ff-4c13-b635-d5af32e48482",
   "metadata": {},
   "outputs": [],
   "source": [
    "# run this cell to show the source code #\n",
    "\n",
    "!cat ai202209_s13_01_10.py"
   ]
  },
  {
   "cell_type": "code",
   "execution_count": null,
   "id": "e3249f89-a132-4f11-95d6-0f08853296c4",
   "metadata": {},
   "outputs": [],
   "source": [
    "# run this cell to execute the script #\n",
    "\n",
    "!python3.9 ai202209_s13_01_10.py"
   ]
  },
  {
   "cell_type": "markdown",
   "id": "02906c0a-717c-4951-ae9b-ac6714fd8be9",
   "metadata": {},
   "source": [
    "# Sample script 01-11 #"
   ]
  },
  {
   "cell_type": "code",
   "execution_count": null,
   "id": "d70a93ad-370f-40cc-9753-1969f7b750c8",
   "metadata": {},
   "outputs": [],
   "source": [
    "# run this cell to show the source code #\n",
    "\n",
    "!cat ai202209_s13_01_11.py"
   ]
  },
  {
   "cell_type": "code",
   "execution_count": null,
   "id": "29d05243-f0f6-4a38-b061-b4bc42f03324",
   "metadata": {},
   "outputs": [],
   "source": [
    "# run this cell to execute the script #\n",
    "\n",
    "!python3.9 ai202209_s13_01_11.py"
   ]
  },
  {
   "cell_type": "markdown",
   "id": "9e03c6d0-d410-409d-874f-f2d0bc8e49c2",
   "metadata": {},
   "source": [
    "# Sample script 01-12 #"
   ]
  },
  {
   "cell_type": "code",
   "execution_count": null,
   "id": "e0035351-8c7b-47df-870e-6c316c7b3f79",
   "metadata": {},
   "outputs": [],
   "source": [
    "# run this cell to show the source code #\n",
    "\n",
    "!cat ai202209_s13_01_12.py"
   ]
  },
  {
   "cell_type": "code",
   "execution_count": null,
   "id": "507f1869-d47f-4ca6-9230-49b529168601",
   "metadata": {},
   "outputs": [],
   "source": [
    "# run this cell to execute the script #\n",
    "\n",
    "!python3.9 ai202209_s13_01_12.py -h"
   ]
  },
  {
   "cell_type": "code",
   "execution_count": null,
   "id": "fa03cbc8-0c67-418c-bc5a-20e877773a94",
   "metadata": {},
   "outputs": [],
   "source": [
    "# run this cell to execute the script #\n",
    "\n",
    "!python3.9 ai202209_s13_01_12.py -i Mars -l D35 -s 2022-12-12T12:00:00 -e 2022-12-13T12:00:00 -d 1h"
   ]
  },
  {
   "cell_type": "code",
   "execution_count": null,
   "id": "9b031f57-e445-48cd-8f0e-8292fd051129",
   "metadata": {},
   "outputs": [],
   "source": [
    "# run this cell to execute the script #\n",
    "\n",
    "!python3.9 ai202209_s13_01_12.py -i 499 -l D35 -s 2022-12-12T12:00:00 -e 2022-12-13T12:00:00 -d 1h"
   ]
  },
  {
   "cell_type": "code",
   "execution_count": null,
   "id": "2036ae0d-7245-4b40-a506-7a4a4a1726fe",
   "metadata": {},
   "outputs": [],
   "source": [
    "# run this cell to execute the script #\n",
    "\n",
    "!python3.9 ai202209_s13_01_12.py -t smallbody -i Pallas -l D35 -s 2022-12-12T12:00:00 -e 2022-12-13T12:00:00 -d 1h"
   ]
  },
  {
   "cell_type": "code",
   "execution_count": null,
   "id": "bd26b088-ad61-462a-969d-b61bd3a28f8e",
   "metadata": {},
   "outputs": [],
   "source": [
    "# run this cell to execute the script #\n",
    "\n",
    "!python3.9 ai202209_s13_01_12.py -t smallbody -i \"NAME=Halley; CAP;\" -l D35 -s 2022-12-12T12:00:00 -e 2022-12-13T12:00:00 -d 1h"
   ]
  },
  {
   "cell_type": "markdown",
   "id": "e5cf0a9a-0ead-4804-84a0-df3d907258f0",
   "metadata": {},
   "source": [
    "# Sample script 01-13 #"
   ]
  },
  {
   "cell_type": "code",
   "execution_count": null,
   "id": "3f6703e7-8ae2-4e45-b4a5-3389861f3f29",
   "metadata": {},
   "outputs": [],
   "source": [
    "# run this cell to show the source code #\n",
    "\n",
    "!cat ai202209_s13_01_13.py"
   ]
  },
  {
   "cell_type": "code",
   "execution_count": null,
   "id": "1149a952-ed9d-4b92-9ec3-0820be93bd7b",
   "metadata": {},
   "outputs": [],
   "source": [
    "# run this cell to execute the script #\n",
    "\n",
    "!python3.9 ai202209_s13_01_13.py -h"
   ]
  },
  {
   "cell_type": "code",
   "execution_count": null,
   "id": "184a5101-7a05-4aea-810e-f2872037951e",
   "metadata": {},
   "outputs": [],
   "source": [
    "# run this cell to execute the script #\n",
    "\n",
    "!python3.9 ai202209_s13_01_13.py -i Flora -l D35 -s 2010-01-01T12:00:00 -e 2023-01-01T12:00:00 -d 1y"
   ]
  },
  {
   "cell_type": "markdown",
   "id": "bded6e7b-6fca-4c44-aa0c-d7251b49ee3e",
   "metadata": {},
   "source": [
    "# Sample script 01-14 #"
   ]
  },
  {
   "cell_type": "code",
   "execution_count": null,
   "id": "6a591340-41ec-4689-aeeb-4e92ee1f3794",
   "metadata": {},
   "outputs": [],
   "source": [
    "# run this cell to show the source code #\n",
    "\n",
    "!cat ai202209_s13_01_14.py"
   ]
  },
  {
   "cell_type": "code",
   "execution_count": null,
   "id": "355475ed-228f-46e3-b5d1-7a331789dc9a",
   "metadata": {},
   "outputs": [],
   "source": [
    "# run this cell to execute the script #\n",
    "\n",
    "!python3.9 ai202209_s13_01_14.py -h"
   ]
  },
  {
   "cell_type": "code",
   "execution_count": null,
   "id": "c9f53e87-4534-4713-829c-4f8007781980",
   "metadata": {},
   "outputs": [],
   "source": [
    "# run this cell to execute the script #\n",
    "\n",
    "!python3.9 ai202209_s13_01_14.py -i Flora -l D35 -s 2010-01-01T12:00:00 -e 2023-01-01T12:00:00 -d 1y"
   ]
  },
  {
   "cell_type": "markdown",
   "id": "c07b555b-29c1-4c89-b7c1-939c0806d959",
   "metadata": {},
   "source": [
    "# Sample script 01-15 #"
   ]
  },
  {
   "cell_type": "code",
   "execution_count": null,
   "id": "77b9096c-e945-47e8-a38c-7ae076816166",
   "metadata": {},
   "outputs": [],
   "source": [
    "# run this cell to show the source code #\n",
    "\n",
    "!cat ai202209_s13_01_15.py"
   ]
  },
  {
   "cell_type": "code",
   "execution_count": null,
   "id": "a667aefb-b946-49a6-8138-b4ffce92fefe",
   "metadata": {},
   "outputs": [],
   "source": [
    "# run this cell to execute the script #\n",
    "\n",
    "!python3.9 ai202209_s13_01_15.py -h"
   ]
  },
  {
   "cell_type": "code",
   "execution_count": null,
   "id": "06a6748f-9a70-475d-91b3-197f45f2dbc7",
   "metadata": {},
   "outputs": [],
   "source": [
    "# run this cell to execute the script #\n",
    "\n",
    "!python3.9 ai202209_s13_01_15.py -i Flora -l D35 -s 2010-01-01T12:00:00 -e 2023-01-01T12:00:00 -d 1y"
   ]
  },
  {
   "cell_type": "markdown",
   "id": "4b6229da-915d-4423-98ba-0fd0a08b6747",
   "metadata": {},
   "source": [
    "# Sample script 01-16 #"
   ]
  },
  {
   "cell_type": "code",
   "execution_count": null,
   "id": "78c4ba4e-f123-4032-9f84-0dfab29dd85a",
   "metadata": {},
   "outputs": [],
   "source": [
    "# run this cell to show the source code #\n",
    "\n",
    "!cat ai202209_s13_01_16.py"
   ]
  },
  {
   "cell_type": "code",
   "execution_count": null,
   "id": "d8f34e69-b4eb-4995-a9ff-5fd5adf38ebc",
   "metadata": {},
   "outputs": [],
   "source": [
    "# run this cell to execute the script #\n",
    "\n",
    "!python3.9 ai202209_s13_01_16.py -h"
   ]
  },
  {
   "cell_type": "code",
   "execution_count": null,
   "id": "a1e36bed-00e7-4270-95c2-7a4435fdab56",
   "metadata": {},
   "outputs": [],
   "source": [
    "# run this cell to execute the script #\n",
    "\n",
    "!python3.9 ai202209_s13_01_16.py -t smallbody -i Pluto -l D35 -s 1970-01-01T12:00:00 -e 2020-01-01T12:00:00 -d 5y"
   ]
  },
  {
   "cell_type": "markdown",
   "id": "498dc564-4b54-4411-b279-ee36e1a5b6ae",
   "metadata": {},
   "source": [
    "# Sample script 01-17 #"
   ]
  },
  {
   "cell_type": "code",
   "execution_count": null,
   "id": "73f3c9d9-5366-4ecb-abb5-d5047ae69e46",
   "metadata": {},
   "outputs": [],
   "source": [
    "# run this cell to show the source code #\n",
    "\n",
    "!cat ai202209_s13_01_17.py"
   ]
  },
  {
   "cell_type": "code",
   "execution_count": null,
   "id": "fe674f39-cd74-4fa2-904d-d6138f0ccebf",
   "metadata": {},
   "outputs": [],
   "source": [
    "# run this cell to execute the script #\n",
    "\n",
    "!python3.9 ai202209_s13_01_17.py -h"
   ]
  },
  {
   "cell_type": "code",
   "execution_count": null,
   "id": "604abbdd-2558-4674-a0dc-c96c3c0d7e2e",
   "metadata": {},
   "outputs": [],
   "source": [
    "# run this cell to execute the script #\n",
    "\n",
    "!python3.9 ai202209_s13_01_17.py -t smallbody -i Pluto -l D35 -s 1970-01-01T12:00:00 -e 2020-01-01T12:00:00 -d 5y"
   ]
  },
  {
   "cell_type": "markdown",
   "id": "d4319a68-d0b4-4e10-9e49-762a2ea82b4e",
   "metadata": {},
   "source": [
    "# Sample script 01-18 #"
   ]
  },
  {
   "cell_type": "code",
   "execution_count": null,
   "id": "61857993-db80-4d56-a6d3-af0dfbac1e22",
   "metadata": {},
   "outputs": [],
   "source": [
    "# run this cell to show the source code #\n",
    "\n",
    "!cat ai202209_s13_01_18.py"
   ]
  },
  {
   "cell_type": "code",
   "execution_count": null,
   "id": "ef2456df-86ee-4234-96a7-8ff73572dcb8",
   "metadata": {},
   "outputs": [],
   "source": [
    "# run this cell to execute the script #\n",
    "\n",
    "!python3.9 ai202209_s13_01_18.py -h"
   ]
  },
  {
   "cell_type": "code",
   "execution_count": null,
   "id": "bae7130e-afc5-43a1-a6de-d75156026148",
   "metadata": {},
   "outputs": [],
   "source": [
    "# run this cell to execute the script #\n",
    "\n",
    "!python3.9 ai202209_s13_01_18.py -t smallbody -i Pluto -l D35 -s 1970-01-01T12:00:00 -e 2020-01-01T12:00:00 -d 5y"
   ]
  },
  {
   "cell_type": "markdown",
   "id": "8f493a79-78c1-4729-be5c-8dbc2a6d7ed8",
   "metadata": {},
   "source": [
    "# Sample script 02-00 #"
   ]
  },
  {
   "cell_type": "code",
   "execution_count": null,
   "id": "7a0345da-dc42-4628-94bc-5baa866f7e34",
   "metadata": {},
   "outputs": [],
   "source": [
    "# run this cell to show the source code #\n",
    "\n",
    "!cat ai202209_s13_02_00.py"
   ]
  },
  {
   "cell_type": "code",
   "execution_count": null,
   "id": "0e7461ef-af00-4888-93d7-3a6b33b19c55",
   "metadata": {},
   "outputs": [],
   "source": [
    "# run this cell to execute the script #\n",
    "\n",
    "!python3.9 ai202209_s13_02_00.py"
   ]
  },
  {
   "cell_type": "markdown",
   "id": "706edc0f-73b3-4d2f-9721-4f7f0e290f31",
   "metadata": {},
   "source": [
    "# Sample script 02-01 #"
   ]
  },
  {
   "cell_type": "code",
   "execution_count": null,
   "id": "adfdeac7-cafd-40bc-bd1d-6de5a3313a09",
   "metadata": {},
   "outputs": [],
   "source": [
    "# run this cell to show the source code #\n",
    "\n",
    "!cat ai202209_s13_02_01.py"
   ]
  },
  {
   "cell_type": "code",
   "execution_count": null,
   "id": "fe74b619-e946-46a3-9474-b8af335e13f8",
   "metadata": {},
   "outputs": [],
   "source": [
    "# run this cell to execute the script #\n",
    "\n",
    "!python3.9 ai202209_s13_02_01.py"
   ]
  },
  {
   "cell_type": "code",
   "execution_count": null,
   "id": "3e0a8641-448a-4040-908f-c6564bfa62ec",
   "metadata": {},
   "outputs": [],
   "source": [
    "# run this cell to display PNG image #\n",
    "\n",
    "import IPython.display\n",
    "\n",
    "IPython.display.Image ('ai202209_s13_02_01.png')"
   ]
  },
  {
   "cell_type": "markdown",
   "id": "2ca7539b-08e8-40c3-9569-b5b2e2b1034a",
   "metadata": {},
   "source": [
    "# Sample script 02-02 #"
   ]
  },
  {
   "cell_type": "code",
   "execution_count": null,
   "id": "ab029cef-e78e-46d4-8b49-20a459672194",
   "metadata": {},
   "outputs": [],
   "source": [
    "# run this cell to show the source code #\n",
    "\n",
    "!cat ai202209_s13_02_02.py"
   ]
  },
  {
   "cell_type": "code",
   "execution_count": null,
   "id": "c44ee2b2-cf96-4b54-84b0-ce5fbe43c747",
   "metadata": {},
   "outputs": [],
   "source": [
    "# run this cell to execute the script #\n",
    "\n",
    "!python3.9 ai202209_s13_02_02.py"
   ]
  },
  {
   "cell_type": "markdown",
   "id": "f4afc928-38df-4215-8588-ec71ea49dfa9",
   "metadata": {},
   "source": [
    "# Sample script 02-03 #"
   ]
  },
  {
   "cell_type": "code",
   "execution_count": null,
   "id": "2e299b66-f0e6-4c4e-bf54-5636ffb5335c",
   "metadata": {},
   "outputs": [],
   "source": [
    "# run this cell to show the source code #\n",
    "\n",
    "!cat ai202209_s13_02_03.py"
   ]
  },
  {
   "cell_type": "code",
   "execution_count": null,
   "id": "070bbbdb-2d66-4176-90d5-20b0bf0a3b1d",
   "metadata": {},
   "outputs": [],
   "source": [
    "# run this cell to execute the script #\n",
    "\n",
    "!python3.9 ai202209_s13_02_03.py"
   ]
  },
  {
   "cell_type": "code",
   "execution_count": null,
   "id": "1b70e22a-a48f-4097-bc03-babe92940260",
   "metadata": {},
   "outputs": [],
   "source": [
    "# run this cell to display PNG image #\n",
    "\n",
    "import IPython.display\n",
    "\n",
    "IPython.display.Image ('ai202209_s13_02_03.png')"
   ]
  },
  {
   "cell_type": "markdown",
   "id": "f1025163-f7ff-4bdf-91c4-17b518a95cec",
   "metadata": {},
   "source": [
    "# Sample script 02-04 #"
   ]
  },
  {
   "cell_type": "code",
   "execution_count": null,
   "id": "7470c965-ddb3-40d7-bf41-f04b2b6c5a18",
   "metadata": {},
   "outputs": [],
   "source": [
    "# run this cell to show the source code #\n",
    "\n",
    "!cat ai202209_s13_02_04.py"
   ]
  },
  {
   "cell_type": "code",
   "execution_count": null,
   "id": "c1f777f0-4932-4dd9-b31e-7dcf3267a2f3",
   "metadata": {},
   "outputs": [],
   "source": [
    "# run this cell to execute the script #\n",
    "\n",
    "!python3.9 ai202209_s13_02_04.py"
   ]
  },
  {
   "cell_type": "code",
   "execution_count": null,
   "id": "556c5173-995e-4fab-bb16-aae2b78168b6",
   "metadata": {},
   "outputs": [],
   "source": [
    "# run this cell to display PNG image #\n",
    "\n",
    "import IPython.display\n",
    "\n",
    "IPython.display.Image ('ai202209_s13_02_04.png')"
   ]
  },
  {
   "cell_type": "markdown",
   "id": "aad7daf9-ab26-475e-887f-656da9af7f14",
   "metadata": {},
   "source": [
    "# Sample script 02-05 #"
   ]
  },
  {
   "cell_type": "code",
   "execution_count": null,
   "id": "d944fce6-43c5-44a1-b612-4fca8b7f13be",
   "metadata": {},
   "outputs": [],
   "source": [
    "# run this cell to show the source code #\n",
    "\n",
    "!cat ai202209_s13_02_05.py"
   ]
  },
  {
   "cell_type": "code",
   "execution_count": null,
   "id": "dd057b7d-c2ec-4bef-a478-7c4562380ace",
   "metadata": {},
   "outputs": [],
   "source": [
    "# run this cell to execute the script #\n",
    "\n",
    "!python3.9 ai202209_s13_02_05.py"
   ]
  },
  {
   "cell_type": "code",
   "execution_count": null,
   "id": "26b1d538-0708-45f3-8ae8-9a06d3a8ca25",
   "metadata": {},
   "outputs": [],
   "source": [
    "# run this cell to display PNG image #\n",
    "\n",
    "import IPython.display\n",
    "\n",
    "IPython.display.Image ('ai202209_s13_02_05.png')"
   ]
  },
  {
   "cell_type": "markdown",
   "id": "96127b1d-7fef-4ae1-a623-bbfd5259171a",
   "metadata": {},
   "source": [
    "# Sample script 02-06 #"
   ]
  },
  {
   "cell_type": "code",
   "execution_count": null,
   "id": "32a25738-3a8f-4468-bf44-36f7aaf6419a",
   "metadata": {},
   "outputs": [],
   "source": [
    "# run this cell to show the source code #\n",
    "\n",
    "!cat ai202209_s13_02_06.py"
   ]
  },
  {
   "cell_type": "code",
   "execution_count": null,
   "id": "56fbb06e-ab8f-4cac-ac83-3bb6f08d6f9a",
   "metadata": {},
   "outputs": [],
   "source": [
    "# run this cell to execute the script #\n",
    "\n",
    "!python3.9 ai202209_s13_02_06.py"
   ]
  },
  {
   "cell_type": "code",
   "execution_count": null,
   "id": "b3c41f97-0e2c-4e3b-b820-7a5f4d6b78d9",
   "metadata": {},
   "outputs": [],
   "source": [
    "# run this cell to display PNG image #\n",
    "\n",
    "import IPython.display\n",
    "\n",
    "IPython.display.Image ('ai202209_s13_02_06.png')"
   ]
  },
  {
   "cell_type": "markdown",
   "id": "ca03c779-1a65-493f-a890-e5cc853bf6f0",
   "metadata": {},
   "source": [
    "# Sample script 03-00 #"
   ]
  },
  {
   "cell_type": "code",
   "execution_count": null,
   "id": "1f290807-9546-4994-951b-4baf7d2913b6",
   "metadata": {},
   "outputs": [],
   "source": [
    "# run this cell to show the source code #\n",
    "\n",
    "!cat ai202209_s13_03_00.py"
   ]
  },
  {
   "cell_type": "code",
   "execution_count": null,
   "id": "5f381e13-9c3d-4398-a50f-a3695e6d078a",
   "metadata": {},
   "outputs": [],
   "source": [
    "# run this cell to execute the script #\n",
    "\n",
    "!python3.9 ai202209_s13_03_00.py"
   ]
  },
  {
   "cell_type": "markdown",
   "id": "6dda1400-a9c1-4ff8-9368-7393da333676",
   "metadata": {},
   "source": [
    "# Sample script 03-01 #"
   ]
  },
  {
   "cell_type": "code",
   "execution_count": null,
   "id": "ea9198fc-c601-4081-b678-f4a280e5fa31",
   "metadata": {},
   "outputs": [],
   "source": [
    "# run this cell to show the source code #\n",
    "\n",
    "!cat ai202209_s13_03_01.py"
   ]
  },
  {
   "cell_type": "code",
   "execution_count": null,
   "id": "66bc2b91-a23f-47de-a166-61b7d8760409",
   "metadata": {},
   "outputs": [],
   "source": [
    "# run this cell to execute the script #\n",
    "\n",
    "!python3.9 ai202209_s13_03_01.py"
   ]
  },
  {
   "cell_type": "markdown",
   "id": "07683aa4-cd77-4a76-b403-f3a06c252af4",
   "metadata": {},
   "source": [
    "# Sample script 03-02 #"
   ]
  },
  {
   "cell_type": "code",
   "execution_count": null,
   "id": "7047d528-ff81-4ba5-9f52-3edf32456e33",
   "metadata": {},
   "outputs": [],
   "source": [
    "# run this cell to show the source code #\n",
    "\n",
    "!cat ai202209_s13_03_02.py"
   ]
  },
  {
   "cell_type": "code",
   "execution_count": null,
   "id": "5d06e90c-44de-4ed9-9915-5951c80e0e3e",
   "metadata": {},
   "outputs": [],
   "source": [
    "# run this cell to execute the script #\n",
    "\n",
    "!python3.9 ai202209_s13_03_02.py > simple0.data"
   ]
  },
  {
   "cell_type": "code",
   "execution_count": null,
   "id": "6a5a74ac-db4a-476a-acf9-b7900d6bf4ef",
   "metadata": {},
   "outputs": [],
   "source": [
    "!head simple0.data"
   ]
  },
  {
   "cell_type": "markdown",
   "id": "1d9f00e5-5e20-4a3e-ab94-8fa056aa0510",
   "metadata": {},
   "source": [
    "# Sample script 03-03 #"
   ]
  },
  {
   "cell_type": "code",
   "execution_count": null,
   "id": "2f09a679-0eed-4f5a-9e4b-2e3de8a0405f",
   "metadata": {},
   "outputs": [],
   "source": [
    "# run this cell to show the source code #\n",
    "\n",
    "!cat ai202209_s13_03_03.py"
   ]
  },
  {
   "cell_type": "code",
   "execution_count": null,
   "id": "a3eb160f-f9f7-4e92-a8ac-21d7de4ab607",
   "metadata": {},
   "outputs": [],
   "source": [
    "# run this cell to execute the script #\n",
    "\n",
    "!python3.9 ai202209_s13_03_03.py"
   ]
  },
  {
   "cell_type": "code",
   "execution_count": null,
   "id": "660942e7-f499-4282-bd89-8807337381c8",
   "metadata": {},
   "outputs": [],
   "source": [
    "# run this cell to display PNG image #\n",
    "\n",
    "import IPython.display\n",
    "\n",
    "IPython.display.Image ('simple0_00000000.png')"
   ]
  },
  {
   "cell_type": "code",
   "execution_count": null,
   "id": "a53dc010-9911-47b6-82cd-c255d3f965a1",
   "metadata": {},
   "outputs": [],
   "source": [
    "# run this cell to make a movie #\n",
    "\n",
    "!ffmpeg -f image2 -start_number 0 -framerate 30 -i simple0_%08d.png -an -vcodec libx264 -pix_fmt yuv420p -threads 6 simple0.mp4"
   ]
  },
  {
   "cell_type": "code",
   "execution_count": null,
   "id": "a43d1c4e-63ae-4b8d-9a26-249e8f292f1e",
   "metadata": {},
   "outputs": [],
   "source": [
    "# run this cell to display video file #\n",
    "\n",
    "import IPython.display\n",
    "\n",
    "IPython.display.Video ('simple0.mp4')"
   ]
  },
  {
   "cell_type": "markdown",
   "id": "0ec80d7b-e1f3-41af-930b-b427f36d2b31",
   "metadata": {},
   "source": [
    "# Sample script 04-00 #"
   ]
  },
  {
   "cell_type": "code",
   "execution_count": null,
   "id": "7caf4247-72ec-4b98-a3a4-c8ec80d5ed06",
   "metadata": {},
   "outputs": [],
   "source": [
    "# run this cell to show the source code #\n",
    "\n",
    "!cat ai202209_s13_04_00.py"
   ]
  },
  {
   "cell_type": "code",
   "execution_count": null,
   "id": "eedbbd28-61f7-4fe4-940f-6e5008a85794",
   "metadata": {},
   "outputs": [],
   "source": [
    "# run this cell to execute the script #\n",
    "\n",
    "!python3.9 ai202209_s13_04_00.py"
   ]
  },
  {
   "cell_type": "markdown",
   "id": "df8e6c22-845d-4e84-aca5-14aa85d7b68d",
   "metadata": {},
   "source": [
    "# Sample script 04-01 #"
   ]
  },
  {
   "cell_type": "code",
   "execution_count": null,
   "id": "85538079-d1b0-4793-b718-74538a7c0406",
   "metadata": {},
   "outputs": [],
   "source": [
    "# run this cell to show the source code #\n",
    "\n",
    "!cat ai202209_s13_04_01.py"
   ]
  },
  {
   "cell_type": "code",
   "execution_count": null,
   "id": "300a9bc6-efac-4daf-be04-8ad2a1c07e63",
   "metadata": {},
   "outputs": [],
   "source": [
    "# run this cell to execute the script #\n",
    "\n",
    "!python3.9 ai202209_s13_04_01.py > simple1.data"
   ]
  },
  {
   "cell_type": "code",
   "execution_count": null,
   "id": "6168b01d-48bb-42f2-9e73-0f7efde078e7",
   "metadata": {},
   "outputs": [],
   "source": [
    "!head simple1.data"
   ]
  },
  {
   "cell_type": "markdown",
   "id": "f1be0ddd-acdc-431f-ab23-72e8eb442abe",
   "metadata": {},
   "source": [
    "# Sample script 04-02 #"
   ]
  },
  {
   "cell_type": "code",
   "execution_count": null,
   "id": "3b755739-b206-42c8-ad2f-009cc03a22a7",
   "metadata": {},
   "outputs": [],
   "source": [
    "# run this cell to show the source code #\n",
    "\n",
    "!cat ai202209_s13_04_02.py"
   ]
  },
  {
   "cell_type": "code",
   "execution_count": null,
   "id": "07758462-3aa0-47e0-8dcd-2ea2ee2e098d",
   "metadata": {},
   "outputs": [],
   "source": [
    "# run this cell to execute the script #\n",
    "\n",
    "!python3.9 ai202209_s13_04_02.py"
   ]
  },
  {
   "cell_type": "code",
   "execution_count": null,
   "id": "18c41040-15d9-41d6-90e3-1c2df19bfd8d",
   "metadata": {},
   "outputs": [],
   "source": [
    "# run this cell to display PNG image #\n",
    "\n",
    "import IPython.display\n",
    "\n",
    "IPython.display.Image ('simple1_00000000.png')"
   ]
  },
  {
   "cell_type": "code",
   "execution_count": null,
   "id": "c8fb4b16-2ca0-4e9b-a29e-9594ae8574e9",
   "metadata": {},
   "outputs": [],
   "source": [
    "# run this cell to make a movie #\n",
    "\n",
    "!ffmpeg -f image2 -start_number 0 -framerate 30 -i simple1_%08d.png -an -vcodec libx264 -pix_fmt yuv420p -threads 6 simple1.mp4"
   ]
  },
  {
   "cell_type": "code",
   "execution_count": null,
   "id": "7c5ac9fb-5187-4ab0-8cb4-1e6d34450bc5",
   "metadata": {},
   "outputs": [],
   "source": [
    "# run this cell to display video file #\n",
    "\n",
    "import IPython.display\n",
    "\n",
    "IPython.display.Video ('simple1.mp4')"
   ]
  },
  {
   "cell_type": "markdown",
   "id": "3526653b-da9c-41da-a4f5-592c00e931e4",
   "metadata": {},
   "source": [
    "# Sample script 05-00 #"
   ]
  },
  {
   "cell_type": "code",
   "execution_count": null,
   "id": "16314c94-5b6a-4916-9492-a11146ad84ec",
   "metadata": {},
   "outputs": [],
   "source": [
    "# run this cell to show the source code #\n",
    "\n",
    "!cat ai202209_s13_05_00.py"
   ]
  },
  {
   "cell_type": "code",
   "execution_count": null,
   "id": "5b234277-a9c5-4ae5-80e0-9d82ffafc934",
   "metadata": {},
   "outputs": [],
   "source": [
    "# run this cell to execute the script #\n",
    "\n",
    "!python3.9 ai202209_s13_05_00.py"
   ]
  },
  {
   "cell_type": "markdown",
   "id": "1ff5235f-99f9-4ada-9d3f-8d5c22958a87",
   "metadata": {},
   "source": [
    "# Sample script 05-01 #"
   ]
  },
  {
   "cell_type": "code",
   "execution_count": null,
   "id": "2ad71b14-0aa8-49b1-bd32-75004eac2b79",
   "metadata": {},
   "outputs": [],
   "source": [
    "# run this cell to show the source code #\n",
    "\n",
    "!cat ai202209_s13_05_01.py"
   ]
  },
  {
   "cell_type": "code",
   "execution_count": null,
   "id": "613a2480-0198-4c04-8148-ae9e69e4f1a5",
   "metadata": {},
   "outputs": [],
   "source": [
    "# run this cell to execute the script #\n",
    "\n",
    "!python3.9 ai202209_s13_05_01.py"
   ]
  },
  {
   "cell_type": "markdown",
   "id": "b7268627-0095-4e4a-a0e5-a74f68bfd4c6",
   "metadata": {},
   "source": [
    "# Sample script 05-02 #"
   ]
  },
  {
   "cell_type": "code",
   "execution_count": null,
   "id": "a45bd598-7f64-46e1-ae98-46eb9379302b",
   "metadata": {},
   "outputs": [],
   "source": [
    "# run this cell to show the source code #\n",
    "\n",
    "!cat ai202209_s13_05_02.py"
   ]
  },
  {
   "cell_type": "code",
   "execution_count": null,
   "id": "d00d3bee-fef2-4b8f-8d6e-a75e43199a89",
   "metadata": {},
   "outputs": [],
   "source": [
    "# run this cell to execute the script #\n",
    "\n",
    "!python3.9 ai202209_s13_05_02.py"
   ]
  },
  {
   "cell_type": "code",
   "execution_count": null,
   "id": "ef2dda76-3436-4219-a028-4ef8b8b5d676",
   "metadata": {},
   "outputs": [],
   "source": [
    "# run this cell to display PNG image #\n",
    "\n",
    "import IPython.display\n",
    "\n",
    "IPython.display.Image ('comets/0000.png')"
   ]
  },
  {
   "cell_type": "code",
   "execution_count": null,
   "id": "1f0dc626-a882-4b07-be50-6b1847bc8006",
   "metadata": {},
   "outputs": [],
   "source": [
    "# run this cell to make a movie #\n",
    "\n",
    "!ffmpeg -f image2 -start_number 0 -framerate 30 -i comets/%04d.png -an -vcodec libx264 -pix_fmt yuv420p -threads 6 comets.mp4"
   ]
  },
  {
   "cell_type": "code",
   "execution_count": null,
   "id": "552b059f-3794-4464-8779-f7824f27bc46",
   "metadata": {},
   "outputs": [],
   "source": [
    "# run this cell to display video file #\n",
    "\n",
    "import IPython.display\n",
    "\n",
    "IPython.display.Video ('comets.mp4')"
   ]
  },
  {
   "cell_type": "markdown",
   "id": "66db0ef1-59c5-4b66-98c7-339d7bdd1dde",
   "metadata": {},
   "source": [
    "# Sample script 06-00 #"
   ]
  },
  {
   "cell_type": "code",
   "execution_count": null,
   "id": "dbab4c92-9dfb-42ad-8669-ed36b80c4f86",
   "metadata": {},
   "outputs": [],
   "source": [
    "# run this cell to show the source code #\n",
    "\n",
    "!cat ai202209_s13_06_00.py"
   ]
  },
  {
   "cell_type": "code",
   "execution_count": null,
   "id": "ce6f720e-5026-4adc-9a12-46412e2032fd",
   "metadata": {},
   "outputs": [],
   "source": [
    "# run this cell to execute the script #\n",
    "\n",
    "!python3.9 ai202209_s13_06_00.py"
   ]
  },
  {
   "cell_type": "markdown",
   "id": "47bb6eb7-c446-4e22-8677-1dbeeaef5255",
   "metadata": {},
   "source": [
    "# Sample script 06-01 #"
   ]
  },
  {
   "cell_type": "code",
   "execution_count": null,
   "id": "b9ddd8e3-d65d-4244-9714-18c6196df819",
   "metadata": {},
   "outputs": [],
   "source": [
    "# run this cell to show the source code #\n",
    "\n",
    "!cat ai202209_s13_06_01.py"
   ]
  },
  {
   "cell_type": "code",
   "execution_count": null,
   "id": "e92e1732-8ea2-47b0-b365-b9866fa26d53",
   "metadata": {},
   "outputs": [],
   "source": [
    "# run this cell to execute the script #\n",
    "\n",
    "!python3.9 ai202209_s13_06_01.py > trojan.list"
   ]
  },
  {
   "cell_type": "code",
   "execution_count": null,
   "id": "f6fadd2d-331c-4de9-9291-7cc56071778c",
   "metadata": {},
   "outputs": [],
   "source": [
    "!head trojan.list"
   ]
  },
  {
   "cell_type": "markdown",
   "id": "7788bfb5-bb6e-4ca9-99fa-70c430fdfc06",
   "metadata": {},
   "source": [
    "# Sample script 06-02 #"
   ]
  },
  {
   "cell_type": "code",
   "execution_count": null,
   "id": "407687e8-795d-4616-b8a4-acc5f9d5c875",
   "metadata": {},
   "outputs": [],
   "source": [
    "# run this cell to show the source code #\n",
    "\n",
    "!cat ai202209_s13_06_02.py"
   ]
  },
  {
   "cell_type": "code",
   "execution_count": null,
   "id": "760491f0-576c-4de1-918a-e397b0d67933",
   "metadata": {},
   "outputs": [],
   "source": [
    "# run this cell to execute the script #\n",
    "\n",
    "!python3.9 ai202209_s13_06_02.py"
   ]
  },
  {
   "cell_type": "markdown",
   "id": "a2a4a780-cae1-4827-a1f3-4c2b8f7f99d5",
   "metadata": {},
   "source": [
    "# Sample script 06-03 #"
   ]
  },
  {
   "cell_type": "code",
   "execution_count": null,
   "id": "3024b7ec-f16a-43b7-9e26-54ac1a2a4a5a",
   "metadata": {},
   "outputs": [],
   "source": [
    "# run this cell to show the source code #\n",
    "\n",
    "!cat ai202209_s13_06_03.py"
   ]
  },
  {
   "cell_type": "code",
   "execution_count": null,
   "id": "c01ef1c1-5b2d-4fac-a623-d997cdf6ca2e",
   "metadata": {},
   "outputs": [],
   "source": [
    "# run this cell to execute the script #\n",
    "\n",
    "!python3.9 ai202209_s13_06_03.py"
   ]
  },
  {
   "cell_type": "markdown",
   "id": "b5d6e910-2a74-49a3-a2e7-2561d16be8a7",
   "metadata": {},
   "source": [
    "# Sample script 06-04 #"
   ]
  },
  {
   "cell_type": "code",
   "execution_count": null,
   "id": "6f0c79f4-8422-4bfe-a9cf-0c1e1d0c93d1",
   "metadata": {},
   "outputs": [],
   "source": [
    "# run this cell to show the source code #\n",
    "\n",
    "!cat ai202209_s13_06_04.py"
   ]
  },
  {
   "cell_type": "code",
   "execution_count": null,
   "id": "ab34eff2-b0d7-43e6-bb4e-69339d0c5e9a",
   "metadata": {},
   "outputs": [],
   "source": [
    "# run this cell to execute the script #\n",
    "\n",
    "!python3.9 ai202209_s13_06_04.py"
   ]
  },
  {
   "cell_type": "code",
   "execution_count": null,
   "id": "9b16d4c8-f8d9-4fb3-a117-02ab543ee20e",
   "metadata": {},
   "outputs": [],
   "source": [
    "# run this cell to display PNG image #\n",
    "\n",
    "import IPython.display\n",
    "\n",
    "IPython.display.Image ('trojan/0000.png')"
   ]
  },
  {
   "cell_type": "code",
   "execution_count": null,
   "id": "235e05d7-ecdd-49c2-aba4-cad7133a9845",
   "metadata": {},
   "outputs": [],
   "source": [
    "# run this cell to make a movie #\n",
    "\n",
    "!ffmpeg -f image2 -start_number 0 -framerate 30 -i trojan/%04d.png -an -vcodec libx264 -pix_fmt yuv420p -threads 6 trojan.mp4"
   ]
  },
  {
   "cell_type": "code",
   "execution_count": null,
   "id": "c0c6cd32-6aff-47fe-afe7-8660ea303b14",
   "metadata": {},
   "outputs": [],
   "source": [
    "# run this cell to display video file #\n",
    "\n",
    "import IPython.display\n",
    "\n",
    "IPython.display.Video ('trojan.mp4')"
   ]
  },
  {
   "cell_type": "markdown",
   "id": "41a9335f-2f5b-4100-a5aa-15859ea3ea24",
   "metadata": {},
   "source": [
    "# Sample script 07-00 #"
   ]
  },
  {
   "cell_type": "code",
   "execution_count": null,
   "id": "09b1290e-4b54-4e15-99a7-a0b98c7b966e",
   "metadata": {},
   "outputs": [],
   "source": [
    "# run this cell to show the source code #\n",
    "\n",
    "!cat ai202209_s13_07_00.py"
   ]
  },
  {
   "cell_type": "code",
   "execution_count": null,
   "id": "d9c4ab1d-33c1-40f4-a303-148a33453f58",
   "metadata": {},
   "outputs": [],
   "source": [
    "# run this cell to execute the script #\n",
    "\n",
    "!python3.9 ai202209_s13_07_00.py > iss.list"
   ]
  },
  {
   "cell_type": "code",
   "execution_count": null,
   "id": "4686d582-6d2a-4a3e-8acb-e2e5d78b7197",
   "metadata": {},
   "outputs": [],
   "source": [
    "!head iss.list"
   ]
  },
  {
   "cell_type": "markdown",
   "id": "aca7af13-0e32-42fd-a3dc-f341f6902961",
   "metadata": {},
   "source": [
    "# Sample script 07-01 #"
   ]
  },
  {
   "cell_type": "code",
   "execution_count": null,
   "id": "47d59706-72f1-42f1-b11b-94874dec2f97",
   "metadata": {},
   "outputs": [],
   "source": [
    "# run this cell to show the source code #\n",
    "\n",
    "!cat ai202209_s13_07_01.py"
   ]
  },
  {
   "cell_type": "code",
   "execution_count": null,
   "id": "892dc92a-b185-475d-be9b-f9593168303b",
   "metadata": {},
   "outputs": [],
   "source": [
    "# run this cell to execute the script #\n",
    "\n",
    "!python3.9 ai202209_s13_07_01.py"
   ]
  },
  {
   "cell_type": "markdown",
   "id": "ed12ad2b-ec59-47df-8a83-5e874b55a262",
   "metadata": {},
   "source": [
    "# Sample script 07-02 #"
   ]
  },
  {
   "cell_type": "code",
   "execution_count": null,
   "id": "0f43f526-05b3-41fe-8bfe-4c60cce85370",
   "metadata": {},
   "outputs": [],
   "source": [
    "# run this cell to show the source code #\n",
    "\n",
    "!cat ai202209_s13_07_02.py"
   ]
  },
  {
   "cell_type": "code",
   "execution_count": null,
   "id": "5d9a4af7-789d-4b41-81e7-47925121d6df",
   "metadata": {},
   "outputs": [],
   "source": [
    "# run this cell to execute the script #\n",
    "\n",
    "!python3.9 ai202209_s13_07_02.py"
   ]
  },
  {
   "cell_type": "markdown",
   "id": "ef142a56-b3e7-4c7e-9243-f36c95cf89e1",
   "metadata": {},
   "source": [
    "# Sample script 07-03 #"
   ]
  },
  {
   "cell_type": "code",
   "execution_count": null,
   "id": "99b77364-a731-4a32-9fb0-45ff2d284f81",
   "metadata": {},
   "outputs": [],
   "source": [
    "# run this cell to show the source code #\n",
    "\n",
    "!cat ai202209_s13_07_03.py"
   ]
  },
  {
   "cell_type": "code",
   "execution_count": null,
   "id": "8a97b122-304b-48a9-a1d2-e3b179b1c9e5",
   "metadata": {},
   "outputs": [],
   "source": [
    "# run this cell to execute the script #\n",
    "\n",
    "!python3.9 ai202209_s13_07_03.py"
   ]
  },
  {
   "cell_type": "code",
   "execution_count": null,
   "id": "e2f926cd-b1d9-4a12-99bd-6992aa4e07cd",
   "metadata": {},
   "outputs": [],
   "source": [
    "# run this cell to display PNG image #\n",
    "\n",
    "import IPython.display\n",
    "\n",
    "IPython.display.Image ('iss/0000.png')"
   ]
  },
  {
   "cell_type": "code",
   "execution_count": null,
   "id": "201590da-21be-46ae-a895-a6e31ae85682",
   "metadata": {},
   "outputs": [],
   "source": [
    "# run this cell to make a movie #\n",
    "\n",
    "!ffmpeg -f image2 -start_number 0 -framerate 30 -i iss/%04d.png -an -vcodec libx264 -pix_fmt yuv420p -threads 6 iss.mp4"
   ]
  },
  {
   "cell_type": "code",
   "execution_count": null,
   "id": "26f14c3c-9b3a-46ef-945e-1cfd584790fb",
   "metadata": {},
   "outputs": [],
   "source": [
    "# run this cell to display video file #\n",
    "\n",
    "import IPython.display\n",
    "\n",
    "IPython.display.Video ('iss.mp4')"
   ]
  },
  {
   "cell_type": "markdown",
   "id": "d34add0f-79b5-48a0-9f52-f0654dd9b3f0",
   "metadata": {},
   "source": [
    "# end of the notebook #"
   ]
  },
  {
   "cell_type": "code",
   "execution_count": null,
   "id": "15b08d5b-c97e-45f6-816c-f9572aea8513",
   "metadata": {},
   "outputs": [],
   "source": []
  }
 ],
 "metadata": {
  "kernelspec": {
   "display_name": "Python 3 (ipykernel)",
   "language": "python",
   "name": "python3"
  },
  "language_info": {
   "codemirror_mode": {
    "name": "ipython",
    "version": 3
   },
   "file_extension": ".py",
   "mimetype": "text/x-python",
   "name": "python",
   "nbconvert_exporter": "python",
   "pygments_lexer": "ipython3",
   "version": "3.9.14"
  }
 },
 "nbformat": 4,
 "nbformat_minor": 5
}
