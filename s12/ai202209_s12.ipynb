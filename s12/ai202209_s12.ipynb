{
 "cells": [
  {
   "cell_type": "markdown",
   "id": "527bf7c3-828b-44e9-8d8d-2a9bc4732b76",
   "metadata": {},
   "source": [
    "# Session 12 of Astroinformatics (first semester, academic year 2022) #\n",
    "\n",
    "- About the course\n",
    "    - course name: \"Astroinformatics\"\n",
    "    - semester: from Sep/2022 to Jan/2023\n",
    "    - lecture hours: from 09:00 to 12:00\n",
    "    - classroom: S4-914\n",
    "    - instructor: Kinoshita Daisuke\n",
    "    - course web page: https://s3b.astro.ncu.edu.tw/ai_202209/\n",
    "    - GitHub repository: https://github.com/kinoshitadaisuke/ncu_astroinformatics_202209\n",
    "    - Binder web page: https://mybinder.org/v2/gh/kinoshitadaisuke/ncu_astroinformatics_202209/HEAD"
   ]
  },
  {
   "cell_type": "markdown",
   "id": "57ed5cc3-2d49-4c16-bd14-feb937647071",
   "metadata": {},
   "source": [
    "## About this notebook ##\n",
    "\n",
    "This is a notebook for the __session 12__ of \"Astroinformatics\" at first semester of academic year 2022.\n",
    "\n",
    "This notebook contains sample Python scripts only.\n",
    "\n",
    "The lecture note is provided at the course web page.\n",
    "\n",
    "To download the lecture note, visit following web page.\n",
    "\n",
    "https://s3b.astro.ncu.edu.tw/ai_202209/\n",
    "\n",
    "Note that the lecture note can be downloaded only from computers/mobile phones connected to the computer network of our university.\n",
    "\n",
    "Connect to Wi-Fi of our university or use VPN service of our university to download the lecture note.\n",
    "\n",
    "If you have any question about this notebook, contact to Kinoshita Daisuke."
   ]
  },
  {
   "cell_type": "markdown",
   "id": "olive-franchise",
   "metadata": {},
   "source": [
    "# Sample script 00-00 #"
   ]
  },
  {
   "cell_type": "code",
   "execution_count": null,
   "id": "expired-cargo",
   "metadata": {},
   "outputs": [],
   "source": [
    "# run this cell to show the source code #\n",
    "\n",
    "!cat ai202209_s12_00_00.py"
   ]
  },
  {
   "cell_type": "code",
   "execution_count": null,
   "id": "apparent-valley",
   "metadata": {},
   "outputs": [],
   "source": [
    "# run this cell to execute the script #\n",
    "\n",
    "!python3.9 ai202209_s12_00_00.py -h"
   ]
  },
  {
   "cell_type": "code",
   "execution_count": null,
   "id": "regulation-committee",
   "metadata": {},
   "outputs": [],
   "source": [
    "# run this cell to execute the script #\n",
    "\n",
    "!python3.9 ai202209_s12_00_00.py -a 3 -b 4"
   ]
  },
  {
   "cell_type": "code",
   "execution_count": null,
   "id": "informative-circuit",
   "metadata": {},
   "outputs": [],
   "source": [
    "# run this cell to execute the script #\n",
    "\n",
    "!python3.9 ai202209_s12_00_00.py -a 5 -b 6"
   ]
  },
  {
   "cell_type": "markdown",
   "id": "ordered-quick",
   "metadata": {},
   "source": [
    "# Sample script 00-01 #"
   ]
  },
  {
   "cell_type": "code",
   "execution_count": null,
   "id": "legislative-vienna",
   "metadata": {},
   "outputs": [],
   "source": [
    "# run this cell to show the source code #\n",
    "\n",
    "!cat ai202209_s12_00_01.py"
   ]
  },
  {
   "cell_type": "code",
   "execution_count": null,
   "id": "interstate-choice",
   "metadata": {},
   "outputs": [],
   "source": [
    "# run this cell to execute the script #\n",
    "\n",
    "!python3.9 ai202209_s12_00_01.py -h"
   ]
  },
  {
   "cell_type": "code",
   "execution_count": null,
   "id": "social-constitutional",
   "metadata": {},
   "outputs": [],
   "source": [
    "# run this cell to execute the script #\n",
    "\n",
    "!python3.9 ai202209_s12_00_01.py -a 30.0"
   ]
  },
  {
   "cell_type": "code",
   "execution_count": null,
   "id": "muslim-steps",
   "metadata": {},
   "outputs": [],
   "source": [
    "# run this cell to execute the script #\n",
    "\n",
    "!python3.9 ai202209_s12_00_01.py -a 270.0"
   ]
  },
  {
   "cell_type": "markdown",
   "id": "molecular-extension",
   "metadata": {},
   "source": [
    "# Sample script 00-02 #"
   ]
  },
  {
   "cell_type": "code",
   "execution_count": null,
   "id": "closing-growth",
   "metadata": {},
   "outputs": [],
   "source": [
    "# run this cell to show the source code #\n",
    "\n",
    "!cat ai202209_s12_00_02.py"
   ]
  },
  {
   "cell_type": "code",
   "execution_count": null,
   "id": "demographic-single",
   "metadata": {},
   "outputs": [],
   "source": [
    "# run this cell to execute the script #\n",
    "\n",
    "!python3.9 ai202209_s12_00_02.py -h"
   ]
  },
  {
   "cell_type": "code",
   "execution_count": null,
   "id": "valuable-drain",
   "metadata": {},
   "outputs": [],
   "source": [
    "# run this cell to execute the script #\n",
    "\n",
    "!python3.9 ai202209_s12_00_02.py --angle 45"
   ]
  },
  {
   "cell_type": "code",
   "execution_count": null,
   "id": "framed-jumping",
   "metadata": {},
   "outputs": [],
   "source": [
    "# run this cell to execute the script #\n",
    "\n",
    "!python3.9 ai202209_s12_00_01.py -a 45"
   ]
  },
  {
   "cell_type": "markdown",
   "id": "eastern-sense",
   "metadata": {},
   "source": [
    "# Sample script 00-03 #"
   ]
  },
  {
   "cell_type": "code",
   "execution_count": null,
   "id": "commercial-natural",
   "metadata": {},
   "outputs": [],
   "source": [
    "# run this cell to show the source code #\n",
    "\n",
    "!cat ai202209_s12_00_03.py"
   ]
  },
  {
   "cell_type": "code",
   "execution_count": null,
   "id": "english-coverage",
   "metadata": {},
   "outputs": [],
   "source": [
    "# run this cell to execute the script #\n",
    "\n",
    "!python3.9 ai202209_s12_00_03.py -h"
   ]
  },
  {
   "cell_type": "code",
   "execution_count": null,
   "id": "permanent-payment",
   "metadata": {},
   "outputs": [],
   "source": [
    "# run this cell to execute the script #\n",
    "\n",
    "!python3.9 ai202209_s12_00_03.py ai202209_00_00.py"
   ]
  },
  {
   "cell_type": "code",
   "execution_count": null,
   "id": "french-stretch",
   "metadata": {},
   "outputs": [],
   "source": [
    "# run this cell to execute the script #\n",
    "\n",
    "!python3.9 ai202209_s12_00_03.py /etc/fstab"
   ]
  },
  {
   "cell_type": "code",
   "execution_count": null,
   "id": "monthly-argentina",
   "metadata": {},
   "outputs": [],
   "source": [
    "# run this cell to execute the script #\n",
    "\n",
    "!python3.9 ai202209_s12_00_03.py /etc/hosts /etc/passwd"
   ]
  },
  {
   "cell_type": "code",
   "execution_count": null,
   "id": "unusual-sandwich",
   "metadata": {},
   "outputs": [],
   "source": [
    "# run this cell to execute the script #\n",
    "\n",
    "!python3.9 ai202209_s12_00_03.py /etc/group foo.py bar.pdf"
   ]
  },
  {
   "cell_type": "markdown",
   "id": "italic-october",
   "metadata": {},
   "source": [
    "# Sample script 01-00 #"
   ]
  },
  {
   "cell_type": "code",
   "execution_count": null,
   "id": "cloudy-shelf",
   "metadata": {},
   "outputs": [],
   "source": [
    "# run this cell to show the source code #\n",
    "\n",
    "!cat ai202209_s12_01_00.py"
   ]
  },
  {
   "cell_type": "code",
   "execution_count": null,
   "id": "adopted-hypothetical",
   "metadata": {},
   "outputs": [],
   "source": [
    "# run this cell to execute the script #\n",
    "\n",
    "!python3.9 ai202209_s12_01_00.py -h"
   ]
  },
  {
   "cell_type": "code",
   "execution_count": null,
   "id": "valuable-despite",
   "metadata": {},
   "outputs": [],
   "source": [
    "# run this cell to execute the script #\n",
    "\n",
    "!python3.9 ai202209_s12_01_00.py -o ai202209_s12_01_00.data \\\n",
    "-s 2023-01-01T12:00:00 -e 2023-01-05T20:00:00 -p 7.5 -a 0.4 -m 18.0 -u 0.03 -t 180.0"
   ]
  },
  {
   "cell_type": "code",
   "execution_count": null,
   "id": "extra-professor",
   "metadata": {},
   "outputs": [],
   "source": [
    "# run this cell to check created file #\n",
    "\n",
    "!ls -lF ai202209_s12_01_00.data"
   ]
  },
  {
   "cell_type": "code",
   "execution_count": null,
   "id": "existing-cheese",
   "metadata": {},
   "outputs": [],
   "source": [
    "# run this cell to check created file #\n",
    "\n",
    "!head -30 ai202209_s12_01_00.data"
   ]
  },
  {
   "cell_type": "markdown",
   "id": "refined-solomon",
   "metadata": {},
   "source": [
    "# Sample script 01-01 #"
   ]
  },
  {
   "cell_type": "code",
   "execution_count": null,
   "id": "inclusive-approval",
   "metadata": {},
   "outputs": [],
   "source": [
    "# run this cell to show the source code #\n",
    "\n",
    "!cat ai202209_s12_01_01.py"
   ]
  },
  {
   "cell_type": "code",
   "execution_count": null,
   "id": "indonesian-south",
   "metadata": {},
   "outputs": [],
   "source": [
    "# run this cell to execute the script #\n",
    "\n",
    "!python3.9 ai202209_s12_01_01.py -h"
   ]
  },
  {
   "cell_type": "code",
   "execution_count": null,
   "id": "intended-prince",
   "metadata": {},
   "outputs": [],
   "source": [
    "# run this cell to execute the script #\n",
    "\n",
    "!python3.9 ai202209_s12_01_01.py -i ai202209_s12_01_00.data -o ai202209_s12_01_01.png"
   ]
  },
  {
   "cell_type": "code",
   "execution_count": null,
   "id": "filled-acrobat",
   "metadata": {},
   "outputs": [],
   "source": [
    "# run this cell to check created file #\n",
    "\n",
    "!ls -lF ai202209_s12_01_01.png"
   ]
  },
  {
   "cell_type": "code",
   "execution_count": null,
   "id": "adverse-welsh",
   "metadata": {},
   "outputs": [],
   "source": [
    "# run this cell to display PNG file #\n",
    "\n",
    "import IPython.display\n",
    "\n",
    "IPython.display.Image ('ai202209_s12_01_01.png')"
   ]
  },
  {
   "cell_type": "markdown",
   "id": "important-detector",
   "metadata": {},
   "source": [
    "# Sample script 01-02 #"
   ]
  },
  {
   "cell_type": "code",
   "execution_count": null,
   "id": "billion-image",
   "metadata": {},
   "outputs": [],
   "source": [
    "# run this cell to show the source code #\n",
    "\n",
    "!cat ai202209_s12_01_02.py"
   ]
  },
  {
   "cell_type": "code",
   "execution_count": null,
   "id": "quiet-federation",
   "metadata": {},
   "outputs": [],
   "source": [
    "# run this cell to execute the script #\n",
    "\n",
    "!python3.9 ai202209_s12_01_02.py -h"
   ]
  },
  {
   "cell_type": "code",
   "execution_count": null,
   "id": "opposite-grace",
   "metadata": {},
   "outputs": [],
   "source": [
    "# run this cell to execute the script #\n",
    "\n",
    "!python3.9 ai202209_s12_01_02.py -i ai202209_s12_01_00.data -o ai202209_s12_01_02_70.png -p 7.0"
   ]
  },
  {
   "cell_type": "code",
   "execution_count": null,
   "id": "younger-given",
   "metadata": {},
   "outputs": [],
   "source": [
    "# run this cell to check created file #\n",
    "\n",
    "!ls -lF ai202209_s12_01_02_70.png"
   ]
  },
  {
   "cell_type": "code",
   "execution_count": null,
   "id": "cleared-literature",
   "metadata": {},
   "outputs": [],
   "source": [
    "# run this cell to display PNG file #\n",
    "\n",
    "import IPython.display\n",
    "\n",
    "IPython.display.Image ('ai202209_s12_01_02_70.png')"
   ]
  },
  {
   "cell_type": "code",
   "execution_count": null,
   "id": "generic-undergraduate",
   "metadata": {},
   "outputs": [],
   "source": [
    "# run this cell to execute the script #\n",
    "\n",
    "!python3.9 ai202209_s12_01_02.py -i ai202209_s12_01_00.data -o ai202209_s12_01_02_71.png -p 7.1"
   ]
  },
  {
   "cell_type": "code",
   "execution_count": null,
   "id": "saving-stability",
   "metadata": {},
   "outputs": [],
   "source": [
    "# run this cell to check created file #\n",
    "\n",
    "!ls -lF ai202209_s12_01_02_71.png"
   ]
  },
  {
   "cell_type": "code",
   "execution_count": null,
   "id": "selective-grove",
   "metadata": {},
   "outputs": [],
   "source": [
    "# run this cell to display PNG file #\n",
    "\n",
    "import IPython.display\n",
    "\n",
    "IPython.display.Image ('ai202209_s12_01_02_71.png')"
   ]
  },
  {
   "cell_type": "code",
   "execution_count": null,
   "id": "affecting-amino",
   "metadata": {},
   "outputs": [],
   "source": [
    "# run this cell to execute the script #\n",
    "\n",
    "!python3.9 ai202209_s12_01_02.py -i ai202209_s12_01_00.data -o ai202209_s12_01_02_75.png -p 7.5"
   ]
  },
  {
   "cell_type": "code",
   "execution_count": null,
   "id": "worse-trust",
   "metadata": {},
   "outputs": [],
   "source": [
    "# run this cell to check created file #\n",
    "\n",
    "!ls -lF ai202209_s12_01_02_75.png"
   ]
  },
  {
   "cell_type": "code",
   "execution_count": null,
   "id": "several-injury",
   "metadata": {},
   "outputs": [],
   "source": [
    "# run this cell to display PNG file #\n",
    "\n",
    "import IPython.display\n",
    "\n",
    "IPython.display.Image ('ai202209_s12_01_02_75.png')"
   ]
  },
  {
   "cell_type": "markdown",
   "id": "sought-brazilian",
   "metadata": {},
   "source": [
    "# Sample script 01-03 #"
   ]
  },
  {
   "cell_type": "code",
   "execution_count": null,
   "id": "suspected-world",
   "metadata": {},
   "outputs": [],
   "source": [
    "# run this cell to show the source code #\n",
    "\n",
    "!cat ai202209_s12_01_03.py"
   ]
  },
  {
   "cell_type": "code",
   "execution_count": null,
   "id": "declared-premium",
   "metadata": {},
   "outputs": [],
   "source": [
    "# run this cell to execute the script #\n",
    "\n",
    "!python3.9 ai202209_s12_01_03.py -h"
   ]
  },
  {
   "cell_type": "code",
   "execution_count": null,
   "id": "unique-wright",
   "metadata": {},
   "outputs": [],
   "source": [
    "# run this cell to execute the script #\n",
    "\n",
    "!python3.9 ai202209_s12_01_03.py -i ai202209_s12_01_00.data -o ai202209_s12_01_03.png 7.0 7.1 7.2 7.3 7.4 7.5"
   ]
  },
  {
   "cell_type": "code",
   "execution_count": null,
   "id": "billion-beauty",
   "metadata": {},
   "outputs": [],
   "source": [
    "# run this cell to check created file #\n",
    "\n",
    "!ls -lF ai202209_s12_01_03.png"
   ]
  },
  {
   "cell_type": "code",
   "execution_count": null,
   "id": "weighted-innocent",
   "metadata": {},
   "outputs": [],
   "source": [
    "# run this cell to display PNG file #\n",
    "\n",
    "import IPython.display\n",
    "\n",
    "IPython.display.Image ('ai202209_s12_01_03.png')"
   ]
  },
  {
   "cell_type": "markdown",
   "id": "binary-square",
   "metadata": {},
   "source": [
    "# Sample script 01-04 #"
   ]
  },
  {
   "cell_type": "code",
   "execution_count": null,
   "id": "damaged-winner",
   "metadata": {},
   "outputs": [],
   "source": [
    "# run this cell to show the source code #\n",
    "\n",
    "!cat ai202209_s12_01_04.py"
   ]
  },
  {
   "cell_type": "code",
   "execution_count": null,
   "id": "hydraulic-humidity",
   "metadata": {},
   "outputs": [],
   "source": [
    "# run this cell to execute the script #\n",
    "\n",
    "!python3.9 ai202209_s12_01_04.py -h"
   ]
  },
  {
   "cell_type": "code",
   "execution_count": null,
   "id": "colored-belarus",
   "metadata": {},
   "outputs": [],
   "source": [
    "# run this cell to execute the script #\n",
    "\n",
    "!python3.9 ai202209_s12_01_04.py -i ai202209_s12_01_00.data -o ai202209_s12_01_04.data"
   ]
  },
  {
   "cell_type": "code",
   "execution_count": null,
   "id": "conventional-shooting",
   "metadata": {},
   "outputs": [],
   "source": [
    "# run this cell to check created file #\n",
    "\n",
    "!ls -lF ai202209_s12_01_04.data"
   ]
  },
  {
   "cell_type": "code",
   "execution_count": null,
   "id": "standard-criminal",
   "metadata": {},
   "outputs": [],
   "source": [
    "# run this cell to show the data file #\n",
    "\n",
    "!head -20 ai202209_s12_01_04.data"
   ]
  },
  {
   "cell_type": "markdown",
   "id": "medieval-bacteria",
   "metadata": {},
   "source": [
    "# Sample script 01-05 #"
   ]
  },
  {
   "cell_type": "code",
   "execution_count": null,
   "id": "floppy-munich",
   "metadata": {},
   "outputs": [],
   "source": [
    "# run this cell to show the source code #\n",
    "\n",
    "!cat ai202209_s12_01_05.py"
   ]
  },
  {
   "cell_type": "code",
   "execution_count": null,
   "id": "published-mobility",
   "metadata": {},
   "outputs": [],
   "source": [
    "# run this cell to execute the script #\n",
    "\n",
    "!python3.9 ai202209_s12_01_05.py -h"
   ]
  },
  {
   "cell_type": "code",
   "execution_count": null,
   "id": "mediterranean-birmingham",
   "metadata": {},
   "outputs": [],
   "source": [
    "# run this cell to execute the script #\n",
    "\n",
    "!python3.9 ai202209_s12_01_05.py -i ai202209_s12_01_04.data -o ai202209_s12_01_05.png"
   ]
  },
  {
   "cell_type": "code",
   "execution_count": null,
   "id": "level-darkness",
   "metadata": {},
   "outputs": [],
   "source": [
    "# run this cell to check created file #\n",
    "\n",
    "!ls -lF ai202209_s12_01_05.png"
   ]
  },
  {
   "cell_type": "code",
   "execution_count": null,
   "id": "descending-mailing",
   "metadata": {},
   "outputs": [],
   "source": [
    "# run this cell to display PNG file #\n",
    "\n",
    "import IPython.display\n",
    "\n",
    "IPython.display.Image ('ai202209_s12_01_05.png')"
   ]
  },
  {
   "cell_type": "markdown",
   "id": "conventional-salvation",
   "metadata": {},
   "source": [
    "# Sample script 01-06 #"
   ]
  },
  {
   "cell_type": "code",
   "execution_count": null,
   "id": "hollywood-snapshot",
   "metadata": {},
   "outputs": [],
   "source": [
    "# run this cell to show the source code #\n",
    "\n",
    "!cat ai202209_s12_01_06.py"
   ]
  },
  {
   "cell_type": "code",
   "execution_count": null,
   "id": "whole-recipe",
   "metadata": {},
   "outputs": [],
   "source": [
    "# run this cell to execute the script #\n",
    "\n",
    "!python3.9 ai202209_s12_01_06.py -h"
   ]
  },
  {
   "cell_type": "code",
   "execution_count": null,
   "id": "given-lyric",
   "metadata": {},
   "outputs": [],
   "source": [
    "# run this cell to execute the script #\n",
    "\n",
    "!python3.9 ai202209_s12_01_06.py -i ai202209_s12_01_04.data -o ai202209_s12_01_06.png -a 0.1 -b 30"
   ]
  },
  {
   "cell_type": "code",
   "execution_count": null,
   "id": "heated-tactics",
   "metadata": {},
   "outputs": [],
   "source": [
    "# run this cell to check created file #\n",
    "\n",
    "!ls -lF ai202209_s12_01_06.png"
   ]
  },
  {
   "cell_type": "code",
   "execution_count": null,
   "id": "injured-hebrew",
   "metadata": {},
   "outputs": [],
   "source": [
    "# run this cell to display PNG file #\n",
    "\n",
    "import IPython.display\n",
    "\n",
    "IPython.display.Image ('ai202209_s12_01_06.png')"
   ]
  },
  {
   "cell_type": "code",
   "execution_count": null,
   "id": "undefined-princess",
   "metadata": {},
   "outputs": [],
   "source": [
    "# run this cell to execute the script #\n",
    "\n",
    "!python3.9 ai202209_s12_01_06.py -i ai202209_s12_01_04.data -o ai202209_s12_01_06_75.png -a 5 -b 10"
   ]
  },
  {
   "cell_type": "code",
   "execution_count": null,
   "id": "charming-jonathan",
   "metadata": {},
   "outputs": [],
   "source": [
    "# run this cell to check created file #\n",
    "\n",
    "!ls -lF ai202209_s12_01_06_75.png"
   ]
  },
  {
   "cell_type": "code",
   "execution_count": null,
   "id": "purple-jumping",
   "metadata": {},
   "outputs": [],
   "source": [
    "# run this cell to display PNG file #\n",
    "\n",
    "import IPython.display\n",
    "\n",
    "IPython.display.Image ('ai202209_s12_01_06_75.png')"
   ]
  },
  {
   "cell_type": "markdown",
   "id": "documented-vault",
   "metadata": {},
   "source": [
    "# Sample script 01-07 #"
   ]
  },
  {
   "cell_type": "code",
   "execution_count": null,
   "id": "static-louis",
   "metadata": {},
   "outputs": [],
   "source": [
    "# run this cell to show the source code #\n",
    "\n",
    "!cat ai202209_s12_01_07.py"
   ]
  },
  {
   "cell_type": "code",
   "execution_count": null,
   "id": "circular-virgin",
   "metadata": {},
   "outputs": [],
   "source": [
    "# run this cell to execute the script #\n",
    "\n",
    "!python3.9 ai202209_s12_01_07.py -h"
   ]
  },
  {
   "cell_type": "code",
   "execution_count": null,
   "id": "willing-least",
   "metadata": {},
   "outputs": [],
   "source": [
    "# run this cell to execute the script #\n",
    "\n",
    "!python3.9 ai202209_s12_01_07.py -i ai202209_s12_01_00.data -o ai202209_s12_01_07.data -n 100"
   ]
  },
  {
   "cell_type": "code",
   "execution_count": null,
   "id": "educational-separation",
   "metadata": {},
   "outputs": [],
   "source": [
    "# run this cell to check created file #\n",
    "\n",
    "!ls -lF ai202209_s12_01_07.data"
   ]
  },
  {
   "cell_type": "code",
   "execution_count": null,
   "id": "secondary-acceptance",
   "metadata": {},
   "outputs": [],
   "source": [
    "# run this cell to check created file #\n",
    "\n",
    "!head -20 ai202209_s12_01_07.data"
   ]
  },
  {
   "cell_type": "markdown",
   "id": "cardiac-pottery",
   "metadata": {},
   "source": [
    "# Sample script 01-08 #"
   ]
  },
  {
   "cell_type": "code",
   "execution_count": null,
   "id": "internal-huntington",
   "metadata": {},
   "outputs": [],
   "source": [
    "# run this cell to show the source code #\n",
    "\n",
    "!cat ai202209_s12_01_08.py"
   ]
  },
  {
   "cell_type": "code",
   "execution_count": null,
   "id": "copyrighted-greek",
   "metadata": {},
   "outputs": [],
   "source": [
    "# run this cell to execute the script #\n",
    "\n",
    "!python3.9 ai202209_s12_01_08.py -h"
   ]
  },
  {
   "cell_type": "code",
   "execution_count": null,
   "id": "worst-thriller",
   "metadata": {},
   "outputs": [],
   "source": [
    "# run this cell to execute the script #\n",
    "\n",
    "!python3.9 ai202209_s12_01_08.py -i ai202209_s12_01_07.data -o ai202209_s12_01_08.png -a 6 -b 9"
   ]
  },
  {
   "cell_type": "code",
   "execution_count": null,
   "id": "advisory-hydrogen",
   "metadata": {},
   "outputs": [],
   "source": [
    "# run this cell to check created file #\n",
    "\n",
    "!ls -lF ai202209_s12_01_08.png"
   ]
  },
  {
   "cell_type": "code",
   "execution_count": null,
   "id": "narrow-nicaragua",
   "metadata": {},
   "outputs": [],
   "source": [
    "# run this cell to display PNG file #\n",
    "\n",
    "import IPython.display\n",
    "\n",
    "IPython.display.Image ('ai202209_s12_01_08.png')"
   ]
  },
  {
   "cell_type": "markdown",
   "id": "offensive-venue",
   "metadata": {},
   "source": [
    "# Sample script 01-09 #"
   ]
  },
  {
   "cell_type": "code",
   "execution_count": null,
   "id": "expired-mounting",
   "metadata": {},
   "outputs": [],
   "source": [
    "# run this cell to show the source code #\n",
    "\n",
    "!cat ai202209_s12_01_09.py"
   ]
  },
  {
   "cell_type": "code",
   "execution_count": null,
   "id": "joint-albany",
   "metadata": {},
   "outputs": [],
   "source": [
    "# run this cell to execute the script #\n",
    "\n",
    "!python3.9 ai202209_s12_01_09.py -h"
   ]
  },
  {
   "cell_type": "code",
   "execution_count": null,
   "id": "confused-colonial",
   "metadata": {},
   "outputs": [],
   "source": [
    "# run this cell to execute the script #\n",
    "\n",
    "!python3.9 ai202209_s12_01_09.py -i ai202209_s12_01_07.data -o ai202209_s12_01_09_1.png -x1 6 -x2 9 -f1 7.0 -f2 8.0"
   ]
  },
  {
   "cell_type": "code",
   "execution_count": null,
   "id": "mexican-mixer",
   "metadata": {},
   "outputs": [],
   "source": [
    "# run this cell to check created file #\n",
    "\n",
    "!ls -lF ai202209_s12_01_09_1.png"
   ]
  },
  {
   "cell_type": "code",
   "execution_count": null,
   "id": "capital-olympus",
   "metadata": {},
   "outputs": [],
   "source": [
    "# run this cell to display PNG file #\n",
    "\n",
    "import IPython.display\n",
    "\n",
    "IPython.display.Image ('ai202209_s12_01_09_1.png')"
   ]
  },
  {
   "cell_type": "code",
   "execution_count": null,
   "id": "renewable-think",
   "metadata": {},
   "outputs": [],
   "source": [
    "# run this cell to execute the script #\n",
    "\n",
    "!python3.9 ai202209_s12_01_09.py -i ai202209_s12_01_07.data -o ai202209_s12_01_09_2.png -x1 6.5 -x2 8.5 -f1 7.2 -f2 7.8"
   ]
  },
  {
   "cell_type": "code",
   "execution_count": null,
   "id": "suited-wagon",
   "metadata": {},
   "outputs": [],
   "source": [
    "# run this cell to check created file #\n",
    "\n",
    "!ls -lF ai202209_s12_01_09_2.png"
   ]
  },
  {
   "cell_type": "code",
   "execution_count": null,
   "id": "standing-international",
   "metadata": {},
   "outputs": [],
   "source": [
    "# run this cell to display PNG file #\n",
    "\n",
    "import IPython.display\n",
    "\n",
    "IPython.display.Image ('ai202209_s12_01_09_2.png')"
   ]
  },
  {
   "cell_type": "code",
   "execution_count": null,
   "id": "czech-observation",
   "metadata": {},
   "outputs": [],
   "source": [
    "# run this cell to execute the script #\n",
    "\n",
    "!python3.9 ai202209_s12_01_09.py -i ai202209_s12_01_07.data -o ai202209_s12_01_09_3.png -x1 6.5 -x2 8.5 -f1 7.3 -f2 7.7"
   ]
  },
  {
   "cell_type": "code",
   "execution_count": null,
   "id": "veterinary-kidney",
   "metadata": {},
   "outputs": [],
   "source": [
    "# run this cell to check created file #\n",
    "\n",
    "!ls -lF ai202209_s12_01_09_3.png"
   ]
  },
  {
   "cell_type": "code",
   "execution_count": null,
   "id": "false-beijing",
   "metadata": {},
   "outputs": [],
   "source": [
    "# run this cell to display PNG file #\n",
    "\n",
    "import IPython.display\n",
    "\n",
    "IPython.display.Image ('ai202209_s12_01_09_3.png')"
   ]
  },
  {
   "cell_type": "markdown",
   "id": "increasing-imagination",
   "metadata": {},
   "source": [
    "# Sample script 01-10 #"
   ]
  },
  {
   "cell_type": "code",
   "execution_count": null,
   "id": "interior-membership",
   "metadata": {},
   "outputs": [],
   "source": [
    "# run this cell to show the source code #\n",
    "\n",
    "!cat ai202209_s12_01_10.py"
   ]
  },
  {
   "cell_type": "code",
   "execution_count": null,
   "id": "sized-customs",
   "metadata": {},
   "outputs": [],
   "source": [
    "# run this cell to execute the script #\n",
    "\n",
    "!python3.9 ai202209_s12_01_10.py -h"
   ]
  },
  {
   "cell_type": "code",
   "execution_count": null,
   "id": "recreational-arthritis",
   "metadata": {},
   "outputs": [],
   "source": [
    "# run this cell to execute the script #\n",
    "\n",
    "!python3.9 ai202209_s12_01_10.py -i ai202209_s12_01_00.data -o ai202209_s12_01_10.png -p 7.5038"
   ]
  },
  {
   "cell_type": "code",
   "execution_count": null,
   "id": "continental-parts",
   "metadata": {},
   "outputs": [],
   "source": [
    "# run this cell to check created file #\n",
    "\n",
    "!ls -lF ai202209_s12_01_10.png"
   ]
  },
  {
   "cell_type": "code",
   "execution_count": null,
   "id": "rational-shame",
   "metadata": {},
   "outputs": [],
   "source": [
    "# run this cell to display PNG file #\n",
    "\n",
    "import IPython.display\n",
    "\n",
    "IPython.display.Image ('ai202209_s12_01_10.png')"
   ]
  },
  {
   "cell_type": "markdown",
   "id": "wooden-harrison",
   "metadata": {},
   "source": [
    "# Sample script 02-00 #"
   ]
  },
  {
   "cell_type": "code",
   "execution_count": null,
   "id": "altered-sally",
   "metadata": {},
   "outputs": [],
   "source": [
    "# run this cell to show the source code #\n",
    "\n",
    "!cat ai202209_s12_02_00.py"
   ]
  },
  {
   "cell_type": "code",
   "execution_count": null,
   "id": "indoor-pioneer",
   "metadata": {},
   "outputs": [],
   "source": [
    "# run this cell to execute the script #\n",
    "\n",
    "!python3.9 ai202209_s12_02_00.py -h"
   ]
  },
  {
   "cell_type": "code",
   "execution_count": null,
   "id": "afraid-musician",
   "metadata": {},
   "outputs": [],
   "source": [
    "# run this cell to execute the script #\n",
    "\n",
    "!python3.9 ai202209_s12_02_00.py -a 0.45 -p 17 -d 0.2 -m 22 -s 2022-12-10T12:00:00 -e 2022-12-15T20:00:00 -t 120 -r 20 -u 0.04 -o ai202209_s12_02_00.data"
   ]
  },
  {
   "cell_type": "code",
   "execution_count": null,
   "id": "light-surveillance",
   "metadata": {},
   "outputs": [],
   "source": [
    "# run this cell to check created file #\n",
    "\n",
    "!ls -lF ai202209_s12_02_00.data"
   ]
  },
  {
   "cell_type": "code",
   "execution_count": null,
   "id": "rough-hamburg",
   "metadata": {},
   "outputs": [],
   "source": [
    "# run this cell to check created file #\n",
    "\n",
    "!head -20 ai202209_s12_02_00.data"
   ]
  },
  {
   "cell_type": "markdown",
   "id": "younger-edwards",
   "metadata": {},
   "source": [
    "# Sample script 02-01 #"
   ]
  },
  {
   "cell_type": "code",
   "execution_count": null,
   "id": "matched-centre",
   "metadata": {},
   "outputs": [],
   "source": [
    "# run this cell to show the source code #\n",
    "\n",
    "!cat ai202209_s12_02_01.py"
   ]
  },
  {
   "cell_type": "code",
   "execution_count": null,
   "id": "usual-witness",
   "metadata": {},
   "outputs": [],
   "source": [
    "# run this cell to execute the script #\n",
    "\n",
    "!python3.9 ai202209_s12_02_01.py -h"
   ]
  },
  {
   "cell_type": "code",
   "execution_count": null,
   "id": "sunset-tenant",
   "metadata": {},
   "outputs": [],
   "source": [
    "# run this cell to execute the script #\n",
    "\n",
    "!python3.9 ai202209_s12_02_01.py -i ai202209_s12_02_00.data -o ai202209_s12_02_01.png"
   ]
  },
  {
   "cell_type": "code",
   "execution_count": null,
   "id": "opposed-priority",
   "metadata": {},
   "outputs": [],
   "source": [
    "# run this cell to check created file #\n",
    "\n",
    "!ls -lF ai202209_s12_02_01.png"
   ]
  },
  {
   "cell_type": "code",
   "execution_count": null,
   "id": "linear-interview",
   "metadata": {},
   "outputs": [],
   "source": [
    "# run this cell to display PNG file #\n",
    "\n",
    "import IPython.display\n",
    "\n",
    "IPython.display.Image ('ai202209_s12_02_01.png')"
   ]
  },
  {
   "cell_type": "markdown",
   "id": "optional-reason",
   "metadata": {},
   "source": [
    "# Sample script 02-02 #"
   ]
  },
  {
   "cell_type": "code",
   "execution_count": null,
   "id": "suitable-eleven",
   "metadata": {},
   "outputs": [],
   "source": [
    "# run this cell to show the source code #\n",
    "\n",
    "!cat ai202209_s12_02_02.py"
   ]
  },
  {
   "cell_type": "code",
   "execution_count": null,
   "id": "miniature-plumbing",
   "metadata": {},
   "outputs": [],
   "source": [
    "# run this cell to execute the script #\n",
    "\n",
    "!python3.9 ai202209_s12_02_02.py -h"
   ]
  },
  {
   "cell_type": "code",
   "execution_count": null,
   "id": "measured-payday",
   "metadata": {},
   "outputs": [],
   "source": [
    "# run this cell to execute the script #\n",
    "\n",
    "!python3.9 ai202209_s12_02_02.py -i ai202209_s12_02_00.data -o ai202209_s12_02_02.data -a 1 -b 6000 -n 100"
   ]
  },
  {
   "cell_type": "code",
   "execution_count": null,
   "id": "honey-curtis",
   "metadata": {},
   "outputs": [],
   "source": [
    "# run this cell to check created file #\n",
    "\n",
    "!ls -lF ai202209_s12_02_02.data"
   ]
  },
  {
   "cell_type": "code",
   "execution_count": null,
   "id": "wireless-bankruptcy",
   "metadata": {},
   "outputs": [],
   "source": [
    "# run this cell to check created file #\n",
    "\n",
    "!head -20 ai202209_s12_02_02.data"
   ]
  },
  {
   "cell_type": "markdown",
   "id": "outstanding-trademark",
   "metadata": {},
   "source": [
    "# Sample script 02-03 #"
   ]
  },
  {
   "cell_type": "code",
   "execution_count": null,
   "id": "global-pointer",
   "metadata": {},
   "outputs": [],
   "source": [
    "# run this cell to show the source code #\n",
    "\n",
    "!cat ai202209_s12_02_03.py"
   ]
  },
  {
   "cell_type": "code",
   "execution_count": null,
   "id": "fabulous-louisiana",
   "metadata": {},
   "outputs": [],
   "source": [
    "# run this cell to execute the script #\n",
    "\n",
    "!python3.9 ai202209_s12_02_03.py -h"
   ]
  },
  {
   "cell_type": "code",
   "execution_count": null,
   "id": "hourly-belly",
   "metadata": {},
   "outputs": [],
   "source": [
    "# run this cell to execute the script #\n",
    "\n",
    "!python3.9 ai202209_s12_02_03.py -i ai202209_s12_02_02.data -o ai202209_s12_02_03_1.png -a 0.01 -b 100"
   ]
  },
  {
   "cell_type": "code",
   "execution_count": null,
   "id": "mediterranean-singapore",
   "metadata": {},
   "outputs": [],
   "source": [
    "# run this cell to check created file #\n",
    "\n",
    "!ls -lF ai202209_s12_02_03_1.png"
   ]
  },
  {
   "cell_type": "code",
   "execution_count": null,
   "id": "competitive-parallel",
   "metadata": {},
   "outputs": [],
   "source": [
    "# run this cell to display PNG file #\n",
    "\n",
    "import IPython.display\n",
    "\n",
    "IPython.display.Image ('ai202209_s12_02_03_1.png')"
   ]
  },
  {
   "cell_type": "code",
   "execution_count": null,
   "id": "north-gothic",
   "metadata": {},
   "outputs": [],
   "source": [
    "# run this cell to execute the script #\n",
    "\n",
    "!python3.9 ai202209_s12_02_03.py -i ai202209_s12_02_02.data -o ai202209_s12_02_03_2.png -a 14 -b 20"
   ]
  },
  {
   "cell_type": "code",
   "execution_count": null,
   "id": "breeding-communication",
   "metadata": {},
   "outputs": [],
   "source": [
    "# run this cell to check created file #\n",
    "\n",
    "!ls -lF ai202209_s12_02_03_2.png"
   ]
  },
  {
   "cell_type": "code",
   "execution_count": null,
   "id": "organizational-domain",
   "metadata": {},
   "outputs": [],
   "source": [
    "# run this cell to display PNG file #\n",
    "\n",
    "import IPython.display\n",
    "\n",
    "IPython.display.Image ('ai202209_s12_02_03_2.png')"
   ]
  },
  {
   "cell_type": "code",
   "execution_count": null,
   "id": "tutorial-dispatch",
   "metadata": {},
   "outputs": [],
   "source": [
    "# run this cell to execute the script #\n",
    "\n",
    "!python3.9 ai202209_s12_02_02.py -i ai202209_s12_02_00.data -o ai202209_s12_02_02_2.data -a 840 -b 1200 -n 1000"
   ]
  },
  {
   "cell_type": "code",
   "execution_count": null,
   "id": "trying-permission",
   "metadata": {},
   "outputs": [],
   "source": [
    "# run this cell to check created file #\n",
    "\n",
    "!ls -lF ai202209_s12_02_02_2.data"
   ]
  },
  {
   "cell_type": "code",
   "execution_count": null,
   "id": "domestic-vision",
   "metadata": {},
   "outputs": [],
   "source": [
    "# run this cell to check created file #\n",
    "\n",
    "!head -20 ai202209_s12_02_02_2.data"
   ]
  },
  {
   "cell_type": "code",
   "execution_count": null,
   "id": "emotional-zoning",
   "metadata": {},
   "outputs": [],
   "source": [
    "# run this cell to execute the script #\n",
    "\n",
    "!python3.9 ai202209_s12_02_03.py -i ai202209_s12_02_02_2.data -o ai202209_s12_02_03_3.png -a 14 -b 20"
   ]
  },
  {
   "cell_type": "code",
   "execution_count": null,
   "id": "periodic-browser",
   "metadata": {},
   "outputs": [],
   "source": [
    "# run this cell to check created file #\n",
    "\n",
    "!ls -lF ai202209_s12_02_03_3.png"
   ]
  },
  {
   "cell_type": "code",
   "execution_count": null,
   "id": "crude-injection",
   "metadata": {},
   "outputs": [],
   "source": [
    "# run this cell to display PNG file #\n",
    "\n",
    "import IPython.display\n",
    "\n",
    "IPython.display.Image ('ai202209_s12_02_03_3.png')"
   ]
  },
  {
   "cell_type": "code",
   "execution_count": null,
   "id": "popular-member",
   "metadata": {},
   "outputs": [],
   "source": [
    "# run this cell to execute the script #\n",
    "\n",
    "!python3.9 ai202209_s12_01_09.py -i ai202209_s12_02_02_2.data -o ai202209_s12_02_03_4.png -x1 14 -x2 20 -f1 15.5 -f2 18.5"
   ]
  },
  {
   "cell_type": "code",
   "execution_count": null,
   "id": "smooth-postcard",
   "metadata": {},
   "outputs": [],
   "source": [
    "# run this cell to check created file #\n",
    "\n",
    "!ls -lF ai202209_s12_02_03_4.png"
   ]
  },
  {
   "cell_type": "code",
   "execution_count": null,
   "id": "hourly-beverage",
   "metadata": {},
   "outputs": [],
   "source": [
    "# run this cell to display PNG file #\n",
    "\n",
    "import IPython.display\n",
    "\n",
    "IPython.display.Image ('ai202209_s12_02_03_4.png')"
   ]
  },
  {
   "cell_type": "code",
   "execution_count": null,
   "id": "exceptional-maine",
   "metadata": {},
   "outputs": [],
   "source": [
    "# run this cell to execute the script #\n",
    "\n",
    "!python3.9 ai202209_s12_01_09.py -i ai202209_s12_02_02_2.data -o ai202209_s12_02_03_5.png -x1 14 -x2 20 -f1 16.5 -f2 17.5"
   ]
  },
  {
   "cell_type": "code",
   "execution_count": null,
   "id": "entire-grocery",
   "metadata": {},
   "outputs": [],
   "source": [
    "# run this cell to check created file #\n",
    "\n",
    "!ls -lF ai202209_s12_02_03_5.png"
   ]
  },
  {
   "cell_type": "code",
   "execution_count": null,
   "id": "false-kuwait",
   "metadata": {},
   "outputs": [],
   "source": [
    "# run this cell to display PNG file #\n",
    "\n",
    "import IPython.display\n",
    "\n",
    "IPython.display.Image ('ai202209_s12_02_03_5.png')"
   ]
  },
  {
   "cell_type": "code",
   "execution_count": null,
   "id": "cloudy-burlington",
   "metadata": {},
   "outputs": [],
   "source": [
    "# run this cell to execute the script #\n",
    "\n",
    "!python3.9 ai202209_s12_01_10.py -i ai202209_s12_02_00.data -o ai202209_s12_02_03_6.png -p 17.0126"
   ]
  },
  {
   "cell_type": "code",
   "execution_count": null,
   "id": "discrete-ethnic",
   "metadata": {},
   "outputs": [],
   "source": [
    "# run this cell to check created file #\n",
    "\n",
    "!ls -lF ai202209_s12_02_03_6.png"
   ]
  },
  {
   "cell_type": "code",
   "execution_count": null,
   "id": "theoretical-quebec",
   "metadata": {},
   "outputs": [],
   "source": [
    "# run this cell to display PNG file #\n",
    "\n",
    "import IPython.display\n",
    "\n",
    "IPython.display.Image ('ai202209_s12_02_03_6.png')"
   ]
  },
  {
   "cell_type": "markdown",
   "id": "jewish-programming",
   "metadata": {},
   "source": [
    "# Sample script 03-00 #"
   ]
  },
  {
   "cell_type": "code",
   "execution_count": null,
   "id": "pending-valentine",
   "metadata": {},
   "outputs": [],
   "source": [
    "# run this cell to show the source code #\n",
    "\n",
    "!cat ai202209_s12_03_00.py"
   ]
  },
  {
   "cell_type": "code",
   "execution_count": null,
   "id": "convenient-terry",
   "metadata": {},
   "outputs": [],
   "source": [
    "# run this cell to execute the script #\n",
    "\n",
    "!python3.9 ai202209_s12_03_00.py"
   ]
  },
  {
   "cell_type": "code",
   "execution_count": null,
   "id": "demographic-launch",
   "metadata": {},
   "outputs": [],
   "source": [
    "# run this cell to check created file #\n",
    "\n",
    "!ls -lF *.tar.gz"
   ]
  },
  {
   "cell_type": "code",
   "execution_count": null,
   "id": "administrative-islam",
   "metadata": {},
   "outputs": [],
   "source": [
    "# run this cell to extract data #\n",
    "\n",
    "!mkdir linear\n",
    "!cd linear\n",
    "!tar xzvf ../linear.tar.gz\n",
    "!cd .."
   ]
  },
  {
   "cell_type": "code",
   "execution_count": null,
   "id": "rapid-crack",
   "metadata": {},
   "outputs": [],
   "source": [
    "# run this cell to show the data #\n",
    "\n",
    "!head -20 linear/4672469.dat"
   ]
  },
  {
   "cell_type": "markdown",
   "id": "smart-science",
   "metadata": {},
   "source": [
    "# Sample script 03-01 #"
   ]
  },
  {
   "cell_type": "code",
   "execution_count": null,
   "id": "timely-parliament",
   "metadata": {},
   "outputs": [],
   "source": [
    "# run this cell to show the source code #\n",
    "\n",
    "!cat ai202209_s12_03_01.py"
   ]
  },
  {
   "cell_type": "code",
   "execution_count": null,
   "id": "medical-metropolitan",
   "metadata": {},
   "outputs": [],
   "source": [
    "# run this cell to execute the script #\n",
    "\n",
    "!python3.9 ai202209_s12_03_01.py"
   ]
  },
  {
   "cell_type": "code",
   "execution_count": null,
   "id": "driving-marketplace",
   "metadata": {},
   "outputs": [],
   "source": [
    "# run this cell to check created file #\n",
    "\n",
    "!ls -lF ai202209_s12_03_01.png"
   ]
  },
  {
   "cell_type": "code",
   "execution_count": null,
   "id": "sorted-brighton",
   "metadata": {},
   "outputs": [],
   "source": [
    "# run this cell to display PNG file #\n",
    "\n",
    "import IPython.display\n",
    "\n",
    "IPython.display.Image ('ai202209_s12_03_01.png')"
   ]
  },
  {
   "cell_type": "markdown",
   "id": "grand-sleeve",
   "metadata": {},
   "source": [
    "# Sample script 03-02 #"
   ]
  },
  {
   "cell_type": "code",
   "execution_count": null,
   "id": "northern-therapist",
   "metadata": {},
   "outputs": [],
   "source": [
    "# run this cell to show the source code #\n",
    "\n",
    "!cat ai202209_s12_03_02.py"
   ]
  },
  {
   "cell_type": "code",
   "execution_count": null,
   "id": "suited-gross",
   "metadata": {},
   "outputs": [],
   "source": [
    "# run this cell to execute the script #\n",
    "\n",
    "!python3.9 ai202209_s12_03_02.py -h"
   ]
  },
  {
   "cell_type": "code",
   "execution_count": null,
   "id": "reliable-poverty",
   "metadata": {},
   "outputs": [],
   "source": [
    "# run this cell to execute the script #\n",
    "\n",
    "!python3.9 ai202209_s12_03_02.py -i linear/4672469.dat -o ai202209_s12_03_02.data -n 10 -a 10 -b 3000"
   ]
  },
  {
   "cell_type": "code",
   "execution_count": null,
   "id": "graphic-tension",
   "metadata": {},
   "outputs": [],
   "source": [
    "# run this cell to check created file #\n",
    "\n",
    "!ls -lF ai202209_s12_03_02.data"
   ]
  },
  {
   "cell_type": "code",
   "execution_count": null,
   "id": "white-mauritius",
   "metadata": {},
   "outputs": [],
   "source": [
    "# run this cell to check created file #\n",
    "\n",
    "!head -20 ai202209_s12_03_02.data"
   ]
  },
  {
   "cell_type": "code",
   "execution_count": null,
   "id": "behind-penguin",
   "metadata": {},
   "outputs": [],
   "source": [
    "# run this cell to execute the script #\n",
    "\n",
    "!python3.9 ai202209_s12_02_03.py -i ai202209_s12_03_02.data -o ai202209_s12_03_02_1.png -a 0.1 -b 50"
   ]
  },
  {
   "cell_type": "code",
   "execution_count": null,
   "id": "steady-bottle",
   "metadata": {},
   "outputs": [],
   "source": [
    "# run this cell to check created file #\n",
    "\n",
    "!ls -lF ai202209_s12_03_02_1.png"
   ]
  },
  {
   "cell_type": "code",
   "execution_count": null,
   "id": "vertical-battery",
   "metadata": {},
   "outputs": [],
   "source": [
    "# run this cell to display PNG file #\n",
    "\n",
    "import IPython.display\n",
    "\n",
    "IPython.display.Image ('ai202209_s12_03_02_1.png')"
   ]
  },
  {
   "cell_type": "code",
   "execution_count": null,
   "id": "inner-ghana",
   "metadata": {},
   "outputs": [],
   "source": [
    "# run this cell to execute the script #\n",
    "\n",
    "!python3.9 ai202209_s12_02_03.py -i ai202209_s12_03_02.data -o ai202209_s12_03_02_2.png -a 11 -b 15"
   ]
  },
  {
   "cell_type": "code",
   "execution_count": null,
   "id": "average-democrat",
   "metadata": {},
   "outputs": [],
   "source": [
    "# run this cell to check created file #\n",
    "\n",
    "!ls -lF ai202209_s12_03_02_2.png"
   ]
  },
  {
   "cell_type": "code",
   "execution_count": null,
   "id": "designed-straight",
   "metadata": {},
   "outputs": [],
   "source": [
    "# run this cell to display PNG file #\n",
    "\n",
    "import IPython.display\n",
    "\n",
    "IPython.display.Image ('ai202209_s12_03_02_2.png')"
   ]
  },
  {
   "cell_type": "code",
   "execution_count": null,
   "id": "objective-gospel",
   "metadata": {},
   "outputs": [],
   "source": [
    "# run this cell to execute the script #\n",
    "\n",
    "!python3.9 ai202209_s12_02_03.py -i ai202209_s12_03_02.data -o ai202209_s12_03_02_3.png -a 13 -b 13.5"
   ]
  },
  {
   "cell_type": "code",
   "execution_count": null,
   "id": "stylish-hardware",
   "metadata": {},
   "outputs": [],
   "source": [
    "# run this cell to check created file #\n",
    "\n",
    "!ls -lF ai202209_s12_03_02_3.png"
   ]
  },
  {
   "cell_type": "code",
   "execution_count": null,
   "id": "behind-technique",
   "metadata": {},
   "outputs": [],
   "source": [
    "# run this cell to display PNG file #\n",
    "\n",
    "import IPython.display\n",
    "\n",
    "IPython.display.Image ('ai202209_s12_03_02_3.png')"
   ]
  },
  {
   "cell_type": "code",
   "execution_count": null,
   "id": "actual-consultation",
   "metadata": {},
   "outputs": [],
   "source": [
    "# run this cell to execute the script #\n",
    "\n",
    "!python3.9 ai202209_s12_03_02.py -i linear/4672469.dat -o ai202209_s12_03_02_2.data -n 300 -a 750 -b 850"
   ]
  },
  {
   "cell_type": "code",
   "execution_count": null,
   "id": "alert-anthony",
   "metadata": {},
   "outputs": [],
   "source": [
    "# run this cell to check created file #\n",
    "\n",
    "!ls -lF ai202209_s12_03_02_2.data"
   ]
  },
  {
   "cell_type": "code",
   "execution_count": null,
   "id": "searching-british",
   "metadata": {},
   "outputs": [],
   "source": [
    "# run this cell to check created file #\n",
    "\n",
    "!head -20 ai202209_s12_03_02_2.data"
   ]
  },
  {
   "cell_type": "code",
   "execution_count": null,
   "id": "intelligent-wagner",
   "metadata": {},
   "outputs": [],
   "source": [
    "# run this cell to execute the script #\n",
    "\n",
    "!python3.9 ai202209_s12_02_03.py -i ai202209_s12_03_02_2.data -o ai202209_s12_03_02_4.png -a 13.15 -b 13.25"
   ]
  },
  {
   "cell_type": "code",
   "execution_count": null,
   "id": "southwest-promise",
   "metadata": {},
   "outputs": [],
   "source": [
    "# run this cell to check created file #\n",
    "\n",
    "!ls -lF ai202209_s12_03_02_4.png"
   ]
  },
  {
   "cell_type": "code",
   "execution_count": null,
   "id": "official-haven",
   "metadata": {},
   "outputs": [],
   "source": [
    "# run this cell to display PNG file #\n",
    "\n",
    "import IPython.display\n",
    "\n",
    "IPython.display.Image ('ai202209_s12_03_02_4.png')"
   ]
  },
  {
   "cell_type": "markdown",
   "id": "configured-hamilton",
   "metadata": {},
   "source": [
    "# Sample script 03-03 #"
   ]
  },
  {
   "cell_type": "code",
   "execution_count": null,
   "id": "adopted-printing",
   "metadata": {},
   "outputs": [],
   "source": [
    "# run this cell to show the source code #\n",
    "\n",
    "!cat ai202209_s12_03_03.py"
   ]
  },
  {
   "cell_type": "code",
   "execution_count": null,
   "id": "polished-surname",
   "metadata": {},
   "outputs": [],
   "source": [
    "# run this cell to execute the script #\n",
    "\n",
    "!python3.9 ai202209_s12_03_03.py -h"
   ]
  },
  {
   "cell_type": "code",
   "execution_count": null,
   "id": "classified-fighter",
   "metadata": {},
   "outputs": [],
   "source": [
    "# run this cell to execute the script #\n",
    "\n",
    "!python3.9 ai202209_s12_03_03.py -i ai202209_s12_03_02_2.data -o ai202209_s12_03_03.png -x1 13.20 -x2 13.21 -f1 13.2034 -f2 13.2047 -a 10000 -b 10 -c 1"
   ]
  },
  {
   "cell_type": "code",
   "execution_count": null,
   "id": "animated-actor",
   "metadata": {},
   "outputs": [],
   "source": [
    "# run this cell to check created file #\n",
    "\n",
    "!ls -lF ai202209_s12_03_03.png"
   ]
  },
  {
   "cell_type": "code",
   "execution_count": null,
   "id": "romantic-cosmetic",
   "metadata": {},
   "outputs": [],
   "source": [
    "# run this cell to display PNG file #\n",
    "\n",
    "import IPython.display\n",
    "\n",
    "IPython.display.Image ('ai202209_s12_03_03.png')"
   ]
  },
  {
   "cell_type": "markdown",
   "id": "plain-private",
   "metadata": {},
   "source": [
    "# Sample script 03-04 #"
   ]
  },
  {
   "cell_type": "code",
   "execution_count": null,
   "id": "military-surrey",
   "metadata": {},
   "outputs": [],
   "source": [
    "# run this cell to show the source code #\n",
    "\n",
    "!cat ai202209_s12_03_04.py"
   ]
  },
  {
   "cell_type": "code",
   "execution_count": null,
   "id": "provincial-consolidation",
   "metadata": {},
   "outputs": [],
   "source": [
    "# run this cell to execute the script #\n",
    "\n",
    "!python3.9 ai202209_s12_03_04.py -h"
   ]
  },
  {
   "cell_type": "code",
   "execution_count": null,
   "id": "black-montana",
   "metadata": {},
   "outputs": [],
   "source": [
    "# run this cell to execute the script #\n",
    "\n",
    "!python3.9 ai202209_s12_03_04.py -i linear/4672469.dat -o ai202209_s12_03_04.png -p 13.20406"
   ]
  },
  {
   "cell_type": "code",
   "execution_count": null,
   "id": "vietnamese-economics",
   "metadata": {},
   "outputs": [],
   "source": [
    "# run this cell to check created file #\n",
    "\n",
    "!ls -lF ai202209_s12_03_04.png"
   ]
  },
  {
   "cell_type": "code",
   "execution_count": null,
   "id": "helpful-communications",
   "metadata": {},
   "outputs": [],
   "source": [
    "# run this cell to display PNG file #\n",
    "\n",
    "import IPython.display\n",
    "\n",
    "IPython.display.Image ('ai202209_s12_03_04.png')"
   ]
  },
  {
   "cell_type": "markdown",
   "id": "wooden-birthday",
   "metadata": {},
   "source": [
    "# Sample script 04-00 #"
   ]
  },
  {
   "cell_type": "code",
   "execution_count": null,
   "id": "reflected-stanley",
   "metadata": {},
   "outputs": [],
   "source": [
    "!which wget"
   ]
  },
  {
   "cell_type": "code",
   "execution_count": null,
   "id": "challenging-wesley",
   "metadata": {},
   "outputs": [],
   "source": [
    "# run this cell to download data files #\n",
    "\n",
    "!wget --no-check-certificate http://exoplanetarchive.ipac.caltech.edu/data/ETSS/Kepler/005/754/97/kplr009941662-2009201121230_slc.fits\n",
    "!wget --no-check-certificate http://exoplanetarchive.ipac.caltech.edu/data/ETSS/Kepler/005/754/97/kplr009941662-2009231120729_slc.fits\n",
    "!wget --no-check-certificate http://exoplanetarchive.ipac.caltech.edu/data/ETSS/Kepler/005/754/97/kplr009941662-2009259162342_slc.fits"
   ]
  },
  {
   "cell_type": "code",
   "execution_count": null,
   "id": "hungry-biotechnology",
   "metadata": {},
   "outputs": [],
   "source": [
    "# run this cell to show the source code #\n",
    "\n",
    "!cat ai202209_s12_04_00.py"
   ]
  },
  {
   "cell_type": "code",
   "execution_count": null,
   "id": "living-chassis",
   "metadata": {},
   "outputs": [],
   "source": [
    "# run this cell to execute the script #\n",
    "\n",
    "!python3.9 ai202209_s12_04_00.py -h"
   ]
  },
  {
   "cell_type": "code",
   "execution_count": null,
   "id": "incident-refrigerator",
   "metadata": {},
   "outputs": [],
   "source": [
    "# run this cell to execute the script #\n",
    "\n",
    "!python3.9 ai202209_s12_04_00.py -o ai202209_s12_04_00.data kplr*.fits"
   ]
  },
  {
   "cell_type": "code",
   "execution_count": null,
   "id": "excellent-infection",
   "metadata": {},
   "outputs": [],
   "source": [
    "# run this cell to check created file #\n",
    "\n",
    "!ls -lF ai202209_s12_04_00.data"
   ]
  },
  {
   "cell_type": "code",
   "execution_count": null,
   "id": "preliminary-capacity",
   "metadata": {},
   "outputs": [],
   "source": [
    "# run this cell to check created file #\n",
    "\n",
    "!head -20 ai202209_s12_04_00.data"
   ]
  },
  {
   "cell_type": "markdown",
   "id": "arctic-feeling",
   "metadata": {},
   "source": [
    "# Sample script 04-01 #"
   ]
  },
  {
   "cell_type": "code",
   "execution_count": null,
   "id": "sound-pencil",
   "metadata": {},
   "outputs": [],
   "source": [
    "# run this cell to show the source code #\n",
    "\n",
    "!cat ai202209_s12_04_01.py"
   ]
  },
  {
   "cell_type": "code",
   "execution_count": null,
   "id": "parallel-metro",
   "metadata": {},
   "outputs": [],
   "source": [
    "# run this cell to execute the script #\n",
    "\n",
    "!python3.9 ai202209_s12_04_01.py -h"
   ]
  },
  {
   "cell_type": "code",
   "execution_count": null,
   "id": "precise-oracle",
   "metadata": {},
   "outputs": [],
   "source": [
    "# run this cell to execute the script #\n",
    "\n",
    "!python3.9 ai202209_s12_04_01.py -i ai202209_s12_04_00.data -o ai202209_s12_04_01.png"
   ]
  },
  {
   "cell_type": "code",
   "execution_count": null,
   "id": "based-scale",
   "metadata": {},
   "outputs": [],
   "source": [
    "# run this cell to check created file #\n",
    "\n",
    "!ls -lF ai202209_s12_04_01.png"
   ]
  },
  {
   "cell_type": "code",
   "execution_count": null,
   "id": "answering-algebra",
   "metadata": {},
   "outputs": [],
   "source": [
    "# run this cell to display PNG file #\n",
    "\n",
    "import IPython.display\n",
    "\n",
    "IPython.display.Image ('ai202209_s12_04_01.png')"
   ]
  },
  {
   "cell_type": "markdown",
   "id": "regular-oracle",
   "metadata": {},
   "source": [
    "# Sample script 04-02 #"
   ]
  },
  {
   "cell_type": "code",
   "execution_count": null,
   "id": "stuck-wheat",
   "metadata": {},
   "outputs": [],
   "source": [
    "# run this cell to show the source code #\n",
    "\n",
    "!cat ai202209_s12_04_02.py"
   ]
  },
  {
   "cell_type": "code",
   "execution_count": null,
   "id": "respective-security",
   "metadata": {},
   "outputs": [],
   "source": [
    "# run this cell to execute the script #\n",
    "\n",
    "!python3.9 ai202209_s12_04_02.py -h"
   ]
  },
  {
   "cell_type": "code",
   "execution_count": null,
   "id": "eleven-mixture",
   "metadata": {},
   "outputs": [],
   "source": [
    "# run this cell to execute the script #\n",
    "\n",
    "!python3.9 ai202209_s12_04_02.py -i ai202209_s12_04_00.data -o ai202209_s12_04_02.png"
   ]
  },
  {
   "cell_type": "code",
   "execution_count": null,
   "id": "small-framing",
   "metadata": {},
   "outputs": [],
   "source": [
    "# run this cell to check created file #\n",
    "\n",
    "!ls -lF ai202209_s12_04_02.png"
   ]
  },
  {
   "cell_type": "code",
   "execution_count": null,
   "id": "centered-branch",
   "metadata": {},
   "outputs": [],
   "source": [
    "# run this cell to display PNG file #\n",
    "\n",
    "import IPython.display\n",
    "\n",
    "IPython.display.Image ('ai202209_s12_04_02.png')"
   ]
  },
  {
   "cell_type": "markdown",
   "id": "wrong-concept",
   "metadata": {},
   "source": [
    "# Sample script 04-03 #"
   ]
  },
  {
   "cell_type": "code",
   "execution_count": null,
   "id": "british-depression",
   "metadata": {},
   "outputs": [],
   "source": [
    "# run this cell to show the source code #\n",
    "\n",
    "!cat ai202209_s12_04_03.py"
   ]
  },
  {
   "cell_type": "code",
   "execution_count": null,
   "id": "tough-voluntary",
   "metadata": {},
   "outputs": [],
   "source": [
    "# run this cell to execute the script #\n",
    "\n",
    "!python3.9 ai202209_s12_04_03.py -h"
   ]
  },
  {
   "cell_type": "code",
   "execution_count": null,
   "id": "advance-actress",
   "metadata": {},
   "outputs": [],
   "source": [
    "# run this cell to execute the script #\n",
    "\n",
    "!python3.9 ai202209_s12_04_03.py -i ai202209_s12_04_00.data -o ai202209_s12_04_03.data"
   ]
  },
  {
   "cell_type": "code",
   "execution_count": null,
   "id": "educated-czech",
   "metadata": {},
   "outputs": [],
   "source": [
    "# run this cell to check created file #\n",
    "\n",
    "!ls -lF ai202209_s12_04_03.data"
   ]
  },
  {
   "cell_type": "code",
   "execution_count": null,
   "id": "focused-great",
   "metadata": {},
   "outputs": [],
   "source": [
    "# run this cell to check created file #\n",
    "\n",
    "!head -20 ai202209_s12_04_03.data"
   ]
  },
  {
   "cell_type": "markdown",
   "id": "other-theory",
   "metadata": {},
   "source": [
    "# Sample script 04-04 #"
   ]
  },
  {
   "cell_type": "code",
   "execution_count": null,
   "id": "subsequent-article",
   "metadata": {},
   "outputs": [],
   "source": [
    "# run this cell to show the source code #\n",
    "\n",
    "!cat ai202209_s12_04_04.py"
   ]
  },
  {
   "cell_type": "code",
   "execution_count": null,
   "id": "north-element",
   "metadata": {},
   "outputs": [],
   "source": [
    "# run this cell to execute the script #\n",
    "\n",
    "!python3.9 ai202209_s12_04_04.py -h"
   ]
  },
  {
   "cell_type": "code",
   "execution_count": null,
   "id": "exterior-brook",
   "metadata": {},
   "outputs": [],
   "source": [
    "# run this cell to execute the script #\n",
    "\n",
    "!python3.9 ai202209_s12_04_04.py -i ai202209_s12_04_03.data -o ai202209_s12_04_04.png"
   ]
  },
  {
   "cell_type": "code",
   "execution_count": null,
   "id": "final-threshold",
   "metadata": {},
   "outputs": [],
   "source": [
    "# run this cell to check created file #\n",
    "\n",
    "!ls -lF ai202209_s12_04_04.png"
   ]
  },
  {
   "cell_type": "code",
   "execution_count": null,
   "id": "young-provincial",
   "metadata": {},
   "outputs": [],
   "source": [
    "# run this cell to display PNG file #\n",
    "\n",
    "import IPython.display\n",
    "\n",
    "IPython.display.Image ('ai202209_s12_04_04.png')"
   ]
  },
  {
   "cell_type": "markdown",
   "id": "unlimited-baseball",
   "metadata": {},
   "source": [
    "# Sample script 04-05 #"
   ]
  },
  {
   "cell_type": "code",
   "execution_count": null,
   "id": "sexual-groove",
   "metadata": {},
   "outputs": [],
   "source": [
    "# run this cell to show the source code #\n",
    "\n",
    "!cat ai202209_s12_04_05.py"
   ]
  },
  {
   "cell_type": "code",
   "execution_count": null,
   "id": "noticed-briefs",
   "metadata": {},
   "outputs": [],
   "source": [
    "# run this cell to execute the script #\n",
    "\n",
    "!python3.9 ai202209_s12_04_05.py -h"
   ]
  },
  {
   "cell_type": "code",
   "execution_count": null,
   "id": "forbidden-germany",
   "metadata": {},
   "outputs": [],
   "source": [
    "# run this cell to execute the script #\n",
    "\n",
    "!python3.9 ai202209_s12_04_05.py -i ai202209_s12_04_03.data -o ai202209_s12_04_05.data -a 10 -b 7200 -n 10"
   ]
  },
  {
   "cell_type": "code",
   "execution_count": null,
   "id": "third-syracuse",
   "metadata": {},
   "outputs": [],
   "source": [
    "# run this cell to check created file #\n",
    "\n",
    "!ls -lF ai202209_s12_04_05.data"
   ]
  },
  {
   "cell_type": "code",
   "execution_count": null,
   "id": "subjective-africa",
   "metadata": {},
   "outputs": [],
   "source": [
    "# run this cell to check created file #\n",
    "\n",
    "!head -20 ai202209_s12_04_05.data"
   ]
  },
  {
   "cell_type": "markdown",
   "id": "emerging-proof",
   "metadata": {},
   "source": [
    "# Sample script 04-06 #"
   ]
  },
  {
   "cell_type": "code",
   "execution_count": null,
   "id": "local-participation",
   "metadata": {},
   "outputs": [],
   "source": [
    "# run this cell to show the source code #\n",
    "\n",
    "!cat ai202209_s12_04_06.py"
   ]
  },
  {
   "cell_type": "code",
   "execution_count": null,
   "id": "primary-mounting",
   "metadata": {},
   "outputs": [],
   "source": [
    "# run this cell to execute the script #\n",
    "\n",
    "!python3.9 ai202209_s12_04_06.py -h"
   ]
  },
  {
   "cell_type": "code",
   "execution_count": null,
   "id": "eleven-capital",
   "metadata": {},
   "outputs": [],
   "source": [
    "# run this cell to execute the script #\n",
    "\n",
    "!python3.9 ai202209_s12_04_06.py -i ai202209_s12_04_05.data -o ai202209_s12_04_06_1.png -a 0.01 -b 5"
   ]
  },
  {
   "cell_type": "code",
   "execution_count": null,
   "id": "welsh-store",
   "metadata": {},
   "outputs": [],
   "source": [
    "# run this cell to check created file #\n",
    "\n",
    "!ls -lF ai202209_s12_04_06_1.png"
   ]
  },
  {
   "cell_type": "code",
   "execution_count": null,
   "id": "offshore-baking",
   "metadata": {},
   "outputs": [],
   "source": [
    "# run this cell to display PNG file #\n",
    "\n",
    "import IPython.display\n",
    "\n",
    "IPython.display.Image ('ai202209_s12_04_06_1.png')"
   ]
  },
  {
   "cell_type": "code",
   "execution_count": null,
   "id": "endangered-michigan",
   "metadata": {},
   "outputs": [],
   "source": [
    "# run this cell to execute the script #\n",
    "\n",
    "!python3.9 ai202209_s12_04_06.py -i ai202209_s12_04_05.data -o ai202209_s12_04_06_2.png -a 0.8 -b 1.0"
   ]
  },
  {
   "cell_type": "code",
   "execution_count": null,
   "id": "proprietary-accused",
   "metadata": {},
   "outputs": [],
   "source": [
    "# run this cell to check created file #\n",
    "\n",
    "!ls -lF ai202209_s12_04_06_2.png"
   ]
  },
  {
   "cell_type": "code",
   "execution_count": null,
   "id": "requested-circuit",
   "metadata": {},
   "outputs": [],
   "source": [
    "# run this cell to display PNG file #\n",
    "\n",
    "import IPython.display\n",
    "\n",
    "IPython.display.Image ('ai202209_s12_04_06_2.png')"
   ]
  },
  {
   "cell_type": "code",
   "execution_count": null,
   "id": "outstanding-sunday",
   "metadata": {},
   "outputs": [],
   "source": [
    "# run this cell to execute the script #\n",
    "\n",
    "!python3.9 ai202209_s12_04_06.py -i ai202209_s12_04_05.data -o ai202209_s12_04_06_3.png -a 1.7 -b 1.85"
   ]
  },
  {
   "cell_type": "code",
   "execution_count": null,
   "id": "limiting-spoke",
   "metadata": {},
   "outputs": [],
   "source": [
    "# run this cell to check created file #\n",
    "\n",
    "!ls -lF ai202209_s12_04_06_3.png"
   ]
  },
  {
   "cell_type": "code",
   "execution_count": null,
   "id": "organizational-editor",
   "metadata": {},
   "outputs": [],
   "source": [
    "# run this cell to display PNG file #\n",
    "\n",
    "import IPython.display\n",
    "\n",
    "IPython.display.Image ('ai202209_s12_04_06_3.png')"
   ]
  },
  {
   "cell_type": "code",
   "execution_count": null,
   "id": "hearing-springfield",
   "metadata": {},
   "outputs": [],
   "source": [
    "# run this cell to execute the script #\n",
    "\n",
    "!python3.9 ai202209_s12_04_05.py -i ai202209_s12_04_03.data -o ai202209_s12_04_05_2.data -a 1000 -b 3000 -n 300"
   ]
  },
  {
   "cell_type": "code",
   "execution_count": null,
   "id": "amended-kingston",
   "metadata": {},
   "outputs": [],
   "source": [
    "# run this cell to check created file #\n",
    "\n",
    "!ls -lF ai202209_s12_04_05_2.data"
   ]
  },
  {
   "cell_type": "code",
   "execution_count": null,
   "id": "attached-burst",
   "metadata": {},
   "outputs": [],
   "source": [
    "# run this cell to check created file #\n",
    "\n",
    "!head -20 ai202209_s12_04_05_2.data"
   ]
  },
  {
   "cell_type": "markdown",
   "id": "committed-vampire",
   "metadata": {},
   "source": [
    "# Sample script 04-07 #"
   ]
  },
  {
   "cell_type": "code",
   "execution_count": null,
   "id": "wicked-pierce",
   "metadata": {},
   "outputs": [],
   "source": [
    "# run this cell to show the source code #\n",
    "\n",
    "!cat ai202209_s12_04_07.py"
   ]
  },
  {
   "cell_type": "code",
   "execution_count": null,
   "id": "common-cancer",
   "metadata": {},
   "outputs": [],
   "source": [
    "# run this cell to execute the script #\n",
    "\n",
    "!python3.9 ai202209_s12_04_07.py -h"
   ]
  },
  {
   "cell_type": "code",
   "execution_count": null,
   "id": "given-madison",
   "metadata": {},
   "outputs": [],
   "source": [
    "# run this cell to execute the script #\n",
    "\n",
    "!python3.9 ai202209_s12_04_07.py -i ai202209_s12_04_05_2.data -o ai202209_s12_04_07_1.png -x1 0.86 -x2 0.91 -f1 0.879 -f2 0.885 -a 1000"
   ]
  },
  {
   "cell_type": "code",
   "execution_count": null,
   "id": "aggressive-invasion",
   "metadata": {},
   "outputs": [],
   "source": [
    "# run this cell to check created file #\n",
    "\n",
    "!ls -lF ai202209_s12_04_07_1.png"
   ]
  },
  {
   "cell_type": "code",
   "execution_count": null,
   "id": "photographic-intent",
   "metadata": {},
   "outputs": [],
   "source": [
    "# run this cell to display PNG file #\n",
    "\n",
    "import IPython.display\n",
    "\n",
    "IPython.display.Image ('ai202209_s12_04_07_1.png')"
   ]
  },
  {
   "cell_type": "code",
   "execution_count": null,
   "id": "productive-thing",
   "metadata": {},
   "outputs": [],
   "source": [
    "# run this cell to execute the script #\n",
    "\n",
    "!python3.9 ai202209_s12_04_07.py -i ai202209_s12_04_05_2.data -o ai202209_s12_04_07_2.png -x1 1.70 -x2 1.83 -f1 1.755 -f2 1.775 -a 1000"
   ]
  },
  {
   "cell_type": "code",
   "execution_count": null,
   "id": "maritime-discovery",
   "metadata": {},
   "outputs": [],
   "source": [
    "# run this cell to check created file #\n",
    "\n",
    "!ls -lF ai202209_s12_04_07_2.png"
   ]
  },
  {
   "cell_type": "code",
   "execution_count": null,
   "id": "laughing-addition",
   "metadata": {},
   "outputs": [],
   "source": [
    "# run this cell to display PNG file #\n",
    "\n",
    "import IPython.display\n",
    "\n",
    "IPython.display.Image ('ai202209_s12_04_07_2.png')"
   ]
  },
  {
   "cell_type": "markdown",
   "id": "secure-numbers",
   "metadata": {},
   "source": [
    "# Sample script 04-08 #"
   ]
  },
  {
   "cell_type": "code",
   "execution_count": null,
   "id": "played-globe",
   "metadata": {},
   "outputs": [],
   "source": [
    "# run this cell to show the source code #\n",
    "\n",
    "!cat ai202209_s12_04_08.py"
   ]
  },
  {
   "cell_type": "code",
   "execution_count": null,
   "id": "aboriginal-influence",
   "metadata": {},
   "outputs": [],
   "source": [
    "# run this cell to execute the script #\n",
    "\n",
    "!python3.9 ai202209_s12_04_08.py -h"
   ]
  },
  {
   "cell_type": "code",
   "execution_count": null,
   "id": "grateful-graham",
   "metadata": {},
   "outputs": [],
   "source": [
    "# run this cell to execute the script #\n",
    "\n",
    "!python3.9 ai202209_s12_04_08.py -i ai202209_s12_04_03.data -o ai202209_s12_04_08_1.png -p 0.881809"
   ]
  },
  {
   "cell_type": "code",
   "execution_count": null,
   "id": "compound-cleaning",
   "metadata": {},
   "outputs": [],
   "source": [
    "# run this cell to check created file #\n",
    "\n",
    "!ls -lF ai202209_s12_04_08_1.png"
   ]
  },
  {
   "cell_type": "code",
   "execution_count": null,
   "id": "seven-highland",
   "metadata": {},
   "outputs": [],
   "source": [
    "# run this cell to display PNG file #\n",
    "\n",
    "import IPython.display\n",
    "\n",
    "IPython.display.Image ('ai202209_s12_04_08_1.png')"
   ]
  },
  {
   "cell_type": "code",
   "execution_count": null,
   "id": "otherwise-terror",
   "metadata": {},
   "outputs": [],
   "source": [
    "# run this cell to execute the script #\n",
    "\n",
    "!python3.9 ai202209_s12_04_08.py -i ai202209_s12_04_03.data -o ai202209_s12_04_08_2.png -p 1.76343"
   ]
  },
  {
   "cell_type": "code",
   "execution_count": null,
   "id": "express-olive",
   "metadata": {},
   "outputs": [],
   "source": [
    "# run this cell to check created file #\n",
    "\n",
    "!ls -lF ai202209_s12_04_08_2.png"
   ]
  },
  {
   "cell_type": "code",
   "execution_count": null,
   "id": "fluid-constitutional",
   "metadata": {},
   "outputs": [],
   "source": [
    "# run this cell to display PNG file #\n",
    "\n",
    "import IPython.display\n",
    "\n",
    "IPython.display.Image ('ai202209_s12_04_08_2.png')"
   ]
  },
  {
   "cell_type": "markdown",
   "id": "d34add0f-79b5-48a0-9f52-f0654dd9b3f0",
   "metadata": {},
   "source": [
    "# end of the notebook #"
   ]
  },
  {
   "cell_type": "code",
   "execution_count": null,
   "id": "15b08d5b-c97e-45f6-816c-f9572aea8513",
   "metadata": {},
   "outputs": [],
   "source": []
  }
 ],
 "metadata": {
  "kernelspec": {
   "display_name": "Python 3",
   "language": "python",
   "name": "python3"
  },
  "language_info": {
   "codemirror_mode": {
    "name": "ipython",
    "version": 3
   },
   "file_extension": ".py",
   "mimetype": "text/x-python",
   "name": "python",
   "nbconvert_exporter": "python",
   "pygments_lexer": "ipython3",
   "version": "3.9.2"
  }
 },
 "nbformat": 4,
 "nbformat_minor": 5
}
