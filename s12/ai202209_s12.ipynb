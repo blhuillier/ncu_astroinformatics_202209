{
 "cells": [
  {
   "cell_type": "markdown",
   "id": "527bf7c3-828b-44e9-8d8d-2a9bc4732b76",
   "metadata": {},
   "source": [
    "# Session 12 of Astroinformatics (first semester, academic year 2022) #\n",
    "\n",
    "- About the course\n",
    "    - course name: \"Astroinformatics\"\n",
    "    - semester: from Sep/2022 to Jan/2023\n",
    "    - lecture hours: from 09:00 to 12:00\n",
    "    - classroom: S4-914\n",
    "    - instructor: Kinoshita Daisuke\n",
    "    - course web page: https://s3b.astro.ncu.edu.tw/ai_202209/\n",
    "    - GitHub repository: https://github.com/kinoshitadaisuke/ncu_astroinformatics_202209\n",
    "    - Binder web page: https://mybinder.org/v2/gh/kinoshitadaisuke/ncu_astroinformatics_202209/HEAD"
   ]
  },
  {
   "cell_type": "markdown",
   "id": "57ed5cc3-2d49-4c16-bd14-feb937647071",
   "metadata": {},
   "source": [
    "## About this notebook ##\n",
    "\n",
    "This is a notebook for the __session 12__ of \"Astroinformatics\" at first semester of academic year 2022.\n",
    "\n",
    "This notebook contains sample Python scripts only.\n",
    "\n",
    "The lecture note is provided at the course web page.\n",
    "\n",
    "To download the lecture note, visit following web page.\n",
    "\n",
    "https://s3b.astro.ncu.edu.tw/ai_202209/\n",
    "\n",
    "Note that the lecture note can be downloaded only from computers/mobile phones connected to the computer network of our university.\n",
    "\n",
    "Connect to Wi-Fi of our university or use VPN service of our university to download the lecture note.\n",
    "\n",
    "If you have any question about this notebook, contact to Kinoshita Daisuke."
   ]
  },
  {
   "cell_type": "markdown",
   "id": "outstanding-guarantee",
   "metadata": {},
   "source": [
    "# Sample script 00-00 #"
   ]
  },
  {
   "cell_type": "code",
   "execution_count": null,
   "id": "resident-consciousness",
   "metadata": {},
   "outputs": [],
   "source": [
    "# run this cell to show the source code #\n",
    "\n",
    "!cat ai202209_s12_00_00.py"
   ]
  },
  {
   "cell_type": "code",
   "execution_count": null,
   "id": "saving-evaluation",
   "metadata": {},
   "outputs": [],
   "source": [
    "# run this cell to execute the script #\n",
    "\n",
    "!python3.9 ai202209_s12_00_00.py -h"
   ]
  },
  {
   "cell_type": "code",
   "execution_count": null,
   "id": "declared-criterion",
   "metadata": {},
   "outputs": [],
   "source": [
    "# run this cell to execute the script #\n",
    "\n",
    "!python3.9 ai202209_s12_00_00.py -a 3 -b 4"
   ]
  },
  {
   "cell_type": "code",
   "execution_count": null,
   "id": "dense-christmas",
   "metadata": {},
   "outputs": [],
   "source": [
    "# run this cell to execute the script #\n",
    "\n",
    "!python3.9 ai202209_s12_00_00.py -a 5 -b 6"
   ]
  },
  {
   "cell_type": "markdown",
   "id": "honey-traffic",
   "metadata": {},
   "source": [
    "# Sample script 00-01 #"
   ]
  },
  {
   "cell_type": "code",
   "execution_count": null,
   "id": "severe-habitat",
   "metadata": {},
   "outputs": [],
   "source": [
    "# run this cell to show the source code #\n",
    "\n",
    "!cat ai202209_s12_00_01.py"
   ]
  },
  {
   "cell_type": "code",
   "execution_count": null,
   "id": "atmospheric-egypt",
   "metadata": {},
   "outputs": [],
   "source": [
    "# run this cell to execute the script #\n",
    "\n",
    "!python3.9 ai202209_s12_00_01.py -h"
   ]
  },
  {
   "cell_type": "code",
   "execution_count": null,
   "id": "behind-passport",
   "metadata": {},
   "outputs": [],
   "source": [
    "# run this cell to execute the script #\n",
    "\n",
    "!python3.9 ai202209_s12_00_01.py -a 30.0"
   ]
  },
  {
   "cell_type": "code",
   "execution_count": null,
   "id": "accurate-showcase",
   "metadata": {},
   "outputs": [],
   "source": [
    "# run this cell to execute the script #\n",
    "\n",
    "!python3.9 ai202209_s12_00_01.py -a 270.0"
   ]
  },
  {
   "cell_type": "markdown",
   "id": "indonesian-header",
   "metadata": {},
   "source": [
    "# Sample script 00-02 #"
   ]
  },
  {
   "cell_type": "code",
   "execution_count": null,
   "id": "thirty-child",
   "metadata": {},
   "outputs": [],
   "source": [
    "# run this cell to show the source code #\n",
    "\n",
    "!cat ai202209_s12_00_02.py"
   ]
  },
  {
   "cell_type": "code",
   "execution_count": null,
   "id": "enhanced-aurora",
   "metadata": {},
   "outputs": [],
   "source": [
    "# run this cell to execute the script #\n",
    "\n",
    "!python3.9 ai202209_s12_00_02.py -h"
   ]
  },
  {
   "cell_type": "code",
   "execution_count": null,
   "id": "interim-terrorism",
   "metadata": {},
   "outputs": [],
   "source": [
    "# run this cell to execute the script #\n",
    "\n",
    "!python3.9 ai202209_s12_00_02.py --angle 45"
   ]
  },
  {
   "cell_type": "code",
   "execution_count": null,
   "id": "floating-comfort",
   "metadata": {},
   "outputs": [],
   "source": [
    "# run this cell to execute the script #\n",
    "\n",
    "!python3.9 ai202209_s12_00_01.py -a 45"
   ]
  },
  {
   "cell_type": "markdown",
   "id": "narrow-concord",
   "metadata": {},
   "source": [
    "# Sample script 00-03 #"
   ]
  },
  {
   "cell_type": "code",
   "execution_count": null,
   "id": "useful-dominant",
   "metadata": {},
   "outputs": [],
   "source": [
    "# run this cell to show the source code #\n",
    "\n",
    "!cat ai202209_s12_00_03.py"
   ]
  },
  {
   "cell_type": "code",
   "execution_count": null,
   "id": "monthly-cornell",
   "metadata": {},
   "outputs": [],
   "source": [
    "# run this cell to execute the script #\n",
    "\n",
    "!python3.9 ai202209_s12_00_03.py -h"
   ]
  },
  {
   "cell_type": "code",
   "execution_count": null,
   "id": "polished-legislature",
   "metadata": {},
   "outputs": [],
   "source": [
    "# run this cell to execute the script #\n",
    "\n",
    "!python3.9 ai202209_s12_00_03.py ai202209_00_00.py"
   ]
  },
  {
   "cell_type": "code",
   "execution_count": null,
   "id": "reserved-palace",
   "metadata": {},
   "outputs": [],
   "source": [
    "# run this cell to execute the script #\n",
    "\n",
    "!python3.9 ai202209_s12_00_03.py /etc/fstab"
   ]
  },
  {
   "cell_type": "code",
   "execution_count": null,
   "id": "liquid-truck",
   "metadata": {},
   "outputs": [],
   "source": [
    "# run this cell to execute the script #\n",
    "\n",
    "!python3.9 ai202209_s12_00_03.py /etc/hosts /etc/passwd"
   ]
  },
  {
   "cell_type": "code",
   "execution_count": null,
   "id": "sought-patio",
   "metadata": {},
   "outputs": [],
   "source": [
    "# run this cell to execute the script #\n",
    "\n",
    "!python3.9 ai202209_s12_00_03.py /etc/group foo.py bar.pdf"
   ]
  },
  {
   "cell_type": "markdown",
   "id": "d34add0f-79b5-48a0-9f52-f0654dd9b3f0",
   "metadata": {},
   "source": [
    "# end of the notebook #"
   ]
  },
  {
   "cell_type": "code",
   "execution_count": null,
   "id": "15b08d5b-c97e-45f6-816c-f9572aea8513",
   "metadata": {},
   "outputs": [],
   "source": []
  }
 ],
 "metadata": {
  "kernelspec": {
   "display_name": "Python 3",
   "language": "python",
   "name": "python3"
  },
  "language_info": {
   "codemirror_mode": {
    "name": "ipython",
    "version": 3
   },
   "file_extension": ".py",
   "mimetype": "text/x-python",
   "name": "python",
   "nbconvert_exporter": "python",
   "pygments_lexer": "ipython3",
   "version": "3.9.2"
  }
 },
 "nbformat": 4,
 "nbformat_minor": 5
}
